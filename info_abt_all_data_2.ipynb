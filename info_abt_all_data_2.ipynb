{
 "cells": [
  {
   "cell_type": "code",
   "execution_count": 1,
   "metadata": {
    "collapsed": true,
    "ExecuteTime": {
     "end_time": "2023-07-28T02:28:23.578780100Z",
     "start_time": "2023-07-28T02:28:23.458312600Z"
    }
   },
   "outputs": [],
   "source": [
    "import pickle\n",
    "import numpy as np"
   ]
  },
  {
   "cell_type": "code",
   "execution_count": 2,
   "outputs": [],
   "source": [
    "all_data = []\n",
    "with (open(\"all_data.pickle\", \"rb\")) as openfile:\n",
    "    try:\n",
    "        all_data = (pickle.load(openfile))\n",
    "    except EOFError:\n",
    "        pass"
   ],
   "metadata": {
    "collapsed": false,
    "ExecuteTime": {
     "end_time": "2023-07-28T02:30:44.158815700Z",
     "start_time": "2023-07-28T02:30:43.889819300Z"
    }
   }
  },
  {
   "cell_type": "code",
   "execution_count": 3,
   "outputs": [
    {
     "name": "stdout",
     "output_type": "stream",
     "text": [
      "2998560\n"
     ]
    }
   ],
   "source": [
    "#get largest value within all_data\n",
    "largest_values = []\n",
    "for i in all_data:\n",
    "    largest_values.append(np.max(i))\n",
    "print(np.max(largest_values))"
   ],
   "metadata": {
    "collapsed": false,
    "ExecuteTime": {
     "end_time": "2023-07-28T02:31:28.673682700Z",
     "start_time": "2023-07-28T02:31:28.620171300Z"
    }
   }
  },
  {
   "cell_type": "code",
   "execution_count": null,
   "outputs": [],
   "source": [],
   "metadata": {
    "collapsed": false
   }
  }
 ],
 "metadata": {
  "kernelspec": {
   "display_name": "Python 3",
   "language": "python",
   "name": "python3"
  },
  "language_info": {
   "codemirror_mode": {
    "name": "ipython",
    "version": 2
   },
   "file_extension": ".py",
   "mimetype": "text/x-python",
   "name": "python",
   "nbconvert_exporter": "python",
   "pygments_lexer": "ipython2",
   "version": "2.7.6"
  }
 },
 "nbformat": 4,
 "nbformat_minor": 0
}
