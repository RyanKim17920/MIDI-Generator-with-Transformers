{
 "cells": [
  {
   "cell_type": "code",
   "execution_count": 76,
   "metadata": {
    "collapsed": true,
    "ExecuteTime": {
     "end_time": "2024-01-05T03:50:34.744165200Z",
     "start_time": "2024-01-05T03:50:34.642449200Z"
    }
   },
   "outputs": [],
   "source": [
    "from TransformerWrapper import TransformerWrapper\n",
    "from AutoregressiveWrapper import AutoregressiveWrapper\n",
    "from x_transformers import Decoder\n",
    "\n",
    "from torch.utils.data import Dataset, DataLoader\n",
    "import matplotlib.pyplot as plt\n",
    "from torch import tensor\n",
    "import random\n",
    "import torch\n",
    "import tqdm\n",
    "import pickle\n",
    "\n",
    "import sys\n",
    "sys.path.append('C:\\\\Users\\\\ilove\\\\CODING\\\\PYStuff\\\\MusicNet\\\\Midi2Numpy\\\\MIDI-Generator-with-Transformers\\\\Data_Extraction')\n",
    "sys.path.append('C:\\\\Users\\\\ilove\\\\CODING\\\\PYStuff\\\\MusicNet\\\\Midi2Numpy\\\\MIDI-Generator-with-Transformers')\n",
    "from tokenizer import Tokenizer\n",
    "from data_to_MIDI import data_to_MIDI"
   ]
  },
  {
   "cell_type": "code",
   "execution_count": 59,
   "outputs": [],
   "source": [
    "with open('small_tokenizer.pickle', 'rb') as f:\n",
    "    small_tokenizer = pickle.load(f)"
   ],
   "metadata": {
    "collapsed": false,
    "ExecuteTime": {
     "end_time": "2024-01-05T03:48:54.971379900Z",
     "start_time": "2024-01-05T03:48:54.947695700Z"
    }
   }
  },
  {
   "cell_type": "code",
   "execution_count": 60,
   "outputs": [],
   "source": [
    "with open('small_data.pickle', 'rb') as f:\n",
    "    data = pickle.load(f)"
   ],
   "metadata": {
    "collapsed": false,
    "ExecuteTime": {
     "end_time": "2024-01-05T03:48:54.971379900Z",
     "start_time": "2024-01-05T03:48:54.957038500Z"
    }
   }
  },
  {
   "cell_type": "code",
   "execution_count": 61,
   "outputs": [],
   "source": [
    "NUM_BATCHES = 1000\n",
    "BATCH_SIZE = 4\n",
    "GRADIENT_ACCUMULATE_EVERY = 4\n",
    "LEARNING_RATE = 1e-4\n",
    "VALIDATE_EVERY  = 10\n",
    "GENERATE_EVERY  = 1000\n",
    "GENERATE_LENGTH = 256\n",
    "SEQ_LEN = 512\n",
    "#refer to small_tokenizer_test\n",
    "NUM_TOKENS_VALUES = 106\n",
    "NUM_TOKENS_TIMES = 16\n",
    "NUM_TOKENS_INSTRUMENTS = 17"
   ],
   "metadata": {
    "collapsed": false,
    "ExecuteTime": {
     "end_time": "2024-01-05T03:48:55.069809200Z",
     "start_time": "2024-01-05T03:48:54.963658600Z"
    }
   }
  },
  {
   "cell_type": "code",
   "execution_count": 62,
   "outputs": [],
   "source": [
    "class PieceDataset(Dataset):\n",
    "    def __init__(self, data, seq_length):\n",
    "        self.data = data\n",
    "        self.seq_length = seq_length\n",
    "        self.padding_value = 0  # You can adjust the padding value as needed\n",
    "\n",
    "        # Perform sequence padding\n",
    "        self.padded_data = [self.pad_sequence(matrix) for matrix in self.data]\n",
    "\n",
    "    def __len__(self):\n",
    "        return len(self.data)\n",
    "\n",
    "    def __getitem__(self, idx):\n",
    "        x = self.padded_data[idx]\n",
    "        return tensor(x,dtype=torch.long)\n",
    "\n",
    "    def pad_sequence(self, matrix):\n",
    "        # Pad the sequence with zeros to match the desired sequence length\n",
    "        #  seq_length x 3\n",
    "        matrix = torch.tensor(matrix)\n",
    "        if matrix.shape[0] < self.seq_length:\n",
    "            padding_size = self.seq_length - matrix.shape[0]\n",
    "            padding = torch.full((padding_size, 3), self.padding_value)\n",
    "            padding[:, 0] = 1\n",
    "            matrix = torch.concatenate((matrix, padding), axis=0)\n",
    "        return matrix"
   ],
   "metadata": {
    "collapsed": false,
    "ExecuteTime": {
     "end_time": "2024-01-05T03:48:55.070810Z",
     "start_time": "2024-01-05T03:48:54.974315800Z"
    }
   }
  },
  {
   "cell_type": "code",
   "execution_count": 63,
   "outputs": [
    {
     "data": {
      "text/plain": "5"
     },
     "execution_count": 63,
     "metadata": {},
     "output_type": "execute_result"
    }
   ],
   "source": [
    "len(data)"
   ],
   "metadata": {
    "collapsed": false,
    "ExecuteTime": {
     "end_time": "2024-01-05T03:48:55.070810Z",
     "start_time": "2024-01-05T03:48:54.981531800Z"
    }
   }
  },
  {
   "cell_type": "code",
   "execution_count": 64,
   "outputs": [
    {
     "data": {
      "text/plain": "(242, 3)"
     },
     "execution_count": 64,
     "metadata": {},
     "output_type": "execute_result"
    }
   ],
   "source": [
    "data[0].shape"
   ],
   "metadata": {
    "collapsed": false,
    "ExecuteTime": {
     "end_time": "2024-01-05T03:48:55.070810Z",
     "start_time": "2024-01-05T03:48:54.992865500Z"
    }
   }
  },
  {
   "cell_type": "code",
   "execution_count": 65,
   "outputs": [
    {
     "data": {
      "text/plain": "(460, 3)"
     },
     "execution_count": 65,
     "metadata": {},
     "output_type": "execute_result"
    }
   ],
   "source": [
    "data[4].shape"
   ],
   "metadata": {
    "collapsed": false,
    "ExecuteTime": {
     "end_time": "2024-01-05T03:48:55.070810Z",
     "start_time": "2024-01-05T03:48:55.000847200Z"
    }
   }
  },
  {
   "cell_type": "code",
   "execution_count": 66,
   "outputs": [],
   "source": [
    "def cycle(loader):\n",
    "    while True:\n",
    "        for data in loader:\n",
    "            yield data"
   ],
   "metadata": {
    "collapsed": false,
    "ExecuteTime": {
     "end_time": "2024-01-05T03:48:55.070810Z",
     "start_time": "2024-01-05T03:48:55.008806600Z"
    }
   }
  },
  {
   "cell_type": "code",
   "execution_count": 67,
   "outputs": [],
   "source": [
    "train = PieceDataset(data[1:], SEQ_LEN)"
   ],
   "metadata": {
    "collapsed": false,
    "ExecuteTime": {
     "end_time": "2024-01-05T03:48:55.070810Z",
     "start_time": "2024-01-05T03:48:55.015323300Z"
    }
   }
  },
  {
   "cell_type": "code",
   "execution_count": 68,
   "outputs": [],
   "source": [
    "val = PieceDataset([data[0]], SEQ_LEN)"
   ],
   "metadata": {
    "collapsed": false,
    "ExecuteTime": {
     "end_time": "2024-01-05T03:48:55.070810Z",
     "start_time": "2024-01-05T03:48:55.022540Z"
    }
   }
  },
  {
   "cell_type": "code",
   "execution_count": 69,
   "outputs": [],
   "source": [
    "train_loader = cycle(DataLoader(train, batch_size=BATCH_SIZE, shuffle=False))"
   ],
   "metadata": {
    "collapsed": false,
    "ExecuteTime": {
     "end_time": "2024-01-05T03:48:55.070810Z",
     "start_time": "2024-01-05T03:48:55.028641500Z"
    }
   }
  },
  {
   "cell_type": "code",
   "execution_count": 70,
   "outputs": [],
   "source": [
    "val_loader = cycle(DataLoader(val, batch_size=BATCH_SIZE, shuffle=False))"
   ],
   "metadata": {
    "collapsed": false,
    "ExecuteTime": {
     "end_time": "2024-01-05T03:48:55.070810Z",
     "start_time": "2024-01-05T03:48:55.035548800Z"
    }
   }
  },
  {
   "cell_type": "code",
   "execution_count": 71,
   "outputs": [],
   "source": [
    "model = TransformerWrapper(\n",
    "    num_tokens_values=NUM_TOKENS_VALUES,\n",
    "    num_tokens_times=NUM_TOKENS_TIMES,\n",
    "    num_tokens_instruments=NUM_TOKENS_INSTRUMENTS,\n",
    "    max_seq_len=SEQ_LEN,\n",
    "    use_abs_pos_emb = False,\n",
    "    post_emb_norm=True,\n",
    "    attn_layers=Decoder(\n",
    "        dim = 32,\n",
    "        depth = 1,\n",
    "        heads = 2,\n",
    "        rotary_pos_emb=True,\n",
    "        attn_flash=True,\n",
    "        use_scalenorm=True,\n",
    "        ff_glu=True,\n",
    "    )\n",
    ")"
   ],
   "metadata": {
    "collapsed": false,
    "ExecuteTime": {
     "end_time": "2024-01-05T03:48:55.071813100Z",
     "start_time": "2024-01-05T03:48:55.042632800Z"
    }
   }
  },
  {
   "cell_type": "code",
   "execution_count": 72,
   "outputs": [],
   "source": [
    "model = AutoregressiveWrapper(model)"
   ],
   "metadata": {
    "collapsed": false,
    "ExecuteTime": {
     "end_time": "2024-01-05T03:48:55.071813100Z",
     "start_time": "2024-01-05T03:48:55.051487600Z"
    }
   }
  },
  {
   "cell_type": "code",
   "execution_count": 73,
   "outputs": [],
   "source": [
    "optim = torch.optim.Adam(model.parameters(), lr=LEARNING_RATE)"
   ],
   "metadata": {
    "collapsed": false,
    "ExecuteTime": {
     "end_time": "2024-01-05T03:48:55.071813100Z",
     "start_time": "2024-01-05T03:48:55.056507400Z"
    }
   }
  },
  {
   "cell_type": "code",
   "execution_count": 74,
   "outputs": [],
   "source": [
    "loss_list = []\n",
    "validate_loss_list = []"
   ],
   "metadata": {
    "collapsed": false,
    "ExecuteTime": {
     "end_time": "2024-01-05T03:48:55.071813100Z",
     "start_time": "2024-01-05T03:48:55.064249800Z"
    }
   }
  },
  {
   "cell_type": "code",
   "execution_count": 75,
   "outputs": [
    {
     "name": "stderr",
     "output_type": "stream",
     "text": [
      "training:   0%|          | 0/1000 [00:00<?, ?it/s]C:\\Users\\ilove\\AppData\\Local\\Temp\\ipykernel_39888\\4209189567.py:15: UserWarning: To copy construct from a tensor, it is recommended to use sourceTensor.clone().detach() or sourceTensor.clone().detach().requires_grad_(True), rather than torch.tensor(sourceTensor).\n",
      "  return tensor(x,dtype=torch.long)\n"
     ]
    },
    {
     "name": "stdout",
     "output_type": "stream",
     "text": [
      "training loss: 10.19651985168457\n",
      "validation loss: 10.169755935668945\n",
      "tensor([[ 0,  0,  0],\n",
      "        [10,  0, 15],\n",
      "        [10,  0, 16],\n",
      "        ...,\n",
      "        [ 1,  0,  0],\n",
      "        [ 1,  0,  0],\n",
      "        [ 1,  0,  0]])\n"
     ]
    },
    {
     "name": "stderr",
     "output_type": "stream",
     "text": [
      "\n",
      "100%|██████████| 1/1 [00:00<?, ?it/s]\u001B[A\n"
     ]
    },
    {
     "name": "stdout",
     "output_type": "stream",
     "text": [
      "[[ 0  1 -1 -1 -1 -1 -1  0 -1 -1 -1]]\n",
      "training loss: 10.195898056030273\n",
      "training loss: 10.195276260375977\n",
      "training loss: 10.194652557373047\n",
      "training loss: 10.194031715393066\n",
      "training loss: 10.193408966064453\n",
      "training loss: 10.192789077758789\n",
      "training loss: 10.192166328430176\n",
      "training loss: 10.191547393798828\n",
      "training loss: 10.190927505493164\n"
     ]
    },
    {
     "name": "stderr",
     "output_type": "stream",
     "text": [
      "training:   1%|          | 11/1000 [00:01<02:35,  6.34it/s]"
     ]
    },
    {
     "name": "stdout",
     "output_type": "stream",
     "text": [
      "training loss: 10.1903076171875\n",
      "validation loss: 10.164663314819336\n"
     ]
    },
    {
     "name": "stderr",
     "output_type": "stream",
     "text": [
      "\n"
     ]
    },
    {
     "ename": "KeyboardInterrupt",
     "evalue": "",
     "output_type": "error",
     "traceback": [
      "\u001B[1;31m---------------------------------------------------------------------------\u001B[0m",
      "\u001B[1;31mKeyboardInterrupt\u001B[0m                         Traceback (most recent call last)",
      "Cell \u001B[1;32mIn[75], line 7\u001B[0m\n\u001B[0;32m      5\u001B[0m     loss \u001B[38;5;241m=\u001B[39m model(\u001B[38;5;28mnext\u001B[39m(train_loader))\n\u001B[0;32m      6\u001B[0m     loss_list\u001B[38;5;241m.\u001B[39mappend(loss\u001B[38;5;241m.\u001B[39mitem())\n\u001B[1;32m----> 7\u001B[0m     \u001B[43m(\u001B[49m\u001B[43mloss\u001B[49m\u001B[43m \u001B[49m\u001B[38;5;241;43m/\u001B[39;49m\u001B[43m \u001B[49m\u001B[43mGRADIENT_ACCUMULATE_EVERY\u001B[49m\u001B[43m)\u001B[49m\u001B[38;5;241;43m.\u001B[39;49m\u001B[43mbackward\u001B[49m\u001B[43m(\u001B[49m\u001B[43m)\u001B[49m\n\u001B[0;32m      9\u001B[0m \u001B[38;5;28mprint\u001B[39m(\u001B[38;5;124mf\u001B[39m\u001B[38;5;124m'\u001B[39m\u001B[38;5;124mtraining loss: \u001B[39m\u001B[38;5;132;01m{\u001B[39;00mloss\u001B[38;5;241m.\u001B[39mitem()\u001B[38;5;132;01m}\u001B[39;00m\u001B[38;5;124m'\u001B[39m)\n\u001B[0;32m     10\u001B[0m torch\u001B[38;5;241m.\u001B[39mnn\u001B[38;5;241m.\u001B[39mutils\u001B[38;5;241m.\u001B[39mclip_grad_norm_(model\u001B[38;5;241m.\u001B[39mparameters(), \u001B[38;5;241m0.5\u001B[39m)\n",
      "File \u001B[1;32m~\\anaconda3\\Lib\\site-packages\\torch\\_tensor.py:492\u001B[0m, in \u001B[0;36mTensor.backward\u001B[1;34m(self, gradient, retain_graph, create_graph, inputs)\u001B[0m\n\u001B[0;32m    482\u001B[0m \u001B[38;5;28;01mif\u001B[39;00m has_torch_function_unary(\u001B[38;5;28mself\u001B[39m):\n\u001B[0;32m    483\u001B[0m     \u001B[38;5;28;01mreturn\u001B[39;00m handle_torch_function(\n\u001B[0;32m    484\u001B[0m         Tensor\u001B[38;5;241m.\u001B[39mbackward,\n\u001B[0;32m    485\u001B[0m         (\u001B[38;5;28mself\u001B[39m,),\n\u001B[1;32m   (...)\u001B[0m\n\u001B[0;32m    490\u001B[0m         inputs\u001B[38;5;241m=\u001B[39minputs,\n\u001B[0;32m    491\u001B[0m     )\n\u001B[1;32m--> 492\u001B[0m \u001B[43mtorch\u001B[49m\u001B[38;5;241;43m.\u001B[39;49m\u001B[43mautograd\u001B[49m\u001B[38;5;241;43m.\u001B[39;49m\u001B[43mbackward\u001B[49m\u001B[43m(\u001B[49m\n\u001B[0;32m    493\u001B[0m \u001B[43m    \u001B[49m\u001B[38;5;28;43mself\u001B[39;49m\u001B[43m,\u001B[49m\u001B[43m \u001B[49m\u001B[43mgradient\u001B[49m\u001B[43m,\u001B[49m\u001B[43m \u001B[49m\u001B[43mretain_graph\u001B[49m\u001B[43m,\u001B[49m\u001B[43m \u001B[49m\u001B[43mcreate_graph\u001B[49m\u001B[43m,\u001B[49m\u001B[43m \u001B[49m\u001B[43minputs\u001B[49m\u001B[38;5;241;43m=\u001B[39;49m\u001B[43minputs\u001B[49m\n\u001B[0;32m    494\u001B[0m \u001B[43m\u001B[49m\u001B[43m)\u001B[49m\n",
      "File \u001B[1;32m~\\anaconda3\\Lib\\site-packages\\torch\\autograd\\__init__.py:251\u001B[0m, in \u001B[0;36mbackward\u001B[1;34m(tensors, grad_tensors, retain_graph, create_graph, grad_variables, inputs)\u001B[0m\n\u001B[0;32m    246\u001B[0m     retain_graph \u001B[38;5;241m=\u001B[39m create_graph\n\u001B[0;32m    248\u001B[0m \u001B[38;5;66;03m# The reason we repeat the same comment below is that\u001B[39;00m\n\u001B[0;32m    249\u001B[0m \u001B[38;5;66;03m# some Python versions print out the first line of a multi-line function\u001B[39;00m\n\u001B[0;32m    250\u001B[0m \u001B[38;5;66;03m# calls in the traceback and some print out the last line\u001B[39;00m\n\u001B[1;32m--> 251\u001B[0m \u001B[43mVariable\u001B[49m\u001B[38;5;241;43m.\u001B[39;49m\u001B[43m_execution_engine\u001B[49m\u001B[38;5;241;43m.\u001B[39;49m\u001B[43mrun_backward\u001B[49m\u001B[43m(\u001B[49m\u001B[43m  \u001B[49m\u001B[38;5;66;43;03m# Calls into the C++ engine to run the backward pass\u001B[39;49;00m\n\u001B[0;32m    252\u001B[0m \u001B[43m    \u001B[49m\u001B[43mtensors\u001B[49m\u001B[43m,\u001B[49m\n\u001B[0;32m    253\u001B[0m \u001B[43m    \u001B[49m\u001B[43mgrad_tensors_\u001B[49m\u001B[43m,\u001B[49m\n\u001B[0;32m    254\u001B[0m \u001B[43m    \u001B[49m\u001B[43mretain_graph\u001B[49m\u001B[43m,\u001B[49m\n\u001B[0;32m    255\u001B[0m \u001B[43m    \u001B[49m\u001B[43mcreate_graph\u001B[49m\u001B[43m,\u001B[49m\n\u001B[0;32m    256\u001B[0m \u001B[43m    \u001B[49m\u001B[43minputs\u001B[49m\u001B[43m,\u001B[49m\n\u001B[0;32m    257\u001B[0m \u001B[43m    \u001B[49m\u001B[43mallow_unreachable\u001B[49m\u001B[38;5;241;43m=\u001B[39;49m\u001B[38;5;28;43;01mTrue\u001B[39;49;00m\u001B[43m,\u001B[49m\n\u001B[0;32m    258\u001B[0m \u001B[43m    \u001B[49m\u001B[43maccumulate_grad\u001B[49m\u001B[38;5;241;43m=\u001B[39;49m\u001B[38;5;28;43;01mTrue\u001B[39;49;00m\u001B[43m,\u001B[49m\n\u001B[0;32m    259\u001B[0m \u001B[43m\u001B[49m\u001B[43m)\u001B[49m\n",
      "\u001B[1;31mKeyboardInterrupt\u001B[0m: "
     ]
    }
   ],
   "source": [
    "for i in tqdm.tqdm(range(NUM_BATCHES), mininterval=10., desc='training'):\n",
    "    model.train()\n",
    "\n",
    "    for __ in range(GRADIENT_ACCUMULATE_EVERY):\n",
    "        loss = model(next(train_loader))\n",
    "        loss_list.append(loss.item())\n",
    "        (loss / GRADIENT_ACCUMULATE_EVERY).backward()\n",
    "\n",
    "    print(f'training loss: {loss.item()}')\n",
    "    torch.nn.utils.clip_grad_norm_(model.parameters(), 0.5)\n",
    "    optim.step()\n",
    "    optim.zero_grad()\n",
    "\n",
    "    if i % VALIDATE_EVERY == 0:\n",
    "        model.eval()\n",
    "        with torch.no_grad():\n",
    "            loss = model(next(val_loader))\n",
    "            validate_loss_list.append(loss.item())\n",
    "            print(f'validation loss: {loss.item()}')\n",
    "\n",
    "    if i % GENERATE_EVERY == 0:\n",
    "        model.eval()\n",
    "        inp = random.choice(val)\n",
    "        print(inp)\n",
    "        # add dimension to inp\n",
    "        inp = inp.unsqueeze(0)\n",
    "\n",
    "        sample = model.generate(\n",
    "            prompts = inp,\n",
    "            seq_len = GENERATE_LENGTH,\n",
    "            cache_kv = True,\n",
    "            eos_token = tensor([1,0,0])\n",
    "        )\n",
    "        output_str = small_tokenizer.detokenize(sample[:,-1])\n",
    "        print(output_str)"
   ],
   "metadata": {
    "collapsed": false,
    "ExecuteTime": {
     "end_time": "2024-01-05T03:48:56.863832200Z",
     "start_time": "2024-01-05T03:48:55.072810500Z"
    }
   }
  },
  {
   "cell_type": "code",
   "execution_count": null,
   "outputs": [],
   "source": [
    "plt.plot(loss_list)\n",
    "# show validate loss list with seperations of 10 (repeat 10 times for each)\n",
    "validate_loss_list = [item for item in validate_loss_list for i in range(40)]\n",
    "\n",
    "plt.plot(validate_loss_list)"
   ],
   "metadata": {
    "collapsed": false,
    "ExecuteTime": {
     "start_time": "2024-01-05T03:48:56.849256500Z"
    }
   }
  },
  {
   "cell_type": "code",
   "execution_count": null,
   "outputs": [],
   "source": [
    "#save model\n",
    "torch.save(model.state_dict(), 'model.pth')"
   ],
   "metadata": {
    "collapsed": false,
    "ExecuteTime": {
     "start_time": "2024-01-05T03:48:56.857273300Z"
    }
   }
  },
  {
   "cell_type": "code",
   "execution_count": null,
   "outputs": [],
   "source": [
    "#load model\n",
    "model = TransformerWrapper(\n",
    "    num_tokens_values=NUM_TOKENS_VALUES,\n",
    "    num_tokens_times=NUM_TOKENS_TIMES,\n",
    "    num_tokens_instruments=NUM_TOKENS_INSTRUMENTS,\n",
    "    max_seq_len=SEQ_LEN,\n",
    "    use_abs_pos_emb = False,\n",
    "    post_emb_norm=True,\n",
    "    attn_layers=Decoder(\n",
    "        dim = 32,\n",
    "        depth = 1,\n",
    "        heads = 2,\n",
    "        rotary_pos_emb=True,\n",
    "        attn_flash=True,\n",
    "        use_scalenorm=True,\n",
    "        ff_glu=True,\n",
    "    )\n",
    ")\n",
    "model = AutoregressiveWrapper(model)\n",
    "model.load_state_dict(torch.load('model.pth'))"
   ],
   "metadata": {
    "collapsed": false,
    "ExecuteTime": {
     "start_time": "2024-01-05T03:48:56.857273300Z"
    }
   }
  },
  {
   "cell_type": "code",
   "execution_count": null,
   "outputs": [],
   "source": [
    "output = model.generate(\n",
    "    prompts = tensor([[[0, 0, 0],[0,0,0]]]),\n",
    "    seq_len = 512,\n",
    "    cache_kv = True,\n",
    "    eos_token = tensor([1,0,0]))\n"
   ],
   "metadata": {
    "collapsed": false,
    "ExecuteTime": {
     "start_time": "2024-01-05T03:48:56.857273300Z"
    }
   }
  },
  {
   "cell_type": "code",
   "execution_count": null,
   "outputs": [],
   "source": [
    "output[:,0]"
   ],
   "metadata": {
    "collapsed": false,
    "ExecuteTime": {
     "start_time": "2024-01-05T03:48:56.857273300Z"
    }
   }
  },
  {
   "cell_type": "code",
   "execution_count": null,
   "outputs": [],
   "source": [],
   "metadata": {
    "collapsed": false,
    "ExecuteTime": {
     "start_time": "2024-01-05T03:48:56.858255Z"
    }
   }
  }
 ],
 "metadata": {
  "kernelspec": {
   "display_name": "Python 3",
   "language": "python",
   "name": "python3"
  },
  "language_info": {
   "codemirror_mode": {
    "name": "ipython",
    "version": 2
   },
   "file_extension": ".py",
   "mimetype": "text/x-python",
   "name": "python",
   "nbconvert_exporter": "python",
   "pygments_lexer": "ipython2",
   "version": "2.7.6"
  }
 },
 "nbformat": 4,
 "nbformat_minor": 0
}
