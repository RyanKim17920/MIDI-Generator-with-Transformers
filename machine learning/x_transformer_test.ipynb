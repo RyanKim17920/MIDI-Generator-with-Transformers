{
 "cells": [
  {
   "cell_type": "code",
   "execution_count": 5,
   "metadata": {
    "collapsed": true,
    "ExecuteTime": {
     "end_time": "2024-01-04T00:45:14.846396500Z",
     "start_time": "2024-01-04T00:45:14.804107600Z"
    }
   },
   "outputs": [
    {
     "name": "stdout",
     "output_type": "stream",
     "text": [
      "tensor([[2, 9, 6, 6, 5, 5, 8, 0, 6, 6]])\n"
     ]
    },
    {
     "data": {
      "text/plain": "tensor([[[ 1.7392, -1.1286,  0.1240,  0.2465,  1.1047, -0.6987,  0.4112,\n           0.7875,  0.5032, -0.7496],\n         [ 1.3778,  0.0238,  0.7465,  0.0821,  0.0925, -0.4922,  0.7031,\n           1.4644,  0.7769, -0.6179],\n         [-0.8936,  0.7823, -0.4152, -0.1659, -1.7632,  1.1062, -0.5428,\n          -0.2894,  0.0983,  0.0192],\n         [-0.7476,  0.8391, -0.4011, -0.2755, -1.8347,  1.1236, -0.5908,\n          -0.1990,  0.1611,  0.0836],\n         [ 1.0070, -1.1185, -0.2488, -0.8025,  0.0995,  0.6218, -0.6068,\n           0.6167,  0.0783,  0.6773],\n         [ 0.9595, -0.8848, -0.4364, -0.8490, -0.2080,  0.7292, -0.7853,\n           0.4029,  0.1299,  0.6402],\n         [ 0.6682, -1.3812, -0.3743,  0.3473,  0.9149, -0.1501,  0.0152,\n          -0.0547, -0.0038, -0.5206],\n         [ 0.0177,  0.9965,  0.0057, -0.2268, -1.5864,  0.6192, -0.1921,\n           0.4136,  0.5325, -0.2058],\n         [-0.8307,  0.8455, -0.3860, -0.1541, -1.7831,  1.0602, -0.5094,\n          -0.2484,  0.1475, -0.0293],\n         [-0.3633,  0.9714, -0.2793, -0.2773, -1.7996,  0.9110, -0.4696,\n           0.0227,  0.3599, -0.0643]]], grad_fn=<ViewBackward0>)"
     },
     "execution_count": 5,
     "metadata": {},
     "output_type": "execute_result"
    }
   ],
   "source": [
    "import torch\n",
    "from x_transformers import TransformerWrapper, Decoder\n",
    "\n",
    "model = TransformerWrapper(\n",
    "    num_tokens = 10,\n",
    "    max_seq_len = 10,\n",
    "    attn_layers = Decoder(\n",
    "        dim = 5,\n",
    "        depth = 1,\n",
    "        heads = 1\n",
    "    )\n",
    ")\n",
    "\n",
    "x = torch.randint(0, 10, (1, 10))\n",
    "print(x)\n",
    "model(x) # (1, 1024, 20000)"
   ]
  },
  {
   "cell_type": "code",
   "execution_count": null,
   "outputs": [],
   "source": [],
   "metadata": {
    "collapsed": false
   }
  }
 ],
 "metadata": {
  "kernelspec": {
   "display_name": "Python 3",
   "language": "python",
   "name": "python3"
  },
  "language_info": {
   "codemirror_mode": {
    "name": "ipython",
    "version": 2
   },
   "file_extension": ".py",
   "mimetype": "text/x-python",
   "name": "python",
   "nbconvert_exporter": "python",
   "pygments_lexer": "ipython2",
   "version": "2.7.6"
  }
 },
 "nbformat": 4,
 "nbformat_minor": 0
}
