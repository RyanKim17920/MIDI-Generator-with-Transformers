{
 "cells": [
  {
   "cell_type": "code",
   "execution_count": 21,
   "id": "initial_id",
   "metadata": {
    "collapsed": true,
    "ExecuteTime": {
     "end_time": "2023-08-13T03:01:20.777044900Z",
     "start_time": "2023-08-13T03:01:18.015210500Z"
    }
   },
   "outputs": [],
   "source": [
    "import numpy as np\n",
    "import tensorflow as tf\n",
    "from sklearn.model_selection import train_test_split\n",
    "import pickle"
   ]
  },
  {
   "cell_type": "code",
   "execution_count": 22,
   "outputs": [],
   "source": [
    "with open(\"final_data.pickle\", \"rb\") as f:\n",
    "    data = pickle.load(f)"
   ],
   "metadata": {
    "collapsed": false,
    "ExecuteTime": {
     "end_time": "2023-08-13T03:02:42.362692400Z",
     "start_time": "2023-08-13T03:02:42.308391200Z"
    }
   },
   "id": "9fb2070a836b7556"
  },
  {
   "cell_type": "code",
   "execution_count": 23,
   "outputs": [],
   "source": [
    "inputs = []\n",
    "target = []\n",
    "for i in range(len(data)):\n",
    "    inputs.append(data[i][0:-1])\n",
    "    target.append(data[i][1:])"
   ],
   "metadata": {
    "collapsed": false,
    "ExecuteTime": {
     "end_time": "2023-08-13T03:04:40.770307200Z",
     "start_time": "2023-08-13T03:04:40.746933100Z"
    }
   },
   "id": "8dc174b2c44ece46"
  },
  {
   "cell_type": "code",
   "execution_count": 24,
   "outputs": [
    {
     "data": {
      "text/plain": "array([[0.000e+00, 0.000e+00, 0.000e+00],\n       [3.700e+01, 0.000e+00, 5.000e+00],\n       [3.500e+01, 0.000e+00, 7.000e+00],\n       ...,\n       [2.008e+03, 3.000e+00, 5.000e+00],\n       [3.163e+03, 3.000e+00, 5.000e+00],\n       [4.928e+03, 0.000e+00, 5.000e+00]])"
     },
     "execution_count": 24,
     "metadata": {},
     "output_type": "execute_result"
    }
   ],
   "source": [
    "inputs[0]"
   ],
   "metadata": {
    "collapsed": false,
    "ExecuteTime": {
     "end_time": "2023-08-13T03:04:45.717359700Z",
     "start_time": "2023-08-13T03:04:45.657949700Z"
    }
   },
   "id": "77a7f73a319fc16a"
  },
  {
   "cell_type": "code",
   "execution_count": 25,
   "outputs": [
    {
     "data": {
      "text/plain": "array([[3.700e+01, 0.000e+00, 5.000e+00],\n       [3.500e+01, 0.000e+00, 7.000e+00],\n       [3.500e+01, 0.000e+00, 4.400e+01],\n       ...,\n       [3.163e+03, 3.000e+00, 5.000e+00],\n       [4.928e+03, 0.000e+00, 5.000e+00],\n       [1.000e+00, 0.000e+00, 0.000e+00]])"
     },
     "execution_count": 25,
     "metadata": {},
     "output_type": "execute_result"
    }
   ],
   "source": [
    "target[0]"
   ],
   "metadata": {
    "collapsed": false,
    "ExecuteTime": {
     "end_time": "2023-08-13T03:04:56.050453800Z",
     "start_time": "2023-08-13T03:04:56.024860900Z"
    }
   },
   "id": "96fc2ce68665c3b"
  },
  {
   "cell_type": "code",
   "execution_count": 26,
   "outputs": [],
   "source": [
    "# traintest split\n",
    "X_train, X_test, y_train, y_test = train_test_split(inputs, target, test_size=0.2, random_state=42)\n",
    "# dev set split\n",
    "X_train, X_dev, y_train, y_dev = train_test_split(X_train, y_train, test_size=0.2, random_state=42)"
   ],
   "metadata": {
    "collapsed": false,
    "ExecuteTime": {
     "end_time": "2023-08-13T03:05:58.371251200Z",
     "start_time": "2023-08-13T03:05:58.351817Z"
    }
   },
   "id": "ffc636f26f731b53"
  },
  {
   "cell_type": "code",
   "execution_count": 27,
   "outputs": [
    {
     "name": "stdout",
     "output_type": "stream",
     "text": [
      "234\n",
      "59\n",
      "74\n"
     ]
    }
   ],
   "source": [
    "print(len(X_train))\n",
    "print(len(X_dev))\n",
    "print(len(X_test))"
   ],
   "metadata": {
    "collapsed": false,
    "ExecuteTime": {
     "end_time": "2023-08-13T03:06:12.103540500Z",
     "start_time": "2023-08-13T03:06:12.090593800Z"
    }
   },
   "id": "4113b02ebd60af7e"
  },
  {
   "cell_type": "code",
   "execution_count": 28,
   "outputs": [],
   "source": [
    "def get_len(data):\n",
    "    length = 0\n",
    "    for i in range(len(data)):\n",
    "        length += len(data[i])\n",
    "    return length"
   ],
   "metadata": {
    "collapsed": false,
    "ExecuteTime": {
     "end_time": "2023-08-13T03:08:18.360830400Z",
     "start_time": "2023-08-13T03:08:18.348222600Z"
    }
   },
   "id": "af6fa5eae9a3a4cb"
  },
  {
   "cell_type": "code",
   "execution_count": 29,
   "outputs": [
    {
     "name": "stdout",
     "output_type": "stream",
     "text": [
      "1552093\n",
      "370242\n",
      "513827\n"
     ]
    }
   ],
   "source": [
    "print(get_len(X_train))\n",
    "print(get_len(X_dev))\n",
    "print(get_len(X_test))"
   ],
   "metadata": {
    "collapsed": false,
    "ExecuteTime": {
     "end_time": "2023-08-13T03:08:25.871159900Z",
     "start_time": "2023-08-13T03:08:25.849147600Z"
    }
   },
   "id": "28eb72ef7bbe1545"
  },
  {
   "cell_type": "code",
   "execution_count": 35,
   "outputs": [
    {
     "name": "stdout",
     "output_type": "stream",
     "text": [
      "[    17    223    225    227    347    379    396    438    445    588\n",
      "    606    630    649    677    751    812    813    836    839    858\n",
      "    876    878    883    959   1050   1058   1058   1061   1062   1064\n",
      "   1080   1097   1109   1122   1129   1139   1145   1161   1174   1183\n",
      "   1212   1223   1253   1266   1269   1310   1318   1322   1326   1341\n",
      "   1366   1391   1397   1416   1429   1429   1443   1490   1492   1505\n",
      "   1505   1523   1528   1555   1571   1578   1579   1607   1621   1623\n",
      "   1637   1639   1641   1664   1669   1719   1725   1740   1745   1769\n",
      "   1769   1788   1789   1791   1829   1854   1866   1882   1890   1891\n",
      "   1913   1936   1940   1941   1954   1965   1965   1989   1989   1997\n",
      "   2019   2023   2023   2051   2072   2103   2107   2138   2139   2139\n",
      "   2145   2172   2191   2193   2222   2225   2235   2242   2265   2296\n",
      "   2296   2376   2380   2412   2431   2447   2470   2471   2476   2506\n",
      "   2516   2562   2578   2587   2598   2635   2641   2644   2675   2708\n",
      "   2711   2727   2747   2757   2760   2761   2791   2825   2852   2863\n",
      "   2907   2913   2959   2970   2975   2987   3033   3060   3103   3111\n",
      "   3129   3155   3162   3168   3196   3209   3211   3232   3237   3240\n",
      "   3253   3254   3254   3279   3295   3302   3345   3393   3393   3423\n",
      "   3441   3443   3466   3475   3507   3511   3533   3535   3538   3588\n",
      "   3593   3613   3635   3640   3703   3759   3773   3799   3799   3828\n",
      "   3933   3947   3951   3953   3993   4017   4110   4143   4174   4175\n",
      "   4231   4231   4235   4248   4257   4263   4263   4268   4274   4317\n",
      "   4340   4353   4417   4452   4476   4522   4537   4681   4681   4695\n",
      "   4699   4704   4714   4732   4769   4789   4790   4791   4818   4851\n",
      "   4886   4907   5094   5107   5138   5161   5171   5257   5279   5331\n",
      "   5342   5412   5428   5519   5562   5589   5693   5719   5749   5808\n",
      "   5875   5902   6085   6088   6089   6091   6091   6096   6149   6149\n",
      "   6158   6254   6273   6369   6402   6407   6598   6641   6704   6741\n",
      "   6816   7078   7172   7231   7245   7526   7526   7587   7632   7636\n",
      "   7653   7681   7709   7843   7922   7922   7989   8108   8132   8200\n",
      "   8227   8318   8582   8757   8849   8857   8996   9035   9285   9302\n",
      "   9314   9396   9468   9560   9569   9742  10036  10069  10183  10237\n",
      "  10631  10877  11096  11718  12639  12701  12715  12813  12963  12971\n",
      "  13603  13772  15295  16259  16993  17267  17895  17983  18710  18759\n",
      "  18767  19297  19753  20382  20389  20462  20799  21154  25484  25484\n",
      "  28410  30102  31698  32381  32837  33409  34418  39043  39064  41628\n",
      "  41733  43687  44027  57423  62579  77058 102188]\n"
     ]
    }
   ],
   "source": [
    "vals = []\n",
    "for i in range(len(inputs)):\n",
    "    vals.append(len(inputs[i]))\n",
    "print(np.sort(vals))"
   ],
   "metadata": {
    "collapsed": false,
    "ExecuteTime": {
     "end_time": "2023-08-13T03:14:16.175840500Z",
     "start_time": "2023-08-13T03:14:16.161839400Z"
    }
   },
   "id": "fbd94b7ae4658e8d"
  },
  {
   "cell_type": "code",
   "execution_count": 19,
   "outputs": [],
   "source": [
    "data_values = np.array([])\n",
    "data_times = np.array([])\n",
    "data_instruments = np.array([])"
   ],
   "metadata": {
    "collapsed": false,
    "ExecuteTime": {
     "end_time": "2023-08-13T00:48:49.933288900Z",
     "start_time": "2023-08-13T00:48:49.918753500Z"
    }
   },
   "id": "4580276cd10c93e6"
  },
  {
   "cell_type": "code",
   "execution_count": 20,
   "outputs": [
    {
     "ename": "KeyboardInterrupt",
     "evalue": "",
     "output_type": "error",
     "traceback": [
      "\u001B[1;31m---------------------------------------------------------------------------\u001B[0m",
      "\u001B[1;31mKeyboardInterrupt\u001B[0m                         Traceback (most recent call last)",
      "Cell \u001B[1;32mIn[20], line 4\u001B[0m\n\u001B[0;32m      2\u001B[0m \u001B[38;5;28;01mfor\u001B[39;00m j \u001B[38;5;129;01min\u001B[39;00m \u001B[38;5;28mrange\u001B[39m(\u001B[38;5;28mlen\u001B[39m(data[i])):\n\u001B[0;32m      3\u001B[0m     data_values \u001B[38;5;241m=\u001B[39m np\u001B[38;5;241m.\u001B[39mappend(data_values, data[i][j][\u001B[38;5;241m0\u001B[39m])\n\u001B[1;32m----> 4\u001B[0m     data_times \u001B[38;5;241m=\u001B[39m \u001B[43mnp\u001B[49m\u001B[38;5;241;43m.\u001B[39;49m\u001B[43mappend\u001B[49m\u001B[43m(\u001B[49m\u001B[43mdata_times\u001B[49m\u001B[43m,\u001B[49m\u001B[43m \u001B[49m\u001B[43mdata\u001B[49m\u001B[43m[\u001B[49m\u001B[43mi\u001B[49m\u001B[43m]\u001B[49m\u001B[43m[\u001B[49m\u001B[43mj\u001B[49m\u001B[43m]\u001B[49m\u001B[43m[\u001B[49m\u001B[38;5;241;43m1\u001B[39;49m\u001B[43m]\u001B[49m\u001B[43m)\u001B[49m\n\u001B[0;32m      5\u001B[0m     data_instruments \u001B[38;5;241m=\u001B[39m np\u001B[38;5;241m.\u001B[39mappend(data_instruments, data[i][j][\u001B[38;5;241m2\u001B[39m])\n",
      "File \u001B[1;32m<__array_function__ internals>:180\u001B[0m, in \u001B[0;36mappend\u001B[1;34m(*args, **kwargs)\u001B[0m\n",
      "File \u001B[1;32m~\\anaconda3\\lib\\site-packages\\numpy\\lib\\function_base.py:5444\u001B[0m, in \u001B[0;36mappend\u001B[1;34m(arr, values, axis)\u001B[0m\n\u001B[0;32m   5442\u001B[0m     values \u001B[38;5;241m=\u001B[39m ravel(values)\n\u001B[0;32m   5443\u001B[0m     axis \u001B[38;5;241m=\u001B[39m arr\u001B[38;5;241m.\u001B[39mndim\u001B[38;5;241m-\u001B[39m\u001B[38;5;241m1\u001B[39m\n\u001B[1;32m-> 5444\u001B[0m \u001B[38;5;28;01mreturn\u001B[39;00m \u001B[43mconcatenate\u001B[49m\u001B[43m(\u001B[49m\u001B[43m(\u001B[49m\u001B[43marr\u001B[49m\u001B[43m,\u001B[49m\u001B[43m \u001B[49m\u001B[43mvalues\u001B[49m\u001B[43m)\u001B[49m\u001B[43m,\u001B[49m\u001B[43m \u001B[49m\u001B[43maxis\u001B[49m\u001B[38;5;241;43m=\u001B[39;49m\u001B[43maxis\u001B[49m\u001B[43m)\u001B[49m\n",
      "File \u001B[1;32m<__array_function__ internals>:180\u001B[0m, in \u001B[0;36mconcatenate\u001B[1;34m(*args, **kwargs)\u001B[0m\n",
      "\u001B[1;31mKeyboardInterrupt\u001B[0m: "
     ]
    }
   ],
   "source": [
    "for i in range(len(data)):\n",
    "    for j in range(len(data[i])):\n",
    "        data_values = np.append(data_values, data[i][j][0])\n",
    "        data_times = np.append(data_times, data[i][j][1])\n",
    "        data_instruments = np.append(data_instruments, data[i][j][2])"
   ],
   "metadata": {
    "collapsed": false,
    "ExecuteTime": {
     "end_time": "2023-08-13T03:00:37.108669400Z",
     "start_time": "2023-08-13T00:48:50.803026900Z"
    }
   },
   "id": "3f84f17a8bba00ff"
  },
  {
   "cell_type": "code",
   "execution_count": 12,
   "outputs": [],
   "source": [
    "data_values = np.array(data_values)\n",
    "data_times = np.array(data_times)\n",
    "data_instruments = np.array(data_instruments)"
   ],
   "metadata": {
    "collapsed": false,
    "ExecuteTime": {
     "end_time": "2023-08-13T00:46:28.467068500Z",
     "start_time": "2023-08-13T00:46:28.454950400Z"
    }
   },
   "id": "ede35f8dbdf8611"
  },
  {
   "cell_type": "code",
   "execution_count": 13,
   "outputs": [
    {
     "data": {
      "text/plain": "array([0., 0., 0., 0., 0., 0., 0., 0., 0., 0., 0., 0., 0., 0., 0., 0., 0.,\n       0., 0., 0., 0., 0., 0., 0., 0., 0., 0., 0., 0., 0., 0., 0., 0., 0.,\n       0., 0., 0., 0., 0., 0., 0., 0., 0., 0., 0., 0., 0., 0., 0., 0., 0.,\n       0., 0., 0., 0., 0., 0., 0., 0., 0., 0., 0., 0., 0., 0., 0., 0., 0.,\n       0., 0., 0., 0., 0., 0., 0., 0., 0., 0., 0., 0., 0., 0., 0., 0., 0.,\n       0., 0., 0., 0., 0., 0., 0., 0., 0., 0., 0., 0., 0., 0., 0.])"
     },
     "execution_count": 13,
     "metadata": {},
     "output_type": "execute_result"
    }
   ],
   "source": [
    "data_values[0:100]"
   ],
   "metadata": {
    "collapsed": false,
    "ExecuteTime": {
     "end_time": "2023-08-13T00:46:32.791530500Z",
     "start_time": "2023-08-13T00:46:32.737153400Z"
    }
   },
   "id": "e8238b32a6ea0e04"
  },
  {
   "cell_type": "code",
   "execution_count": null,
   "outputs": [],
   "source": [],
   "metadata": {
    "collapsed": false
   },
   "id": "34c69cbfc36c64fe"
  }
 ],
 "metadata": {
  "kernelspec": {
   "display_name": "Python 3",
   "language": "python",
   "name": "python3"
  },
  "language_info": {
   "codemirror_mode": {
    "name": "ipython",
    "version": 2
   },
   "file_extension": ".py",
   "mimetype": "text/x-python",
   "name": "python",
   "nbconvert_exporter": "python",
   "pygments_lexer": "ipython2",
   "version": "2.7.6"
  }
 },
 "nbformat": 4,
 "nbformat_minor": 5
}
