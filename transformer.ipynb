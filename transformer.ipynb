{
 "cells": [
  {
   "cell_type": "code",
   "execution_count": 1,
   "id": "initial_id",
   "metadata": {
    "collapsed": true,
    "ExecuteTime": {
     "end_time": "2023-08-11T03:43:47.998817200Z",
     "start_time": "2023-08-11T03:43:44.214998100Z"
    }
   },
   "outputs": [],
   "source": [
    "import tensorflow as tf\n",
    "import numpy as np\n",
    "import pickle"
   ]
  },
  {
   "cell_type": "code",
   "execution_count": 2,
   "outputs": [],
   "source": [
    "with open('fixed_all_data.pickle', 'rb') as f:\n",
    "    all_data = pickle.load(f)"
   ],
   "metadata": {
    "collapsed": false,
    "ExecuteTime": {
     "end_time": "2023-08-11T03:43:49.559509400Z",
     "start_time": "2023-08-11T03:43:49.418516900Z"
    }
   },
   "id": "dca28402d6c8e695"
  },
  {
   "cell_type": "code",
   "execution_count": 3,
   "outputs": [
    {
     "data": {
      "text/plain": "array([[-1, -1, -1, ..., -1, -1, -1],\n       [-1, -1, -1, ...,  0,  1, 16],\n       [-1, -1, -1, ...,  0,  1, 19],\n       ...,\n       [60,  0, -1, ...,  3,  1, 16],\n       [77,  0, -1, ...,  0,  1, 16],\n       [-1, -1, -1, ...,  0, -1, -1]], dtype=int64)"
     },
     "execution_count": 3,
     "metadata": {},
     "output_type": "execute_result"
    }
   ],
   "source": [],
   "metadata": {
    "collapsed": false,
    "ExecuteTime": {
     "end_time": "2023-08-11T03:43:56.403485300Z",
     "start_time": "2023-08-11T03:43:56.371472Z"
    }
   },
   "id": "793d1c9bb69090f1"
  },
  {
   "cell_type": "code",
   "execution_count": null,
   "outputs": [],
   "source": [],
   "metadata": {
    "collapsed": false
   },
   "id": "d6e8a447123a1054"
  }
 ],
 "metadata": {
  "kernelspec": {
   "display_name": "Python 3",
   "language": "python",
   "name": "python3"
  },
  "language_info": {
   "codemirror_mode": {
    "name": "ipython",
    "version": 2
   },
   "file_extension": ".py",
   "mimetype": "text/x-python",
   "name": "python",
   "nbconvert_exporter": "python",
   "pygments_lexer": "ipython2",
   "version": "2.7.6"
  }
 },
 "nbformat": 4,
 "nbformat_minor": 5
}
