{
 "cells": [
  {
   "cell_type": "code",
   "execution_count": 1,
   "metadata": {
    "ExecuteTime": {
     "end_time": "2023-07-29T02:48:15.733394400Z",
     "start_time": "2023-07-29T02:48:15.573556300Z"
    },
    "collapsed": true
   },
   "outputs": [],
   "source": [
    "import pickle\n",
    "import numpy as np"
   ]
  },
  {
   "cell_type": "code",
   "execution_count": 2,
   "metadata": {
    "ExecuteTime": {
     "end_time": "2023-07-29T02:48:16.081727900Z",
     "start_time": "2023-07-29T02:48:15.733394400Z"
    },
    "collapsed": false
   },
   "outputs": [],
   "source": [
    "all_data = []\n",
    "with (open(\"all_data.pickle\", \"rb\")) as openfile:\n",
    "    try:\n",
    "        all_data = (pickle.load(openfile))\n",
    "    except EOFError:\n",
    "        pass"
   ]
  },
  {
   "cell_type": "code",
   "execution_count": 3,
   "metadata": {
    "ExecuteTime": {
     "end_time": "2023-07-29T02:48:16.132408200Z",
     "start_time": "2023-07-29T02:48:16.087103300Z"
    },
    "collapsed": false
   },
   "outputs": [
    {
     "name": "stdout",
     "output_type": "stream",
     "text": [
      "2998560\n"
     ]
    }
   ],
   "source": [
    "#get largest value within all_data\n",
    "largest_values = []\n",
    "for i in all_data:\n",
    "    largest_values.append(np.max(i))\n",
    "print(np.max(largest_values))"
   ]
  },
  {
   "cell_type": "code",
   "execution_count": 4,
   "metadata": {
    "ExecuteTime": {
     "end_time": "2023-07-29T02:48:35.409055900Z",
     "start_time": "2023-07-29T02:48:35.382566700Z"
    },
    "collapsed": false
   },
   "outputs": [
    {
     "name": "stdout",
     "output_type": "stream",
     "text": [
      "102188\n"
     ]
    }
   ],
   "source": [
    "largest_length = 0\n",
    "for i in all_data:\n",
    "    if len(i) > largest_length:\n",
    "        largest_length = len(i)\n",
    "print(largest_length)"
   ]
  },
  {
   "cell_type": "code",
   "execution_count": null,
   "metadata": {
    "collapsed": false
   },
   "outputs": [],
   "source": []
  }
 ],
 "metadata": {
  "kernelspec": {
   "display_name": "Python 3",
   "language": "python",
   "name": "python3"
  },
  "language_info": {
   "codemirror_mode": {
    "name": "ipython",
    "version": 3
   },
   "file_extension": ".py",
   "mimetype": "text/x-python",
   "name": "python",
   "nbconvert_exporter": "python",
   "pygments_lexer": "ipython3",
   "version": "3.11.3"
  }
 },
 "nbformat": 4,
 "nbformat_minor": 0
}
