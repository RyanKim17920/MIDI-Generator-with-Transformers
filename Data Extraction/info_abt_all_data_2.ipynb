{
 "cells": [
  {
   "cell_type": "code",
   "execution_count": 1,
   "metadata": {
    "collapsed": true,
    "ExecuteTime": {
     "end_time": "2023-08-04T02:08:50.512537400Z",
     "start_time": "2023-08-04T02:08:50.374619800Z"
    }
   },
   "outputs": [],
   "source": [
    "import pickle\n",
    "import numpy as np"
   ]
  },
  {
   "cell_type": "code",
   "execution_count": 2,
   "metadata": {
    "collapsed": false,
    "ExecuteTime": {
     "end_time": "2023-08-04T02:08:51.528672200Z",
     "start_time": "2023-08-04T02:08:51.238377600Z"
    }
   },
   "outputs": [],
   "source": [
    "all_data = []\n",
    "with (open(\"all_data.pickle\", \"rb\")) as openfile:\n",
    "    try:\n",
    "        all_data = (pickle.load(openfile))\n",
    "    except EOFError:\n",
    "        pass"
   ]
  },
  {
   "cell_type": "code",
   "execution_count": 3,
   "metadata": {
    "ExecuteTime": {
     "end_time": "2023-07-29T02:48:16.132408200Z",
     "start_time": "2023-07-29T02:48:16.087103300Z"
    },
    "collapsed": false
   },
   "outputs": [
    {
     "name": "stdout",
     "output_type": "stream",
     "text": [
      "2998560\n"
     ]
    }
   ],
   "source": [
    "#get largest value within all_data\n",
    "largest_values = []\n",
    "for i in all_data:\n",
    "    largest_values.append(np.max(i))\n",
    "print(np.max(largest_values))"
   ]
  },
  {
   "cell_type": "code",
   "execution_count": 4,
   "metadata": {
    "ExecuteTime": {
     "end_time": "2023-07-29T02:48:35.409055900Z",
     "start_time": "2023-07-29T02:48:35.382566700Z"
    },
    "collapsed": false
   },
   "outputs": [
    {
     "name": "stdout",
     "output_type": "stream",
     "text": [
      "102188\n"
     ]
    }
   ],
   "source": [
    "largest_length = 0\n",
    "for i in all_data:\n",
    "    if len(i) > largest_length:\n",
    "        largest_length = len(i)\n",
    "print(largest_length)"
   ]
  },
  {
   "cell_type": "code",
   "execution_count": 3,
   "metadata": {
    "collapsed": false,
    "ExecuteTime": {
     "end_time": "2023-08-04T02:09:38.689331600Z",
     "start_time": "2023-08-04T02:09:18.326561600Z"
    }
   },
   "outputs": [],
   "source": [
    "full_data = np.array([])\n",
    "for i in range(len(all_data)):\n",
    "    full_data = np.append(full_data, all_data[i])"
   ]
  },
  {
   "cell_type": "code",
   "execution_count": 4,
   "outputs": [],
   "source": [
    "full_data = full_data.reshape((-1,16))"
   ],
   "metadata": {
    "collapsed": false,
    "ExecuteTime": {
     "end_time": "2023-08-04T02:09:38.701587Z",
     "start_time": "2023-08-04T02:09:38.696518Z"
    }
   }
  },
  {
   "cell_type": "code",
   "execution_count": 5,
   "outputs": [
    {
     "data": {
      "text/plain": "2384400"
     },
     "execution_count": 5,
     "metadata": {},
     "output_type": "execute_result"
    }
   ],
   "source": [
    "len(full_data)"
   ],
   "metadata": {
    "collapsed": false,
    "ExecuteTime": {
     "end_time": "2023-08-04T02:09:41.382698100Z",
     "start_time": "2023-08-04T02:09:41.318013100Z"
    }
   }
  },
  {
   "cell_type": "code",
   "execution_count": 6,
   "outputs": [],
   "source": [
    "un_full_data = np.unique(full_data, axis = 0)"
   ],
   "metadata": {
    "collapsed": false,
    "ExecuteTime": {
     "end_time": "2023-08-04T02:09:59.220917300Z",
     "start_time": "2023-08-04T02:09:58.786740800Z"
    }
   }
  },
  {
   "cell_type": "code",
   "execution_count": 7,
   "outputs": [
    {
     "data": {
      "text/plain": "377730"
     },
     "execution_count": 7,
     "metadata": {},
     "output_type": "execute_result"
    }
   ],
   "source": [
    "len(un_full_data)"
   ],
   "metadata": {
    "collapsed": false,
    "ExecuteTime": {
     "end_time": "2023-08-04T02:10:00.312134400Z",
     "start_time": "2023-08-04T02:10:00.279484800Z"
    }
   }
  },
  {
   "cell_type": "code",
   "execution_count": 8,
   "outputs": [
    {
     "data": {
      "text/plain": "'[note_on_note, note_on_velocity,\\n        control_change_control, control_change_value, program_change_program,\\n        end_marking, set_tempo_tempo,\\n        time_sig_num, itme_sig_den, time_sig_clocksperclick, time_sig_notated_32nd,\\n        key_sig(turn into numbers), [time], instrument_type, instrument_num, orig_instrument_type]'"
     },
     "execution_count": 8,
     "metadata": {},
     "output_type": "execute_result"
    }
   ],
   "source": [
    "'''[note_on_note, note_on_velocity,\n",
    "        control_change_control, control_change_value, program_change_program,\n",
    "        end_marking, set_tempo_tempo,\n",
    "        time_sig_num, itme_sig_den, time_sig_clocksperclick, time_sig_notated_32nd,\n",
    "        key_sig(turn into numbers), [time], instrument_type, instrument_num, orig_instrument_type]'''"
   ],
   "metadata": {
    "collapsed": false,
    "ExecuteTime": {
     "end_time": "2023-08-04T02:14:20.414215500Z",
     "start_time": "2023-08-04T02:14:20.351114Z"
    }
   }
  },
  {
   "cell_type": "code",
   "execution_count": 14,
   "outputs": [],
   "source": [
    "data_wo_time = un_full_data[:,[0,1,2,3,4,5,6,7,8,9,10,11,13,14,15]]"
   ],
   "metadata": {
    "collapsed": false,
    "ExecuteTime": {
     "end_time": "2023-08-04T02:17:25.548633700Z",
     "start_time": "2023-08-04T02:17:25.482807500Z"
    }
   }
  },
  {
   "cell_type": "code",
   "execution_count": 15,
   "outputs": [],
   "source": [
    "data_wo_time = np.unique(data_wo_time, axis = 0)"
   ],
   "metadata": {
    "collapsed": false,
    "ExecuteTime": {
     "end_time": "2023-08-04T02:17:27.429811700Z",
     "start_time": "2023-08-04T02:17:26.196807900Z"
    }
   }
  },
  {
   "cell_type": "code",
   "execution_count": 16,
   "outputs": [
    {
     "data": {
      "text/plain": "62781"
     },
     "execution_count": 16,
     "metadata": {},
     "output_type": "execute_result"
    }
   ],
   "source": [
    "len(data_wo_time)"
   ],
   "metadata": {
    "collapsed": false,
    "ExecuteTime": {
     "end_time": "2023-08-04T02:17:28.093062700Z",
     "start_time": "2023-08-04T02:17:28.061312600Z"
    }
   }
  },
  {
   "cell_type": "code",
   "execution_count": 17,
   "outputs": [],
   "source": [
    "data_instrs = un_full_data[:,[13,14,15]]"
   ],
   "metadata": {
    "collapsed": false,
    "ExecuteTime": {
     "end_time": "2023-08-04T02:26:23.812730900Z",
     "start_time": "2023-08-04T02:26:23.772726600Z"
    }
   }
  },
  {
   "cell_type": "code",
   "execution_count": 18,
   "outputs": [],
   "source": [
    "data_instrs = np.unique(data_instrs, axis = 0)"
   ],
   "metadata": {
    "collapsed": false,
    "ExecuteTime": {
     "end_time": "2023-08-04T02:26:35.622492300Z",
     "start_time": "2023-08-04T02:26:35.043894Z"
    }
   }
  },
  {
   "cell_type": "code",
   "execution_count": 19,
   "outputs": [
    {
     "data": {
      "text/plain": "229"
     },
     "execution_count": 19,
     "metadata": {},
     "output_type": "execute_result"
    }
   ],
   "source": [
    "len(data_instrs)"
   ],
   "metadata": {
    "collapsed": false,
    "ExecuteTime": {
     "end_time": "2023-08-04T02:26:37.041374300Z",
     "start_time": "2023-08-04T02:26:37.001376Z"
    }
   }
  },
  {
   "cell_type": "code",
   "execution_count": 20,
   "outputs": [],
   "source": [
    "data_wo_instruments_or_time = un_full_data[:,[0,1,2,3,4,5,6,7,8,9,10,11]]"
   ],
   "metadata": {
    "collapsed": false,
    "ExecuteTime": {
     "end_time": "2023-08-04T02:44:47.818633500Z",
     "start_time": "2023-08-04T02:44:47.754606300Z"
    }
   }
  },
  {
   "cell_type": "code",
   "execution_count": 21,
   "outputs": [],
   "source": [
    "data_wo_instruments_or_time = np.unique(data_wo_instruments_or_time, axis = 0)"
   ],
   "metadata": {
    "collapsed": false,
    "ExecuteTime": {
     "end_time": "2023-08-04T02:44:51.862073200Z",
     "start_time": "2023-08-04T02:44:50.902380500Z"
    }
   }
  },
  {
   "cell_type": "code",
   "execution_count": 22,
   "outputs": [
    {
     "data": {
      "text/plain": "6328"
     },
     "execution_count": 22,
     "metadata": {},
     "output_type": "execute_result"
    }
   ],
   "source": [
    "len(data_wo_instruments_or_time)"
   ],
   "metadata": {
    "collapsed": false,
    "ExecuteTime": {
     "end_time": "2023-08-04T02:44:52.534441900Z",
     "start_time": "2023-08-04T02:44:52.453729500Z"
    }
   }
  },
  {
   "cell_type": "code",
   "execution_count": 23,
   "outputs": [],
   "source": [
    "data_time_sig_clocks_32nd = un_full_data[:,[9,10]]"
   ],
   "metadata": {
    "collapsed": false,
    "ExecuteTime": {
     "end_time": "2023-08-04T02:46:11.244103Z",
     "start_time": "2023-08-04T02:46:11.210846200Z"
    }
   }
  },
  {
   "cell_type": "code",
   "execution_count": 24,
   "outputs": [],
   "source": [
    "data_time_sig_clocks_32nd = np.unique(data_time_sig_clocks_32nd, axis = 0)"
   ],
   "metadata": {
    "collapsed": false,
    "ExecuteTime": {
     "end_time": "2023-08-04T02:46:14.036300900Z",
     "start_time": "2023-08-04T02:46:13.684082700Z"
    }
   }
  },
  {
   "cell_type": "code",
   "execution_count": 25,
   "outputs": [
    {
     "data": {
      "text/plain": "9"
     },
     "execution_count": 25,
     "metadata": {},
     "output_type": "execute_result"
    }
   ],
   "source": [
    "len(data_time_sig_clocks_32nd)"
   ],
   "metadata": {
    "collapsed": false,
    "ExecuteTime": {
     "end_time": "2023-08-04T02:46:15.972082700Z",
     "start_time": "2023-08-04T02:46:15.890569600Z"
    }
   }
  },
  {
   "cell_type": "code",
   "execution_count": 26,
   "outputs": [
    {
     "data": {
      "text/plain": "array([[-1., -1.],\n       [ 6.,  8.],\n       [12.,  8.],\n       [18.,  8.],\n       [24.,  8.],\n       [36.,  8.],\n       [48.,  8.],\n       [72.,  8.],\n       [96.,  8.]])"
     },
     "execution_count": 26,
     "metadata": {},
     "output_type": "execute_result"
    }
   ],
   "source": [
    "data_time_sig_clocks_32nd"
   ],
   "metadata": {
    "collapsed": false,
    "ExecuteTime": {
     "end_time": "2023-08-04T02:46:20.190403900Z",
     "start_time": "2023-08-04T02:46:20.166302Z"
    }
   }
  },
  {
   "cell_type": "code",
   "execution_count": 27,
   "outputs": [],
   "source": [
    "data_time_sig_num_den = un_full_data[:,[7,8]]"
   ],
   "metadata": {
    "collapsed": false,
    "ExecuteTime": {
     "end_time": "2023-08-04T02:47:20.712972100Z",
     "start_time": "2023-08-04T02:47:20.664973Z"
    }
   }
  },
  {
   "cell_type": "code",
   "execution_count": 28,
   "outputs": [],
   "source": [
    "data_time_sig_num_den = np.unique(data_time_sig_num_den, axis = 0)"
   ],
   "metadata": {
    "collapsed": false,
    "ExecuteTime": {
     "end_time": "2023-08-04T02:47:23.339796500Z",
     "start_time": "2023-08-04T02:47:22.972756400Z"
    }
   }
  },
  {
   "cell_type": "code",
   "execution_count": 29,
   "outputs": [
    {
     "data": {
      "text/plain": "25"
     },
     "execution_count": 29,
     "metadata": {},
     "output_type": "execute_result"
    }
   ],
   "source": [
    "len(data_time_sig_num_den)"
   ],
   "metadata": {
    "collapsed": false,
    "ExecuteTime": {
     "end_time": "2023-08-04T02:47:24.111567900Z",
     "start_time": "2023-08-04T02:47:24.062630200Z"
    }
   }
  },
  {
   "cell_type": "code",
   "execution_count": 30,
   "outputs": [
    {
     "data": {
      "text/plain": "array([[-1., -1.],\n       [ 1.,  2.],\n       [ 1.,  4.],\n       [ 1.,  8.],\n       [ 1., 16.],\n       [ 2.,  2.],\n       [ 2.,  4.],\n       [ 2.,  8.],\n       [ 3.,  2.],\n       [ 3.,  4.],\n       [ 3.,  8.],\n       [ 4.,  2.],\n       [ 4.,  4.],\n       [ 5.,  8.],\n       [ 6.,  4.],\n       [ 6.,  8.],\n       [ 8.,  4.],\n       [ 8.,  8.],\n       [ 9.,  4.],\n       [ 9.,  8.],\n       [ 9., 16.],\n       [11.,  8.],\n       [12.,  8.],\n       [12., 16.],\n       [15., 16.]])"
     },
     "execution_count": 30,
     "metadata": {},
     "output_type": "execute_result"
    }
   ],
   "source": [
    "data_time_sig_num_den"
   ],
   "metadata": {
    "collapsed": false,
    "ExecuteTime": {
     "end_time": "2023-08-04T02:47:26.283341400Z",
     "start_time": "2023-08-04T02:47:26.267705600Z"
    }
   }
  },
  {
   "cell_type": "code",
   "execution_count": 35,
   "outputs": [],
   "source": [
    "times = un_full_data[:,[12]]"
   ],
   "metadata": {
    "collapsed": false,
    "ExecuteTime": {
     "end_time": "2023-08-04T02:48:49.318393300Z",
     "start_time": "2023-08-04T02:48:49.269989200Z"
    }
   }
  },
  {
   "cell_type": "code",
   "execution_count": 36,
   "outputs": [],
   "source": [
    "times = np.unique(times, axis = 0)"
   ],
   "metadata": {
    "collapsed": false,
    "ExecuteTime": {
     "end_time": "2023-08-04T02:48:51.653136100Z",
     "start_time": "2023-08-04T02:48:51.643189600Z"
    }
   }
  },
  {
   "cell_type": "code",
   "execution_count": 37,
   "outputs": [
    {
     "data": {
      "text/plain": "11852"
     },
     "execution_count": 37,
     "metadata": {},
     "output_type": "execute_result"
    }
   ],
   "source": [
    "len(times)"
   ],
   "metadata": {
    "collapsed": false,
    "ExecuteTime": {
     "end_time": "2023-08-04T02:48:52.497480Z",
     "start_time": "2023-08-04T02:48:52.449393800Z"
    }
   }
  },
  {
   "cell_type": "code",
   "execution_count": 38,
   "outputs": [
    {
     "data": {
      "text/plain": "array([[-391168.],\n       [-285420.],\n       [-263168.],\n       ...,\n       [2810160.],\n       [2810400.],\n       [2998560.]])"
     },
     "execution_count": 38,
     "metadata": {},
     "output_type": "execute_result"
    }
   ],
   "source": [
    "times"
   ],
   "metadata": {
    "collapsed": false,
    "ExecuteTime": {
     "end_time": "2023-08-04T02:48:55.286298500Z",
     "start_time": "2023-08-04T02:48:55.247272600Z"
    }
   }
  },
  {
   "cell_type": "code",
   "execution_count": null,
   "outputs": [],
   "source": [
    "#wtf??????????"
   ],
   "metadata": {
    "collapsed": false
   }
  }
 ],
 "metadata": {
  "kernelspec": {
   "display_name": "Python 3",
   "language": "python",
   "name": "python3"
  },
  "language_info": {
   "codemirror_mode": {
    "name": "ipython",
    "version": 3
   },
   "file_extension": ".py",
   "mimetype": "text/x-python",
   "name": "python",
   "nbconvert_exporter": "python",
   "pygments_lexer": "ipython3",
   "version": "3.11.3"
  }
 },
 "nbformat": 4,
 "nbformat_minor": 0
}
