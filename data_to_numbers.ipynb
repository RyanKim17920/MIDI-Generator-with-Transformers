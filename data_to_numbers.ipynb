{
 "cells": [
  {
   "cell_type": "code",
   "execution_count": 1,
   "metadata": {
    "collapsed": true,
    "ExecuteTime": {
     "end_time": "2023-07-27T02:37:30.763834600Z",
     "start_time": "2023-07-27T02:37:30.635545600Z"
    }
   },
   "outputs": [],
   "source": [
    "import pickle\n",
    "import numpy as np"
   ]
  },
  {
   "cell_type": "code",
   "execution_count": 2,
   "outputs": [],
   "source": [
    "all_data = []\n",
    "with (open(\"all_data.pickle\", \"rb\")) as openfile:\n",
    "    try:\n",
    "        all_data = (pickle.load(openfile))\n",
    "    except EOFError:\n",
    "        pass"
   ],
   "metadata": {
    "collapsed": false,
    "ExecuteTime": {
     "end_time": "2023-07-27T02:37:30.909598700Z",
     "start_time": "2023-07-27T02:37:30.767837300Z"
    }
   }
  },
  {
   "cell_type": "code",
   "execution_count": 3,
   "outputs": [],
   "source": [
    "new_data = []"
   ],
   "metadata": {
    "collapsed": false,
    "ExecuteTime": {
     "end_time": "2023-07-27T02:37:30.920598700Z",
     "start_time": "2023-07-27T02:37:30.910617400Z"
    }
   }
  },
  {
   "cell_type": "code",
   "execution_count": 4,
   "outputs": [],
   "source": [
    "array_to_num_dic = {}\n",
    "with (open('array_to_num.pickle', 'rb')) as openfile:\n",
    "    try:\n",
    "        array_to_num_dic = (pickle.load(openfile))\n",
    "    except EOFError:\n",
    "        pass"
   ],
   "metadata": {
    "collapsed": false,
    "ExecuteTime": {
     "end_time": "2023-07-27T02:37:31.031233200Z",
     "start_time": "2023-07-27T02:37:30.924606900Z"
    }
   }
  },
  {
   "cell_type": "code",
   "execution_count": 16,
   "outputs": [],
   "source": [
    "for i in range(len(all_data)):\n",
    "    cur_array = np.array([])\n",
    "    this_data = all_data[i]\n",
    "    for k in range(len(this_data)):\n",
    "        cur_array = np.append(cur_array, array_to_num_dic[f\"a{''.join(str(this_data[k]).splitlines())}\"])\n",
    "    new_data.append(cur_array)"
   ],
   "metadata": {
    "collapsed": false,
    "ExecuteTime": {
     "end_time": "2023-07-27T02:48:43.119318700Z",
     "start_time": "2023-07-27T02:43:55.065980300Z"
    }
   }
  },
  {
   "cell_type": "code",
   "execution_count": 17,
   "outputs": [],
   "source": [
    "with (open('all_data_2.pickle', 'wb')) as openfile:\n",
    "    pickle.dump(new_data, openfile)"
   ],
   "metadata": {
    "collapsed": false,
    "ExecuteTime": {
     "end_time": "2023-07-27T02:58:19.430531700Z",
     "start_time": "2023-07-27T02:58:19.402014800Z"
    }
   }
  },
  {
   "cell_type": "code",
   "execution_count": 23,
   "outputs": [
    {
     "name": "stdout",
     "output_type": "stream",
     "text": [
      "374\n",
      "362\n"
     ]
    }
   ],
   "source": [
    "print(len(new_data))\n",
    "print(len(all_data))"
   ],
   "metadata": {
    "collapsed": false,
    "ExecuteTime": {
     "end_time": "2023-07-27T02:59:22.616453200Z",
     "start_time": "2023-07-27T02:59:22.590310700Z"
    }
   }
  },
  {
   "cell_type": "code",
   "execution_count": 24,
   "outputs": [
    {
     "name": "stdout",
     "output_type": "stream",
     "text": [
      "25484\n",
      "25484\n"
     ]
    }
   ],
   "source": [
    "print(len(all_data[0]))\n",
    "print(len(new_data[0]))"
   ],
   "metadata": {
    "collapsed": false,
    "ExecuteTime": {
     "end_time": "2023-07-27T02:59:34.326182500Z",
     "start_time": "2023-07-27T02:59:34.304852Z"
    }
   }
  },
  {
   "cell_type": "code",
   "execution_count": 26,
   "outputs": [
    {
     "data": {
      "text/plain": "array([  9943.,   9949.,   9950., ..., 133041., 319207.,   9656.])"
     },
     "execution_count": 26,
     "metadata": {},
     "output_type": "execute_result"
    }
   ],
   "source": [
    "new_data[0]"
   ],
   "metadata": {
    "collapsed": false,
    "ExecuteTime": {
     "end_time": "2023-07-27T02:59:44.704532500Z",
     "start_time": "2023-07-27T02:59:44.683187800Z"
    }
   }
  },
  {
   "cell_type": "code",
   "execution_count": 28,
   "outputs": [
    {
     "data": {
      "text/plain": "array([  9991.,    304.,   6701., ..., 161439., 164389.,   9577.])"
     },
     "execution_count": 28,
     "metadata": {},
     "output_type": "execute_result"
    }
   ],
   "source": [
    "new_data[len(new_data)-1]"
   ],
   "metadata": {
    "collapsed": false,
    "ExecuteTime": {
     "end_time": "2023-07-27T03:00:21.120917Z",
     "start_time": "2023-07-27T03:00:21.096920800Z"
    }
   }
  },
  {
   "cell_type": "code",
   "execution_count": 29,
   "outputs": [
    {
     "data": {
      "text/plain": "array([[ -1,  -1,  -1, ...,  24,   1,  24],\n       [ -1,  -1,  -1, ...,  -1,  -1,  -1],\n       [ -1,  -1,  -1, ...,  -1,  -1,  -1],\n       ...,\n       [ 63,   0,  -1, ...,  24,   1,  24],\n       [ 63, 100,  -1, ...,  24,   1,  24],\n       [ -1,  -1,  -1, ...,  -1,  -1,  -1]], dtype=int64)"
     },
     "execution_count": 29,
     "metadata": {},
     "output_type": "execute_result"
    }
   ],
   "source": [
    "all_data[len(all_data)-1]"
   ],
   "metadata": {
    "collapsed": false,
    "ExecuteTime": {
     "end_time": "2023-07-27T03:00:31.884668600Z",
     "start_time": "2023-07-27T03:00:31.846597200Z"
    }
   }
  },
  {
   "cell_type": "code",
   "execution_count": null,
   "outputs": [],
   "source": [
    "# why added rows????"
   ],
   "metadata": {
    "collapsed": false
   }
  }
 ],
 "metadata": {
  "kernelspec": {
   "display_name": "Python 3",
   "language": "python",
   "name": "python3"
  },
  "language_info": {
   "codemirror_mode": {
    "name": "ipython",
    "version": 2
   },
   "file_extension": ".py",
   "mimetype": "text/x-python",
   "name": "python",
   "nbconvert_exporter": "python",
   "pygments_lexer": "ipython2",
   "version": "2.7.6"
  }
 },
 "nbformat": 4,
 "nbformat_minor": 0
}
