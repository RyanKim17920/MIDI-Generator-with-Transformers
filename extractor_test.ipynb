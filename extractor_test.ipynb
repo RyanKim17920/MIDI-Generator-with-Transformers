{
 "cells": [
  {
   "cell_type": "code",
   "execution_count": null,
   "metadata": {
    "collapsed": true
   },
   "outputs": [],
   "source": [
    "import os\n",
    "from MIDI_data_extractor import MIDI_data_extractor"
   ]
  },
  {
   "cell_type": "code",
   "execution_count": null,
   "outputs": [],
   "source": [
    "#go through bach folder and extract all midi files\n",
    "midi_files = []\n",
    "for root, dirs, files in os.walk(\"bach\"):\n",
    "    for file in files:\n",
    "        if file.endswith(\".mid\"):\n",
    "             midi_files.append(os.path.join(root, file))"
   ],
   "metadata": {
    "collapsed": false
   }
  },
  {
   "cell_type": "code",
   "execution_count": null,
   "outputs": [],
   "source": [
    "#extract all data from midi_files and put into list\n",
    "midi_data = []\n",
    "for file in midi_files:\n",
    "    #print(file)\n",
    "    midi_data.append(MIDI_data_extractor(file))\n",
    "'''[note_on_note, note_on_velocity,\n",
    "        control_change_control, control_change_value, program_change_program,\n",
    "        end_marking, set_tempo_tempo,\n",
    "        time_sig_num, itme_sig_den, time_sig_clocksperclick, time_sig_notated_32nd,\n",
    "        key_sig(turn into numbers), [time], instrument_type, instrument_num, orig_instrument_type]'''"
   ],
   "metadata": {
    "collapsed": false
   }
  },
  {
   "cell_type": "code",
   "execution_count": null,
   "outputs": [],
   "source": [],
   "metadata": {
    "collapsed": false
   }
  }
 ],
 "metadata": {
  "kernelspec": {
   "display_name": "Python 3",
   "language": "python",
   "name": "python3"
  },
  "language_info": {
   "codemirror_mode": {
    "name": "ipython",
    "version": 2
   },
   "file_extension": ".py",
   "mimetype": "text/x-python",
   "name": "python",
   "nbconvert_exporter": "python",
   "pygments_lexer": "ipython2",
   "version": "2.7.6"
  }
 },
 "nbformat": 4,
 "nbformat_minor": 0
}
