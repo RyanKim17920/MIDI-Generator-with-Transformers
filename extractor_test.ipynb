{
 "cells": [
  {
   "cell_type": "code",
   "execution_count": 8,
   "metadata": {
    "collapsed": true,
    "ExecuteTime": {
     "end_time": "2023-07-05T20:23:51.696366900Z",
     "start_time": "2023-07-05T20:23:51.688235800Z"
    }
   },
   "outputs": [],
   "source": [
    "import os\n",
    "from MIDI_data_extractor import MIDI_data_extractor"
   ]
  },
  {
   "cell_type": "code",
   "execution_count": 21,
   "outputs": [],
   "source": [
    "from mido import MidiFile\n",
    "import numpy as np\n",
    "\n",
    "def MIDI_data_extractor(midi_file_path):\n",
    "    def add_column_to_2d_array(array, number):\n",
    "        # Create a column with the same number of rows as the original array\n",
    "        column = np.full((array.shape[0], 1), number)\n",
    "        # Add the column to the array\n",
    "        return np.append(array, column, axis=1)\n",
    "\n",
    "\n",
    "    np.set_printoptions(threshold=np.inf)\n",
    "    np.set_printoptions(linewidth=np.inf)\n",
    "\n",
    "    midi_file = MidiFile(midi_file_path)\n",
    "    matrix = np.array([], dtype=np.int16)\n",
    "    used_instruments = np.zeros(128)\n",
    "\n",
    "    for i, track in enumerate(midi_file.tracks):\n",
    "        #print('Track {}: {}'.format(i, track.name))\n",
    "        track_matrix = np.array([], dtype=np.int16)\n",
    "        instr_type = None\n",
    "        if used_instruments[0] % 2 == 1:\n",
    "            instr_type = 0\n",
    "\n",
    "        for msg in track:\n",
    "            msg_array = np.full(15, -1)\n",
    "            msg_array[-1] = msg.time\n",
    "            if msg.type == 'note_on':\n",
    "                msg_array[0:2] = msg.note, msg.velocity\n",
    "            elif msg.type == 'note_off':\n",
    "                msg_array[2:4] = msg.note, msg.velocity\n",
    "            elif msg.type == 'control_change':\n",
    "                msg_array[4:6] = msg.control, msg.value\n",
    "            elif msg.type == 'program_change':\n",
    "                msg_array[6] = msg.program\n",
    "                #print('new_program', msg.program)\n",
    "                instr_type = msg.program\n",
    "            elif msg.type == 'end_of_track':\n",
    "                eot_array = np.full(17, -1)\n",
    "                eot_array[-3] = msg.time\n",
    "                eot_array[7] = 1\n",
    "                matrix = np.append(matrix, [eot_array])\n",
    "                # not dynamic\n",
    "            elif msg.type == 'set_tempo':\n",
    "                st_array = np.full(17, -1)\n",
    "                st_array[-3] = msg.time\n",
    "                st_array[8] = msg.tempo\n",
    "                matrix = np.append(matrix, [st_array])\n",
    "                # not dynamic\n",
    "            elif msg.type == 'time_signature':\n",
    "                ts_array = np.full(17, -1)\n",
    "                ts_array[-3] = msg.time\n",
    "                ts_array[9:13] = msg.numerator, msg.denominator, msg.clocks_per_click, msg.notated_32nd_notes_per_beat\n",
    "                matrix = np.append(matrix, [ts_array])\n",
    "                # not dynamic\n",
    "            elif msg.type == 'key_signature':\n",
    "                key_sig_dict = {'A': 0, 'A#m': 1, 'Ab': 2, 'Abm': 3, 'Am': 4, 'B': 5,\n",
    "                                'Bb': 6, 'Bbm': 7, 'Bm': 8, 'C': 9, 'C#': 10, 'C#m': 11, 'Cb': 12, 'Cm': 13,\n",
    "                                'D': 14, 'D#m': 15, 'Db': 16, 'Dm': 17, 'E': 18, 'Eb': 19, 'Ebm': 20, 'Em': 21, 'F': 22,\n",
    "                                'F#': 23, 'F#m': 24, 'Fm': 25, 'G': 26, 'G#m': 27, 'Gb': 28, 'Gm': 29}\n",
    "                msg_array[13] = key_sig_dict[msg.key]\n",
    "\n",
    "            if not np.all(msg_array[0:-1] == -1):\n",
    "                track_matrix = np.append(track_matrix, [msg_array])\n",
    "\n",
    "        used_instruments[instr_type] += 1\n",
    "        instr_num = used_instruments[instr_type]\n",
    "        track_matrix = track_matrix.reshape((-1, 15))\n",
    "        #print(track_matrix.shape)\n",
    "        #print(track.name)\n",
    "        if type(instr_num) == np.ndarray:\n",
    "            print(track.name)\n",
    "            print(track_matrix)\n",
    "            assert type(instr_num) == np.ndarray\n",
    "\n",
    "\n",
    "        track_matrix = add_column_to_2d_array(track_matrix, instr_num)\n",
    "        track_matrix = add_column_to_2d_array(track_matrix, instr_type)\n",
    "        track_matrix = track_matrix[(track_matrix[:, -1] == track_matrix[:, 6]) | (track_matrix[:, 6] == -1)]\n",
    "        #print(track_matrix)\n",
    "        #print(track_matrix.shape)\n",
    "        #track_matrix = track_matrix.reshape((-1, 17))\n",
    "        matrix = np.append(matrix, track_matrix)\n",
    "        matrix = matrix.reshape((-1, 17))\n",
    "        #print(matrix)\n",
    "    matrix = matrix.reshape((-1, 17))\n",
    "    matrix = matrix.astype(np.int64)\n",
    "\n",
    "    matrix_non_zero_7th = matrix[matrix[:, 6] != -1]\n",
    "    matrix_zero_7th = matrix[matrix[:, 6] == -1]\n",
    "\n",
    "    matrix_zero_7th = matrix_zero_7th[matrix_zero_7th[:, -3].argsort()]\n",
    "\n",
    "    matrix = np.concatenate((matrix_non_zero_7th, matrix_zero_7th), axis=0)\n",
    "\n",
    "    matrix = matrix[np.lexsort((-matrix[:, 13], -matrix[:, 12], -matrix[:, 11], -matrix[:, 8], -matrix[:, 6]))]\n",
    "\n",
    "    matrix = np.delete(matrix, -3, axis=1)\n",
    "\n",
    "    '''[note_one_note, note_one_velocity * 2 for note_off,\n",
    "        control_change_control, control_change_value, program_change_program,\n",
    "        end_of_track, set_tempo_tempo,\n",
    "        time_sig_num, itme_sig_den, time_sig_clocksperclick, time_sig_notated_32nd,\n",
    "        key_sig(turn into numbers), instrument_number, instrument_type]'''\n",
    "\n",
    "    return matrix\n",
    "\n",
    "#MIDI_data_extractor('../test_midi_3.mid')"
   ],
   "metadata": {
    "collapsed": false,
    "ExecuteTime": {
     "end_time": "2023-07-05T20:26:19.281650900Z",
     "start_time": "2023-07-05T20:26:19.273646900Z"
    }
   }
  },
  {
   "cell_type": "code",
   "execution_count": 22,
   "outputs": [],
   "source": [
    "#go through bach folder and extract all midi files\n",
    "midi_files = []\n",
    "for root, dirs, files in os.walk(\"bach\"):\n",
    "    for file in files:\n",
    "        if file.endswith(\".mid\"):\n",
    "             midi_files.append(os.path.join(root, file))"
   ],
   "metadata": {
    "collapsed": false,
    "ExecuteTime": {
     "end_time": "2023-07-05T20:26:19.666629700Z",
     "start_time": "2023-07-05T20:26:19.653116900Z"
    }
   }
  },
  {
   "cell_type": "code",
   "execution_count": 24,
   "outputs": [
    {
     "name": "stdout",
     "output_type": "stream",
     "text": [
      "bach\\aof\\can1.mid\n",
      "\n",
      "[[-1 -1 -1 -1 -1 -1 -1 -1 -1 -1 -1 -1 -1 22  0]]\n"
     ]
    },
    {
     "ename": "ValueError",
     "evalue": "could not broadcast input array from shape (1,128) into shape (1,1)",
     "output_type": "error",
     "traceback": [
      "\u001B[1;31m---------------------------------------------------------------------------\u001B[0m",
      "\u001B[1;31mValueError\u001B[0m                                Traceback (most recent call last)",
      "Cell \u001B[1;32mIn[24], line 5\u001B[0m\n\u001B[0;32m      3\u001B[0m \u001B[38;5;28;01mfor\u001B[39;00m file \u001B[38;5;129;01min\u001B[39;00m midi_files:\n\u001B[0;32m      4\u001B[0m     \u001B[38;5;28mprint\u001B[39m(file)\n\u001B[1;32m----> 5\u001B[0m     midi_data\u001B[38;5;241m.\u001B[39mappend(\u001B[43mMIDI_data_extractor\u001B[49m\u001B[43m(\u001B[49m\u001B[43mfile\u001B[49m\u001B[43m)\u001B[49m)\n",
      "Cell \u001B[1;32mIn[21], line 78\u001B[0m, in \u001B[0;36mMIDI_data_extractor\u001B[1;34m(midi_file_path)\u001B[0m\n\u001B[0;32m     74\u001B[0m     \u001B[38;5;28mprint\u001B[39m(track_matrix)\n\u001B[0;32m     75\u001B[0m     \u001B[38;5;28;01massert\u001B[39;00m \u001B[38;5;28mtype\u001B[39m(instr_num) \u001B[38;5;241m==\u001B[39m np\u001B[38;5;241m.\u001B[39mndarray\n\u001B[1;32m---> 78\u001B[0m track_matrix \u001B[38;5;241m=\u001B[39m \u001B[43madd_column_to_2d_array\u001B[49m\u001B[43m(\u001B[49m\u001B[43mtrack_matrix\u001B[49m\u001B[43m,\u001B[49m\u001B[43m \u001B[49m\u001B[43minstr_num\u001B[49m\u001B[43m)\u001B[49m\n\u001B[0;32m     79\u001B[0m track_matrix \u001B[38;5;241m=\u001B[39m add_column_to_2d_array(track_matrix, instr_type)\n\u001B[0;32m     80\u001B[0m track_matrix \u001B[38;5;241m=\u001B[39m track_matrix[(track_matrix[:, \u001B[38;5;241m-\u001B[39m\u001B[38;5;241m1\u001B[39m] \u001B[38;5;241m==\u001B[39m track_matrix[:, \u001B[38;5;241m6\u001B[39m]) \u001B[38;5;241m|\u001B[39m (track_matrix[:, \u001B[38;5;241m6\u001B[39m] \u001B[38;5;241m==\u001B[39m \u001B[38;5;241m-\u001B[39m\u001B[38;5;241m1\u001B[39m)]\n",
      "Cell \u001B[1;32mIn[21], line 7\u001B[0m, in \u001B[0;36mMIDI_data_extractor.<locals>.add_column_to_2d_array\u001B[1;34m(array, number)\u001B[0m\n\u001B[0;32m      5\u001B[0m \u001B[38;5;28;01mdef\u001B[39;00m \u001B[38;5;21madd_column_to_2d_array\u001B[39m(array, number):\n\u001B[0;32m      6\u001B[0m     \u001B[38;5;66;03m# Create a column with the same number of rows as the original array\u001B[39;00m\n\u001B[1;32m----> 7\u001B[0m     column \u001B[38;5;241m=\u001B[39m \u001B[43mnp\u001B[49m\u001B[38;5;241;43m.\u001B[39;49m\u001B[43mfull\u001B[49m\u001B[43m(\u001B[49m\u001B[43m(\u001B[49m\u001B[43marray\u001B[49m\u001B[38;5;241;43m.\u001B[39;49m\u001B[43mshape\u001B[49m\u001B[43m[\u001B[49m\u001B[38;5;241;43m0\u001B[39;49m\u001B[43m]\u001B[49m\u001B[43m,\u001B[49m\u001B[43m \u001B[49m\u001B[38;5;241;43m1\u001B[39;49m\u001B[43m)\u001B[49m\u001B[43m,\u001B[49m\u001B[43m \u001B[49m\u001B[43mnumber\u001B[49m\u001B[43m)\u001B[49m\n\u001B[0;32m      8\u001B[0m     \u001B[38;5;66;03m# Add the column to the array\u001B[39;00m\n\u001B[0;32m      9\u001B[0m     \u001B[38;5;28;01mreturn\u001B[39;00m np\u001B[38;5;241m.\u001B[39mappend(array, column, axis\u001B[38;5;241m=\u001B[39m\u001B[38;5;241m1\u001B[39m)\n",
      "File \u001B[1;32m~\\anaconda3\\lib\\site-packages\\numpy\\core\\numeric.py:344\u001B[0m, in \u001B[0;36mfull\u001B[1;34m(shape, fill_value, dtype, order, like)\u001B[0m\n\u001B[0;32m    342\u001B[0m     dtype \u001B[38;5;241m=\u001B[39m fill_value\u001B[38;5;241m.\u001B[39mdtype\n\u001B[0;32m    343\u001B[0m a \u001B[38;5;241m=\u001B[39m empty(shape, dtype, order)\n\u001B[1;32m--> 344\u001B[0m \u001B[43mmultiarray\u001B[49m\u001B[38;5;241;43m.\u001B[39;49m\u001B[43mcopyto\u001B[49m\u001B[43m(\u001B[49m\u001B[43ma\u001B[49m\u001B[43m,\u001B[49m\u001B[43m \u001B[49m\u001B[43mfill_value\u001B[49m\u001B[43m,\u001B[49m\u001B[43m \u001B[49m\u001B[43mcasting\u001B[49m\u001B[38;5;241;43m=\u001B[39;49m\u001B[38;5;124;43m'\u001B[39;49m\u001B[38;5;124;43munsafe\u001B[39;49m\u001B[38;5;124;43m'\u001B[39;49m\u001B[43m)\u001B[49m\n\u001B[0;32m    345\u001B[0m \u001B[38;5;28;01mreturn\u001B[39;00m a\n",
      "File \u001B[1;32m<__array_function__ internals>:180\u001B[0m, in \u001B[0;36mcopyto\u001B[1;34m(*args, **kwargs)\u001B[0m\n",
      "\u001B[1;31mValueError\u001B[0m: could not broadcast input array from shape (1,128) into shape (1,1)"
     ]
    }
   ],
   "source": [
    "#extract all data from midi_files and put into list\n",
    "midi_data = []\n",
    "for file in midi_files:\n",
    "    print(file)\n",
    "    midi_data.append(MIDI_data_extractor(file))"
   ],
   "metadata": {
    "collapsed": false,
    "ExecuteTime": {
     "end_time": "2023-07-05T20:28:04.928178200Z",
     "start_time": "2023-07-05T20:28:04.741672900Z"
    }
   }
  },
  {
   "cell_type": "code",
   "execution_count": null,
   "outputs": [],
   "source": [
    "'''[note_one_note, note_one_velocity * 2 for note_off,\n",
    "        control_change_control, control_change_value, program_change_program,\n",
    "        end_of_track, set_tempo_tempo,\n",
    "        time_sig_num, itme_sig_den, time_sig_clocksperclick, time_sig_notated_32nd,\n",
    "        key_sig(turn into numbers), instrument_number, instrument_type]'''"
   ],
   "metadata": {
    "collapsed": false
   }
  }
 ],
 "metadata": {
  "kernelspec": {
   "display_name": "Python 3",
   "language": "python",
   "name": "python3"
  },
  "language_info": {
   "codemirror_mode": {
    "name": "ipython",
    "version": 2
   },
   "file_extension": ".py",
   "mimetype": "text/x-python",
   "name": "python",
   "nbconvert_exporter": "python",
   "pygments_lexer": "ipython2",
   "version": "2.7.6"
  }
 },
 "nbformat": 4,
 "nbformat_minor": 0
}
