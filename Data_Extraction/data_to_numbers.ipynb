{
 "cells": [
  {
   "cell_type": "code",
   "execution_count": 1,
   "metadata": {
    "collapsed": true,
    "ExecuteTime": {
     "end_time": "2023-08-13T00:43:15.199034200Z",
     "start_time": "2023-08-13T00:43:15.067814600Z"
    }
   },
   "outputs": [],
   "source": [
    "import pickle\n",
    "import numpy as np"
   ]
  },
  {
   "cell_type": "code",
   "execution_count": 13,
   "outputs": [],
   "source": [
    "all_data = []\n",
    "with (open(\"fixed_all_data.pickle\", \"rb\")) as openfile:\n",
    "    try:\n",
    "        all_data = (pickle.load(openfile))\n",
    "    except EOFError:\n",
    "        pass"
   ],
   "metadata": {
    "collapsed": false,
    "ExecuteTime": {
     "end_time": "2023-08-12T22:38:22.181007500Z",
     "start_time": "2023-08-12T22:38:22.000291600Z"
    }
   }
  },
  {
   "cell_type": "code",
   "execution_count": 14,
   "outputs": [
    {
     "data": {
      "text/plain": "array([[-1, -1, -1, ...,  0, -1, -1],\n       [-1, -1, -1, ...,  0,  1, 16],\n       [-1, -1, -1, ...,  0,  1, 19],\n       ...,\n       [60,  0, -1, ...,  3,  1, 16],\n       [77,  0, -1, ...,  0,  1, 16],\n       [-1, -1, -1, ...,  0, -1, -1]], dtype=int64)"
     },
     "execution_count": 14,
     "metadata": {},
     "output_type": "execute_result"
    }
   ],
   "source": [
    "all_data[0]"
   ],
   "metadata": {
    "collapsed": false,
    "ExecuteTime": {
     "end_time": "2023-08-12T22:38:22.201769600Z",
     "start_time": "2023-08-12T22:38:22.181007500Z"
    }
   }
  },
  {
   "cell_type": "code",
   "execution_count": 15,
   "outputs": [],
   "source": [
    "new_data = []"
   ],
   "metadata": {
    "collapsed": false,
    "ExecuteTime": {
     "end_time": "2023-08-12T22:38:22.230609200Z",
     "start_time": "2023-08-12T22:38:22.201769600Z"
    }
   }
  },
  {
   "cell_type": "code",
   "execution_count": 16,
   "outputs": [],
   "source": [
    "with open('values_to_num.pickle', 'rb') as handle:\n",
    "    values_to_num = pickle.load(handle)"
   ],
   "metadata": {
    "collapsed": false,
    "ExecuteTime": {
     "end_time": "2023-08-12T22:38:22.230609200Z",
     "start_time": "2023-08-12T22:38:22.220192300Z"
    }
   }
  },
  {
   "cell_type": "code",
   "execution_count": 17,
   "outputs": [],
   "source": [
    "with open('time_to_num.pickle', 'rb') as handle:\n",
    "    time_to_num = pickle.load(handle)"
   ],
   "metadata": {
    "collapsed": false,
    "ExecuteTime": {
     "end_time": "2023-08-12T22:38:22.243680Z",
     "start_time": "2023-08-12T22:38:22.230609200Z"
    }
   }
  },
  {
   "cell_type": "code",
   "execution_count": 18,
   "outputs": [],
   "source": [
    "with open('instruments_to_num.pickle', 'rb') as handle:\n",
    "    instruments_to_num = pickle.load(handle)"
   ],
   "metadata": {
    "collapsed": false,
    "ExecuteTime": {
     "end_time": "2023-08-12T22:38:22.251748800Z",
     "start_time": "2023-08-12T22:38:22.240150100Z"
    }
   }
  },
  {
   "cell_type": "code",
   "execution_count": 20,
   "outputs": [],
   "source": [
    "for i in range(len(all_data)):\n",
    "    cur_data = np.array([])\n",
    "    for j in range(len(all_data[i])):\n",
    "        this_data = all_data[i][j]\n",
    "        new_cur_data = np.array([])\n",
    "        values = this_data[0:12]\n",
    "        time = this_data[12]\n",
    "        instruments = this_data[13:]\n",
    "        new_cur_data = np.append(new_cur_data, values_to_num[str(values)])\n",
    "        new_cur_data = np.append(new_cur_data, time_to_num[str(time)])\n",
    "        new_cur_data = np.append(new_cur_data, instruments_to_num[str(instruments)])\n",
    "        cur_data = np.append(cur_data, new_cur_data)\n",
    "    new_data.append(cur_data)"
   ],
   "metadata": {
    "collapsed": false,
    "ExecuteTime": {
     "end_time": "2023-08-12T22:52:04.485573500Z",
     "start_time": "2023-08-12T22:38:39.840341500Z"
    }
   }
  },
  {
   "cell_type": "code",
   "execution_count": 21,
   "outputs": [],
   "source": [
    "with open('final_data.pickle', 'wb') as handle:\n",
    "    pickle.dump(new_data, handle, protocol=pickle.HIGHEST_PROTOCOL)"
   ],
   "metadata": {
    "collapsed": false,
    "ExecuteTime": {
     "end_time": "2023-08-12T22:52:04.530982500Z",
     "start_time": "2023-08-12T22:52:04.488499100Z"
    }
   }
  },
  {
   "cell_type": "code",
   "execution_count": 22,
   "outputs": [
    {
     "data": {
      "text/plain": "array([0., 0., 0., ..., 1., 0., 0.])"
     },
     "execution_count": 22,
     "metadata": {},
     "output_type": "execute_result"
    }
   ],
   "source": [
    "new_data[0]"
   ],
   "metadata": {
    "collapsed": false,
    "ExecuteTime": {
     "end_time": "2023-08-12T23:07:55.737910400Z",
     "start_time": "2023-08-12T23:07:55.711272900Z"
    }
   }
  },
  {
   "cell_type": "code",
   "execution_count": 29,
   "outputs": [],
   "source": [
    "shaped_data = []"
   ],
   "metadata": {
    "collapsed": false,
    "ExecuteTime": {
     "end_time": "2023-08-12T23:09:24.874689200Z",
     "start_time": "2023-08-12T23:09:24.857263800Z"
    }
   }
  },
  {
   "cell_type": "code",
   "execution_count": 30,
   "outputs": [],
   "source": [
    "for i in range(len(new_data)):\n",
    "    shaped_data.append(new_data[i].reshape(-1, 3))"
   ],
   "metadata": {
    "collapsed": false,
    "ExecuteTime": {
     "end_time": "2023-08-12T23:09:25.210344300Z",
     "start_time": "2023-08-12T23:09:25.184666900Z"
    }
   }
  },
  {
   "cell_type": "code",
   "execution_count": 31,
   "outputs": [
    {
     "data": {
      "text/plain": "25485"
     },
     "execution_count": 31,
     "metadata": {},
     "output_type": "execute_result"
    }
   ],
   "source": [
    "len(all_data[0])"
   ],
   "metadata": {
    "collapsed": false,
    "ExecuteTime": {
     "end_time": "2023-08-12T23:09:25.848468800Z",
     "start_time": "2023-08-12T23:09:25.833681100Z"
    }
   }
  },
  {
   "cell_type": "code",
   "execution_count": 32,
   "outputs": [
    {
     "data": {
      "text/plain": "array([[0.000e+00, 0.000e+00, 0.000e+00],\n       [3.700e+01, 0.000e+00, 5.000e+00],\n       [3.500e+01, 0.000e+00, 7.000e+00],\n       ...,\n       [3.163e+03, 3.000e+00, 5.000e+00],\n       [4.928e+03, 0.000e+00, 5.000e+00],\n       [1.000e+00, 0.000e+00, 0.000e+00]])"
     },
     "execution_count": 32,
     "metadata": {},
     "output_type": "execute_result"
    }
   ],
   "source": [
    "shaped_data[0]"
   ],
   "metadata": {
    "collapsed": false,
    "ExecuteTime": {
     "end_time": "2023-08-12T23:09:26.222606300Z",
     "start_time": "2023-08-12T23:09:26.195423600Z"
    }
   }
  },
  {
   "cell_type": "code",
   "execution_count": 33,
   "outputs": [
    {
     "data": {
      "text/plain": "25485"
     },
     "execution_count": 33,
     "metadata": {},
     "output_type": "execute_result"
    }
   ],
   "source": [
    "len(shaped_data[0])"
   ],
   "metadata": {
    "collapsed": false,
    "ExecuteTime": {
     "end_time": "2023-08-12T23:09:29.019475800Z",
     "start_time": "2023-08-12T23:09:28.993106200Z"
    }
   }
  },
  {
   "cell_type": "code",
   "execution_count": 34,
   "outputs": [],
   "source": [
    "with open('final_data.pickle', 'wb') as handle:\n",
    "    pickle.dump(shaped_data, handle, protocol=pickle.HIGHEST_PROTOCOL)"
   ],
   "metadata": {
    "collapsed": false,
    "ExecuteTime": {
     "end_time": "2023-08-12T23:12:04.684975600Z",
     "start_time": "2023-08-12T23:12:04.629746Z"
    }
   }
  },
  {
   "cell_type": "code",
   "execution_count": 35,
   "outputs": [],
   "source": [
    "with open('final_data.pickle', 'rb') as handle:\n",
    "    shaped_data = pickle.load(handle)"
   ],
   "metadata": {
    "collapsed": false,
    "ExecuteTime": {
     "end_time": "2023-08-12T23:12:08.411777200Z",
     "start_time": "2023-08-12T23:12:08.377346300Z"
    }
   }
  },
  {
   "cell_type": "code",
   "execution_count": 36,
   "outputs": [
    {
     "data": {
      "text/plain": "array([[0.000e+00, 0.000e+00, 0.000e+00],\n       [3.700e+01, 0.000e+00, 5.000e+00],\n       [3.500e+01, 0.000e+00, 7.000e+00],\n       ...,\n       [3.163e+03, 3.000e+00, 5.000e+00],\n       [4.928e+03, 0.000e+00, 5.000e+00],\n       [1.000e+00, 0.000e+00, 0.000e+00]])"
     },
     "execution_count": 36,
     "metadata": {},
     "output_type": "execute_result"
    }
   ],
   "source": [
    "shaped_data[0]"
   ],
   "metadata": {
    "collapsed": false,
    "ExecuteTime": {
     "end_time": "2023-08-12T23:12:10.192521Z",
     "start_time": "2023-08-12T23:12:10.167986500Z"
    }
   }
  },
  {
   "cell_type": "code",
   "execution_count": null,
   "outputs": [],
   "source": [],
   "metadata": {
    "collapsed": false
   }
  }
 ],
 "metadata": {
  "kernelspec": {
   "display_name": "Python 3",
   "language": "python",
   "name": "python3"
  },
  "language_info": {
   "codemirror_mode": {
    "name": "ipython",
    "version": 2
   },
   "file_extension": ".py",
   "mimetype": "text/x-python",
   "name": "python",
   "nbconvert_exporter": "python",
   "pygments_lexer": "ipython2",
   "version": "2.7.6"
  }
 },
 "nbformat": 4,
 "nbformat_minor": 0
}
