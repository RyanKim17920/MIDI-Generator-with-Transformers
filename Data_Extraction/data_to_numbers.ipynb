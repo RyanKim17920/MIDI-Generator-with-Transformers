{
 "cells": [
  {
   "cell_type": "code",
   "execution_count": 1,
   "metadata": {
    "collapsed": true,
    "ExecuteTime": {
     "end_time": "2023-07-31T02:02:11.768215500Z",
     "start_time": "2023-07-31T02:02:11.662904100Z"
    }
   },
   "outputs": [],
   "source": [
    "import pickle\n",
    "import numpy as np"
   ]
  },
  {
   "cell_type": "code",
   "execution_count": 2,
   "outputs": [],
   "source": [
    "all_data = []\n",
    "with (open(\"all_data.pickle\", \"rb\")) as openfile:\n",
    "    try:\n",
    "        all_data = (pickle.load(openfile))\n",
    "    except EOFError:\n",
    "        pass"
   ],
   "metadata": {
    "collapsed": false,
    "ExecuteTime": {
     "end_time": "2023-07-31T02:02:11.922416900Z",
     "start_time": "2023-07-31T02:02:11.769413800Z"
    }
   }
  },
  {
   "cell_type": "code",
   "execution_count": 3,
   "outputs": [],
   "source": [
    "new_data = []"
   ],
   "metadata": {
    "collapsed": false,
    "ExecuteTime": {
     "end_time": "2023-07-31T02:02:11.936983700Z",
     "start_time": "2023-07-31T02:02:11.924417900Z"
    }
   }
  },
  {
   "cell_type": "code",
   "execution_count": 4,
   "outputs": [],
   "source": [
    "array_to_num_dic = {}\n",
    "with (open('array_to_num.pickle', 'rb')) as openfile:\n",
    "    try:\n",
    "        array_to_num_dic = (pickle.load(openfile))\n",
    "    except EOFError:\n",
    "        pass"
   ],
   "metadata": {
    "collapsed": false,
    "ExecuteTime": {
     "end_time": "2023-07-31T02:02:12.062307900Z",
     "start_time": "2023-07-31T02:02:11.938491100Z"
    }
   }
  },
  {
   "cell_type": "code",
   "execution_count": 5,
   "outputs": [],
   "source": [
    "for i in range(len(all_data)):\n",
    "    cur_array = np.array([])\n",
    "    this_data = all_data[i]\n",
    "    for k in range(len(this_data)):\n",
    "        cur_array = np.append(cur_array, array_to_num_dic[f\"a{''.join(str(this_data[k]).splitlines())}\"])\n",
    "    new_data.append(cur_array)"
   ],
   "metadata": {
    "collapsed": false,
    "ExecuteTime": {
     "end_time": "2023-07-31T02:06:05.025149200Z",
     "start_time": "2023-07-31T02:02:12.066321200Z"
    }
   }
  },
  {
   "cell_type": "code",
   "execution_count": 6,
   "outputs": [],
   "source": [
    "with (open('all_data_2.pickle', 'wb')) as openfile:\n",
    "    pickle.dump(new_data, openfile)"
   ],
   "metadata": {
    "collapsed": false,
    "ExecuteTime": {
     "end_time": "2023-07-31T02:06:05.081860200Z",
     "start_time": "2023-07-31T02:06:05.028710500Z"
    }
   }
  },
  {
   "cell_type": "code",
   "execution_count": 7,
   "outputs": [
    {
     "name": "stdout",
     "output_type": "stream",
     "text": [
      "362\n",
      "362\n"
     ]
    }
   ],
   "source": [
    "print(len(new_data))\n",
    "print(len(all_data))"
   ],
   "metadata": {
    "collapsed": false,
    "ExecuteTime": {
     "end_time": "2023-07-31T02:06:05.087872300Z",
     "start_time": "2023-07-31T02:06:05.075958400Z"
    }
   }
  },
  {
   "cell_type": "code",
   "execution_count": 8,
   "outputs": [
    {
     "name": "stdout",
     "output_type": "stream",
     "text": [
      "25484\n",
      "25484\n"
     ]
    }
   ],
   "source": [
    "print(len(all_data[0]))\n",
    "print(len(new_data[0]))"
   ],
   "metadata": {
    "collapsed": false,
    "ExecuteTime": {
     "end_time": "2023-07-31T02:06:05.100605800Z",
     "start_time": "2023-07-31T02:06:05.088868700Z"
    }
   }
  },
  {
   "cell_type": "code",
   "execution_count": 9,
   "outputs": [
    {
     "data": {
      "text/plain": "array([  9943.,   9949.,   9950., ..., 133041., 319207.,   9656.])"
     },
     "execution_count": 9,
     "metadata": {},
     "output_type": "execute_result"
    }
   ],
   "source": [
    "new_data[0]"
   ],
   "metadata": {
    "collapsed": false,
    "ExecuteTime": {
     "end_time": "2023-07-31T02:06:05.211827400Z",
     "start_time": "2023-07-31T02:06:05.102969700Z"
    }
   }
  },
  {
   "cell_type": "code",
   "execution_count": 10,
   "outputs": [
    {
     "data": {
      "text/plain": "array([  9991.,    304.,   6701., ..., 161439., 164389.,   9577.])"
     },
     "execution_count": 10,
     "metadata": {},
     "output_type": "execute_result"
    }
   ],
   "source": [
    "new_data[len(new_data)-1]"
   ],
   "metadata": {
    "collapsed": false,
    "ExecuteTime": {
     "end_time": "2023-07-31T02:06:05.215836100Z",
     "start_time": "2023-07-31T02:06:05.120626400Z"
    }
   }
  },
  {
   "cell_type": "code",
   "execution_count": 11,
   "outputs": [
    {
     "data": {
      "text/plain": "array([[ -1,  -1,  -1, ...,  24,   1,  24],\n       [ -1,  -1,  -1, ...,  -1,  -1,  -1],\n       [ -1,  -1,  -1, ...,  -1,  -1,  -1],\n       ...,\n       [ 63,   0,  -1, ...,  24,   1,  24],\n       [ 63, 100,  -1, ...,  24,   1,  24],\n       [ -1,  -1,  -1, ...,  -1,  -1,  -1]], dtype=int64)"
     },
     "execution_count": 11,
     "metadata": {},
     "output_type": "execute_result"
    }
   ],
   "source": [
    "all_data[len(all_data)-1]"
   ],
   "metadata": {
    "collapsed": false,
    "ExecuteTime": {
     "end_time": "2023-07-31T02:06:05.217933500Z",
     "start_time": "2023-07-31T02:06:05.134885900Z"
    }
   }
  },
  {
   "cell_type": "code",
   "execution_count": 12,
   "outputs": [],
   "source": [],
   "metadata": {
    "collapsed": false,
    "ExecuteTime": {
     "end_time": "2023-07-31T02:06:05.218918700Z",
     "start_time": "2023-07-31T02:06:05.153928Z"
    }
   }
  }
 ],
 "metadata": {
  "kernelspec": {
   "display_name": "Python 3",
   "language": "python",
   "name": "python3"
  },
  "language_info": {
   "codemirror_mode": {
    "name": "ipython",
    "version": 2
   },
   "file_extension": ".py",
   "mimetype": "text/x-python",
   "name": "python",
   "nbconvert_exporter": "python",
   "pygments_lexer": "ipython2",
   "version": "2.7.6"
  }
 },
 "nbformat": 4,
 "nbformat_minor": 0
}
