{
 "cells": [
  {
   "cell_type": "code",
   "execution_count": 1,
   "metadata": {
    "collapsed": true,
    "ExecuteTime": {
     "end_time": "2023-08-11T02:50:55.567632Z",
     "start_time": "2023-08-11T02:50:55.455532400Z"
    }
   },
   "outputs": [],
   "source": [
    "import pickle\n",
    "import numpy as np"
   ]
  },
  {
   "cell_type": "code",
   "execution_count": 2,
   "outputs": [],
   "source": [
    "with (open(\"all_data.pickle\", \"rb\")) as openfile:\n",
    "    try:\n",
    "        all_data = (pickle.load(openfile))\n",
    "    except EOFError:\n",
    "        pass"
   ],
   "metadata": {
    "collapsed": false,
    "ExecuteTime": {
     "end_time": "2023-08-11T02:50:57.205676200Z",
     "start_time": "2023-08-11T02:50:57.027511500Z"
    }
   }
  },
  {
   "cell_type": "code",
   "execution_count": 3,
   "outputs": [
    {
     "data": {
      "text/plain": "362"
     },
     "execution_count": 3,
     "metadata": {},
     "output_type": "execute_result"
    }
   ],
   "source": [
    "len(all_data)"
   ],
   "metadata": {
    "collapsed": false,
    "ExecuteTime": {
     "end_time": "2023-08-11T02:50:58.475624Z",
     "start_time": "2023-08-11T02:50:58.427400900Z"
    }
   }
  },
  {
   "cell_type": "code",
   "execution_count": 5,
   "outputs": [
    {
     "data": {
      "text/plain": "array([[-1, -1, -1, ..., 16,  1, 16],\n       [-1, -1, -1, ..., 19,  1, 19],\n       [-1, -1, -1, ..., 19,  2, 19],\n       ...,\n       [60,  0, -1, ..., 16,  1, 16],\n       [77,  0, -1, ..., 16,  1, 16],\n       [-1, -1, -1, ..., -1, -1, -1]], dtype=int64)"
     },
     "execution_count": 5,
     "metadata": {},
     "output_type": "execute_result"
    }
   ],
   "source": [
    "all_data[0]\n",
    "# why did it change from original all_data??"
   ],
   "metadata": {
    "collapsed": false,
    "ExecuteTime": {
     "end_time": "2023-08-11T02:51:03.780362300Z",
     "start_time": "2023-08-11T02:51:03.756300100Z"
    }
   }
  },
  {
   "cell_type": "code",
   "execution_count": 6,
   "outputs": [],
   "source": [
    "fixed_all_data=all_data"
   ],
   "metadata": {
    "collapsed": false,
    "ExecuteTime": {
     "end_time": "2023-08-11T02:51:06.455866500Z",
     "start_time": "2023-08-11T02:51:06.438684200Z"
    }
   }
  },
  {
   "cell_type": "code",
   "execution_count": 7,
   "outputs": [],
   "source": [
    "for i in range(len(all_data)):\n",
    "    # go to last index, go to 5th index then turn it into 1\n",
    "    fixed_all_data[i][-1][5] = 1\n",
    "    # append row of -1's to start of array then turn 5th index into 0\n",
    "    neg_array = np.full((1, 16), -1)\n",
    "    neg_array[0][5] = 0\n",
    "    fixed_all_data[i] = np.vstack([neg_array, fixed_all_data[i]])"
   ],
   "metadata": {
    "collapsed": false,
    "ExecuteTime": {
     "end_time": "2023-08-11T02:51:07.258120200Z",
     "start_time": "2023-08-11T02:51:07.176724100Z"
    }
   }
  },
  {
   "cell_type": "code",
   "execution_count": 8,
   "outputs": [
    {
     "data": {
      "text/plain": "array([[-1, -1, -1, ..., -1, -1, -1],\n       [-1, -1, -1, ..., 16,  1, 16],\n       [-1, -1, -1, ..., 19,  1, 19],\n       ...,\n       [60,  0, -1, ..., 16,  1, 16],\n       [77,  0, -1, ..., 16,  1, 16],\n       [-1, -1, -1, ..., -1, -1, -1]], dtype=int64)"
     },
     "execution_count": 8,
     "metadata": {},
     "output_type": "execute_result"
    }
   ],
   "source": [
    "fixed_all_data[0]"
   ],
   "metadata": {
    "collapsed": false,
    "ExecuteTime": {
     "end_time": "2023-08-11T02:51:07.770816200Z",
     "start_time": "2023-08-11T02:51:07.745685300Z"
    }
   }
  },
  {
   "cell_type": "code",
   "execution_count": 9,
   "outputs": [],
   "source": [
    "with open('fixed_all_data.pickle', 'wb') as f:\n",
    "    pickle.dump(fixed_all_data, f)"
   ],
   "metadata": {
    "collapsed": false,
    "ExecuteTime": {
     "end_time": "2023-08-11T02:51:10.909798500Z",
     "start_time": "2023-08-11T02:51:10.630500500Z"
    }
   }
  },
  {
   "cell_type": "code",
   "execution_count": 10,
   "outputs": [],
   "source": [
    "with open('fixed_all_data.pickle', 'rb') as f:\n",
    "    fixed_all_data = pickle.load(f)"
   ],
   "metadata": {
    "collapsed": false,
    "ExecuteTime": {
     "end_time": "2023-08-11T02:51:11.875397900Z",
     "start_time": "2023-08-11T02:51:11.699255600Z"
    }
   }
  },
  {
   "cell_type": "code",
   "execution_count": 14,
   "outputs": [
    {
     "data": {
      "text/plain": "array([[-1, -1, -1, ..., -1, -1, -1],\n       [-1, -1, -1, ..., -1, -1, -1],\n       [-1, -1, -1, ..., 16,  1, 16],\n       ...,\n       [60,  0, -1, ..., 16,  1, 16],\n       [77,  0, -1, ..., 16,  1, 16],\n       [-1, -1, -1, ..., -1, -1, -1]], dtype=int64)"
     },
     "execution_count": 14,
     "metadata": {},
     "output_type": "execute_result"
    }
   ],
   "source": [
    "fixed_all_data[0]"
   ],
   "metadata": {
    "collapsed": false,
    "ExecuteTime": {
     "end_time": "2023-08-11T02:41:47.508847900Z",
     "start_time": "2023-08-11T02:41:47.476413200Z"
    }
   }
  },
  {
   "cell_type": "code",
   "execution_count": null,
   "outputs": [],
   "source": [
    "#fixed"
   ],
   "metadata": {
    "collapsed": false
   }
  },
  {
   "cell_type": "code",
   "execution_count": 11,
   "outputs": [],
   "source": [
    "total_length = 0\n",
    "for i in all_data:\n",
    "    total_length += len(i)"
   ],
   "metadata": {
    "collapsed": false,
    "ExecuteTime": {
     "end_time": "2023-08-10T03:31:34.992302200Z",
     "start_time": "2023-08-10T03:31:34.955529800Z"
    }
   }
  },
  {
   "cell_type": "code",
   "execution_count": 12,
   "outputs": [
    {
     "data": {
      "text/plain": "2384400"
     },
     "execution_count": 12,
     "metadata": {},
     "output_type": "execute_result"
    }
   ],
   "source": [
    "total_length"
   ],
   "metadata": {
    "collapsed": false,
    "ExecuteTime": {
     "end_time": "2023-08-10T03:31:35.007922300Z",
     "start_time": "2023-08-10T03:31:34.966041200Z"
    }
   }
  },
  {
   "cell_type": "code",
   "execution_count": 13,
   "metadata": {
    "collapsed": false,
    "ExecuteTime": {
     "end_time": "2023-08-10T03:31:35.007922300Z",
     "start_time": "2023-08-10T03:31:34.976665700Z"
    }
   },
   "outputs": [
    {
     "name": "stdout",
     "output_type": "stream",
     "text": [
      "598984\n"
     ]
    }
   ],
   "source": [
    "#get largest value within all_data\n",
    "largest_values = []\n",
    "for i in all_data:\n",
    "    largest_values.append(np.max(i))\n",
    "print(np.max(largest_values))"
   ]
  },
  {
   "cell_type": "code",
   "execution_count": 14,
   "metadata": {
    "collapsed": false,
    "ExecuteTime": {
     "end_time": "2023-08-10T03:31:35.102675200Z",
     "start_time": "2023-08-10T03:31:35.007922300Z"
    }
   },
   "outputs": [
    {
     "name": "stdout",
     "output_type": "stream",
     "text": [
      "[1.70000e+01 2.23000e+02 2.25000e+02 2.27000e+02 3.47000e+02 3.79000e+02\n",
      " 3.96000e+02 4.38000e+02 4.45000e+02 5.88000e+02 6.06000e+02 6.30000e+02\n",
      " 6.49000e+02 6.77000e+02 7.51000e+02 8.12000e+02 8.13000e+02 8.36000e+02\n",
      " 8.39000e+02 8.58000e+02 8.76000e+02 8.78000e+02 8.83000e+02 9.59000e+02\n",
      " 1.05000e+03 1.05800e+03 1.05800e+03 1.06100e+03 1.06200e+03 1.06400e+03\n",
      " 1.08000e+03 1.09700e+03 1.10900e+03 1.12200e+03 1.12900e+03 1.13900e+03\n",
      " 1.14500e+03 1.16100e+03 1.17400e+03 1.18300e+03 1.21200e+03 1.22300e+03\n",
      " 1.25300e+03 1.26600e+03 1.26900e+03 1.31000e+03 1.31800e+03 1.32200e+03\n",
      " 1.32600e+03 1.34100e+03 1.36600e+03 1.39100e+03 1.39700e+03 1.41600e+03\n",
      " 1.42900e+03 1.42900e+03 1.44300e+03 1.49000e+03 1.49200e+03 1.50500e+03\n",
      " 1.50500e+03 1.52300e+03 1.52800e+03 1.55500e+03 1.57100e+03 1.57800e+03\n",
      " 1.57900e+03 1.60700e+03 1.62100e+03 1.62300e+03 1.63700e+03 1.63900e+03\n",
      " 1.64100e+03 1.66400e+03 1.66900e+03 1.71900e+03 1.72500e+03 1.74000e+03\n",
      " 1.74500e+03 1.76900e+03 1.76900e+03 1.78800e+03 1.78900e+03 1.79100e+03\n",
      " 1.82900e+03 1.85400e+03 1.86600e+03 1.88200e+03 1.89000e+03 1.89100e+03\n",
      " 1.91300e+03 1.93600e+03 1.94000e+03 1.94100e+03 1.95400e+03 1.96500e+03\n",
      " 1.96500e+03 1.98900e+03 1.98900e+03 1.99700e+03 2.01900e+03 2.02300e+03\n",
      " 2.02300e+03 2.05100e+03 2.07200e+03 2.10300e+03 2.10700e+03 2.13800e+03\n",
      " 2.13900e+03 2.13900e+03 2.14500e+03 2.17200e+03 2.19100e+03 2.19300e+03\n",
      " 2.22200e+03 2.22500e+03 2.23500e+03 2.24200e+03 2.26500e+03 2.29600e+03\n",
      " 2.29600e+03 2.37600e+03 2.38000e+03 2.41200e+03 2.43100e+03 2.44700e+03\n",
      " 2.47000e+03 2.47100e+03 2.47600e+03 2.50600e+03 2.51600e+03 2.56200e+03\n",
      " 2.57800e+03 2.58700e+03 2.59800e+03 2.63500e+03 2.64100e+03 2.64400e+03\n",
      " 2.67500e+03 2.70800e+03 2.71100e+03 2.72700e+03 2.74700e+03 2.75700e+03\n",
      " 2.76000e+03 2.76100e+03 2.79100e+03 2.82500e+03 2.85200e+03 2.86300e+03\n",
      " 2.90700e+03 2.91300e+03 2.95900e+03 2.97000e+03 2.97500e+03 2.98700e+03\n",
      " 3.03300e+03 3.06000e+03 3.10300e+03 3.11100e+03 3.12900e+03 3.15500e+03\n",
      " 3.16200e+03 3.16800e+03 3.19600e+03 3.20900e+03 3.21100e+03 3.23200e+03\n",
      " 3.23700e+03 3.24000e+03 3.25300e+03 3.25400e+03 3.25400e+03 3.27900e+03\n",
      " 3.29500e+03 3.30200e+03 3.34500e+03 3.39300e+03 3.39300e+03 3.42300e+03\n",
      " 3.44100e+03 3.44300e+03 3.46600e+03 3.47500e+03 3.50700e+03 3.51100e+03\n",
      " 3.53300e+03 3.53500e+03 3.53800e+03 3.58800e+03 3.59300e+03 3.61300e+03\n",
      " 3.63500e+03 3.64000e+03 3.70300e+03 3.75900e+03 3.77300e+03 3.79900e+03\n",
      " 3.79900e+03 3.82800e+03 3.93300e+03 3.94700e+03 3.95100e+03 3.95300e+03\n",
      " 3.99300e+03 4.01700e+03 4.11000e+03 4.14300e+03 4.17400e+03 4.17500e+03\n",
      " 4.23100e+03 4.23100e+03 4.23500e+03 4.24800e+03 4.25700e+03 4.26300e+03\n",
      " 4.26300e+03 4.26800e+03 4.27400e+03 4.31700e+03 4.34000e+03 4.35300e+03\n",
      " 4.41700e+03 4.45200e+03 4.47600e+03 4.52200e+03 4.53700e+03 4.68100e+03\n",
      " 4.69500e+03 4.69900e+03 4.70400e+03 4.71400e+03 4.73200e+03 4.76900e+03\n",
      " 4.78900e+03 4.79000e+03 4.79100e+03 4.81800e+03 4.85100e+03 4.88600e+03\n",
      " 4.90700e+03 5.09400e+03 5.10700e+03 5.13800e+03 5.16100e+03 5.17100e+03\n",
      " 5.25700e+03 5.27900e+03 5.33100e+03 5.34200e+03 5.41200e+03 5.42800e+03\n",
      " 5.51900e+03 5.56200e+03 5.58900e+03 5.69300e+03 5.71900e+03 5.74900e+03\n",
      " 5.80800e+03 5.87500e+03 5.90200e+03 6.08500e+03 6.08800e+03 6.08900e+03\n",
      " 6.09100e+03 6.09100e+03 6.09600e+03 6.14900e+03 6.15800e+03 6.25400e+03\n",
      " 6.27300e+03 6.36900e+03 6.40200e+03 6.40700e+03 6.59800e+03 6.64100e+03\n",
      " 6.70400e+03 6.74100e+03 6.81600e+03 7.07800e+03 7.17200e+03 7.23100e+03\n",
      " 7.24500e+03 7.52600e+03 7.58700e+03 7.63200e+03 7.63600e+03 7.65300e+03\n",
      " 7.68100e+03 7.70900e+03 7.84300e+03 7.92200e+03 7.98900e+03 8.10800e+03\n",
      " 8.13200e+03 8.20000e+03 8.22700e+03 8.31800e+03 8.58200e+03 8.75700e+03\n",
      " 8.84900e+03 8.85700e+03 8.99600e+03 9.03500e+03 9.28500e+03 9.30200e+03\n",
      " 9.31400e+03 9.39600e+03 9.46800e+03 9.56000e+03 9.56900e+03 9.74200e+03\n",
      " 1.00360e+04 1.00690e+04 1.01830e+04 1.02370e+04 1.06310e+04 1.08770e+04\n",
      " 1.10960e+04 1.17180e+04 1.26390e+04 1.27010e+04 1.27150e+04 1.28130e+04\n",
      " 1.29630e+04 1.29710e+04 1.36030e+04 1.37720e+04 1.52950e+04 1.62590e+04\n",
      " 1.69930e+04 1.72670e+04 1.78950e+04 1.79830e+04 1.87100e+04 1.87590e+04\n",
      " 1.87670e+04 1.92970e+04 1.97530e+04 2.03820e+04 2.03890e+04 2.04620e+04\n",
      " 2.07990e+04 2.11540e+04 2.54840e+04 2.84100e+04 3.01020e+04 3.16980e+04\n",
      " 3.23810e+04 3.28370e+04 3.34090e+04 3.44180e+04 3.90430e+04 3.90640e+04\n",
      " 4.16280e+04 4.17330e+04 4.36870e+04 4.40270e+04 5.74230e+04 6.25790e+04\n",
      " 7.70580e+04 1.02188e+05]\n"
     ]
    }
   ],
   "source": [
    "largest_lengths = np.array([])\n",
    "for i in all_data:\n",
    "    largest_lengths = np.append(largest_lengths, len(i))\n",
    "largest_lengths = np.sort(largest_lengths)\n",
    "print(largest_lengths)"
   ]
  },
  {
   "cell_type": "code",
   "execution_count": 15,
   "outputs": [
    {
     "data": {
      "text/plain": "array([1.70000e+01, 2.23000e+02, 2.25000e+02, 2.27000e+02, 3.47000e+02,\n       3.79000e+02, 3.96000e+02, 4.38000e+02, 4.45000e+02, 5.88000e+02,\n       6.06000e+02, 6.30000e+02, 6.49000e+02, 6.77000e+02, 7.51000e+02,\n       8.12000e+02, 8.13000e+02, 8.36000e+02, 8.39000e+02, 8.58000e+02,\n       8.76000e+02, 8.78000e+02, 8.83000e+02, 9.59000e+02, 1.05000e+03,\n       1.05800e+03, 1.05800e+03, 1.06100e+03, 1.06200e+03, 1.06400e+03,\n       1.08000e+03, 1.09700e+03, 1.10900e+03, 1.12200e+03, 1.12900e+03,\n       1.13900e+03, 1.14500e+03, 1.16100e+03, 1.17400e+03, 1.18300e+03,\n       1.21200e+03, 1.22300e+03, 1.25300e+03, 1.26600e+03, 1.26900e+03,\n       1.31000e+03, 1.31800e+03, 1.32200e+03, 1.32600e+03, 1.34100e+03,\n       1.36600e+03, 1.39100e+03, 1.39700e+03, 1.41600e+03, 1.42900e+03,\n       1.42900e+03, 1.44300e+03, 1.49000e+03, 1.49200e+03, 1.50500e+03,\n       1.50500e+03, 1.52300e+03, 1.52800e+03, 1.55500e+03, 1.57100e+03,\n       1.57800e+03, 1.57900e+03, 1.60700e+03, 1.62100e+03, 1.62300e+03,\n       1.63700e+03, 1.63900e+03, 1.64100e+03, 1.66400e+03, 1.66900e+03,\n       1.71900e+03, 1.72500e+03, 1.74000e+03, 1.74500e+03, 1.76900e+03,\n       1.76900e+03, 1.78800e+03, 1.78900e+03, 1.79100e+03, 1.82900e+03,\n       1.85400e+03, 1.86600e+03, 1.88200e+03, 1.89000e+03, 1.89100e+03,\n       1.91300e+03, 1.93600e+03, 1.94000e+03, 1.94100e+03, 1.95400e+03,\n       1.96500e+03, 1.96500e+03, 1.98900e+03, 1.98900e+03, 1.99700e+03,\n       2.01900e+03, 2.02300e+03, 2.02300e+03, 2.05100e+03, 2.07200e+03,\n       2.10300e+03, 2.10700e+03, 2.13800e+03, 2.13900e+03, 2.13900e+03,\n       2.14500e+03, 2.17200e+03, 2.19100e+03, 2.19300e+03, 2.22200e+03,\n       2.22500e+03, 2.23500e+03, 2.24200e+03, 2.26500e+03, 2.29600e+03,\n       2.29600e+03, 2.37600e+03, 2.38000e+03, 2.41200e+03, 2.43100e+03,\n       2.44700e+03, 2.47000e+03, 2.47100e+03, 2.47600e+03, 2.50600e+03,\n       2.51600e+03, 2.56200e+03, 2.57800e+03, 2.58700e+03, 2.59800e+03,\n       2.63500e+03, 2.64100e+03, 2.64400e+03, 2.67500e+03, 2.70800e+03,\n       2.71100e+03, 2.72700e+03, 2.74700e+03, 2.75700e+03, 2.76000e+03,\n       2.76100e+03, 2.79100e+03, 2.82500e+03, 2.85200e+03, 2.86300e+03,\n       2.90700e+03, 2.91300e+03, 2.95900e+03, 2.97000e+03, 2.97500e+03,\n       2.98700e+03, 3.03300e+03, 3.06000e+03, 3.10300e+03, 3.11100e+03,\n       3.12900e+03, 3.15500e+03, 3.16200e+03, 3.16800e+03, 3.19600e+03,\n       3.20900e+03, 3.21100e+03, 3.23200e+03, 3.23700e+03, 3.24000e+03,\n       3.25300e+03, 3.25400e+03, 3.25400e+03, 3.27900e+03, 3.29500e+03,\n       3.30200e+03, 3.34500e+03, 3.39300e+03, 3.39300e+03, 3.42300e+03,\n       3.44100e+03, 3.44300e+03, 3.46600e+03, 3.47500e+03, 3.50700e+03,\n       3.51100e+03, 3.53300e+03, 3.53500e+03, 3.53800e+03, 3.58800e+03,\n       3.59300e+03, 3.61300e+03, 3.63500e+03, 3.64000e+03, 3.70300e+03,\n       3.75900e+03, 3.77300e+03, 3.79900e+03, 3.79900e+03, 3.82800e+03,\n       3.93300e+03, 3.94700e+03, 3.95100e+03, 3.95300e+03, 3.99300e+03,\n       4.01700e+03, 4.11000e+03, 4.14300e+03, 4.17400e+03, 4.17500e+03,\n       4.23100e+03, 4.23100e+03, 4.23500e+03, 4.24800e+03, 4.25700e+03,\n       4.26300e+03, 4.26300e+03, 4.26800e+03, 4.27400e+03, 4.31700e+03,\n       4.34000e+03, 4.35300e+03, 4.41700e+03, 4.45200e+03, 4.47600e+03,\n       4.52200e+03, 4.53700e+03, 4.68100e+03, 4.69500e+03, 4.69900e+03,\n       4.70400e+03, 4.71400e+03, 4.73200e+03, 4.76900e+03, 4.78900e+03,\n       4.79000e+03, 4.79100e+03, 4.81800e+03, 4.85100e+03, 4.88600e+03,\n       4.90700e+03, 5.09400e+03, 5.10700e+03, 5.13800e+03, 5.16100e+03,\n       5.17100e+03, 5.25700e+03, 5.27900e+03, 5.33100e+03, 5.34200e+03,\n       5.41200e+03, 5.42800e+03, 5.51900e+03, 5.56200e+03, 5.58900e+03,\n       5.69300e+03, 5.71900e+03, 5.74900e+03, 5.80800e+03, 5.87500e+03,\n       5.90200e+03, 6.08500e+03, 6.08800e+03, 6.08900e+03, 6.09100e+03,\n       6.09100e+03, 6.09600e+03, 6.14900e+03, 6.15800e+03, 6.25400e+03,\n       6.27300e+03, 6.36900e+03, 6.40200e+03, 6.40700e+03, 6.59800e+03,\n       6.64100e+03, 6.70400e+03, 6.74100e+03, 6.81600e+03, 7.07800e+03,\n       7.17200e+03, 7.23100e+03, 7.24500e+03, 7.52600e+03, 7.58700e+03,\n       7.63200e+03, 7.63600e+03, 7.65300e+03, 7.68100e+03, 7.70900e+03,\n       7.84300e+03, 7.92200e+03, 7.98900e+03, 8.10800e+03, 8.13200e+03,\n       8.20000e+03, 8.22700e+03, 8.31800e+03, 8.58200e+03, 8.75700e+03,\n       8.84900e+03, 8.85700e+03, 8.99600e+03, 9.03500e+03, 9.28500e+03,\n       9.30200e+03, 9.31400e+03, 9.39600e+03, 9.46800e+03, 9.56000e+03,\n       9.56900e+03, 9.74200e+03, 1.00360e+04, 1.00690e+04, 1.01830e+04,\n       1.02370e+04, 1.06310e+04, 1.08770e+04, 1.10960e+04, 1.17180e+04,\n       1.26390e+04, 1.27010e+04, 1.27150e+04, 1.28130e+04, 1.29630e+04,\n       1.29710e+04, 1.36030e+04, 1.37720e+04, 1.52950e+04, 1.62590e+04,\n       1.69930e+04, 1.72670e+04, 1.78950e+04, 1.79830e+04, 1.87100e+04,\n       1.87590e+04, 1.87670e+04, 1.92970e+04, 1.97530e+04, 2.03820e+04,\n       2.03890e+04, 2.04620e+04, 2.07990e+04, 2.11540e+04, 2.54840e+04,\n       2.84100e+04, 3.01020e+04, 3.16980e+04, 3.23810e+04, 3.28370e+04,\n       3.34090e+04, 3.44180e+04, 3.90430e+04, 3.90640e+04, 4.16280e+04,\n       4.17330e+04, 4.36870e+04, 4.40270e+04, 5.74230e+04, 6.25790e+04,\n       7.70580e+04, 1.02188e+05])"
     },
     "execution_count": 15,
     "metadata": {},
     "output_type": "execute_result"
    }
   ],
   "source": [
    "largest_lengths"
   ],
   "metadata": {
    "collapsed": false,
    "ExecuteTime": {
     "end_time": "2023-08-10T03:31:35.102675200Z",
     "start_time": "2023-08-10T03:31:35.027559400Z"
    }
   }
  },
  {
   "cell_type": "code",
   "execution_count": 16,
   "outputs": [],
   "source": [
    "all_numpy_data = np.load(\"all_data.npy\")"
   ],
   "metadata": {
    "collapsed": false,
    "ExecuteTime": {
     "end_time": "2023-08-10T03:31:35.199006500Z",
     "start_time": "2023-08-10T03:31:35.039638200Z"
    }
   }
  },
  {
   "cell_type": "code",
   "execution_count": 17,
   "outputs": [
    {
     "data": {
      "text/plain": "362"
     },
     "execution_count": 17,
     "metadata": {},
     "output_type": "execute_result"
    }
   ],
   "source": [
    "np.count_nonzero(all_numpy_data[:,5] == 0)"
   ],
   "metadata": {
    "collapsed": false,
    "ExecuteTime": {
     "end_time": "2023-08-10T03:31:35.261750100Z",
     "start_time": "2023-08-10T03:31:35.205553200Z"
    }
   }
  },
  {
   "cell_type": "code",
   "execution_count": 18,
   "outputs": [
    {
     "data": {
      "text/plain": "array([-1., -1., -1., -1., -1.,  0., -1., -1., -1., -1., -1., -1.,  0.,\n       -1., -1., -1.])"
     },
     "execution_count": 18,
     "metadata": {},
     "output_type": "execute_result"
    }
   ],
   "source": [
    "all_numpy_data[0]"
   ],
   "metadata": {
    "collapsed": false,
    "ExecuteTime": {
     "end_time": "2023-08-10T03:31:35.277379Z",
     "start_time": "2023-08-10T03:31:35.230488700Z"
    }
   }
  },
  {
   "cell_type": "code",
   "execution_count": 19,
   "outputs": [],
   "source": [
    "un_full_data = np.load('all_unique_data.npy')"
   ],
   "metadata": {
    "collapsed": false,
    "ExecuteTime": {
     "end_time": "2023-08-10T03:31:35.277379Z",
     "start_time": "2023-08-10T03:31:35.246128900Z"
    }
   }
  },
  {
   "cell_type": "code",
   "execution_count": 20,
   "outputs": [
    {
     "data": {
      "text/plain": "'[note_on_note, note_on_velocity,\\n        control_change_control, control_change_value, program_change_program,\\n        end_marking, set_tempo_tempo,\\n        time_sig_num, itme_sig_den, time_sig_clocksperclick, time_sig_notated_32nd,\\n        key_sig(turn into numbers), [time], instrument_type, instrument_num, orig_instrument_type]'"
     },
     "execution_count": 20,
     "metadata": {},
     "output_type": "execute_result"
    }
   ],
   "source": [
    "'''[note_on_note, note_on_velocity,\n",
    "        control_change_control, control_change_value, program_change_program,\n",
    "        end_marking, set_tempo_tempo,\n",
    "        time_sig_num, itme_sig_den, time_sig_clocksperclick, time_sig_notated_32nd,\n",
    "        key_sig(turn into numbers), [time], instrument_type, instrument_num, orig_instrument_type]'''"
   ],
   "metadata": {
    "collapsed": false,
    "ExecuteTime": {
     "end_time": "2023-08-10T03:31:35.365412Z",
     "start_time": "2023-08-10T03:31:35.277379Z"
    }
   }
  },
  {
   "cell_type": "code",
   "execution_count": 21,
   "outputs": [
    {
     "data": {
      "text/plain": "371710"
     },
     "execution_count": 21,
     "metadata": {},
     "output_type": "execute_result"
    }
   ],
   "source": [
    "len(un_full_data)"
   ],
   "metadata": {
    "collapsed": false,
    "ExecuteTime": {
     "end_time": "2023-08-10T03:31:35.365412Z",
     "start_time": "2023-08-10T03:31:35.293005300Z"
    }
   }
  },
  {
   "cell_type": "code",
   "execution_count": 22,
   "outputs": [],
   "source": [
    "data_wo_time = un_full_data[:,[0,1,2,3,4,5,6,7,8,9,10,11,13,14,15]]"
   ],
   "metadata": {
    "collapsed": false,
    "ExecuteTime": {
     "end_time": "2023-08-10T03:31:35.412302600Z",
     "start_time": "2023-08-10T03:31:35.317135100Z"
    }
   }
  },
  {
   "cell_type": "code",
   "execution_count": 23,
   "outputs": [],
   "source": [
    "data_wo_time = np.unique(data_wo_time, axis = 0)"
   ],
   "metadata": {
    "collapsed": false,
    "ExecuteTime": {
     "end_time": "2023-08-10T03:31:36.716133700Z",
     "start_time": "2023-08-10T03:31:35.381050100Z"
    }
   }
  },
  {
   "cell_type": "code",
   "execution_count": 24,
   "outputs": [
    {
     "data": {
      "text/plain": "62782"
     },
     "execution_count": 24,
     "metadata": {},
     "output_type": "execute_result"
    }
   ],
   "source": [
    "len(data_wo_time)"
   ],
   "metadata": {
    "collapsed": false,
    "ExecuteTime": {
     "end_time": "2023-08-10T03:31:36.730117200Z",
     "start_time": "2023-08-10T03:31:36.708496900Z"
    }
   }
  },
  {
   "cell_type": "code",
   "execution_count": 25,
   "outputs": [],
   "source": [
    "data_instrs = un_full_data[:,[13,14,15]]"
   ],
   "metadata": {
    "collapsed": false,
    "ExecuteTime": {
     "end_time": "2023-08-10T03:31:36.771401600Z",
     "start_time": "2023-08-10T03:31:36.728600100Z"
    }
   }
  },
  {
   "cell_type": "code",
   "execution_count": 26,
   "outputs": [],
   "source": [
    "data_instrs = np.unique(data_instrs, axis = 0)"
   ],
   "metadata": {
    "collapsed": false,
    "ExecuteTime": {
     "end_time": "2023-08-10T03:31:37.235046500Z",
     "start_time": "2023-08-10T03:31:36.755773Z"
    }
   }
  },
  {
   "cell_type": "code",
   "execution_count": 27,
   "outputs": [
    {
     "data": {
      "text/plain": "229"
     },
     "execution_count": 27,
     "metadata": {},
     "output_type": "execute_result"
    }
   ],
   "source": [
    "len(data_instrs)"
   ],
   "metadata": {
    "collapsed": false,
    "ExecuteTime": {
     "end_time": "2023-08-10T03:31:37.250691400Z",
     "start_time": "2023-08-10T03:31:37.235046500Z"
    }
   }
  },
  {
   "cell_type": "code",
   "execution_count": 28,
   "outputs": [],
   "source": [
    "data_instrs_wo_instr_type = un_full_data[:,[14,15]]"
   ],
   "metadata": {
    "collapsed": false,
    "ExecuteTime": {
     "end_time": "2023-08-10T03:31:37.313213300Z",
     "start_time": "2023-08-10T03:31:37.250691400Z"
    }
   }
  },
  {
   "cell_type": "code",
   "execution_count": 29,
   "outputs": [],
   "source": [
    "data_instrs_wo_instr_type = np.unique(data_instrs_wo_instr_type, axis = 0)"
   ],
   "metadata": {
    "collapsed": false,
    "ExecuteTime": {
     "end_time": "2023-08-10T03:31:37.737953300Z",
     "start_time": "2023-08-10T03:31:37.266334500Z"
    }
   }
  },
  {
   "cell_type": "code",
   "execution_count": 30,
   "outputs": [
    {
     "data": {
      "text/plain": "143"
     },
     "execution_count": 30,
     "metadata": {},
     "output_type": "execute_result"
    }
   ],
   "source": [
    "len(data_instrs_wo_instr_type)"
   ],
   "metadata": {
    "collapsed": false,
    "ExecuteTime": {
     "end_time": "2023-08-10T03:31:37.753595300Z",
     "start_time": "2023-08-10T03:31:37.706939700Z"
    }
   }
  },
  {
   "cell_type": "code",
   "execution_count": 31,
   "outputs": [],
   "source": [
    "data_wo_instruments_or_time = un_full_data[:,[0,1,2,3,4,5,6,7,8,9,10,11]]"
   ],
   "metadata": {
    "collapsed": false,
    "ExecuteTime": {
     "end_time": "2023-08-10T03:31:37.816096700Z",
     "start_time": "2023-08-10T03:31:37.730942300Z"
    }
   }
  },
  {
   "cell_type": "code",
   "execution_count": 32,
   "outputs": [],
   "source": [
    "data_wo_instruments_or_time = np.unique(data_wo_instruments_or_time, axis = 0)"
   ],
   "metadata": {
    "collapsed": false,
    "ExecuteTime": {
     "end_time": "2023-08-10T03:31:38.832443600Z",
     "start_time": "2023-08-10T03:31:37.784866200Z"
    }
   }
  },
  {
   "cell_type": "code",
   "execution_count": 33,
   "outputs": [
    {
     "data": {
      "text/plain": "6329"
     },
     "execution_count": 33,
     "metadata": {},
     "output_type": "execute_result"
    }
   ],
   "source": [
    "len(data_wo_instruments_or_time)"
   ],
   "metadata": {
    "collapsed": false,
    "ExecuteTime": {
     "end_time": "2023-08-10T03:31:38.832443600Z",
     "start_time": "2023-08-10T03:31:38.768134100Z"
    }
   }
  },
  {
   "cell_type": "code",
   "execution_count": 34,
   "outputs": [],
   "source": [
    "data_time_sig_num_den = un_full_data[:,[7,8]]"
   ],
   "metadata": {
    "collapsed": false,
    "ExecuteTime": {
     "end_time": "2023-08-10T03:31:38.832443600Z",
     "start_time": "2023-08-10T03:31:38.787109700Z"
    }
   }
  },
  {
   "cell_type": "code",
   "execution_count": 35,
   "outputs": [],
   "source": [
    "data_time_sig_num_den = np.unique(data_time_sig_num_den, axis = 0)"
   ],
   "metadata": {
    "collapsed": false,
    "ExecuteTime": {
     "end_time": "2023-08-10T03:31:39.238744200Z",
     "start_time": "2023-08-10T03:31:38.814813500Z"
    }
   }
  },
  {
   "cell_type": "code",
   "execution_count": 36,
   "outputs": [
    {
     "data": {
      "text/plain": "25"
     },
     "execution_count": 36,
     "metadata": {},
     "output_type": "execute_result"
    }
   ],
   "source": [
    "len(data_time_sig_num_den)"
   ],
   "metadata": {
    "collapsed": false,
    "ExecuteTime": {
     "end_time": "2023-08-10T03:31:39.259478800Z",
     "start_time": "2023-08-10T03:31:39.238744200Z"
    }
   }
  },
  {
   "cell_type": "code",
   "execution_count": 37,
   "outputs": [
    {
     "data": {
      "text/plain": "array([[-1., -1.],\n       [ 1.,  2.],\n       [ 1.,  4.],\n       [ 1.,  8.],\n       [ 1., 16.],\n       [ 2.,  2.],\n       [ 2.,  4.],\n       [ 2.,  8.],\n       [ 3.,  2.],\n       [ 3.,  4.],\n       [ 3.,  8.],\n       [ 4.,  2.],\n       [ 4.,  4.],\n       [ 5.,  8.],\n       [ 6.,  4.],\n       [ 6.,  8.],\n       [ 8.,  4.],\n       [ 8.,  8.],\n       [ 9.,  4.],\n       [ 9.,  8.],\n       [ 9., 16.],\n       [11.,  8.],\n       [12.,  8.],\n       [12., 16.],\n       [15., 16.]])"
     },
     "execution_count": 37,
     "metadata": {},
     "output_type": "execute_result"
    }
   ],
   "source": [
    "data_time_sig_num_den"
   ],
   "metadata": {
    "collapsed": false,
    "ExecuteTime": {
     "end_time": "2023-08-10T03:31:39.322677100Z",
     "start_time": "2023-08-10T03:31:39.258447Z"
    }
   }
  },
  {
   "cell_type": "code",
   "execution_count": 38,
   "outputs": [],
   "source": [
    "# what the heck is 15/16 time??"
   ],
   "metadata": {
    "collapsed": false,
    "ExecuteTime": {
     "end_time": "2023-08-10T03:31:39.332688900Z",
     "start_time": "2023-08-10T03:31:39.269990700Z"
    }
   }
  },
  {
   "cell_type": "code",
   "execution_count": 39,
   "outputs": [],
   "source": [
    "times = un_full_data[:,[12]]"
   ],
   "metadata": {
    "collapsed": false,
    "ExecuteTime": {
     "end_time": "2023-08-10T03:31:39.338699400Z",
     "start_time": "2023-08-10T03:31:39.291419100Z"
    }
   }
  },
  {
   "cell_type": "code",
   "execution_count": 40,
   "outputs": [],
   "source": [
    "times = np.unique(times, axis = 0)"
   ],
   "metadata": {
    "collapsed": false,
    "ExecuteTime": {
     "end_time": "2023-08-10T03:31:39.579498800Z",
     "start_time": "2023-08-10T03:31:39.558274400Z"
    }
   }
  },
  {
   "cell_type": "code",
   "execution_count": 41,
   "outputs": [
    {
     "data": {
      "text/plain": "3904"
     },
     "execution_count": 41,
     "metadata": {},
     "output_type": "execute_result"
    }
   ],
   "source": [
    "len(times)"
   ],
   "metadata": {
    "collapsed": false,
    "ExecuteTime": {
     "end_time": "2023-08-10T03:31:39.652750200Z",
     "start_time": "2023-08-10T03:31:39.578471500Z"
    }
   }
  },
  {
   "cell_type": "code",
   "execution_count": 42,
   "outputs": [
    {
     "data": {
      "text/plain": "array([[0.00000e+00],\n       [1.00000e+00],\n       [2.00000e+00],\n       ...,\n       [5.98862e+05],\n       [5.98970e+05],\n       [5.98984e+05]])"
     },
     "execution_count": 42,
     "metadata": {},
     "output_type": "execute_result"
    }
   ],
   "source": [
    "times"
   ],
   "metadata": {
    "collapsed": false,
    "ExecuteTime": {
     "end_time": "2023-08-10T03:31:39.652750200Z",
     "start_time": "2023-08-10T03:31:39.605418600Z"
    }
   }
  },
  {
   "cell_type": "code",
   "execution_count": 43,
   "outputs": [],
   "source": [
    "# data with times and instruments\n",
    "data_time_and_instrs = un_full_data[:,[12,13,14,15]]"
   ],
   "metadata": {
    "collapsed": false,
    "ExecuteTime": {
     "end_time": "2023-08-10T03:31:39.652750200Z",
     "start_time": "2023-08-10T03:31:39.621045100Z"
    }
   }
  },
  {
   "cell_type": "code",
   "execution_count": 44,
   "outputs": [],
   "source": [
    "data_time_and_instrs = np.unique(data_time_and_instrs, axis = 0)"
   ],
   "metadata": {
    "collapsed": false,
    "ExecuteTime": {
     "end_time": "2023-08-10T03:31:40.180175900Z",
     "start_time": "2023-08-10T03:31:39.652750200Z"
    }
   }
  },
  {
   "cell_type": "code",
   "execution_count": 45,
   "outputs": [
    {
     "data": {
      "text/plain": "33825"
     },
     "execution_count": 45,
     "metadata": {},
     "output_type": "execute_result"
    }
   ],
   "source": [
    "len(data_time_and_instrs)"
   ],
   "metadata": {
    "collapsed": false,
    "ExecuteTime": {
     "end_time": "2023-08-10T03:31:40.191865300Z",
     "start_time": "2023-08-10T03:31:40.173493900Z"
    }
   }
  },
  {
   "cell_type": "code",
   "execution_count": 46,
   "outputs": [
    {
     "data": {
      "text/plain": "array([[ 0.00000e+00, -1.00000e+00, -1.00000e+00, -1.00000e+00],\n       [ 0.00000e+00,  0.00000e+00,  1.00000e+00,  0.00000e+00],\n       [ 0.00000e+00,  0.00000e+00,  2.00000e+00,  0.00000e+00],\n       ...,\n       [ 5.98970e+05,  4.80000e+01,  2.00000e+00,  4.80000e+01],\n       [ 5.98970e+05,  4.80000e+01,  3.00000e+00,  4.80000e+01],\n       [ 5.98984e+05,  5.60000e+01,  1.00000e+00,  5.60000e+01]])"
     },
     "execution_count": 46,
     "metadata": {},
     "output_type": "execute_result"
    }
   ],
   "source": [
    "data_time_and_instrs"
   ],
   "metadata": {
    "collapsed": false,
    "ExecuteTime": {
     "end_time": "2023-08-10T03:31:40.257782800Z",
     "start_time": "2023-08-10T03:31:40.194023300Z"
    }
   }
  },
  {
   "cell_type": "code",
   "execution_count": 47,
   "outputs": [],
   "source": [
    "data_time_and_instrs_wo_instr_type = un_full_data[:,[12,14,15]]"
   ],
   "metadata": {
    "collapsed": false,
    "ExecuteTime": {
     "end_time": "2023-08-10T03:31:40.257782800Z",
     "start_time": "2023-08-10T03:31:40.205623400Z"
    }
   }
  },
  {
   "cell_type": "code",
   "execution_count": 48,
   "outputs": [],
   "source": [
    "data_time_and_instrs_wo_instr_type = np.unique(data_time_and_instrs_wo_instr_type, axis = 0)"
   ],
   "metadata": {
    "collapsed": false,
    "ExecuteTime": {
     "end_time": "2023-08-10T03:31:40.715017500Z",
     "start_time": "2023-08-10T03:31:40.226422500Z"
    }
   }
  },
  {
   "cell_type": "code",
   "execution_count": 49,
   "outputs": [
    {
     "data": {
      "text/plain": "31012"
     },
     "execution_count": 49,
     "metadata": {},
     "output_type": "execute_result"
    }
   ],
   "source": [
    "len(data_time_and_instrs_wo_instr_type)"
   ],
   "metadata": {
    "collapsed": false,
    "ExecuteTime": {
     "end_time": "2023-08-10T03:31:40.725229700Z",
     "start_time": "2023-08-10T03:31:40.716028800Z"
    }
   }
  },
  {
   "cell_type": "code",
   "execution_count": 50,
   "outputs": [
    {
     "data": {
      "text/plain": "array([[ 0.00000e+00, -1.00000e+00, -1.00000e+00],\n       [ 0.00000e+00,  1.00000e+00,  0.00000e+00],\n       [ 0.00000e+00,  1.00000e+00,  2.00000e+00],\n       ...,\n       [ 5.98970e+05,  2.00000e+00,  4.80000e+01],\n       [ 5.98970e+05,  3.00000e+00,  4.80000e+01],\n       [ 5.98984e+05,  1.00000e+00,  5.60000e+01]])"
     },
     "execution_count": 50,
     "metadata": {},
     "output_type": "execute_result"
    }
   ],
   "source": [
    "data_time_and_instrs_wo_instr_type"
   ],
   "metadata": {
    "collapsed": false,
    "ExecuteTime": {
     "end_time": "2023-08-10T03:31:40.771279100Z",
     "start_time": "2023-08-10T03:31:40.725229700Z"
    }
   }
  },
  {
   "cell_type": "code",
   "execution_count": 50,
   "outputs": [],
   "source": [],
   "metadata": {
    "collapsed": false,
    "ExecuteTime": {
     "end_time": "2023-08-10T03:31:40.846484200Z",
     "start_time": "2023-08-10T03:31:40.739921700Z"
    }
   }
  }
 ],
 "metadata": {
  "kernelspec": {
   "display_name": "Python 3",
   "language": "python",
   "name": "python3"
  },
  "language_info": {
   "codemirror_mode": {
    "name": "ipython",
    "version": 3
   },
   "file_extension": ".py",
   "mimetype": "text/x-python",
   "name": "python",
   "nbconvert_exporter": "python",
   "pygments_lexer": "ipython3",
   "version": "3.11.3"
  }
 },
 "nbformat": 4,
 "nbformat_minor": 0
}
