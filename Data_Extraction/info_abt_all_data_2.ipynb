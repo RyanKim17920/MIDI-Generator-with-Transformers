{
 "cells": [
  {
   "cell_type": "code",
   "execution_count": 3,
   "metadata": {
    "collapsed": true,
    "ExecuteTime": {
     "end_time": "2023-08-26T02:48:28.410338900Z",
     "start_time": "2023-08-26T02:48:27.845911600Z"
    }
   },
   "outputs": [],
   "source": [
    "import pickle\n",
    "import numpy as np"
   ]
  },
  {
   "cell_type": "code",
   "execution_count": 4,
   "outputs": [],
   "source": [
    "with (open(\"all_data.pickle\", \"rb\")) as openfile:\n",
    "    try:\n",
    "        all_data = (pickle.load(openfile))\n",
    "    except EOFError:\n",
    "        pass"
   ],
   "metadata": {
    "collapsed": false,
    "ExecuteTime": {
     "end_time": "2023-08-26T02:48:28.417330900Z",
     "start_time": "2023-08-26T02:48:27.862913100Z"
    }
   }
  },
  {
   "cell_type": "code",
   "execution_count": 5,
   "outputs": [
    {
     "data": {
      "text/plain": "419"
     },
     "execution_count": 5,
     "metadata": {},
     "output_type": "execute_result"
    }
   ],
   "source": [
    "len(all_data)"
   ],
   "metadata": {
    "collapsed": false,
    "ExecuteTime": {
     "end_time": "2023-08-26T02:48:28.417330900Z",
     "start_time": "2023-08-26T02:48:27.985922700Z"
    }
   }
  },
  {
   "cell_type": "code",
   "execution_count": 6,
   "outputs": [],
   "source": [
    "with (open(\"music_len_to_pairing.pickle\", 'rb')) as openfile:\n",
    "    try:\n",
    "        music_len_to_pairing = (pickle.load(openfile))\n",
    "    except EOFError:\n",
    "        pass"
   ],
   "metadata": {
    "collapsed": false,
    "ExecuteTime": {
     "end_time": "2023-08-26T02:48:28.418316900Z",
     "start_time": "2023-08-26T02:48:28.003923200Z"
    }
   }
  },
  {
   "cell_type": "code",
   "execution_count": 7,
   "outputs": [
    {
     "data": {
      "text/plain": "409"
     },
     "execution_count": 7,
     "metadata": {},
     "output_type": "execute_result"
    }
   ],
   "source": [
    "len(music_len_to_pairing)"
   ],
   "metadata": {
    "collapsed": false,
    "ExecuteTime": {
     "end_time": "2023-08-26T02:48:28.418316900Z",
     "start_time": "2023-08-26T02:48:28.020517Z"
    }
   }
  },
  {
   "cell_type": "code",
   "execution_count": 8,
   "outputs": [
    {
     "data": {
      "text/plain": "array([[  0,   0,  -1, ...,  -1,  -1,  -1],\n       [  1,   0,  -1, ...,   0,   1,   0],\n       [  1,  16,  -1, ...,  16,   1,  16],\n       ...,\n       [  6,  96,   0, ...,  73,   2,  73],\n       [  6, 101,   0, ...,  73,   1,  73],\n       [  0,   1,  -1, ...,  -1,  -1,  -1]], dtype=int64)"
     },
     "execution_count": 8,
     "metadata": {},
     "output_type": "execute_result"
    }
   ],
   "source": [
    "all_data[0]"
   ],
   "metadata": {
    "collapsed": false,
    "ExecuteTime": {
     "end_time": "2023-08-26T02:48:28.418316900Z",
     "start_time": "2023-08-26T02:48:28.034527200Z"
    }
   }
  },
  {
   "cell_type": "code",
   "execution_count": 9,
   "outputs": [],
   "source": [
    "#drop index 13 of each array\n",
    "for i in range(len(all_data)):\n",
    "    all_data[i] = np.delete(all_data[i], 8, 1)"
   ],
   "metadata": {
    "collapsed": false,
    "ExecuteTime": {
     "end_time": "2023-08-26T02:48:28.419317Z",
     "start_time": "2023-08-26T02:48:28.049874Z"
    }
   }
  },
  {
   "cell_type": "code",
   "execution_count": 10,
   "outputs": [],
   "source": [
    "with open('simplified_all_data.pickle', 'wb') as f:\n",
    "    pickle.dump(all_data, f)"
   ],
   "metadata": {
    "collapsed": false,
    "ExecuteTime": {
     "end_time": "2023-08-26T02:48:28.419317Z",
     "start_time": "2023-08-26T02:48:28.146053700Z"
    }
   }
  },
  {
   "cell_type": "code",
   "execution_count": 11,
   "outputs": [],
   "source": [
    "with open('simplified_all_data.pickle', 'rb') as f:\n",
    "    fixed_all_data = pickle.load(f)"
   ],
   "metadata": {
    "collapsed": false,
    "ExecuteTime": {
     "end_time": "2023-08-26T02:48:28.519130600Z",
     "start_time": "2023-08-26T02:48:28.322064700Z"
    }
   }
  },
  {
   "cell_type": "code",
   "execution_count": 12,
   "outputs": [
    {
     "data": {
      "text/plain": "array([[  0,   0,  -1, ...,   0,  -1,  -1],\n       [  1,   0,  -1, ...,   0,   1,   0],\n       [  1,  16,  -1, ...,   0,   1,  16],\n       ...,\n       [  6,  96,   0, ...,   0,   2,  73],\n       [  6, 101,   0, ...,   0,   1,  73],\n       [  0,   1,  -1, ...,   0,  -1,  -1]], dtype=int64)"
     },
     "execution_count": 12,
     "metadata": {},
     "output_type": "execute_result"
    }
   ],
   "source": [
    "fixed_all_data[0]"
   ],
   "metadata": {
    "collapsed": false,
    "ExecuteTime": {
     "end_time": "2023-08-26T02:48:28.519130600Z",
     "start_time": "2023-08-26T02:48:28.445534200Z"
    }
   }
  },
  {
   "cell_type": "code",
   "execution_count": 13,
   "outputs": [],
   "source": [
    "full_numpy_array = np.array([])\n",
    "for i in fixed_all_data:\n",
    "    full_numpy_array = np.append(full_numpy_array, i)"
   ],
   "metadata": {
    "collapsed": false,
    "ExecuteTime": {
     "end_time": "2023-08-26T02:48:41.196259800Z",
     "start_time": "2023-08-26T02:48:28.460533700Z"
    }
   }
  },
  {
   "cell_type": "code",
   "execution_count": 14,
   "outputs": [],
   "source": [
    "full_numpy_array = np.reshape(full_numpy_array, (-1, 10))"
   ],
   "metadata": {
    "collapsed": false,
    "ExecuteTime": {
     "end_time": "2023-08-26T02:48:41.212268600Z",
     "start_time": "2023-08-26T02:48:41.200254Z"
    }
   }
  },
  {
   "cell_type": "code",
   "execution_count": 15,
   "outputs": [],
   "source": [
    "np.save('all_data.npy', full_numpy_array)"
   ],
   "metadata": {
    "collapsed": false,
    "ExecuteTime": {
     "end_time": "2023-08-26T02:48:41.695899200Z",
     "start_time": "2023-08-26T02:48:41.214259100Z"
    }
   }
  },
  {
   "cell_type": "code",
   "execution_count": 17,
   "outputs": [],
   "source": [
    "unique_numpy_array = np.unique(full_numpy_array, axis = 0)"
   ],
   "metadata": {
    "collapsed": false,
    "ExecuteTime": {
     "end_time": "2023-08-26T02:49:01.440023900Z",
     "start_time": "2023-08-26T02:48:52.376481800Z"
    }
   }
  },
  {
   "cell_type": "code",
   "execution_count": 18,
   "outputs": [],
   "source": [
    "np.save('all_unique_data.npy', unique_numpy_array)"
   ],
   "metadata": {
    "collapsed": false,
    "ExecuteTime": {
     "end_time": "2023-08-26T02:49:01.483737400Z",
     "start_time": "2023-08-26T02:49:01.443703Z"
    }
   }
  },
  {
   "cell_type": "code",
   "execution_count": 19,
   "outputs": [],
   "source": [
    "total_length = 0\n",
    "for i in all_data:\n",
    "    total_length += len(i)"
   ],
   "metadata": {
    "collapsed": false,
    "ExecuteTime": {
     "end_time": "2023-08-26T02:49:01.486656200Z",
     "start_time": "2023-08-26T02:49:01.473018100Z"
    }
   }
  },
  {
   "cell_type": "code",
   "execution_count": 20,
   "outputs": [
    {
     "data": {
      "text/plain": "2678588"
     },
     "execution_count": 20,
     "metadata": {},
     "output_type": "execute_result"
    }
   ],
   "source": [
    "total_length"
   ],
   "metadata": {
    "collapsed": false,
    "ExecuteTime": {
     "end_time": "2023-08-26T02:49:01.504688100Z",
     "start_time": "2023-08-26T02:49:01.491654800Z"
    }
   }
  },
  {
   "cell_type": "code",
   "execution_count": 21,
   "metadata": {
    "collapsed": false,
    "ExecuteTime": {
     "end_time": "2023-08-26T02:49:01.593421700Z",
     "start_time": "2023-08-26T02:49:01.507761600Z"
    }
   },
   "outputs": [
    {
     "name": "stdout",
     "output_type": "stream",
     "text": [
      "1053841\n"
     ]
    }
   ],
   "source": [
    "#get largest value within all_data\n",
    "largest_values = []\n",
    "for i in all_data:\n",
    "    largest_values.append(np.max(i))\n",
    "print(np.max(largest_values))"
   ]
  },
  {
   "cell_type": "code",
   "execution_count": 22,
   "metadata": {
    "collapsed": false,
    "ExecuteTime": {
     "end_time": "2023-08-26T02:49:01.594417900Z",
     "start_time": "2023-08-26T02:49:01.537032800Z"
    }
   },
   "outputs": [
    {
     "name": "stdout",
     "output_type": "stream",
     "text": [
      "[   242.    313.    315.    412.    460.    479.    490.    555.    616.\n",
      "    649.    663.    672.    704.    785.    819.    832.    846.    851.\n",
      "    858.    872.    878.    894.    900.    901.    977.    994.   1067.\n",
      "   1070.   1072.   1078.   1079.   1079.   1097.   1114.   1130.   1141.\n",
      "   1146.   1156.   1157.   1167.   1182.   1182.   1204.   1217.   1232.\n",
      "   1234.   1239.   1254.   1256.   1274.   1274.   1276.   1288.   1296.\n",
      "   1304.   1310.   1312.   1314.   1330.   1336.   1337.   1342.   1342.\n",
      "   1347.   1363.   1382.   1393.   1406.   1408.   1412.   1412.   1426.\n",
      "   1436.   1450.   1462.   1465.   1486.   1502.   1510.   1511.   1514.\n",
      "   1517.   1528.   1544.   1550.   1552.   1588.   1592.   1597.   1600.\n",
      "   1608.   1620.   1623.   1643.   1644.   1658.   1659.   1659.   1684.\n",
      "   1688.   1696.   1725.   1736.   1738.   1746.   1758.   1789.   1790.\n",
      "   1799.   1808.   1808.   1858.   1862.   1887.   1901.   1922.   1934.\n",
      "   1940.   1940.   1941.   1943.   1950.   1962.   1971.   1973.   2007.\n",
      "   2013.   2021.   2042.   2043.   2050.   2061.   2090.   2115.   2126.\n",
      "   2126.   2148.   2158.   2158.   2189.   2210.   2210.   2238.   2246.\n",
      "   2248.   2274.   2285.   2312.   2323.   2329.   2372.   2394.   2395.\n",
      "   2432.   2442.   2481.   2530.   2536.   2583.   2599.   2600.   2602.\n",
      "   2606.   2612.   2636.   2655.   2727.   2730.   2774.   2779.   2780.\n",
      "   2792.   2796.   2813.   2847.   2852.   2879.   2882.   2904.   2904.\n",
      "   2918.   2925.   2942.   2967.   2984.   3020.   3090.   3116.   3144.\n",
      "   3179.   3182.   3194.   3228.   3235.   3250.   3255.   3256.   3268.\n",
      "   3273.   3292.   3294.   3297.   3312.   3325.   3364.   3366.   3390.\n",
      "   3390.   3404.   3404.   3419.   3443.   3450.   3456.   3485.   3498.\n",
      "   3539.   3543.   3562.   3571.   3590.   3641.   3646.   3662.   3714.\n",
      "   3750.   3818.   3850.   3856.   3878.   3918.   3954.   3954.   3960.\n",
      "   3967.   3978.   4060.   4110.   4112.   4120.   4148.   4173.   4205.\n",
      "   4265.   4299.   4300.   4305.   4317.   4336.   4337.   4359.   4391.\n",
      "   4401.   4420.   4487.   4501.   4555.   4576.   4645.   4674.   4692.\n",
      "   4711.   4716.   4720.   4722.   4745.   4780.   4813.   4825.   4854.\n",
      "   4866.   4916.   4948.   5008.   5064.   5092.   5096.   5160.   5193.\n",
      "   5266.   5307.   5367.   5372.   5415.   5436.   5458.   5490.   5540.\n",
      "   5571.   5734.   5748.   5783.   5850.   5899.   5926.   6047.   6072.\n",
      "   6097.   6103.   6127.   6156.   6176.   6243.   6248.   6250.   6262.\n",
      "   6303.   6303.   6310.   6334.   6343.   6402.   6426.   6433.   6610.\n",
      "   6660.   6768.   6849.   6888.   6896.   6941.   7269.   7276.   7305.\n",
      "   7390.   7430.   7462.   7554.   7563.   7616.   7622.   7656.   7717.\n",
      "   7822.   7838.   7968.   8008.   8017.   8075.   8102.   8318.   8344.\n",
      "   8370.   8425.   8502.   8784.   9083.   9178.   9179.   9262.   9356.\n",
      "   9370.   9384.   9474.   9476.   9487.   9523.   9562.   9620.   9709.\n",
      "   9776.   9806.   9836.  10234.  10271.  10310.  10780.  10798.  11074.\n",
      "  11240.  11414.  11709.  11770.  12683.  12862.  12876.  12896.  12972.\n",
      "  12999.  13006.  13124.  13762.  13941.  15226.  15509.  15572.  16250.\n",
      "  17206.  17428.  18086.  18110.  18136.  18697.  18928.  19312.  19911.\n",
      "  20567.  20592.  20675.  20870.  20974.  25388.  28633.  30382.  31673.\n",
      "  32613.  32991.  33798.  34596.  39192.  39251.  41753.  41901.  43869.\n",
      "  44073.  57541.  66644.  77053. 102524.]\n"
     ]
    }
   ],
   "source": [
    "largest_lengths = np.array([])\n",
    "for i in all_data:\n",
    "    largest_lengths = np.append(largest_lengths, len(i))\n",
    "largest_lengths = np.sort(largest_lengths)\n",
    "print(largest_lengths)"
   ]
  },
  {
   "cell_type": "code",
   "execution_count": 23,
   "outputs": [
    {
     "data": {
      "text/plain": "array([   242.,    313.,    315.,    412.,    460.,    479.,    490.,\n          555.,    616.,    649.,    663.,    672.,    704.,    785.,\n          819.,    832.,    846.,    851.,    858.,    872.,    878.,\n          894.,    900.,    901.,    977.,    994.,   1067.,   1070.,\n         1072.,   1078.,   1079.,   1079.,   1097.,   1114.,   1130.,\n         1141.,   1146.,   1156.,   1157.,   1167.,   1182.,   1182.,\n         1204.,   1217.,   1232.,   1234.,   1239.,   1254.,   1256.,\n         1274.,   1274.,   1276.,   1288.,   1296.,   1304.,   1310.,\n         1312.,   1314.,   1330.,   1336.,   1337.,   1342.,   1342.,\n         1347.,   1363.,   1382.,   1393.,   1406.,   1408.,   1412.,\n         1412.,   1426.,   1436.,   1450.,   1462.,   1465.,   1486.,\n         1502.,   1510.,   1511.,   1514.,   1517.,   1528.,   1544.,\n         1550.,   1552.,   1588.,   1592.,   1597.,   1600.,   1608.,\n         1620.,   1623.,   1643.,   1644.,   1658.,   1659.,   1659.,\n         1684.,   1688.,   1696.,   1725.,   1736.,   1738.,   1746.,\n         1758.,   1789.,   1790.,   1799.,   1808.,   1808.,   1858.,\n         1862.,   1887.,   1901.,   1922.,   1934.,   1940.,   1940.,\n         1941.,   1943.,   1950.,   1962.,   1971.,   1973.,   2007.,\n         2013.,   2021.,   2042.,   2043.,   2050.,   2061.,   2090.,\n         2115.,   2126.,   2126.,   2148.,   2158.,   2158.,   2189.,\n         2210.,   2210.,   2238.,   2246.,   2248.,   2274.,   2285.,\n         2312.,   2323.,   2329.,   2372.,   2394.,   2395.,   2432.,\n         2442.,   2481.,   2530.,   2536.,   2583.,   2599.,   2600.,\n         2602.,   2606.,   2612.,   2636.,   2655.,   2727.,   2730.,\n         2774.,   2779.,   2780.,   2792.,   2796.,   2813.,   2847.,\n         2852.,   2879.,   2882.,   2904.,   2904.,   2918.,   2925.,\n         2942.,   2967.,   2984.,   3020.,   3090.,   3116.,   3144.,\n         3179.,   3182.,   3194.,   3228.,   3235.,   3250.,   3255.,\n         3256.,   3268.,   3273.,   3292.,   3294.,   3297.,   3312.,\n         3325.,   3364.,   3366.,   3390.,   3390.,   3404.,   3404.,\n         3419.,   3443.,   3450.,   3456.,   3485.,   3498.,   3539.,\n         3543.,   3562.,   3571.,   3590.,   3641.,   3646.,   3662.,\n         3714.,   3750.,   3818.,   3850.,   3856.,   3878.,   3918.,\n         3954.,   3954.,   3960.,   3967.,   3978.,   4060.,   4110.,\n         4112.,   4120.,   4148.,   4173.,   4205.,   4265.,   4299.,\n         4300.,   4305.,   4317.,   4336.,   4337.,   4359.,   4391.,\n         4401.,   4420.,   4487.,   4501.,   4555.,   4576.,   4645.,\n         4674.,   4692.,   4711.,   4716.,   4720.,   4722.,   4745.,\n         4780.,   4813.,   4825.,   4854.,   4866.,   4916.,   4948.,\n         5008.,   5064.,   5092.,   5096.,   5160.,   5193.,   5266.,\n         5307.,   5367.,   5372.,   5415.,   5436.,   5458.,   5490.,\n         5540.,   5571.,   5734.,   5748.,   5783.,   5850.,   5899.,\n         5926.,   6047.,   6072.,   6097.,   6103.,   6127.,   6156.,\n         6176.,   6243.,   6248.,   6250.,   6262.,   6303.,   6303.,\n         6310.,   6334.,   6343.,   6402.,   6426.,   6433.,   6610.,\n         6660.,   6768.,   6849.,   6888.,   6896.,   6941.,   7269.,\n         7276.,   7305.,   7390.,   7430.,   7462.,   7554.,   7563.,\n         7616.,   7622.,   7656.,   7717.,   7822.,   7838.,   7968.,\n         8008.,   8017.,   8075.,   8102.,   8318.,   8344.,   8370.,\n         8425.,   8502.,   8784.,   9083.,   9178.,   9179.,   9262.,\n         9356.,   9370.,   9384.,   9474.,   9476.,   9487.,   9523.,\n         9562.,   9620.,   9709.,   9776.,   9806.,   9836.,  10234.,\n        10271.,  10310.,  10780.,  10798.,  11074.,  11240.,  11414.,\n        11709.,  11770.,  12683.,  12862.,  12876.,  12896.,  12972.,\n        12999.,  13006.,  13124.,  13762.,  13941.,  15226.,  15509.,\n        15572.,  16250.,  17206.,  17428.,  18086.,  18110.,  18136.,\n        18697.,  18928.,  19312.,  19911.,  20567.,  20592.,  20675.,\n        20870.,  20974.,  25388.,  28633.,  30382.,  31673.,  32613.,\n        32991.,  33798.,  34596.,  39192.,  39251.,  41753.,  41901.,\n        43869.,  44073.,  57541.,  66644.,  77053., 102524.])"
     },
     "execution_count": 23,
     "metadata": {},
     "output_type": "execute_result"
    }
   ],
   "source": [
    "largest_lengths"
   ],
   "metadata": {
    "collapsed": false,
    "ExecuteTime": {
     "end_time": "2023-08-26T02:49:01.595417900Z",
     "start_time": "2023-08-26T02:49:01.551029700Z"
    }
   }
  },
  {
   "cell_type": "code",
   "execution_count": null,
   "outputs": [],
   "source": [
    "all_numpy_data = np.load(\"all_data.npy\")"
   ],
   "metadata": {
    "collapsed": false,
    "ExecuteTime": {
     "start_time": "2023-08-26T02:48:49.875566300Z"
    }
   }
  },
  {
   "cell_type": "code",
   "execution_count": null,
   "outputs": [],
   "source": [
    "np.count_nonzero(all_numpy_data[:,5] == 0)"
   ],
   "metadata": {
    "collapsed": false,
    "ExecuteTime": {
     "start_time": "2023-08-26T02:48:49.878565200Z"
    }
   }
  },
  {
   "cell_type": "code",
   "execution_count": null,
   "outputs": [],
   "source": [
    "all_numpy_data[0]"
   ],
   "metadata": {
    "collapsed": false,
    "ExecuteTime": {
     "start_time": "2023-08-26T02:48:49.881567100Z"
    }
   }
  },
  {
   "cell_type": "code",
   "execution_count": null,
   "outputs": [],
   "source": [
    "un_full_data = np.load('all_unique_data.npy')"
   ],
   "metadata": {
    "collapsed": false,
    "ExecuteTime": {
     "start_time": "2023-08-26T02:48:49.883567400Z"
    }
   }
  },
  {
   "cell_type": "code",
   "execution_count": null,
   "outputs": [],
   "source": [
    "'''[note_on_note, note_on_velocity,\n",
    "        control_change_control, control_change_value, program_change_program,\n",
    "        end_marking, set_tempo_tempo,\n",
    "        time_sig_num, itme_sig_den, time_sig_clocksperclick, time_sig_notated_32nd,\n",
    "        key_sig(turn into numbers), [time], instrument_type, instrument_num, orig_instrument_type]'''"
   ],
   "metadata": {
    "collapsed": false,
    "ExecuteTime": {
     "start_time": "2023-08-26T02:48:49.887567800Z"
    }
   }
  },
  {
   "cell_type": "code",
   "execution_count": null,
   "outputs": [],
   "source": [
    "len(un_full_data)"
   ],
   "metadata": {
    "collapsed": false,
    "ExecuteTime": {
     "start_time": "2023-08-26T02:48:49.889564400Z"
    }
   }
  },
  {
   "cell_type": "code",
   "execution_count": null,
   "outputs": [],
   "source": [
    "data_wo_time = un_full_data[:,[0,1,2,3,4,5,6,7,8,9,10,11,13,14,15]]"
   ],
   "metadata": {
    "collapsed": false,
    "ExecuteTime": {
     "start_time": "2023-08-26T02:48:49.891567200Z"
    }
   }
  },
  {
   "cell_type": "code",
   "execution_count": null,
   "outputs": [],
   "source": [
    "data_wo_time = np.unique(data_wo_time, axis = 0)"
   ],
   "metadata": {
    "collapsed": false,
    "ExecuteTime": {
     "start_time": "2023-08-26T02:48:49.894564600Z"
    }
   }
  },
  {
   "cell_type": "code",
   "execution_count": null,
   "outputs": [],
   "source": [
    "len(data_wo_time)"
   ],
   "metadata": {
    "collapsed": false,
    "ExecuteTime": {
     "start_time": "2023-08-26T02:48:49.896565800Z"
    }
   }
  },
  {
   "cell_type": "code",
   "execution_count": null,
   "outputs": [],
   "source": [
    "data_instrs = un_full_data[:,[13,14,15]]"
   ],
   "metadata": {
    "collapsed": false,
    "ExecuteTime": {
     "start_time": "2023-08-26T02:48:49.899565Z"
    }
   }
  },
  {
   "cell_type": "code",
   "execution_count": null,
   "outputs": [],
   "source": [
    "data_instrs = np.unique(data_instrs, axis = 0)"
   ],
   "metadata": {
    "collapsed": false,
    "ExecuteTime": {
     "start_time": "2023-08-26T02:48:49.902565600Z"
    }
   }
  },
  {
   "cell_type": "code",
   "execution_count": null,
   "outputs": [],
   "source": [
    "len(data_instrs)"
   ],
   "metadata": {
    "collapsed": false,
    "ExecuteTime": {
     "end_time": "2023-08-26T02:48:49.924565700Z",
     "start_time": "2023-08-26T02:48:49.905566200Z"
    }
   }
  },
  {
   "cell_type": "code",
   "execution_count": null,
   "outputs": [],
   "source": [
    "data_instrs_wo_instr_type = un_full_data[:,[14,15]]"
   ],
   "metadata": {
    "collapsed": false,
    "ExecuteTime": {
     "start_time": "2023-08-26T02:48:49.908565600Z"
    }
   }
  },
  {
   "cell_type": "code",
   "execution_count": null,
   "outputs": [],
   "source": [
    "data_instrs_wo_instr_type = np.unique(data_instrs_wo_instr_type, axis = 0)"
   ],
   "metadata": {
    "collapsed": false,
    "ExecuteTime": {
     "start_time": "2023-08-26T02:48:49.911565Z"
    }
   }
  },
  {
   "cell_type": "code",
   "execution_count": null,
   "outputs": [],
   "source": [
    "len(data_instrs_wo_instr_type)"
   ],
   "metadata": {
    "collapsed": false,
    "ExecuteTime": {
     "start_time": "2023-08-26T02:48:49.914567300Z"
    }
   }
  },
  {
   "cell_type": "code",
   "execution_count": null,
   "outputs": [],
   "source": [
    "data_wo_instruments_or_time = un_full_data[:,[0,1,2,3,4,5,6,7,8,9,10,11]]"
   ],
   "metadata": {
    "collapsed": false,
    "ExecuteTime": {
     "start_time": "2023-08-26T02:48:49.915566100Z"
    }
   }
  },
  {
   "cell_type": "code",
   "execution_count": null,
   "outputs": [],
   "source": [
    "data_wo_instruments_or_time = np.unique(data_wo_instruments_or_time, axis = 0)"
   ],
   "metadata": {
    "collapsed": false,
    "ExecuteTime": {
     "start_time": "2023-08-26T02:48:49.918564600Z"
    }
   }
  },
  {
   "cell_type": "code",
   "execution_count": null,
   "outputs": [],
   "source": [
    "len(data_wo_instruments_or_time)"
   ],
   "metadata": {
    "collapsed": false,
    "ExecuteTime": {
     "start_time": "2023-08-26T02:48:49.920566300Z"
    }
   }
  },
  {
   "cell_type": "code",
   "execution_count": null,
   "outputs": [],
   "source": [
    "data_time_sig_num_den = un_full_data[:,[7,8]]"
   ],
   "metadata": {
    "collapsed": false,
    "ExecuteTime": {
     "start_time": "2023-08-26T02:48:49.921566Z"
    }
   }
  },
  {
   "cell_type": "code",
   "execution_count": null,
   "outputs": [],
   "source": [
    "data_time_sig_num_den = np.unique(data_time_sig_num_den, axis = 0)"
   ],
   "metadata": {
    "collapsed": false,
    "ExecuteTime": {
     "start_time": "2023-08-26T02:48:49.923566Z"
    }
   }
  },
  {
   "cell_type": "code",
   "execution_count": null,
   "outputs": [],
   "source": [
    "len(data_time_sig_num_den)"
   ],
   "metadata": {
    "collapsed": false,
    "ExecuteTime": {
     "start_time": "2023-08-26T02:48:49.924565700Z"
    }
   }
  },
  {
   "cell_type": "code",
   "execution_count": null,
   "outputs": [],
   "source": [
    "data_time_sig_num_den"
   ],
   "metadata": {
    "collapsed": false,
    "ExecuteTime": {
     "end_time": "2023-08-26T02:48:49.970773600Z",
     "start_time": "2023-08-26T02:48:49.925567100Z"
    }
   }
  },
  {
   "cell_type": "code",
   "execution_count": null,
   "outputs": [],
   "source": [
    "# what the heck is 15/16 time??"
   ],
   "metadata": {
    "collapsed": false,
    "ExecuteTime": {
     "start_time": "2023-08-26T02:48:49.926565400Z"
    }
   }
  },
  {
   "cell_type": "code",
   "execution_count": null,
   "outputs": [],
   "source": [
    "times = un_full_data[:,[12]]"
   ],
   "metadata": {
    "collapsed": false,
    "ExecuteTime": {
     "start_time": "2023-08-26T02:48:49.927565600Z"
    }
   }
  },
  {
   "cell_type": "code",
   "execution_count": null,
   "outputs": [],
   "source": [
    "times = np.unique(times, axis = 0)"
   ],
   "metadata": {
    "collapsed": false,
    "ExecuteTime": {
     "start_time": "2023-08-26T02:48:49.929565500Z"
    }
   }
  },
  {
   "cell_type": "code",
   "execution_count": null,
   "outputs": [],
   "source": [
    "len(times)"
   ],
   "metadata": {
    "collapsed": false,
    "ExecuteTime": {
     "start_time": "2023-08-26T02:48:49.930565500Z"
    }
   }
  },
  {
   "cell_type": "code",
   "execution_count": null,
   "outputs": [],
   "source": [
    "times"
   ],
   "metadata": {
    "collapsed": false,
    "ExecuteTime": {
     "start_time": "2023-08-26T02:48:49.931566Z"
    }
   }
  },
  {
   "cell_type": "code",
   "execution_count": null,
   "outputs": [],
   "source": [
    "# data with times and instruments\n",
    "data_time_and_instrs = un_full_data[:,[12,13,14,15]]"
   ],
   "metadata": {
    "collapsed": false,
    "ExecuteTime": {
     "start_time": "2023-08-26T02:48:49.933565400Z"
    }
   }
  },
  {
   "cell_type": "code",
   "execution_count": null,
   "outputs": [],
   "source": [
    "data_time_and_instrs = np.unique(data_time_and_instrs, axis = 0)"
   ],
   "metadata": {
    "collapsed": false,
    "ExecuteTime": {
     "start_time": "2023-08-26T02:48:49.934567200Z"
    }
   }
  },
  {
   "cell_type": "code",
   "execution_count": null,
   "outputs": [],
   "source": [
    "len(data_time_and_instrs)"
   ],
   "metadata": {
    "collapsed": false,
    "ExecuteTime": {
     "start_time": "2023-08-26T02:48:49.936570600Z"
    }
   }
  },
  {
   "cell_type": "code",
   "execution_count": null,
   "outputs": [],
   "source": [
    "data_time_and_instrs"
   ],
   "metadata": {
    "collapsed": false,
    "ExecuteTime": {
     "start_time": "2023-08-26T02:48:49.937566900Z"
    }
   }
  },
  {
   "cell_type": "code",
   "execution_count": null,
   "outputs": [],
   "source": [
    "data_time_and_instrs_wo_instr_type = un_full_data[:,[12,14,15]]"
   ],
   "metadata": {
    "collapsed": false,
    "ExecuteTime": {
     "start_time": "2023-08-26T02:48:49.939565300Z"
    }
   }
  },
  {
   "cell_type": "code",
   "execution_count": null,
   "outputs": [],
   "source": [
    "data_time_and_instrs_wo_instr_type = np.unique(data_time_and_instrs_wo_instr_type, axis = 0)"
   ],
   "metadata": {
    "collapsed": false,
    "ExecuteTime": {
     "start_time": "2023-08-26T02:48:49.940563800Z"
    }
   }
  },
  {
   "cell_type": "code",
   "execution_count": null,
   "outputs": [],
   "source": [
    "len(data_time_and_instrs_wo_instr_type)"
   ],
   "metadata": {
    "collapsed": false,
    "ExecuteTime": {
     "start_time": "2023-08-26T02:48:49.941566400Z"
    }
   }
  },
  {
   "cell_type": "code",
   "execution_count": null,
   "outputs": [],
   "source": [
    "data_time_and_instrs_wo_instr_type"
   ],
   "metadata": {
    "collapsed": false,
    "ExecuteTime": {
     "start_time": "2023-08-26T02:48:49.942566700Z"
    }
   }
  },
  {
   "cell_type": "code",
   "execution_count": null,
   "outputs": [],
   "source": [],
   "metadata": {
    "collapsed": false,
    "ExecuteTime": {
     "start_time": "2023-08-26T02:48:49.944567800Z"
    }
   }
  }
 ],
 "metadata": {
  "kernelspec": {
   "display_name": "Python 3",
   "language": "python",
   "name": "python3"
  },
  "language_info": {
   "codemirror_mode": {
    "name": "ipython",
    "version": 3
   },
   "file_extension": ".py",
   "mimetype": "text/x-python",
   "name": "python",
   "nbconvert_exporter": "python",
   "pygments_lexer": "ipython3",
   "version": "3.11.3"
  }
 },
 "nbformat": 4,
 "nbformat_minor": 0
}
