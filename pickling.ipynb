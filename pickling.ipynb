{
 "cells": [
  {
   "cell_type": "code",
   "execution_count": 1,
   "outputs": [],
   "source": [
    "import numpy as np\n",
    "import pickle"
   ],
   "metadata": {
    "collapsed": false,
    "ExecuteTime": {
     "end_time": "2023-07-26T03:14:53.236177700Z",
     "start_time": "2023-07-26T03:14:53.100193100Z"
    }
   }
  },
  {
   "cell_type": "code",
   "execution_count": 2,
   "metadata": {
    "collapsed": true,
    "ExecuteTime": {
     "end_time": "2023-07-26T03:14:53.361705200Z",
     "start_time": "2023-07-26T03:14:53.236177700Z"
    }
   },
   "outputs": [],
   "source": [
    "all_data = np.load('all_data.pickle', allow_pickle=True)"
   ]
  },
  {
   "cell_type": "code",
   "execution_count": 12,
   "outputs": [],
   "source": [
    "# turn all into one big 2d array\n",
    "full_data = np.array([])\n",
    "for i in range(len(all_data)):\n",
    "    full_data = np.append(full_data, all_data[i])"
   ],
   "metadata": {
    "collapsed": false,
    "ExecuteTime": {
     "end_time": "2023-07-26T03:24:00.174464Z",
     "start_time": "2023-07-26T03:23:46.704255900Z"
    }
   }
  },
  {
   "cell_type": "code",
   "execution_count": 13,
   "outputs": [
    {
     "name": "stdout",
     "output_type": "stream",
     "text": [
      "(2384400, 16)\n"
     ]
    }
   ],
   "source": [
    "full_data = full_data.reshape((-1,16))\n",
    "print(full_data.shape)\n",
    "full_data = np.unique(full_data, axis = 0)"
   ],
   "metadata": {
    "collapsed": false,
    "ExecuteTime": {
     "end_time": "2023-07-26T03:24:08.484312Z",
     "start_time": "2023-07-26T03:24:00.177470200Z"
    }
   }
  },
  {
   "cell_type": "code",
   "execution_count": 6,
   "outputs": [],
   "source": [
    "np.set_printoptions(threshold=np.inf)\n",
    "np.set_printoptions(linewidth=np.inf)"
   ],
   "metadata": {
    "collapsed": false,
    "ExecuteTime": {
     "end_time": "2023-07-26T03:18:52.515608200Z",
     "start_time": "2023-07-26T03:18:52.508607800Z"
    }
   }
  },
  {
   "cell_type": "code",
   "execution_count": 14,
   "outputs": [],
   "source": [
    "all_data = full_data.reshape((-1, 16))"
   ],
   "metadata": {
    "collapsed": false,
    "ExecuteTime": {
     "end_time": "2023-07-26T03:25:16.064711100Z",
     "start_time": "2023-07-26T03:25:16.031715900Z"
    }
   }
  },
  {
   "cell_type": "code",
   "execution_count": 15,
   "outputs": [
    {
     "name": "stdout",
     "output_type": "stream",
     "text": [
      "377730\n"
     ]
    }
   ],
   "source": [
    "print(len(all_data))"
   ],
   "metadata": {
    "collapsed": false,
    "ExecuteTime": {
     "end_time": "2023-07-26T03:25:18.414953400Z",
     "start_time": "2023-07-26T03:25:18.401956100Z"
    }
   }
  },
  {
   "cell_type": "code",
   "execution_count": 16,
   "outputs": [],
   "source": [
    "num_to_array = {}\n",
    "array_to_num = {}"
   ],
   "metadata": {
    "collapsed": false,
    "ExecuteTime": {
     "end_time": "2023-07-26T03:25:31.152393600Z",
     "start_time": "2023-07-26T03:25:31.143385600Z"
    }
   }
  },
  {
   "cell_type": "code",
   "execution_count": 17,
   "outputs": [],
   "source": [
    "for num, array in enumerate(all_data):\n",
    "    array_to_num[f'a{str(array)}'] = num\n",
    "    num_to_array[num] = array"
   ],
   "metadata": {
    "collapsed": false,
    "ExecuteTime": {
     "end_time": "2023-07-26T03:27:18.566487400Z",
     "start_time": "2023-07-26T03:25:38.116596300Z"
    }
   }
  },
  {
   "cell_type": "code",
   "execution_count": 18,
   "outputs": [],
   "source": [
    "with open('num_to_array.pickle', 'wb') as file:\n",
    "    pickle.dump(num_to_array, file)"
   ],
   "metadata": {
    "collapsed": false,
    "ExecuteTime": {
     "end_time": "2023-07-26T03:27:20.339837500Z",
     "start_time": "2023-07-26T03:27:18.566487400Z"
    }
   }
  },
  {
   "cell_type": "code",
   "execution_count": 19,
   "outputs": [],
   "source": [
    "with open('array_to_num.pickle', 'wb') as file:\n",
    "    pickle.dump(array_to_num, file)"
   ],
   "metadata": {
    "collapsed": false,
    "ExecuteTime": {
     "end_time": "2023-07-26T03:27:20.453433300Z",
     "start_time": "2023-07-26T03:27:20.339837500Z"
    }
   }
  },
  {
   "cell_type": "code",
   "execution_count": null,
   "outputs": [],
   "source": [
    "'''[note_on_note, note_on_velocity,\n",
    "        control_change_control, control_change_value, program_change_program,\n",
    "        end_marking, set_tempo_tempo,\n",
    "        time_sig_num, itme_sig_den, time_sig_clocksperclick, time_sig_notated_32nd,\n",
    "        key_sig(turn into numbers), [time], instrument_type, instrument_num, orig_instrument_type]'''"
   ],
   "metadata": {
    "collapsed": false
   }
  },
  {
   "cell_type": "code",
   "execution_count": null,
   "outputs": [],
   "source": [],
   "metadata": {
    "collapsed": false
   }
  }
 ],
 "metadata": {
  "kernelspec": {
   "display_name": "Python 3",
   "language": "python",
   "name": "python3"
  },
  "language_info": {
   "codemirror_mode": {
    "name": "ipython",
    "version": 2
   },
   "file_extension": ".py",
   "mimetype": "text/x-python",
   "name": "python",
   "nbconvert_exporter": "python",
   "pygments_lexer": "ipython2",
   "version": "2.7.6"
  }
 },
 "nbformat": 4,
 "nbformat_minor": 0
}
