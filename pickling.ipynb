{
 "cells": [
  {
   "cell_type": "code",
   "execution_count": 1,
   "outputs": [],
   "source": [
    "import numpy as np\n",
    "import pickle"
   ],
   "metadata": {
    "collapsed": false,
    "ExecuteTime": {
     "end_time": "2023-07-27T02:32:55.962965500Z",
     "start_time": "2023-07-27T02:32:55.849892600Z"
    }
   }
  },
  {
   "cell_type": "code",
   "execution_count": 2,
   "metadata": {
    "collapsed": true,
    "ExecuteTime": {
     "end_time": "2023-07-27T02:32:56.090673100Z",
     "start_time": "2023-07-27T02:32:55.964964700Z"
    }
   },
   "outputs": [],
   "source": [
    "all_data = np.load('all_data.pickle', allow_pickle=True)"
   ]
  },
  {
   "cell_type": "code",
   "execution_count": 3,
   "outputs": [],
   "source": [
    "# turn all into one big 2d array\n",
    "full_data = np.array([])\n",
    "for i in range(len(all_data)):\n",
    "    full_data = np.append(full_data, all_data[i])"
   ],
   "metadata": {
    "collapsed": false,
    "ExecuteTime": {
     "end_time": "2023-07-27T02:33:11.160770200Z",
     "start_time": "2023-07-27T02:32:56.095214Z"
    }
   }
  },
  {
   "cell_type": "code",
   "execution_count": 4,
   "outputs": [
    {
     "name": "stdout",
     "output_type": "stream",
     "text": [
      "(2384400, 16)\n"
     ]
    }
   ],
   "source": [
    "full_data = full_data.reshape((-1,16))\n",
    "print(full_data.shape)\n",
    "full_data = np.unique(full_data, axis = 0)"
   ],
   "metadata": {
    "collapsed": false,
    "ExecuteTime": {
     "end_time": "2023-07-27T02:33:21.925485500Z",
     "start_time": "2023-07-27T02:33:11.161770900Z"
    }
   }
  },
  {
   "cell_type": "code",
   "execution_count": 5,
   "outputs": [],
   "source": [
    "np.set_printoptions(threshold=np.inf)\n",
    "np.set_printoptions(linewidth=np.inf)"
   ],
   "metadata": {
    "collapsed": false,
    "ExecuteTime": {
     "end_time": "2023-07-27T02:33:21.940486900Z",
     "start_time": "2023-07-27T02:33:21.930780Z"
    }
   }
  },
  {
   "cell_type": "code",
   "execution_count": 6,
   "outputs": [],
   "source": [
    "all_data = full_data.reshape((-1, 16))\n",
    "all_data = all_data.astype(int)"
   ],
   "metadata": {
    "collapsed": false,
    "ExecuteTime": {
     "end_time": "2023-07-27T02:33:22.004025200Z",
     "start_time": "2023-07-27T02:33:21.946487Z"
    }
   }
  },
  {
   "cell_type": "code",
   "execution_count": 7,
   "outputs": [
    {
     "name": "stdout",
     "output_type": "stream",
     "text": [
      "377730\n"
     ]
    }
   ],
   "source": [
    "print(len(all_data))"
   ],
   "metadata": {
    "collapsed": false,
    "ExecuteTime": {
     "end_time": "2023-07-27T02:33:22.020491Z",
     "start_time": "2023-07-27T02:33:22.007466Z"
    }
   }
  },
  {
   "cell_type": "code",
   "execution_count": 8,
   "outputs": [],
   "source": [
    "num_to_array = {}\n",
    "array_to_num = {}"
   ],
   "metadata": {
    "collapsed": false,
    "ExecuteTime": {
     "end_time": "2023-07-27T02:33:22.078079700Z",
     "start_time": "2023-07-27T02:33:22.022490100Z"
    }
   }
  },
  {
   "cell_type": "code",
   "execution_count": 9,
   "outputs": [],
   "source": [
    "for num, array in enumerate(all_data):\n",
    "    array_to_num[f'a{str(array)}'] = num\n",
    "    num_to_array[num] = array"
   ],
   "metadata": {
    "collapsed": false,
    "ExecuteTime": {
     "end_time": "2023-07-27T02:33:55.583329600Z",
     "start_time": "2023-07-27T02:33:22.037550900Z"
    }
   }
  },
  {
   "cell_type": "code",
   "execution_count": 10,
   "outputs": [],
   "source": [
    "with open('num_to_array.pickle', 'wb') as file:\n",
    "    pickle.dump(num_to_array, file)"
   ],
   "metadata": {
    "collapsed": false,
    "ExecuteTime": {
     "end_time": "2023-07-27T02:33:57.537265100Z",
     "start_time": "2023-07-27T02:33:55.585612800Z"
    }
   }
  },
  {
   "cell_type": "code",
   "execution_count": 11,
   "outputs": [],
   "source": [
    "with open('array_to_num.pickle', 'wb') as file:\n",
    "    pickle.dump(array_to_num, file)"
   ],
   "metadata": {
    "collapsed": false,
    "ExecuteTime": {
     "end_time": "2023-07-27T02:33:57.711135900Z",
     "start_time": "2023-07-27T02:33:57.541338100Z"
    }
   }
  },
  {
   "cell_type": "code",
   "execution_count": 12,
   "outputs": [
    {
     "data": {
      "text/plain": "'[note_on_note, note_on_velocity,\\n        control_change_control, control_change_value, program_change_program,\\n        end_marking, set_tempo_tempo,\\n        time_sig_num, itme_sig_den, time_sig_clocksperclick, time_sig_notated_32nd,\\n        key_sig(turn into numbers), [time], instrument_type, instrument_num, orig_instrument_type]'"
     },
     "execution_count": 12,
     "metadata": {},
     "output_type": "execute_result"
    }
   ],
   "source": [
    "'''[note_on_note, note_on_velocity,\n",
    "        control_change_control, control_change_value, program_change_program,\n",
    "        end_marking, set_tempo_tempo,\n",
    "        time_sig_num, itme_sig_den, time_sig_clocksperclick, time_sig_notated_32nd,\n",
    "        key_sig(turn into numbers), [time], instrument_type, instrument_num, orig_instrument_type]'''"
   ],
   "metadata": {
    "collapsed": false,
    "ExecuteTime": {
     "end_time": "2023-07-27T02:33:57.726168300Z",
     "start_time": "2023-07-27T02:33:57.713135800Z"
    }
   }
  },
  {
   "cell_type": "code",
   "execution_count": 12,
   "outputs": [],
   "source": [],
   "metadata": {
    "collapsed": false,
    "ExecuteTime": {
     "end_time": "2023-07-27T02:33:57.769485300Z",
     "start_time": "2023-07-27T02:33:57.727134600Z"
    }
   }
  }
 ],
 "metadata": {
  "kernelspec": {
   "display_name": "Python 3",
   "language": "python",
   "name": "python3"
  },
  "language_info": {
   "codemirror_mode": {
    "name": "ipython",
    "version": 2
   },
   "file_extension": ".py",
   "mimetype": "text/x-python",
   "name": "python",
   "nbconvert_exporter": "python",
   "pygments_lexer": "ipython2",
   "version": "2.7.6"
  }
 },
 "nbformat": 4,
 "nbformat_minor": 0
}
