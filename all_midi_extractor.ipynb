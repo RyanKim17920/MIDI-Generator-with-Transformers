{
 "cells": [
  {
   "cell_type": "code",
   "execution_count": 1,
   "metadata": {
    "collapsed": true,
    "ExecuteTime": {
     "end_time": "2023-07-26T02:59:28.618410100Z",
     "start_time": "2023-07-26T02:59:28.451608800Z"
    }
   },
   "outputs": [],
   "source": [
    "import os\n",
    "import numpy as np\n",
    "import pickle\n",
    "from MIDI_data_extractor import MIDI_data_extractor"
   ]
  },
  {
   "cell_type": "code",
   "execution_count": 2,
   "outputs": [
    {
     "name": "stdout",
     "output_type": "stream",
     "text": [
      "['18 Leipzig Chorale Preludes for Organ', 'A Musical Offering  ·  BWV 1079', 'Brandenburg Concerto No. 1 in F Major - BWV 1046', 'Cantatas', 'Chamber Music', 'Christmas Oratorio  ·  BWV 248', 'Concertos', 'English Suites', 'Fifteen Three-Part Sinfonias BWV 787-801 - Complete', 'Fifteen Two-Part Inventions BWV 772-786 - Complete', 'Four Duets BWV 802-805', 'Inventions', 'Keyboard Works', 'Magnificat in D major  ·  BWV 243', 'Mass in B Minor - BWV 232', 'Miscellaneous Canons', 'Miscellaneous Works 894, 895, 899, 900, 901, 903', 'Miscellaneous Works 963,965,966,967,989,992,993', 'Miscellaneous Works BWV 818,819,820,823,832,833,835,841,844', 'Organ Works', 'Partita in A minor for Solo Flute - BWV 1013', 'Seven Tocattas BWV 910-916 - Complete', 'Sinfonias', 'Six English Suites BWV 806-811 - Complete', 'Six French Suites BWV 812-817 - Complete', 'Six Partitas BWV 825-830 - Complete', 'Sonatas and Partitas for Solo Violin', 'Sonatas for Violin and Harpsichord', 'Suites for Solo Cello', 'The Art of Fugue', 'The Four Orchestral Suites', 'The Goldberg Variations - BWV 988', 'The Well-Tempered Clavier Book I BWV 846-869 - Complete', 'The Well-Tempered Clavier Book II ( Nos. 1-12 ) BWV 870-881', 'Viola da Gamba Sonatas  ·  BWV 1027-1029', 'Works for Solo Lute'] []\n",
      "[] ['bwv651.mid', 'bwv652.mid', 'bwv653.mid', 'bwv654.mid', 'bwv655.mid', 'bwv656.mid', 'bwv657.mid', 'bwv658.mid', 'bwv659.mid', 'bwv660.mid', 'bwv661.mid', 'bwv662.mid', 'bwv663.mid', 'bwv664.mid', 'bwv665.mid', 'bwv666.mid', 'bwv667.mid', 'bwv668.mid']\n"
     ]
    },
    {
     "name": "stderr",
     "output_type": "stream",
     "text": [
      "100%|██████████| 25484/25484 [00:00<00:00, 553931.05it/s]\n",
      "100%|██████████| 6149/6149 [00:00<00:00, 559113.23it/s]\n",
      "100%|██████████| 4681/4681 [00:00<00:00, 515045.57it/s]\n",
      "100%|██████████| 7526/7526 [00:00<00:00, 501530.54it/s]\n",
      "100%|██████████| 7922/7922 [00:00<00:00, 565965.63it/s]\n",
      "100%|██████████| 10036/10036 [00:00<00:00, 527771.95it/s]\n",
      "100%|██████████| 6741/6741 [00:00<00:00, 518110.41it/s]\n",
      "100%|██████████| 2470/2470 [00:00<00:00, 494436.64it/s]\n",
      "100%|██████████| 3254/3254 [00:00<00:00, 460654.29it/s]\n",
      "100%|██████████| 2235/2235 [00:00<00:00, 526466.89it/s]\n",
      "100%|██████████| 8108/8108 [00:00<00:00, 538833.79it/s]\n",
      "100%|██████████| 4818/4818 [00:00<00:00, 483564.41it/s]\n",
      "100%|██████████| 5562/5562 [00:00<00:00, 501757.62it/s]\n",
      "100%|██████████| 6273/6273 [00:00<00:00, 479189.70it/s]\n",
      "100%|██████████| 3773/3773 [00:00<00:00, 531900.68it/s]\n",
      "100%|██████████| 2139/2139 [00:00<00:00, 427912.63it/s]\n",
      "100%|██████████| 9560/9560 [00:00<00:00, 509382.18it/s]\n",
      "100%|██████████| 3533/3533 [00:00<00:00, 508753.94it/s]\n"
     ]
    },
    {
     "name": "stdout",
     "output_type": "stream",
     "text": [
      "[] ['1079-02.mid', '1079-03.mid', '1079-04.mid', '1079-05.mid']\n"
     ]
    },
    {
     "name": "stderr",
     "output_type": "stream",
     "text": [
      "100%|██████████| 751/751 [00:00<00:00, 374055.61it/s]\n",
      "100%|██████████| 813/813 [00:00<00:00, 268184.75it/s]\n",
      "100%|██████████| 588/588 [00:00<00:00, 627066.04it/s]\n",
      "100%|██████████| 677/677 [00:00<00:00, 339009.53it/s]"
     ]
    },
    {
     "name": "stdout",
     "output_type": "stream",
     "text": [
      "[] ['bburg14a.mid', 'bburg14h.mid', 'bburg1_1.mid', 'Bburg1_2.mid', 'Bburg1_3.mid']\n"
     ]
    },
    {
     "name": "stderr",
     "output_type": "stream",
     "text": [
      "\n",
      "100%|██████████| 16993/16993 [00:00<00:00, 515028.82it/s]\n",
      "100%|██████████| 15295/15295 [00:00<00:00, 546289.59it/s]\n",
      "100%|██████████| 17895/17895 [00:00<00:00, 511284.46it/s]\n",
      "100%|██████████| 4017/4017 [00:00<00:00, 501907.09it/s]\n",
      "100%|██████████| 20462/20462 [00:00<00:00, 510600.94it/s]\n"
     ]
    },
    {
     "name": "stdout",
     "output_type": "stream",
     "text": [
      "[] [\"'Mer hahn en neue Oberkeet' - BWV0212.mid\", \"'Weichet nur, betrübte Schatten' - BWV0202.mid\", \"'Zerreisset, zerspreget, zertrümmert die Gruft' BWV0205.mid\", 'Sinfonia to Cantata No. 212  (Mer hahn en neue Oberkeet)- BWV 212.mid', 'Sinfonia to Cantata No. 29 - BWV 29.mid']\n"
     ]
    },
    {
     "name": "stderr",
     "output_type": "stream",
     "text": [
      "100%|██████████| 39043/39043 [00:00<00:00, 266741.50it/s]\n",
      "100%|██████████| 31698/31698 [00:00<00:00, 261431.10it/s]\n",
      "100%|██████████| 102188/102188 [00:00<00:00, 295574.89it/s]\n",
      "100%|██████████| 4790/4790 [00:00<00:00, 432207.13it/s]\n",
      "100%|██████████| 10183/10183 [00:00<00:00, 205278.22it/s]\n"
     ]
    },
    {
     "name": "stdout",
     "output_type": "stream",
     "text": [
      "['Sonata No. 2 in Eb major - BWV 1031'] ['Sonata No. 1 in B minor - BWV 1030 for Flute and Harpsichord.mid']\n"
     ]
    },
    {
     "name": "stderr",
     "output_type": "stream",
     "text": [
      "100%|██████████| 19297/19297 [00:00<00:00, 280446.72it/s]\n"
     ]
    },
    {
     "name": "stdout",
     "output_type": "stream",
     "text": [
      "[] ['bjs1031a.mid', 'bjs1031b.mid', 'bjs1031c.mid']\n"
     ]
    },
    {
     "name": "stderr",
     "output_type": "stream",
     "text": [
      "100%|██████████| 3933/3933 [00:00<00:00, 208530.19it/s]\n",
      "100%|██████████| 1269/1269 [00:00<00:00, 246358.33it/s]\n",
      "100%|██████████| 3535/3535 [00:00<00:00, 356106.85it/s]\n"
     ]
    },
    {
     "name": "stdout",
     "output_type": "stream",
     "text": [
      "[] ['bjs1031a.mid', 'bjs1031b.mid', 'bjs1031c.mid']\n"
     ]
    },
    {
     "name": "stderr",
     "output_type": "stream",
     "text": [
      "100%|██████████| 3933/3933 [00:00<00:00, 245892.61it/s]\n",
      "100%|██████████| 1269/1269 [00:00<00:00, 214810.39it/s]\n",
      "100%|██████████| 3535/3535 [00:00<00:00, 350036.94it/s]\n"
     ]
    },
    {
     "name": "stdout",
     "output_type": "stream",
     "text": [
      "[] ['bwv0248a.mid', 'bwv0248b.mid', 'bwv0248c.mid', 'bwv0248d.mid', 'bwv0248e.mid', 'bwv0248f.mid']\n"
     ]
    },
    {
     "name": "stderr",
     "output_type": "stream",
     "text": [
      "100%|██████████| 62579/62579 [00:00<00:00, 232710.92it/s]\n",
      "100%|██████████| 43687/43687 [00:00<00:00, 275989.02it/s]\n",
      "100%|██████████| 39064/39064 [00:00<00:00, 339990.73it/s]\n",
      "100%|██████████| 34418/34418 [00:00<00:00, 289721.55it/s]\n",
      "100%|██████████| 41628/41628 [00:00<00:00, 361317.39it/s]\n",
      "100%|██████████| 44027/44027 [00:00<00:00, 249636.18it/s]\n"
     ]
    },
    {
     "name": "stdout",
     "output_type": "stream",
     "text": [
      "['Violin Concerto No. 1 in A minor - BWV 1041'] [\"'Italian' Concerto in F Major, BWV 971.mid\", 'Concerto for Three Harpsichords in D minor - BWV1063.mid', 'Concerto for Two Harpsichords in C minor - BWV 1060.mid', 'Concerto for Two Harpsichords in C minor - BWV1062.mid', 'Harpsichord Concerto No. 1 (mvmt 1) - BWV1052a.mid']\n"
     ]
    },
    {
     "name": "stderr",
     "output_type": "stream",
     "text": [
      "100%|██████████| 12715/12715 [00:00<00:00, 410194.18it/s]\n",
      "100%|██████████| 41733/41733 [00:00<00:00, 284419.08it/s]\n",
      "100%|██████████| 32381/32381 [00:00<00:00, 316102.01it/s]\n",
      "100%|██████████| 32837/32837 [00:00<00:00, 309347.61it/s]\n",
      "100%|██████████| 18767/18767 [00:00<00:00, 197855.67it/s]\n"
     ]
    },
    {
     "name": "stdout",
     "output_type": "stream",
     "text": [
      "[] ['bwv1041a.mid', 'bwv1041b.mid', 'bwv1041c.mid']\n"
     ]
    },
    {
     "name": "stderr",
     "output_type": "stream",
     "text": [
      "100%|██████████| 9035/9035 [00:00<00:00, 400900.67it/s]\n",
      "100%|██████████| 4257/4257 [00:00<00:00, 325100.18it/s]\n",
      "100%|██████████| 9569/9569 [00:00<00:00, 239240.91it/s]\n"
     ]
    },
    {
     "name": "stdout",
     "output_type": "stream",
     "text": [
      "[] ['bwv1041a.mid', 'bwv1041b.mid', 'bwv1041c.mid']\n"
     ]
    },
    {
     "name": "stderr",
     "output_type": "stream",
     "text": [
      "100%|██████████| 9035/9035 [00:00<00:00, 220349.79it/s]\n",
      "100%|██████████| 4257/4257 [00:00<00:00, 264771.82it/s]\n",
      "100%|██████████| 9569/9569 [00:00<00:00, 308730.66it/s]\n"
     ]
    },
    {
     "name": "stdout",
     "output_type": "stream",
     "text": [
      "['English Suite No. 1 in A major - BWV 806', 'English Suite No. 2 in A minor - BWV 807', 'English Suite No. 3 in G minor - BWV 808', 'English Suite No. 4 in F Major - BWV 809', 'English Suite No. 5 in E minor - BWV 810', 'English Suite No. 6 in D minor - BWV 811'] []\n",
      "[] ['bwv806a.mid', 'bwv806b.mid', 'bwv806c.mid', 'bwv806d.mid', 'bwv806e.mid', 'bwv806f.mid', 'bwv806g.mid', 'bwv806h.mid', 'bwv806i.mid', 'bwv806j.mid']\n"
     ]
    },
    {
     "name": "stderr",
     "output_type": "stream",
     "text": [
      "100%|██████████| 1607/1607 [00:00<00:00, 201153.35it/s]\n",
      "100%|██████████| 3441/3441 [00:00<00:00, 149597.83it/s]\n",
      "100%|██████████| 1719/1719 [00:00<00:00, 241743.79it/s]\n",
      "100%|██████████| 1965/1965 [00:00<00:00, 333298.58it/s]\n",
      "100%|██████████| 2103/2103 [00:00<00:00, 259750.91it/s]\n",
      "100%|██████████| 2265/2265 [00:00<00:00, 251165.89it/s]\n",
      "100%|██████████| 1936/1936 [00:00<00:00, 271459.65it/s]\n",
      "100%|██████████| 2376/2376 [00:00<00:00, 181431.44it/s]\n",
      "100%|██████████| 1769/1769 [00:00<00:00, 252749.82it/s]\n",
      "100%|██████████| 3953/3953 [00:00<00:00, 230753.27it/s]\n"
     ]
    },
    {
     "name": "stdout",
     "output_type": "stream",
     "text": [
      "[] ['bwv807a.mid', 'bwv807b.mid', 'bwv807c.mid', 'bwv807d.mid', 'bwv807e.mid', 'bwv807f.mid', 'bwv807g.mid', 'bwv807h.mid']\n"
     ]
    },
    {
     "name": "stderr",
     "output_type": "stream",
     "text": [
      "100%|██████████| 6158/6158 [00:00<00:00, 221382.92it/s]\n",
      "100%|██████████| 2598/2598 [00:00<00:00, 366957.46it/s]\n",
      "100%|██████████| 2072/2072 [00:00<00:00, 340154.13it/s]\n",
      "100%|██████████| 1416/1416 [00:00<00:00, 202403.79it/s]\n",
      "100%|██████████| 1740/1740 [00:00<00:00, 435187.18it/s]\n",
      "100%|██████████| 2907/2907 [00:00<00:00, 414102.76it/s]\n",
      "100%|██████████| 1223/1223 [00:00<00:00, 244233.39it/s]\n",
      "100%|██████████| 3162/3162 [00:00<00:00, 197371.67it/s]\n"
     ]
    },
    {
     "name": "stdout",
     "output_type": "stream",
     "text": [
      "[] ['bwv808a.mid', 'bwv808b.mid', 'bwv808c.mid', 'bwv808d.mid', 'bwv808e.mid', 'bwv808f.mid', 'bwv808g.mid', 'bwv808h.mid']\n"
     ]
    },
    {
     "name": "stderr",
     "output_type": "stream",
     "text": [
      "100%|██████████| 4699/4699 [00:00<00:00, 311728.50it/s]\n",
      "100%|██████████| 2516/2516 [00:00<00:00, 359711.93it/s]\n",
      "100%|██████████| 2587/2587 [00:00<00:00, 425733.29it/s]\n",
      "100%|██████████| 1061/1061 [00:00<00:00, 176446.47it/s]\n",
      "100%|██████████| 1791/1791 [00:00<00:00, 357884.63it/s]\n",
      "100%|██████████| 1623/1623 [00:00<00:00, 265642.53it/s]\n",
      "100%|██████████| 649/649 [00:00<00:00, 130138.32it/s]\n",
      "100%|██████████| 3423/3423 [00:00<00:00, 380169.54it/s]\n"
     ]
    },
    {
     "name": "stdout",
     "output_type": "stream",
     "text": [
      "[] ['bwv809a.mid', 'bwv809b.mid', 'bwv809c.mid', 'bwv809d.mid', 'bwv809e.mid', 'bwv809f.mid', 'bwv809g.mid']\n"
     ]
    },
    {
     "name": "stderr",
     "output_type": "stream",
     "text": [
      "100%|██████████| 5875/5875 [00:00<00:00, 279861.62it/s]\n",
      "100%|██████████| 3240/3240 [00:00<00:00, 182982.28it/s]\n",
      "100%|██████████| 1621/1621 [00:00<00:00, 405376.03it/s]\n",
      "100%|██████████| 1429/1429 [00:00<00:00, 357745.04it/s]\n",
      "100%|██████████| 1266/1266 [00:00<00:00, 316353.22it/s]\n",
      "100%|██████████| 1253/1253 [00:00<00:00, 305834.67it/s]\n",
      "100%|██████████| 4317/4317 [00:00<00:00, 258720.46it/s]\n"
     ]
    },
    {
     "name": "stdout",
     "output_type": "stream",
     "text": [
      "[] ['bwv810a.mid', 'bwv810b.mid', 'bwv810c.mid', 'bwv810d.mid', 'bwv810e.mid', 'bwv810f.mid', 'bwv810g.mid']\n"
     ]
    },
    {
     "name": "stderr",
     "output_type": "stream",
     "text": [
      "100%|██████████| 6598/6598 [00:00<00:00, 253794.61it/s]\n",
      "100%|██████████| 2852/2852 [00:00<00:00, 201430.56it/s]\n",
      "100%|██████████| 2863/2863 [00:00<00:00, 336234.88it/s]\n",
      "100%|██████████| 1669/1669 [00:00<00:00, 273001.07it/s]\n",
      "100%|██████████| 1443/1443 [00:00<00:00, 354479.36it/s]\n",
      "100%|██████████| 878/878 [00:00<00:00, 348401.03it/s]\n",
      "100%|██████████| 3475/3475 [00:00<00:00, 217498.19it/s]\n"
     ]
    },
    {
     "name": "stdout",
     "output_type": "stream",
     "text": [
      "[] ['bwv811a.mid', 'bwv811b.mid', 'bwv811c.mid', 'bwv811d.mid', 'bwv811e.mid', 'bwv811f.mid', 'bwv811g.mid', 'bwv811h.mid']\n"
     ]
    },
    {
     "name": "stderr",
     "output_type": "stream",
     "text": [
      "100%|██████████| 9314/9314 [00:00<00:00, 332632.98it/s]\n",
      "100%|██████████| 2975/2975 [00:00<00:00, 394176.60it/s]\n",
      "100%|██████████| 2825/2825 [00:00<00:00, 315659.45it/s]\n",
      "100%|██████████| 1391/1391 [00:00<00:00, 350133.64it/s]\n",
      "100%|██████████| 1769/1769 [00:00<00:00, 391831.63it/s]\n",
      "100%|██████████| 2193/2193 [00:00<00:00, 253761.93it/s]\n",
      "100%|██████████| 1523/1523 [00:00<00:00, 391392.99it/s]\n",
      "100%|██████████| 5719/5719 [00:00<00:00, 199881.88it/s]\n"
     ]
    },
    {
     "name": "stdout",
     "output_type": "stream",
     "text": [
      "[] ['bwv806a.mid', 'bwv806b.mid', 'bwv806c.mid', 'bwv806d.mid', 'bwv806e.mid', 'bwv806f.mid', 'bwv806g.mid', 'bwv806h.mid', 'bwv806i.mid', 'bwv806j.mid']\n"
     ]
    },
    {
     "name": "stderr",
     "output_type": "stream",
     "text": [
      "100%|██████████| 1607/1607 [00:00<00:00, 355685.83it/s]\n",
      "100%|██████████| 3441/3441 [00:00<00:00, 429976.76it/s]\n",
      "100%|██████████| 1719/1719 [00:00<00:00, 420899.51it/s]\n",
      "100%|██████████| 1965/1965 [00:00<00:00, 327823.37it/s]\n",
      "100%|██████████| 2103/2103 [00:00<00:00, 422808.04it/s]\n",
      "100%|██████████| 2265/2265 [00:00<00:00, 226635.30it/s]\n",
      "100%|██████████| 1936/1936 [00:00<00:00, 238533.94it/s]\n",
      "100%|██████████| 2376/2376 [00:00<00:00, 216170.28it/s]\n",
      "100%|██████████| 1769/1769 [00:00<00:00, 252784.27it/s]\n",
      "100%|██████████| 3953/3953 [00:00<00:00, 332926.72it/s]\n"
     ]
    },
    {
     "name": "stdout",
     "output_type": "stream",
     "text": [
      "[] ['bwv807a.mid', 'bwv807b.mid', 'bwv807c.mid', 'bwv807d.mid', 'bwv807e.mid', 'bwv807f.mid', 'bwv807g.mid', 'bwv807h.mid']\n"
     ]
    },
    {
     "name": "stderr",
     "output_type": "stream",
     "text": [
      "100%|██████████| 6158/6158 [00:00<00:00, 175359.49it/s]\n",
      "100%|██████████| 2598/2598 [00:00<00:00, 173524.24it/s]\n",
      "100%|██████████| 2072/2072 [00:00<00:00, 129758.83it/s]\n",
      "100%|██████████| 1416/1416 [00:00<00:00, 201942.69it/s]\n",
      "100%|██████████| 1740/1740 [00:00<00:00, 194880.74it/s]\n",
      "100%|██████████| 2907/2907 [00:00<00:00, 322886.55it/s]\n",
      "100%|██████████| 1223/1223 [00:00<00:00, 305991.04it/s]\n",
      "100%|██████████| 3162/3162 [00:00<00:00, 350931.13it/s]\n"
     ]
    },
    {
     "name": "stdout",
     "output_type": "stream",
     "text": [
      "[] ['bwv808a.mid', 'bwv808b.mid', 'bwv808c.mid', 'bwv808d.mid', 'bwv808e.mid', 'bwv808f.mid', 'bwv808g.mid', 'bwv808h.mid']\n"
     ]
    },
    {
     "name": "stderr",
     "output_type": "stream",
     "text": [
      "100%|██████████| 4699/4699 [00:00<00:00, 239521.60it/s]\n",
      "100%|██████████| 2516/2516 [00:00<00:00, 209656.87it/s]\n",
      "100%|██████████| 2587/2587 [00:00<00:00, 425900.40it/s]\n",
      "100%|██████████| 1061/1061 [00:00<00:00, 265807.94it/s]\n",
      "100%|██████████| 1791/1791 [00:00<00:00, 177567.63it/s]\n",
      "100%|██████████| 1623/1623 [00:00<00:00, 228695.67it/s]\n",
      "100%|██████████| 649/649 [00:00<00:00, 327057.95it/s]\n",
      "100%|██████████| 3423/3423 [00:00<00:00, 380340.75it/s]\n"
     ]
    },
    {
     "name": "stdout",
     "output_type": "stream",
     "text": [
      "[] ['bwv809a.mid', 'bwv809b.mid', 'bwv809c.mid', 'bwv809d.mid', 'bwv809e.mid', 'bwv809f.mid', 'bwv809g.mid']\n"
     ]
    },
    {
     "name": "stderr",
     "output_type": "stream",
     "text": [
      "100%|██████████| 5875/5875 [00:00<00:00, 326416.87it/s]\n",
      "100%|██████████| 3240/3240 [00:00<00:00, 294502.97it/s]\n",
      "100%|██████████| 1621/1621 [00:00<00:00, 316790.92it/s]\n",
      "100%|██████████| 1429/1429 [00:00<00:00, 283549.08it/s]\n",
      "100%|██████████| 1266/1266 [00:00<00:00, 178739.36it/s]\n",
      "100%|██████████| 1253/1253 [00:00<00:00, 206080.42it/s]\n",
      "100%|██████████| 4317/4317 [00:00<00:00, 392721.35it/s]\n"
     ]
    },
    {
     "name": "stdout",
     "output_type": "stream",
     "text": [
      "[] ['bwv810a.mid', 'bwv810b.mid', 'bwv810c.mid', 'bwv810d.mid', 'bwv810e.mid', 'bwv810f.mid', 'bwv810g.mid']\n"
     ]
    },
    {
     "name": "stderr",
     "output_type": "stream",
     "text": [
      "100%|██████████| 6598/6598 [00:00<00:00, 264919.47it/s]\n",
      "100%|██████████| 2852/2852 [00:00<00:00, 317155.53it/s]\n",
      "100%|██████████| 2863/2863 [00:00<00:00, 313540.62it/s]\n",
      "100%|██████████| 1669/1669 [00:00<00:00, 209514.35it/s]\n",
      "100%|██████████| 1443/1443 [00:00<00:00, 238451.69it/s]\n",
      "100%|██████████| 878/878 [00:00<00:00, 292223.37it/s]\n",
      "100%|██████████| 3475/3475 [00:00<00:00, 204417.98it/s]\n"
     ]
    },
    {
     "name": "stdout",
     "output_type": "stream",
     "text": [
      "[] ['bwv811a.mid', 'bwv811b.mid', 'bwv811c.mid', 'bwv811d.mid', 'bwv811e.mid', 'bwv811f.mid', 'bwv811g.mid', 'bwv811h.mid']\n"
     ]
    },
    {
     "name": "stderr",
     "output_type": "stream",
     "text": [
      "100%|██████████| 9314/9314 [00:00<00:00, 234270.32it/s]\n",
      "100%|██████████| 2975/2975 [00:00<00:00, 326701.95it/s]\n",
      "100%|██████████| 2825/2825 [00:00<00:00, 353150.60it/s]\n",
      "100%|██████████| 1391/1391 [00:00<00:00, 343475.62it/s]\n",
      "100%|██████████| 1769/1769 [00:00<00:00, 289200.33it/s]\n",
      "100%|██████████| 2193/2193 [00:00<00:00, 273606.66it/s]\n",
      "100%|██████████| 1523/1523 [00:00<00:00, 304215.88it/s]\n",
      "100%|██████████| 5719/5719 [00:00<00:00, 434040.07it/s]\n"
     ]
    },
    {
     "name": "stdout",
     "output_type": "stream",
     "text": [
      "[] ['BWV787.MID', 'BWV788.MID', 'BWV789.MID', 'BWV790.MID', 'BWV791.MID', 'BWV792.MID', 'BWV793.MID', 'BWV794.MID', 'BWV795.MID', 'BWV796.MID', 'BWV797.MID', 'BWV798.MID', 'BWV799.MID', 'BWV800.MID', 'BWV801.MID']\n",
      "[] ['BWV772.MID', 'BWV773.MID', 'BWV774.MID', 'BWV775.MID', 'BWV776.MID', 'BWV777.MID', 'BWV778.MID', 'BWV779.MID', 'BWV780.MID', 'BWV781.MID', 'BWV782.MID', 'BWV783.MID', 'BWV784.MID', 'BWV785.MID', 'BWV786.MID']\n",
      "[] ['BWV802.MID', 'BWV803.MID', 'BWV804.MID', 'BWV805.MID']\n",
      "[] ['Invention No. 1 (alt) - BWV 772a .mid', 'Invention No. 1 - BWV 772.mid', 'Invention No. 13 - BWV 784.mid']\n"
     ]
    },
    {
     "name": "stderr",
     "output_type": "stream",
     "text": [
      "100%|██████████| 1129/1129 [00:00<00:00, 288092.06it/s]\n",
      "100%|██████████| 959/959 [00:00<00:00, 108944.44it/s]\n",
      "100%|██████████| 1139/1139 [00:00<00:00, 186548.18it/s]\n"
     ]
    },
    {
     "name": "stdout",
     "output_type": "stream",
     "text": [
      "['Fantasia and Fugue in C minor - BWV 906', 'Four Duets - BWV 802-805'] ['Concerto in Bb for Solo Keyboard (after a concerto by Duke Johann Ernst of Saxe-Weimar), BWV 982.mid', 'Concerto in F in the Italian Manner.mid', 'Duetto IV in A Minor, BWV 805 (from Clavierübung Part 3).mid']\n"
     ]
    },
    {
     "name": "stderr",
     "output_type": "stream",
     "text": [
      "100%|██████████| 7632/7632 [00:00<00:00, 281385.07it/s]\n",
      "100%|██████████| 5094/5094 [00:00<00:00, 422115.23it/s]\n",
      "100%|██████████| 2471/2471 [00:00<00:00, 406851.11it/s]\n"
     ]
    },
    {
     "name": "stdout",
     "output_type": "stream",
     "text": [
      "[] ['bwv906a.mid', 'bwv906b.mid']\n"
     ]
    },
    {
     "name": "stderr",
     "output_type": "stream",
     "text": [
      "100%|██████████| 5519/5519 [00:00<00:00, 234309.41it/s]\n",
      "100%|██████████| 2222/2222 [00:00<00:00, 369992.60it/s]\n"
     ]
    },
    {
     "name": "stdout",
     "output_type": "stream",
     "text": [
      "[] ['bwv802.mid', 'bwv803.mid', 'bwv804.mid', 'bwv805.mid']\n"
     ]
    },
    {
     "name": "stderr",
     "output_type": "stream",
     "text": [
      "100%|██████████| 1997/1997 [00:00<00:00, 249583.58it/s]\n",
      "100%|██████████| 2970/2970 [00:00<00:00, 237295.85it/s]\n",
      "100%|██████████| 2757/2757 [00:00<00:00, 183396.45it/s]\n",
      "100%|██████████| 2380/2380 [00:00<00:00, 226992.37it/s]\n"
     ]
    },
    {
     "name": "stdout",
     "output_type": "stream",
     "text": [
      "[] ['bwv906a.mid', 'bwv906b.mid']\n"
     ]
    },
    {
     "name": "stderr",
     "output_type": "stream",
     "text": [
      "100%|██████████| 5519/5519 [00:00<00:00, 204268.89it/s]\n",
      "100%|██████████| 2222/2222 [00:00<00:00, 147702.68it/s]\n"
     ]
    },
    {
     "name": "stdout",
     "output_type": "stream",
     "text": [
      "[] ['bwv802.mid', 'bwv803.mid', 'bwv804.mid', 'bwv805.mid']\n"
     ]
    },
    {
     "name": "stderr",
     "output_type": "stream",
     "text": [
      "100%|██████████| 1997/1997 [00:00<00:00, 332606.33it/s]\n",
      "100%|██████████| 2970/2970 [00:00<00:00, 267572.02it/s]\n",
      "100%|██████████| 2757/2757 [00:00<00:00, 302754.19it/s]\n",
      "100%|██████████| 2380/2380 [00:00<00:00, 341431.87it/s]\n"
     ]
    },
    {
     "name": "stdout",
     "output_type": "stream",
     "text": [
      "[] ['bwv0243.mid']\n"
     ]
    },
    {
     "name": "stderr",
     "output_type": "stream",
     "text": [
      "100%|██████████| 57423/57423 [00:00<00:00, 316496.65it/s]\n"
     ]
    },
    {
     "name": "stdout",
     "output_type": "stream",
     "text": [
      "[] ['bjsbmm01.mid', 'bjsbmm02.mid', 'bjsbmm03.mid', 'bjsbmm04.mid', 'bjsbmm05.mid', 'bjsbmm06.mid', 'bjsbmm07.mid', 'bjsbmm08.mid', 'bjsbmm09.mid', 'bjsbmm10.mid', 'bjsbmm11.mid', 'bjsbmm12.mid', 'bjsbmm13.mid', 'bjsbmm14.mid', 'bjsbmm15.mid', 'bjsbmm16.mid', 'bjsbmm17.mid', 'bjsbmm18.mid', 'bjsbmm19.mid', 'bjsbmm20.mid', 'bjsbmm21.mid', 'bjsbmm22.mid', 'bjsbmm23.mid']\n"
     ]
    },
    {
     "name": "stderr",
     "output_type": "stream",
     "text": [
      "100%|██████████| 17983/17983 [00:00<00:00, 402842.25it/s]\n",
      "100%|██████████| 8200/8200 [00:00<00:00, 214811.74it/s]\n",
      "100%|██████████| 8227/8227 [00:00<00:00, 210925.32it/s]\n",
      "100%|██████████| 21154/21154 [00:00<00:00, 296973.93it/s]\n",
      "100%|██████████| 7709/7709 [00:00<00:00, 346050.17it/s]\n",
      "100%|██████████| 6088/6088 [00:00<00:00, 265361.31it/s]\n",
      "100%|██████████| 9396/9396 [00:00<00:00, 446882.57it/s]\n",
      "100%|██████████| 4235/4235 [00:00<00:00, 222712.46it/s]\n",
      "100%|██████████| 6641/6641 [00:00<00:00, 331943.48it/s]\n",
      "100%|██████████| 7636/7636 [00:00<00:00, 206329.52it/s]\n",
      "100%|██████████| 20382/20382 [00:00<00:00, 217917.30it/s]\n",
      "100%|██████████| 3103/3103 [00:00<00:00, 382476.94it/s]\n",
      "100%|██████████| 8132/8132 [00:00<00:00, 302803.42it/s]\n",
      "100%|██████████| 7172/7172 [00:00<00:00, 298857.96it/s]\n",
      "100%|██████████| 9742/9742 [00:00<00:00, 239737.79it/s]\n",
      "100%|██████████| 18759/18759 [00:00<00:00, 253473.46it/s]\n",
      "100%|██████████| 7587/7587 [00:00<00:00, 399289.62it/s]\n",
      "100%|██████████| 18710/18710 [00:00<00:00, 234558.88it/s]\n",
      "100%|██████████| 19753/19753 [00:00<00:00, 252952.65it/s]\n",
      "100%|██████████| 13772/13772 [00:00<00:00, 324008.74it/s]\n",
      "100%|██████████| 4340/4340 [00:00<00:00, 254944.32it/s]\n",
      "100%|██████████| 3060/3060 [00:00<00:00, 305825.30it/s]\n",
      "100%|██████████| 7078/7078 [00:00<00:00, 254490.06it/s]\n"
     ]
    },
    {
     "name": "stdout",
     "output_type": "stream",
     "text": [
      "[] ['bwv1072.mid', 'bwv1073.mid', 'bwv1074.mid', 'bwv1074i.mid', 'bwv1075.mid', 'bwv1076.mid', 'bwv1077.mid', 'bwv1078.mid', 'bwv1086.mid']\n"
     ]
    },
    {
     "name": "stderr",
     "output_type": "stream",
     "text": [
      "100%|██████████| 379/379 [00:00<00:00, 194713.52it/s]\n",
      "100%|██████████| 1429/1429 [00:00<00:00, 285888.88it/s]\n",
      "100%|██████████| 227/227 [00:00<00:00, 227233.18it/s]\n",
      "100%|██████████| 225/225 [00:00<00:00, 224962.67it/s]\n",
      "100%|██████████| 223/223 [00:00<00:00, 111415.10it/s]\n",
      "100%|██████████| 347/347 [00:00<00:00, 115281.07it/s]\n",
      "100%|██████████| 445/445 [00:00<00:00, 222648.85it/s]\n",
      "100%|██████████| 1397/1397 [00:00<00:00, 229305.47it/s]\n",
      "100%|██████████| 396/396 [00:00<00:00, 196981.07it/s]\n"
     ]
    },
    {
     "name": "stdout",
     "output_type": "stream",
     "text": [
      "[] ['BWV894.MID', 'BWV895.MID', 'BWV899.MID', 'BWV900.MID', 'BWV901.MID', 'bwv903.mid']\n"
     ]
    },
    {
     "name": "stderr",
     "output_type": "stream",
     "text": [
      "100%|██████████| 10069/10069 [00:00<00:00, 387297.30it/s]\n"
     ]
    },
    {
     "name": "stdout",
     "output_type": "stream",
     "text": [
      "[] ['BWV963.MID', 'BWV965.MID', 'BWV966.MID', 'BWV967.MID', 'BWV989.MID', 'BWV992.MID', 'BWV993.MID']\n",
      "[] ['BWV818.MID', 'BWV819.MID', 'BWV820.MID', 'BWV823.MID', 'BWV832.MID', 'BWV833.MID', 'BWV835.MID', 'BWV841.MID', 'BWV844.MID']\n",
      "['Prelude and Fugue in D minor - BWV 539', 'Prelude and Fugue in G Major - BWV 541', 'Preludes and Fugues for Organ', \"St. Anne's Prelude and Fugue in Eb major - BWV 552\", 'Trio Sonata No.1 in Eb major - BWV 525', 'Trio Sonata No.5 in C major - BWV 529', 'Trio Sonata No.6 in G Major - BWV 530'] ['An Wasserflussen Babylon - BWV 653 (By the Waters of Babylon).mid', \"Aus tiefer Not schrei' ich dir - BWV 686 (I Call to You Out of Deep Distress).mid\", 'Canzona in D-Minor - BWV 588.mid', 'Fantasia and Fugue in C minor - BWV 537.mid', 'Fantasia in G major - BWV 572.mid', 'Fuga sopra Magnificate - BWV 733.mid', 'Passacaglia and Fugue in C minor - BWV 582.mid']\n"
     ]
    },
    {
     "name": "stderr",
     "output_type": "stream",
     "text": [
      "100%|██████████| 2431/2431 [00:00<00:00, 399387.11it/s]\n",
      "100%|██████████| 3466/3466 [00:00<00:00, 314677.21it/s]\n",
      "100%|██████████| 17/17 [00:00<?, ?it/s]\n",
      "100%|██████████| 6254/6254 [00:00<00:00, 216414.57it/s]\n",
      "100%|██████████| 7245/7245 [00:00<00:00, 289851.41it/s]\n",
      "100%|██████████| 3302/3302 [00:00<00:00, 137671.27it/s]\n",
      "100%|██████████| 11718/11718 [00:00<00:00, 379824.07it/s]\n"
     ]
    },
    {
     "name": "stdout",
     "output_type": "stream",
     "text": [
      "[] ['Praeludium and Fugue in D-Minor - BWV 539.mid']\n"
     ]
    },
    {
     "name": "stderr",
     "output_type": "stream",
     "text": [
      "100%|██████████| 6089/6089 [00:00<00:00, 337092.21it/s]\n"
     ]
    },
    {
     "name": "stdout",
     "output_type": "stream",
     "text": [
      "[] ['bwv0541f.mid', 'bwv0541p.mid']\n"
     ]
    },
    {
     "name": "stderr",
     "output_type": "stream",
     "text": [
      "100%|██████████| 4704/4704 [00:00<00:00, 427565.41it/s]\n",
      "100%|██████████| 3635/3635 [00:00<00:00, 279620.27it/s]\n"
     ]
    },
    {
     "name": "stdout",
     "output_type": "stream",
     "text": [
      "[] ['bwv539_1.mid', 'bwv539_2.mid', 'jsbwv532.mid', 'jsbwv533.mid', 'jsbwv541.mid', 'jsbwv543.mid', 'jsbwv549.mid', 'jsbwv552.mid']\n"
     ]
    },
    {
     "name": "stderr",
     "output_type": "stream",
     "text": [
      "100%|██████████| 1174/1174 [00:00<00:00, 217400.13it/s]\n",
      "100%|██████████| 5412/5412 [00:00<00:00, 344669.27it/s]\n",
      "100%|██████████| 10237/10237 [00:00<00:00, 249638.60it/s]\n",
      "100%|██████████| 2913/2913 [00:00<00:00, 262194.63it/s]\n",
      "100%|██████████| 8318/8318 [00:00<00:00, 213382.31it/s]\n",
      "100%|██████████| 8757/8757 [00:00<00:00, 364923.20it/s]\n",
      "100%|██████████| 4274/4274 [00:00<00:00, 388657.86it/s]\n",
      "100%|██████████| 12971/12971 [00:00<00:00, 323438.62it/s]\n"
     ]
    },
    {
     "name": "stdout",
     "output_type": "stream",
     "text": [
      "[] ['bwv552f.mid', 'bwv552p.mid']\n"
     ]
    },
    {
     "name": "stderr",
     "output_type": "stream",
     "text": [
      "100%|██████████| 5257/5257 [00:00<00:00, 262140.88it/s]\n",
      "100%|██████████| 7989/7989 [00:00<00:00, 210182.18it/s]\n"
     ]
    },
    {
     "name": "stdout",
     "output_type": "stream",
     "text": [
      "[] ['bwv525-1.mid', 'bwv525-2.mid', 'bwv525-3.mid']\n"
     ]
    },
    {
     "name": "stderr",
     "output_type": "stream",
     "text": [
      "100%|██████████| 3168/3168 [00:00<00:00, 226410.09it/s]\n",
      "100%|██████████| 4174/4174 [00:00<00:00, 349114.10it/s]\n",
      "100%|██████████| 4886/4886 [00:00<00:00, 372437.43it/s]\n"
     ]
    },
    {
     "name": "stdout",
     "output_type": "stream",
     "text": [
      "[] ['bwv529-1.mid', 'bwv529-2.mid', 'bwv529-3.mid']\n"
     ]
    },
    {
     "name": "stderr",
     "output_type": "stream",
     "text": [
      "100%|██████████| 5749/5749 [00:00<00:00, 450071.93it/s]\n",
      "100%|██████████| 3196/3196 [00:00<00:00, 245710.75it/s]\n",
      "100%|██████████| 4231/4231 [00:00<00:00, 248980.71it/s]\n"
     ]
    },
    {
     "name": "stdout",
     "output_type": "stream",
     "text": [
      "[] ['bwv530-1.mid', 'bwv530-2.mid', 'bwv530-3.mid']\n"
     ]
    },
    {
     "name": "stderr",
     "output_type": "stream",
     "text": [
      "100%|██████████| 4714/4714 [00:00<00:00, 278047.38it/s]\n",
      "100%|██████████| 3947/3947 [00:00<00:00, 188282.40it/s]\n",
      "100%|██████████| 4268/4268 [00:00<00:00, 157415.49it/s]\n"
     ]
    },
    {
     "name": "stdout",
     "output_type": "stream",
     "text": [
      "[] ['Praeludium and Fugue in D-Minor - BWV 539.mid']\n"
     ]
    },
    {
     "name": "stderr",
     "output_type": "stream",
     "text": [
      "100%|██████████| 6089/6089 [00:00<00:00, 385496.11it/s]\n"
     ]
    },
    {
     "name": "stdout",
     "output_type": "stream",
     "text": [
      "[] ['bwv0541f.mid', 'bwv0541p.mid']\n"
     ]
    },
    {
     "name": "stderr",
     "output_type": "stream",
     "text": [
      "100%|██████████| 4704/4704 [00:00<00:00, 313662.62it/s]\n",
      "100%|██████████| 3635/3635 [00:00<00:00, 257278.01it/s]\n"
     ]
    },
    {
     "name": "stdout",
     "output_type": "stream",
     "text": [
      "[] ['bwv539_1.mid', 'bwv539_2.mid', 'jsbwv532.mid', 'jsbwv533.mid', 'jsbwv541.mid', 'jsbwv543.mid', 'jsbwv549.mid', 'jsbwv552.mid']\n"
     ]
    },
    {
     "name": "stderr",
     "output_type": "stream",
     "text": [
      "100%|██████████| 1174/1174 [00:00<00:00, 177945.68it/s]\n",
      "100%|██████████| 5412/5412 [00:00<00:00, 267648.93it/s]\n",
      "100%|██████████| 10237/10237 [00:00<00:00, 222006.10it/s]\n",
      "100%|██████████| 2913/2913 [00:00<00:00, 253606.65it/s]\n",
      "100%|██████████| 8318/8318 [00:00<00:00, 236072.57it/s]\n",
      "100%|██████████| 8757/8757 [00:00<00:00, 409584.84it/s]\n",
      "100%|██████████| 4274/4274 [00:00<00:00, 224560.69it/s]\n",
      "100%|██████████| 12971/12971 [00:00<00:00, 361106.58it/s]\n"
     ]
    },
    {
     "name": "stdout",
     "output_type": "stream",
     "text": [
      "[] ['bwv552f.mid', 'bwv552p.mid']\n"
     ]
    },
    {
     "name": "stderr",
     "output_type": "stream",
     "text": [
      "100%|██████████| 5257/5257 [00:00<00:00, 276614.01it/s]\n",
      "100%|██████████| 7989/7989 [00:00<00:00, 251788.72it/s]\n"
     ]
    },
    {
     "name": "stdout",
     "output_type": "stream",
     "text": [
      "[] ['bwv525-1.mid', 'bwv525-2.mid', 'bwv525-3.mid']\n"
     ]
    },
    {
     "name": "stderr",
     "output_type": "stream",
     "text": [
      "100%|██████████| 3168/3168 [00:00<00:00, 186342.93it/s]\n",
      "100%|██████████| 4174/4174 [00:00<00:00, 219493.55it/s]\n",
      "100%|██████████| 4886/4886 [00:00<00:00, 206351.33it/s]\n"
     ]
    },
    {
     "name": "stdout",
     "output_type": "stream",
     "text": [
      "[] ['bwv529-1.mid', 'bwv529-2.mid', 'bwv529-3.mid']\n"
     ]
    },
    {
     "name": "stderr",
     "output_type": "stream",
     "text": [
      "100%|██████████| 5749/5749 [00:00<00:00, 249016.90it/s]\n",
      "100%|██████████| 3196/3196 [00:00<00:00, 177467.34it/s]\n",
      "100%|██████████| 4231/4231 [00:00<00:00, 402826.08it/s]\n"
     ]
    },
    {
     "name": "stdout",
     "output_type": "stream",
     "text": [
      "[] ['bwv530-1.mid', 'bwv530-2.mid', 'bwv530-3.mid']\n"
     ]
    },
    {
     "name": "stderr",
     "output_type": "stream",
     "text": [
      "100%|██████████| 4714/4714 [00:00<00:00, 222549.32it/s]\n",
      "100%|██████████| 3947/3947 [00:00<00:00, 357110.27it/s]\n",
      "100%|██████████| 4268/4268 [00:00<00:00, 325531.26it/s]\n"
     ]
    },
    {
     "name": "stdout",
     "output_type": "stream",
     "text": [
      "[] ['fp-1all.mid', 'fp-2cou.mid', 'fp-3sar.mid', 'fp-4bou.mid']\n"
     ]
    },
    {
     "name": "stderr",
     "output_type": "stream",
     "text": [
      "100%|██████████| 2051/2051 [00:00<00:00, 341817.36it/s]\n",
      "100%|██████████| 1789/1789 [00:00<00:00, 195564.38it/s]\n",
      "100%|██████████| 606/606 [00:00<00:00, 240878.34it/s]\n",
      "100%|██████████| 1062/1062 [00:00<00:00, 355665.19it/s]\n"
     ]
    },
    {
     "name": "stdout",
     "output_type": "stream",
     "text": [
      "[] ['BWV910.MID', 'BWV911.MID', 'BWV912.MID', 'BWV913.MID', 'BWV914.MID', 'BWV915.MID', 'BWV916.MID']\n",
      "[] ['Sinfonia No. 15 - BWV 801 .mid']\n"
     ]
    },
    {
     "name": "stderr",
     "output_type": "stream",
     "text": [
      "100%|██████████| 1366/1366 [00:00<00:00, 227864.27it/s]\n"
     ]
    },
    {
     "name": "stdout",
     "output_type": "stream",
     "text": [
      "[] ['bwv806.mid', 'bwv807.mid', 'bwv808.mid', 'bwv809.mid', 'bwv810.mid', 'bwv811.mid']\n"
     ]
    },
    {
     "name": "stderr",
     "output_type": "stream",
     "text": [
      "100%|██████████| 12963/12963 [00:00<00:00, 250620.03it/s]\n",
      "100%|██████████| 12813/12813 [00:00<00:00, 404461.57it/s]\n",
      "100%|██████████| 10631/10631 [00:00<00:00, 335815.98it/s]\n",
      "100%|██████████| 12701/12701 [00:00<00:00, 408526.50it/s]\n",
      "100%|██████████| 13603/13603 [00:00<00:00, 277531.08it/s]\n",
      "100%|██████████| 17267/17267 [00:00<00:00, 308324.88it/s]\n"
     ]
    },
    {
     "name": "stdout",
     "output_type": "stream",
     "text": [
      "[] ['bwv812.mid', 'bwv813.mid', 'bwv814.mid', 'bwv815.mid', 'bwv816.mid', 'bwv817.mid']\n"
     ]
    },
    {
     "name": "stderr",
     "output_type": "stream",
     "text": [
      "100%|██████████| 5589/5589 [00:00<00:00, 370342.90it/s]\n",
      "100%|██████████| 4907/4907 [00:00<00:00, 272165.80it/s]\n",
      "100%|██████████| 6091/6091 [00:00<00:00, 234131.62it/s]\n",
      "100%|██████████| 5693/5693 [00:00<00:00, 221424.28it/s]\n",
      "100%|██████████| 7681/7681 [00:00<00:00, 382019.27it/s]\n",
      "100%|██████████| 7231/7231 [00:00<00:00, 233154.82it/s]\n"
     ]
    },
    {
     "name": "stdout",
     "output_type": "stream",
     "text": [
      "[] ['BWV825.MID', 'BWV826.MID', 'BWV827.MID', 'BWV828.MID', 'BWV829.MID', 'BWV830.MID']\n",
      "['Partita No. 1 in B minor - BWV 1002', 'Partita No. 2 in D minor - BWV 1004', 'Partita No. 3 in E major - BWV 1006', 'Sonata No. 1 in G minor - BWV 1001', 'Sonata No. 2 in A minor - BWV 1003', 'Sonata No. 3 in C major - BWV 1005'] []\n",
      "[] ['vp1-1al.mid', 'vp1-2ald.mid', 'vp1-3co.mid', 'vp1-4cod.mid', 'vp1-5sa.mid', 'vp1-6sad.mid', 'vp1-7tb.mid', 'vp1-8tbd.mid']\n"
     ]
    },
    {
     "name": "stderr",
     "output_type": "stream",
     "text": [
      "100%|██████████| 2023/2023 [00:00<00:00, 398397.83it/s]\n",
      "100%|██████████| 1528/1528 [00:00<00:00, 189528.21it/s]\n",
      "100%|██████████| 1913/1913 [00:00<00:00, 172734.79it/s]\n",
      "100%|██████████| 3828/3828 [00:00<00:00, 346425.78it/s]\n",
      "100%|██████████| 1058/1058 [00:00<00:00, 250342.64it/s]\n",
      "100%|██████████| 1145/1145 [00:00<00:00, 285572.82it/s]\n",
      "100%|██████████| 2138/2138 [00:00<00:00, 164497.60it/s]\n",
      "100%|██████████| 2225/2225 [00:00<00:00, 269175.84it/s]\n"
     ]
    },
    {
     "name": "stdout",
     "output_type": "stream",
     "text": [
      "[] ['vp2-1all.mid', 'vp2-2cou.mid', 'vp2-3sar.mid', 'vp2-4gig.mid', 'vp2-5cha.mid']\n"
     ]
    },
    {
     "name": "stderr",
     "output_type": "stream",
     "text": [
      "100%|██████████| 2191/2191 [00:00<00:00, 243604.07it/s]\n",
      "100%|██████████| 1725/1725 [00:00<00:00, 431281.26it/s]\n",
      "100%|██████████| 1080/1080 [00:00<00:00, 431044.66it/s]\n",
      "100%|██████████| 3640/3640 [00:00<00:00, 212716.02it/s]\n",
      "100%|██████████| 8582/8582 [00:00<00:00, 327321.24it/s]\n"
     ]
    },
    {
     "name": "stdout",
     "output_type": "stream",
     "text": [
      "[] ['vp3-1pre.mid', 'vp3-2lou.mid', 'vp3-3gav.mid', 'vp3-4min.mid', 'vp3-5bou.mid', 'vp3-6gig.mid']\n"
     ]
    },
    {
     "name": "stderr",
     "output_type": "stream",
     "text": [
      "100%|██████████| 3279/3279 [00:00<00:00, 251778.02it/s]\n",
      "100%|██████████| 1161/1161 [00:00<00:00, 293915.19it/s]\n",
      "100%|██████████| 1641/1641 [00:00<00:00, 163896.96it/s]\n",
      "100%|██████████| 1571/1571 [00:00<00:00, 196389.23it/s]\n",
      "100%|██████████| 1109/1109 [00:00<00:00, 283471.46it/s]\n",
      "100%|██████████| 1341/1341 [00:00<00:00, 191755.14it/s]\n"
     ]
    },
    {
     "name": "stdout",
     "output_type": "stream",
     "text": [
      "[] ['vs1-1ada.mid', 'vs1-2fug.mid', 'vs1-3sic.mid', 'vs1-4prs.mid']\n"
     ]
    },
    {
     "name": "stderr",
     "output_type": "stream",
     "text": [
      "100%|██████████| 1050/1050 [00:00<00:00, 262753.96it/s]\n",
      "100%|██████████| 3511/3511 [00:00<00:00, 234094.80it/s]\n",
      "100%|██████████| 1064/1064 [00:00<00:00, 297119.80it/s]\n",
      "100%|██████████| 3254/3254 [00:00<00:00, 327862.62it/s]\n"
     ]
    },
    {
     "name": "stdout",
     "output_type": "stream",
     "text": [
      "[] ['vs2-1gra.mid', 'vs2-2fug.mid', 'vs2-3and.mid', 'vs2-4alg.mid']\n"
     ]
    },
    {
     "name": "stderr",
     "output_type": "stream",
     "text": [
      "100%|██████████| 1097/1097 [00:00<00:00, 356761.38it/s]\n",
      "100%|██████████| 4769/4769 [00:00<00:00, 343057.19it/s]\n",
      "100%|██████████| 1579/1579 [00:00<00:00, 157779.77it/s]\n",
      "100%|██████████| 4231/4231 [00:00<00:00, 256139.32it/s]\n"
     ]
    },
    {
     "name": "stdout",
     "output_type": "stream",
     "text": [
      "[] ['vs3-1ada.mid', 'vs3-2fug.mid', 'vs3-3lar.mid', 'vs3-4alg.mid']\n"
     ]
    },
    {
     "name": "stderr",
     "output_type": "stream",
     "text": [
      "100%|██████████| 1122/1122 [00:00<00:00, 273065.40it/s]\n",
      "100%|██████████| 6085/6085 [00:00<00:00, 261328.02it/s]\n",
      "100%|██████████| 839/839 [00:00<00:00, 279976.22it/s]\n",
      "100%|██████████| 4791/4791 [00:00<00:00, 399120.33it/s]\n"
     ]
    },
    {
     "name": "stdout",
     "output_type": "stream",
     "text": [
      "[] ['vp1-1al.mid', 'vp1-2ald.mid', 'vp1-3co.mid', 'vp1-4cod.mid', 'vp1-5sa.mid', 'vp1-6sad.mid', 'vp1-7tb.mid', 'vp1-8tbd.mid']\n"
     ]
    },
    {
     "name": "stderr",
     "output_type": "stream",
     "text": [
      "100%|██████████| 2023/2023 [00:00<00:00, 125979.20it/s]\n",
      "100%|██████████| 1528/1528 [00:00<00:00, 374132.90it/s]\n",
      "100%|██████████| 1913/1913 [00:00<00:00, 174561.16it/s]\n",
      "100%|██████████| 3828/3828 [00:00<00:00, 250687.71it/s]\n",
      "100%|██████████| 1058/1058 [00:00<00:00, 191398.47it/s]\n",
      "100%|██████████| 1145/1145 [00:00<00:00, 225119.68it/s]\n",
      "100%|██████████| 2138/2138 [00:00<00:00, 213164.92it/s]\n",
      "100%|██████████| 2225/2225 [00:00<00:00, 177545.54it/s]\n"
     ]
    },
    {
     "name": "stdout",
     "output_type": "stream",
     "text": [
      "[] ['vp2-1all.mid', 'vp2-2cou.mid', 'vp2-3sar.mid', 'vp2-4gig.mid', 'vp2-5cha.mid']\n"
     ]
    },
    {
     "name": "stderr",
     "output_type": "stream",
     "text": [
      "100%|██████████| 2191/2191 [00:00<00:00, 199217.85it/s]\n",
      "100%|██████████| 1725/1725 [00:00<00:00, 470519.24it/s]\n",
      "100%|██████████| 1080/1080 [00:00<00:00, 154170.86it/s]\n",
      "100%|██████████| 3640/3640 [00:00<00:00, 301046.39it/s]\n",
      "100%|██████████| 8582/8582 [00:00<00:00, 243609.64it/s]\n"
     ]
    },
    {
     "name": "stdout",
     "output_type": "stream",
     "text": [
      "[] ['vp3-1pre.mid', 'vp3-2lou.mid', 'vp3-3gav.mid', 'vp3-4min.mid', 'vp3-5bou.mid', 'vp3-6gig.mid']\n"
     ]
    },
    {
     "name": "stderr",
     "output_type": "stream",
     "text": [
      "100%|██████████| 3279/3279 [00:00<00:00, 288277.08it/s]\n",
      "100%|██████████| 1161/1161 [00:00<00:00, 298454.70it/s]\n",
      "100%|██████████| 1641/1641 [00:00<00:00, 410524.45it/s]\n",
      "100%|██████████| 1571/1571 [00:00<00:00, 196436.07it/s]\n",
      "100%|██████████| 1109/1109 [00:00<00:00, 268809.71it/s]\n",
      "100%|██████████| 1341/1341 [00:00<00:00, 327638.01it/s]\n"
     ]
    },
    {
     "name": "stdout",
     "output_type": "stream",
     "text": [
      "[] ['vs1-1ada.mid', 'vs1-2fug.mid', 'vs1-3sic.mid', 'vs1-4prs.mid']\n"
     ]
    },
    {
     "name": "stderr",
     "output_type": "stream",
     "text": [
      "100%|██████████| 1050/1050 [00:00<00:00, 174998.78it/s]\n",
      "100%|██████████| 3511/3511 [00:00<00:00, 232472.47it/s]\n",
      "100%|██████████| 1064/1064 [00:00<00:00, 405777.36it/s]\n",
      "100%|██████████| 3254/3254 [00:00<00:00, 405197.44it/s]\n"
     ]
    },
    {
     "name": "stdout",
     "output_type": "stream",
     "text": [
      "[] ['vs2-1gra.mid', 'vs2-2fug.mid', 'vs2-3and.mid', 'vs2-4alg.mid']\n"
     ]
    },
    {
     "name": "stderr",
     "output_type": "stream",
     "text": [
      "100%|██████████| 1097/1097 [00:00<00:00, 219311.32it/s]\n",
      "100%|██████████| 4769/4769 [00:00<00:00, 367729.31it/s]\n",
      "100%|██████████| 1579/1579 [00:00<00:00, 198394.52it/s]\n",
      "100%|██████████| 4231/4231 [00:00<00:00, 423251.77it/s]\n"
     ]
    },
    {
     "name": "stdout",
     "output_type": "stream",
     "text": [
      "[] ['vs3-1ada.mid', 'vs3-2fug.mid', 'vs3-3lar.mid', 'vs3-4alg.mid']\n"
     ]
    },
    {
     "name": "stderr",
     "output_type": "stream",
     "text": [
      "100%|██████████| 1122/1122 [00:00<00:00, 560973.79it/s]\n",
      "100%|██████████| 6085/6085 [00:00<00:00, 262004.06it/s]\n",
      "100%|██████████| 839/839 [00:00<00:00, 279620.27it/s]\n",
      "100%|██████████| 4791/4791 [00:00<00:00, 400536.39it/s]\n"
     ]
    },
    {
     "name": "stdout",
     "output_type": "stream",
     "text": [
      "['Sonata No. 1 in B minor', 'Sonata No. 2 in A Major', 'Sonata No. 3 in E Major', 'Sonata No. 4 in C minor', 'Sonata No. 5 in F minor', 'Sonata No. 6 in G Major'] []\n",
      "[] ['sonat_1a.mid', 'sonat_1b.mid', 'sonat_1c.mid', 'sonat_1d.mid']\n"
     ]
    },
    {
     "name": "stderr",
     "output_type": "stream",
     "text": [
      "100%|██████████| 2242/2242 [00:00<00:00, 246348.88it/s]\n",
      "100%|██████████| 4522/4522 [00:00<00:00, 216094.82it/s]\n",
      "100%|██████████| 2019/2019 [00:00<00:00, 265007.03it/s]\n",
      "100%|██████████| 5902/5902 [00:00<00:00, 280969.10it/s]\n"
     ]
    },
    {
     "name": "stdout",
     "output_type": "stream",
     "text": [
      "[] ['sonat_2a.mid', 'sonat_2b.mid', 'sonat_2c.mid', 'sonat_2d.mid']\n"
     ]
    },
    {
     "name": "stderr",
     "output_type": "stream",
     "text": [
      "100%|██████████| 1989/1989 [00:00<00:00, 127434.06it/s]\n",
      "100%|██████████| 5161/5161 [00:00<00:00, 406375.37it/s]\n",
      "100%|██████████| 1891/1891 [00:00<00:00, 126988.20it/s]\n",
      "100%|██████████| 6402/6402 [00:00<00:00, 278370.89it/s]\n"
     ]
    },
    {
     "name": "stdout",
     "output_type": "stream",
     "text": [
      "[] ['sonat_3a.mid', 'sonat_3b.mid', 'sonat_3c.mid', 'sonat_3d.mid']\n"
     ]
    },
    {
     "name": "stderr",
     "output_type": "stream",
     "text": [
      "100%|██████████| 3443/3443 [00:00<00:00, 340919.02it/s]\n",
      "100%|██████████| 4476/4476 [00:00<00:00, 233521.22it/s]\n",
      "100%|██████████| 3507/3507 [00:00<00:00, 267765.39it/s]\n",
      "100%|██████████| 6369/6369 [00:00<00:00, 275792.34it/s]\n"
     ]
    },
    {
     "name": "stdout",
     "output_type": "stream",
     "text": [
      "[] ['sonat_4a.mid', 'sonat_4b.mid', 'sonat_4c.mid', 'sonat_4d.mid']\n"
     ]
    },
    {
     "name": "stderr",
     "output_type": "stream",
     "text": [
      "100%|██████████| 3232/3232 [00:00<00:00, 355931.06it/s]\n",
      "100%|██████████| 6407/6407 [00:00<00:00, 438590.94it/s]\n",
      "100%|██████████| 1829/1829 [00:00<00:00, 230836.28it/s]\n",
      "100%|██████████| 7653/7653 [00:00<00:00, 391594.59it/s]\n"
     ]
    },
    {
     "name": "stdout",
     "output_type": "stream",
     "text": [
      "[] ['sonat_5a.mid', 'sonat_5b.mid', 'sonat_5c.mid', 'sonat_5d.mid']\n"
     ]
    },
    {
     "name": "stderr",
     "output_type": "stream",
     "text": [
      "100%|██████████| 3613/3613 [00:00<00:00, 197838.33it/s]\n",
      "100%|██████████| 6816/6816 [00:00<00:00, 367450.40it/s]\n",
      "100%|██████████| 2506/2506 [00:00<00:00, 205367.73it/s]\n",
      "100%|██████████| 3538/3538 [00:00<00:00, 196608.87it/s]\n"
     ]
    },
    {
     "name": "stdout",
     "output_type": "stream",
     "text": [
      "[] ['sonat_6a.mid', 'sonat_6b.mid', 'sonat_6c.mid', 'sonat_6d.mid', 'sonat_6e.mid']\n"
     ]
    },
    {
     "name": "stderr",
     "output_type": "stream",
     "text": [
      "100%|██████████| 6096/6096 [00:00<00:00, 196567.19it/s]\n",
      "100%|██████████| 1183/1183 [00:00<00:00, 236843.04it/s]\n",
      "100%|██████████| 5428/5428 [00:00<00:00, 273021.08it/s]\n",
      "100%|██████████| 1555/1555 [00:00<00:00, 379923.27it/s]\n",
      "100%|██████████| 5342/5342 [00:00<00:00, 233016.89it/s]\n"
     ]
    },
    {
     "name": "stdout",
     "output_type": "stream",
     "text": [
      "[] ['sonat_1a.mid', 'sonat_1b.mid', 'sonat_1c.mid', 'sonat_1d.mid']\n"
     ]
    },
    {
     "name": "stderr",
     "output_type": "stream",
     "text": [
      "100%|██████████| 2242/2242 [00:00<00:00, 171255.32it/s]\n",
      "100%|██████████| 4522/4522 [00:00<00:00, 344904.49it/s]\n",
      "100%|██████████| 2019/2019 [00:00<00:00, 292939.66it/s]\n",
      "100%|██████████| 5902/5902 [00:00<00:00, 269413.41it/s]\n"
     ]
    },
    {
     "name": "stdout",
     "output_type": "stream",
     "text": [
      "[] ['sonat_2a.mid', 'sonat_2b.mid', 'sonat_2c.mid', 'sonat_2d.mid']\n"
     ]
    },
    {
     "name": "stderr",
     "output_type": "stream",
     "text": [
      "100%|██████████| 1989/1989 [00:00<00:00, 220980.89it/s]\n",
      "100%|██████████| 5161/5161 [00:00<00:00, 214102.20it/s]\n",
      "100%|██████████| 1891/1891 [00:00<00:00, 179594.43it/s]\n",
      "100%|██████████| 6402/6402 [00:00<00:00, 221116.41it/s]\n"
     ]
    },
    {
     "name": "stdout",
     "output_type": "stream",
     "text": [
      "[] ['sonat_3a.mid', 'sonat_3b.mid', 'sonat_3c.mid', 'sonat_3d.mid']\n"
     ]
    },
    {
     "name": "stderr",
     "output_type": "stream",
     "text": [
      "100%|██████████| 3443/3443 [00:00<00:00, 206692.55it/s]\n",
      "100%|██████████| 4476/4476 [00:00<00:00, 224340.43it/s]\n",
      "100%|██████████| 3507/3507 [00:00<00:00, 301991.95it/s]\n",
      "100%|██████████| 6369/6369 [00:00<00:00, 231638.88it/s]\n"
     ]
    },
    {
     "name": "stdout",
     "output_type": "stream",
     "text": [
      "[] ['sonat_4a.mid', 'sonat_4b.mid', 'sonat_4c.mid', 'sonat_4d.mid']\n"
     ]
    },
    {
     "name": "stderr",
     "output_type": "stream",
     "text": [
      "100%|██████████| 3232/3232 [00:00<00:00, 174351.33it/s]\n",
      "100%|██████████| 6407/6407 [00:00<00:00, 255222.67it/s]\n",
      "100%|██████████| 1829/1829 [00:00<00:00, 181506.73it/s]\n",
      "100%|██████████| 7653/7653 [00:00<00:00, 246871.77it/s]\n"
     ]
    },
    {
     "name": "stdout",
     "output_type": "stream",
     "text": [
      "[] ['sonat_5a.mid', 'sonat_5b.mid', 'sonat_5c.mid', 'sonat_5d.mid']\n"
     ]
    },
    {
     "name": "stderr",
     "output_type": "stream",
     "text": [
      "100%|██████████| 3613/3613 [00:00<00:00, 276482.77it/s]\n",
      "100%|██████████| 6816/6816 [00:00<00:00, 340812.51it/s]\n",
      "100%|██████████| 2506/2506 [00:00<00:00, 418245.43it/s]\n",
      "100%|██████████| 3538/3538 [00:00<00:00, 248783.66it/s]\n"
     ]
    },
    {
     "name": "stdout",
     "output_type": "stream",
     "text": [
      "[] ['sonat_6a.mid', 'sonat_6b.mid', 'sonat_6c.mid', 'sonat_6d.mid', 'sonat_6e.mid']\n"
     ]
    },
    {
     "name": "stderr",
     "output_type": "stream",
     "text": [
      "100%|██████████| 6096/6096 [00:00<00:00, 277177.08it/s]\n",
      "100%|██████████| 1183/1183 [00:00<00:00, 207271.05it/s]\n",
      "100%|██████████| 5428/5428 [00:00<00:00, 301569.42it/s]\n",
      "100%|██████████| 1555/1555 [00:00<00:00, 219275.91it/s]\n",
      "100%|██████████| 5342/5342 [00:00<00:00, 376583.62it/s]\n"
     ]
    },
    {
     "name": "stdout",
     "output_type": "stream",
     "text": [
      "['Suite No. 1 in G major - BWV 1007', 'Suite No. 2 in D minor - BWV 1008', 'Suite No. 3 in C major - BWV 1009', 'Suite No. 4 in Eb major - BWV 1010', 'Suite No. 5 in C minor - BWV 1011', 'Suite No. 6 in D major - BWV 1012'] []\n",
      "[] ['cs1-1pre.mid', 'cs1-2all.mid', 'cs1-3cou.mid', 'cs1-4sar.mid', 'cs1-5men.mid', 'cs1-6gig.mid']\n"
     ]
    },
    {
     "name": "stderr",
     "output_type": "stream",
     "text": [
      "100%|██████████| 1322/1322 [00:00<00:00, 186916.23it/s]\n",
      "100%|██████████| 1882/1882 [00:00<00:00, 188218.13it/s]\n",
      "100%|██████████| 1639/1639 [00:00<00:00, 327215.21it/s]\n",
      "100%|██████████| 630/630 [00:00<00:00, 316608.14it/s]\n",
      "100%|██████████| 1318/1318 [00:00<00:00, 330074.80it/s]\n",
      "100%|██████████| 858/858 [00:00<00:00, 417387.25it/s]\n"
     ]
    },
    {
     "name": "stdout",
     "output_type": "stream",
     "text": [
      "[] ['cs2-1pre.mid', 'cs2-2all.mid', 'cs2-3cou.mid', 'cs2-4sar.mid', 'cs2-5men.mid', 'cs2-6gig.mid']\n"
     ]
    },
    {
     "name": "stderr",
     "output_type": "stream",
     "text": [
      "100%|██████████| 1310/1310 [00:00<00:00, 327621.38it/s]\n",
      "100%|██████████| 1490/1490 [00:00<00:00, 298192.24it/s]\n",
      "100%|██████████| 1492/1492 [00:00<00:00, 372582.85it/s]\n",
      "100%|██████████| 836/836 [00:00<00:00, 278775.49it/s]\n",
      "100%|██████████| 1326/1326 [00:00<00:00, 112299.79it/s]\n",
      "100%|██████████| 1637/1637 [00:00<00:00, 163622.13it/s]\n"
     ]
    },
    {
     "name": "stdout",
     "output_type": "stream",
     "text": [
      "[] ['cs3-1pre.mid', 'cs3-2all.mid', 'cs3-3cou.mid', 'cs3-4sar.mid', 'cs3-5bou.mid', 'cs3-6gig.mid']\n"
     ]
    },
    {
     "name": "stderr",
     "output_type": "stream",
     "text": [
      "100%|██████████| 2023/2023 [00:00<00:00, 336976.85it/s]\n",
      "100%|██████████| 1954/1954 [00:00<00:00, 177660.79it/s]\n",
      "100%|██████████| 1989/1989 [00:00<00:00, 441564.11it/s]\n",
      "100%|██████████| 876/876 [00:00<00:00, 298062.00it/s]\n",
      "100%|██████████| 1788/1788 [00:00<00:00, 449524.40it/s]\n",
      "100%|██████████| 2107/2107 [00:00<00:00, 421410.45it/s]\n"
     ]
    },
    {
     "name": "stdout",
     "output_type": "stream",
     "text": [
      "[] ['cs4-1pre.mid', 'cs4-2all.mid', 'cs4-3cou.mid', 'cs4-4sar.mid', 'cs4-5bou.mid', 'cs4-6gig.mid']\n"
     ]
    },
    {
     "name": "stderr",
     "output_type": "stream",
     "text": [
      "100%|██████████| 1664/1664 [00:00<00:00, 186558.01it/s]\n",
      "100%|██████████| 2139/2139 [00:00<00:00, 305822.75it/s]\n",
      "100%|██████████| 1866/1866 [00:00<00:00, 458230.17it/s]\n",
      "100%|██████████| 812/812 [00:00<00:00, 162419.52it/s]\n",
      "100%|██████████| 2711/2711 [00:00<00:00, 225753.62it/s]\n",
      "100%|██████████| 1940/1940 [00:00<00:00, 327904.48it/s]\n"
     ]
    },
    {
     "name": "stdout",
     "output_type": "stream",
     "text": [
      "[] ['cs5-1pre.mid', 'cs5-2all.mid', 'cs5-3cou.mid', 'cs5-4sar.mid', 'cs5-5gav.mid', 'cs5-6gig.mid']\n"
     ]
    },
    {
     "name": "stderr",
     "output_type": "stream",
     "text": [
      "100%|██████████| 2760/2760 [00:00<00:00, 212401.00it/s]\n",
      "100%|██████████| 1578/1578 [00:00<00:00, 385677.51it/s]\n",
      "100%|██████████| 1058/1058 [00:00<00:00, 117194.60it/s]\n",
      "100%|██████████| 438/438 [00:00<00:00, 207044.42it/s]\n",
      "100%|██████████| 2791/2791 [00:00<00:00, 402015.95it/s]\n",
      "100%|██████████| 883/883 [00:00<00:00, 423168.47it/s]\n"
     ]
    },
    {
     "name": "stdout",
     "output_type": "stream",
     "text": [
      "[] ['cs6-1pre.mid', 'cs6-2all.mid', 'cs6-3cou.mid', 'cs6-4sar.mid', 'cs6-5gav.mid', 'cs6-6gig.mid']\n"
     ]
    },
    {
     "name": "stderr",
     "output_type": "stream",
     "text": [
      "100%|██████████| 2708/2708 [00:00<00:00, 193587.66it/s]\n",
      "100%|██████████| 2172/2172 [00:00<00:00, 217438.68it/s]\n",
      "100%|██████████| 2562/2562 [00:00<00:00, 340747.30it/s]\n",
      "100%|██████████| 1212/1212 [00:00<00:00, 638469.79it/s]\n",
      "100%|██████████| 2412/2412 [00:00<00:00, 344525.99it/s]\n",
      "100%|██████████| 2644/2644 [00:00<00:00, 261618.34it/s]\n"
     ]
    },
    {
     "name": "stdout",
     "output_type": "stream",
     "text": [
      "[] ['cs1-1pre.mid', 'cs1-2all.mid', 'cs1-3cou.mid', 'cs1-4sar.mid', 'cs1-5men.mid', 'cs1-6gig.mid']\n"
     ]
    },
    {
     "name": "stderr",
     "output_type": "stream",
     "text": [
      "100%|██████████| 1322/1322 [00:00<00:00, 324071.88it/s]\n",
      "100%|██████████| 1882/1882 [00:00<00:00, 156997.56it/s]\n",
      "100%|██████████| 1639/1639 [00:00<00:00, 328246.40it/s]\n",
      "100%|██████████| 630/630 [00:00<00:00, 216077.48it/s]\n",
      "100%|██████████| 1318/1318 [00:00<00:00, 328252.04it/s]\n",
      "100%|██████████| 858/858 [00:00<00:00, 214797.23it/s]\n"
     ]
    },
    {
     "name": "stdout",
     "output_type": "stream",
     "text": [
      "[] ['cs2-1pre.mid', 'cs2-2all.mid', 'cs2-3cou.mid', 'cs2-4sar.mid', 'cs2-5men.mid', 'cs2-6gig.mid']\n"
     ]
    },
    {
     "name": "stderr",
     "output_type": "stream",
     "text": [
      "100%|██████████| 1310/1310 [00:00<00:00, 262043.98it/s]\n",
      "100%|██████████| 1490/1490 [00:00<00:00, 248489.58it/s]\n",
      "100%|██████████| 1492/1492 [00:00<00:00, 271292.39it/s]\n",
      "100%|██████████| 836/836 [00:00<00:00, 276751.23it/s]\n",
      "100%|██████████| 1326/1326 [00:00<00:00, 265156.00it/s]\n",
      "100%|██████████| 1637/1637 [00:00<00:00, 163159.44it/s]\n"
     ]
    },
    {
     "name": "stdout",
     "output_type": "stream",
     "text": [
      "[] ['cs3-1pre.mid', 'cs3-2all.mid', 'cs3-3cou.mid', 'cs3-4sar.mid', 'cs3-5bou.mid', 'cs3-6gig.mid']\n"
     ]
    },
    {
     "name": "stderr",
     "output_type": "stream",
     "text": [
      "100%|██████████| 2023/2023 [00:00<00:00, 224289.00it/s]\n",
      "100%|██████████| 1954/1954 [00:00<00:00, 383890.11it/s]\n",
      "100%|██████████| 1989/1989 [00:00<00:00, 249954.18it/s]\n",
      "100%|██████████| 876/876 [00:00<00:00, 292114.03it/s]\n",
      "100%|██████████| 1788/1788 [00:00<00:00, 359322.29it/s]\n",
      "100%|██████████| 2107/2107 [00:00<00:00, 356102.61it/s]\n"
     ]
    },
    {
     "name": "stdout",
     "output_type": "stream",
     "text": [
      "[] ['cs4-1pre.mid', 'cs4-2all.mid', 'cs4-3cou.mid', 'cs4-4sar.mid', 'cs4-5bou.mid', 'cs4-6gig.mid']\n"
     ]
    },
    {
     "name": "stderr",
     "output_type": "stream",
     "text": [
      "100%|██████████| 1664/1664 [00:00<00:00, 277298.34it/s]\n",
      "100%|██████████| 2139/2139 [00:00<00:00, 356639.22it/s]\n",
      "100%|██████████| 1866/1866 [00:00<00:00, 305355.67it/s]\n",
      "100%|██████████| 812/812 [00:00<00:00, 162823.29it/s]\n",
      "100%|██████████| 2711/2711 [00:00<00:00, 387129.18it/s]\n",
      "100%|██████████| 1940/1940 [00:00<00:00, 381532.79it/s]\n"
     ]
    },
    {
     "name": "stdout",
     "output_type": "stream",
     "text": [
      "[] ['cs5-1pre.mid', 'cs5-2all.mid', 'cs5-3cou.mid', 'cs5-4sar.mid', 'cs5-5gav.mid', 'cs5-6gig.mid']\n"
     ]
    },
    {
     "name": "stderr",
     "output_type": "stream",
     "text": [
      "100%|██████████| 2760/2760 [00:00<00:00, 212354.24it/s]\n",
      "100%|██████████| 1578/1578 [00:00<00:00, 392446.59it/s]\n",
      "100%|██████████| 1058/1058 [00:00<00:00, 348318.18it/s]\n",
      "100%|██████████| 438/438 [00:00<00:00, 460311.99it/s]\n",
      "100%|██████████| 2791/2791 [00:00<00:00, 278284.18it/s]\n",
      "100%|██████████| 883/883 [00:00<00:00, 220660.77it/s]\n"
     ]
    },
    {
     "name": "stdout",
     "output_type": "stream",
     "text": [
      "[] ['cs6-1pre.mid', 'cs6-2all.mid', 'cs6-3cou.mid', 'cs6-4sar.mid', 'cs6-5gav.mid', 'cs6-6gig.mid']\n"
     ]
    },
    {
     "name": "stderr",
     "output_type": "stream",
     "text": [
      "100%|██████████| 2708/2708 [00:00<00:00, 159902.23it/s]\n",
      "100%|██████████| 2172/2172 [00:00<00:00, 434659.49it/s]\n",
      "100%|██████████| 2562/2562 [00:00<00:00, 158926.38it/s]\n",
      "100%|██████████| 1212/1212 [00:00<00:00, 297942.59it/s]\n",
      "100%|██████████| 2412/2412 [00:00<00:00, 201158.46it/s]\n",
      "100%|██████████| 2644/2644 [00:00<00:00, 330533.81it/s]\n"
     ]
    },
    {
     "name": "stdout",
     "output_type": "stream",
     "text": [
      "[] ['Contrapunctus I.mid', 'Contrapunctus II ( 12. 8 ) .mid', 'Contrapunctus II.mid', 'Contrapunctus XII - Canon alla Ottava.mid']\n"
     ]
    },
    {
     "name": "stderr",
     "output_type": "stream",
     "text": [
      "100%|██████████| 1854/1854 [00:00<00:00, 308568.69it/s]\n",
      "100%|██████████| 2296/2296 [00:00<00:00, 255136.36it/s]\n",
      "100%|██████████| 2296/2296 [00:00<00:00, 455993.28it/s]\n",
      "100%|██████████| 5138/5138 [00:00<00:00, 467307.09it/s]\n"
     ]
    },
    {
     "name": "stdout",
     "output_type": "stream",
     "text": [
      "['bwv1066', 'bwv1067', 'bwv1068', 'bwv1069'] []\n",
      "[] ['BOURREE.mid', 'COURANTE.mid', 'FORLANE.mid', 'GAVOTTE.mid', 'MENUET.mid', 'OVERTURE.mid', 'PASSPIED.mid', 'Suites.txt']\n"
     ]
    },
    {
     "name": "stderr",
     "output_type": "stream",
     "text": [
      "100%|██████████| 7843/7843 [00:00<00:00, 412638.15it/s]\n",
      "100%|██████████| 5808/5808 [00:00<00:00, 200463.44it/s]\n",
      "100%|██████████| 4248/4248 [00:00<00:00, 140217.23it/s]\n",
      "100%|██████████| 9285/9285 [00:00<00:00, 250884.91it/s]\n",
      "100%|██████████| 6704/6704 [00:00<00:00, 297781.50it/s]\n",
      "100%|██████████| 28410/28410 [00:00<00:00, 208165.14it/s]\n",
      "100%|██████████| 8849/8849 [00:00<00:00, 196305.05it/s]\n"
     ]
    },
    {
     "name": "stdout",
     "output_type": "stream",
     "text": [
      "[] ['BADINERI.mid', 'BOURREE.mid', 'MENUET.mid', 'OVERTURE.mid', 'POLONAIS.mid', 'RONDEAU.mid', 'SARABAND.mid', 'Suites.txt']\n"
     ]
    },
    {
     "name": "stderr",
     "output_type": "stream",
     "text": [
      "100%|██████████| 3345/3345 [00:00<00:00, 145177.43it/s]\n",
      "100%|██████████| 5171/5171 [00:00<00:00, 397353.50it/s]\n",
      "100%|██████████| 1745/1745 [00:00<00:00, 285387.99it/s]\n",
      "100%|██████████| 20389/20389 [00:00<00:00, 334234.86it/s]\n",
      "100%|██████████| 4452/4452 [00:00<00:00, 404344.67it/s]\n",
      "100%|██████████| 2578/2578 [00:00<00:00, 161098.27it/s]\n",
      "100%|██████████| 2476/2476 [00:00<00:00, 353691.73it/s]\n"
     ]
    },
    {
     "name": "stdout",
     "output_type": "stream",
     "text": [
      "[] ['AIR.mid', 'BOURREE.mid', 'GAVOTTE.mid', 'GIGUE.mid', 'OVERTURE.mid', 'Suites.txt']\n"
     ]
    },
    {
     "name": "stderr",
     "output_type": "stream",
     "text": [
      "100%|██████████| 2145/2145 [00:00<00:00, 200856.90it/s]\n",
      "100%|██████████| 4353/4353 [00:00<00:00, 398763.93it/s]\n",
      "100%|██████████| 11096/11096 [00:00<00:00, 217595.59it/s]\n",
      "100%|██████████| 8857/8857 [00:00<00:00, 402829.65it/s]\n",
      "100%|██████████| 30102/30102 [00:00<00:00, 275387.57it/s]\n"
     ]
    },
    {
     "name": "stdout",
     "output_type": "stream",
     "text": [
      "[] ['BOURREE.mid', 'GAVOTTE.mid', 'MENUET.mid', 'OVERTURE.mid', 'rejouiss.mid', 'Suites.txt']\n"
     ]
    },
    {
     "name": "stderr",
     "output_type": "stream",
     "text": [
      "100%|██████████| 8996/8996 [00:00<00:00, 361126.67it/s]\n",
      "100%|██████████| 4732/4732 [00:00<00:00, 225301.06it/s]\n",
      "100%|██████████| 9302/9302 [00:00<00:00, 422766.35it/s]\n",
      "100%|██████████| 33409/33409 [00:00<00:00, 251474.73it/s]\n",
      "100%|██████████| 10877/10877 [00:00<00:00, 334311.21it/s]\n"
     ]
    },
    {
     "name": "stdout",
     "output_type": "stream",
     "text": [
      "[] ['BOURREE.mid', 'COURANTE.mid', 'FORLANE.mid', 'GAVOTTE.mid', 'MENUET.mid', 'OVERTURE.mid', 'PASSPIED.mid', 'Suites.txt']\n"
     ]
    },
    {
     "name": "stderr",
     "output_type": "stream",
     "text": [
      "100%|██████████| 7843/7843 [00:00<00:00, 372952.77it/s]\n",
      "100%|██████████| 5808/5808 [00:00<00:00, 232367.87it/s]\n",
      "100%|██████████| 4248/4248 [00:00<00:00, 419707.04it/s]\n",
      "100%|██████████| 9285/9285 [00:00<00:00, 318764.63it/s]\n",
      "100%|██████████| 6704/6704 [00:00<00:00, 226412.44it/s]\n",
      "100%|██████████| 28410/28410 [00:00<00:00, 317385.53it/s]\n",
      "100%|██████████| 8849/8849 [00:00<00:00, 326461.40it/s]\n"
     ]
    },
    {
     "name": "stdout",
     "output_type": "stream",
     "text": [
      "[] ['BADINERI.mid', 'BOURREE.mid', 'MENUET.mid', 'OVERTURE.mid', 'POLONAIS.mid', 'RONDEAU.mid', 'SARABAND.mid', 'Suites.txt']\n"
     ]
    },
    {
     "name": "stderr",
     "output_type": "stream",
     "text": [
      "100%|██████████| 3345/3345 [00:00<00:00, 209077.65it/s]\n",
      "100%|██████████| 5171/5171 [00:00<00:00, 271873.97it/s]\n",
      "100%|██████████| 1745/1745 [00:00<00:00, 290715.78it/s]\n",
      "100%|██████████| 20389/20389 [00:00<00:00, 281725.13it/s]\n",
      "100%|██████████| 4452/4452 [00:00<00:00, 370835.31it/s]\n",
      "100%|██████████| 2578/2578 [00:00<00:00, 368312.41it/s]\n",
      "100%|██████████| 2476/2476 [00:00<00:00, 350102.71it/s]\n"
     ]
    },
    {
     "name": "stdout",
     "output_type": "stream",
     "text": [
      "[] ['AIR.mid', 'BOURREE.mid', 'GAVOTTE.mid', 'GIGUE.mid', 'OVERTURE.mid', 'Suites.txt']\n"
     ]
    },
    {
     "name": "stderr",
     "output_type": "stream",
     "text": [
      "100%|██████████| 2145/2145 [00:00<00:00, 141849.15it/s]\n",
      "100%|██████████| 4353/4353 [00:00<00:00, 197802.95it/s]\n",
      "100%|██████████| 11096/11096 [00:00<00:00, 253903.46it/s]\n",
      "100%|██████████| 8857/8857 [00:00<00:00, 295083.53it/s]\n",
      "100%|██████████| 30102/30102 [00:00<00:00, 286941.07it/s]\n"
     ]
    },
    {
     "name": "stdout",
     "output_type": "stream",
     "text": [
      "[] ['BOURREE.mid', 'GAVOTTE.mid', 'MENUET.mid', 'OVERTURE.mid', 'rejouiss.mid', 'Suites.txt']\n"
     ]
    },
    {
     "name": "stderr",
     "output_type": "stream",
     "text": [
      "100%|██████████| 8996/8996 [00:00<00:00, 299141.86it/s]\n",
      "100%|██████████| 4732/4732 [00:00<00:00, 315444.41it/s]\n",
      "100%|██████████| 9302/9302 [00:00<00:00, 318680.50it/s]\n",
      "100%|██████████| 33409/33409 [00:00<00:00, 317970.07it/s]\n",
      "100%|██████████| 10877/10877 [00:00<00:00, 386684.67it/s]\n"
     ]
    },
    {
     "name": "stdout",
     "output_type": "stream",
     "text": [
      "[] ['bwv988.mid', 'bwv988.txt', 'Fourteen Canons on the First Eight Notes Of The Goldber Ground - BWV 1087.mid']\n"
     ]
    },
    {
     "name": "stderr",
     "output_type": "stream",
     "text": [
      "100%|██████████| 77058/77058 [00:00<00:00, 287949.57it/s]\n",
      "100%|██████████| 4263/4263 [00:00<00:00, 426402.07it/s]\n"
     ]
    },
    {
     "name": "stdout",
     "output_type": "stream",
     "text": [
      "[] ['bwv846.mid', 'bwv847.mid', 'bwv848.mid', 'bwv849.mid', 'bwv850.mid', 'bwv851.mid', 'bwv852.mid', 'bwv853.mid', 'bwv854.mid', 'bwv855.mid', 'bwv856.mid', 'bwv857.mid', 'bwv858.mid', 'bwv859.mid', 'bwv860.mid', 'bwv861.mid', 'bwv862.mid', 'bwv863.mid', 'bwv864.mid', 'bwv865.mid', 'bwv866.mid', 'bwv867.mid', 'bwv868.mid', 'bwv869.mid']\n"
     ]
    },
    {
     "name": "stderr",
     "output_type": "stream",
     "text": [
      "100%|██████████| 2641/2641 [00:00<00:00, 374038.73it/s]\n",
      "100%|██████████| 3759/3759 [00:00<00:00, 290994.79it/s]\n",
      "100%|██████████| 4537/4537 [00:00<00:00, 182233.56it/s]\n",
      "100%|██████████| 4175/4175 [00:00<00:00, 376528.68it/s]\n",
      "100%|██████████| 3111/3111 [00:00<00:00, 239272.38it/s]\n",
      "100%|██████████| 3209/3209 [00:00<00:00, 356392.56it/s]\n",
      "100%|██████████| 4695/4695 [00:00<00:00, 223984.36it/s]\n",
      "100%|██████████| 4263/4263 [00:00<00:00, 379898.82it/s]\n",
      "100%|██████████| 2447/2447 [00:00<00:00, 274343.43it/s]\n",
      "100%|██████████| 4143/4143 [00:00<00:00, 258351.82it/s]\n",
      "100%|██████████| 3129/3129 [00:00<00:00, 238726.28it/s]\n",
      "100%|██████████| 3799/3799 [00:00<00:00, 253244.77it/s]\n",
      "100%|██████████| 2761/2761 [00:00<00:00, 347074.07it/s]\n",
      "100%|██████████| 2959/2959 [00:00<00:00, 271147.11it/s]\n",
      "100%|██████████| 4789/4789 [00:00<00:00, 299173.69it/s]\n",
      "100%|██████████| 2987/2987 [00:00<00:00, 209708.18it/s]\n",
      "100%|██████████| 3155/3155 [00:00<00:00, 263202.44it/s]\n",
      "100%|██████████| 2747/2747 [00:00<00:00, 343256.66it/s]\n",
      "100%|██████████| 3593/3593 [00:00<00:00, 359394.60it/s]\n",
      "100%|██████████| 6091/6091 [00:00<00:00, 380794.54it/s]\n",
      "100%|██████████| 3211/3211 [00:00<00:00, 356388.20it/s]\n",
      "100%|██████████| 3033/3033 [00:00<00:00, 215039.79it/s]\n",
      "100%|██████████| 2635/2635 [00:00<00:00, 292853.31it/s]\n",
      "100%|██████████| 5107/5107 [00:00<00:00, 232120.49it/s]\n"
     ]
    },
    {
     "name": "stdout",
     "output_type": "stream",
     "text": [
      "[] ['bwv870.mid', 'bwv871.mid', 'bwv872.mid', 'bwv873.mid', 'bwv874.mid', 'bwv875.mid', 'bwv876.mid', 'bwv877.mid', 'bwv878.mid', 'bwv879.mid', 'bwv880.mid', 'bwv881.mid']\n"
     ]
    },
    {
     "name": "stderr",
     "output_type": "stream",
     "text": [
      "100%|██████████| 3951/3951 [00:00<00:00, 207918.08it/s]\n",
      "100%|██████████| 2727/2727 [00:00<00:00, 306530.18it/s]\n",
      "100%|██████████| 3253/3253 [00:00<00:00, 326999.90it/s]\n",
      "100%|██████████| 5331/5331 [00:00<00:00, 221977.91it/s]\n",
      "100%|██████████| 4851/4851 [00:00<00:00, 254281.25it/s]\n",
      "100%|██████████| 3799/3799 [00:00<00:00, 237171.96it/s]\n",
      "100%|██████████| 3237/3237 [00:00<00:00, 360017.03it/s]\n",
      "100%|██████████| 3993/3993 [00:00<00:00, 241605.56it/s]\n",
      "100%|██████████| 3295/3295 [00:00<00:00, 366089.15it/s]\n",
      "100%|██████████| 5279/5279 [00:00<00:00, 405935.11it/s]\n",
      "100%|██████████| 4417/4417 [00:00<00:00, 201079.31it/s]\n",
      "100%|██████████| 3703/3703 [00:00<00:00, 184293.37it/s]\n"
     ]
    },
    {
     "name": "stdout",
     "output_type": "stream",
     "text": [
      "[] ['bwv1027.mid', 'bwv1028.mid', 'bwv1029.mid']\n"
     ]
    },
    {
     "name": "stderr",
     "output_type": "stream",
     "text": [
      "100%|██████████| 12639/12639 [00:00<00:00, 394359.74it/s]\n",
      "100%|██████████| 20799/20799 [00:00<00:00, 328284.47it/s]\n",
      "100%|██████████| 16259/16259 [00:00<00:00, 309697.99it/s]\n"
     ]
    },
    {
     "name": "stdout",
     "output_type": "stream",
     "text": [
      "['Partita in C minor - BWV 997', 'Prelude, Fugue, and Allegro in Eb major - BWV 998'] ['Fugue in G minor for Solo Harpsichord.mid', 'Fugue in G minor for Solo Lute.mid', 'Suite in in E minor - BWV 996.mid']\n"
     ]
    },
    {
     "name": "stderr",
     "output_type": "stream",
     "text": [
      "100%|██████████| 3393/3393 [00:00<00:00, 188018.04it/s]\n",
      "100%|██████████| 3393/3393 [00:00<00:00, 241987.31it/s]\n",
      "100%|██████████| 9468/9468 [00:00<00:00, 411656.41it/s]\n"
     ]
    },
    {
     "name": "stdout",
     "output_type": "stream",
     "text": [
      "[] ['997-1pre.mid', '997-2fug.mid', '997-3sar.mid', '997-4gig.mid', '997-5dou.mid']\n"
     ]
    },
    {
     "name": "stderr",
     "output_type": "stream",
     "text": [
      "100%|██████████| 1965/1965 [00:00<00:00, 150965.44it/s]\n",
      "100%|██████████| 4110/4110 [00:00<00:00, 340253.23it/s]\n",
      "100%|██████████| 1890/1890 [00:00<00:00, 377811.20it/s]\n",
      "100%|██████████| 1941/1941 [00:00<00:00, 215790.92it/s]\n",
      "100%|██████████| 2675/2675 [00:00<00:00, 292348.82it/s]\n"
     ]
    },
    {
     "name": "stdout",
     "output_type": "stream",
     "text": [
      "[] ['pfa-1pre.mid', 'pfa-2fug.mid', 'pfa-3alg.mid']\n"
     ]
    },
    {
     "name": "stderr",
     "output_type": "stream",
     "text": [
      "100%|██████████| 1505/1505 [00:00<00:00, 301957.79it/s]\n",
      "100%|██████████| 3588/3588 [00:00<00:00, 398516.08it/s]\n",
      "100%|██████████| 1505/1505 [00:00<00:00, 185534.12it/s]\n"
     ]
    },
    {
     "name": "stdout",
     "output_type": "stream",
     "text": [
      "[] ['997-1pre.mid', '997-2fug.mid', '997-3sar.mid', '997-4gig.mid', '997-5dou.mid']\n"
     ]
    },
    {
     "name": "stderr",
     "output_type": "stream",
     "text": [
      "100%|██████████| 1965/1965 [00:00<00:00, 242727.36it/s]\n",
      "100%|██████████| 4110/4110 [00:00<00:00, 147206.26it/s]\n",
      "100%|██████████| 1890/1890 [00:00<00:00, 118144.13it/s]\n",
      "100%|██████████| 1941/1941 [00:00<00:00, 484736.18it/s]\n",
      "100%|██████████| 2675/2675 [00:00<00:00, 382105.48it/s]\n"
     ]
    },
    {
     "name": "stdout",
     "output_type": "stream",
     "text": [
      "[] ['pfa-1pre.mid', 'pfa-2fug.mid', 'pfa-3alg.mid']\n"
     ]
    },
    {
     "name": "stderr",
     "output_type": "stream",
     "text": [
      "100%|██████████| 1505/1505 [00:00<00:00, 250612.49it/s]\n",
      "100%|██████████| 3588/3588 [00:00<00:00, 398748.38it/s]\n",
      "100%|██████████| 1505/1505 [00:00<00:00, 375426.88it/s]\n"
     ]
    },
    {
     "name": "stdout",
     "output_type": "stream",
     "text": [
      "[] ['bwv651.mid', 'bwv652.mid', 'bwv653.mid', 'bwv654.mid', 'bwv655.mid', 'bwv656.mid', 'bwv657.mid', 'bwv658.mid', 'bwv659.mid', 'bwv660.mid', 'bwv661.mid', 'bwv662.mid', 'bwv663.mid', 'bwv664.mid', 'bwv665.mid', 'bwv666.mid', 'bwv667.mid', 'bwv668.mid']\n"
     ]
    },
    {
     "name": "stderr",
     "output_type": "stream",
     "text": [
      "100%|██████████| 25484/25484 [00:00<00:00, 426401.00it/s]\n",
      "100%|██████████| 6149/6149 [00:00<00:00, 410054.30it/s]\n",
      "100%|██████████| 4681/4681 [00:00<00:00, 387379.14it/s]\n",
      "100%|██████████| 7526/7526 [00:00<00:00, 289477.21it/s]\n",
      "100%|██████████| 7922/7922 [00:00<00:00, 293319.88it/s]\n",
      "100%|██████████| 10036/10036 [00:00<00:00, 260275.12it/s]\n",
      "100%|██████████| 6741/6741 [00:00<00:00, 291620.80it/s]\n",
      "100%|██████████| 2470/2470 [00:00<00:00, 276722.34it/s]\n",
      "100%|██████████| 3254/3254 [00:00<00:00, 325439.11it/s]\n",
      "100%|██████████| 2235/2235 [00:00<00:00, 224447.38it/s]\n",
      "100%|██████████| 8108/8108 [00:00<00:00, 297642.28it/s]\n",
      "100%|██████████| 4818/4818 [00:00<00:00, 209363.22it/s]\n",
      "100%|██████████| 5562/5562 [00:00<00:00, 291037.82it/s]\n",
      "100%|██████████| 6273/6273 [00:00<00:00, 208500.36it/s]\n",
      "100%|██████████| 3773/3773 [00:00<00:00, 374204.52it/s]\n",
      "100%|██████████| 2139/2139 [00:00<00:00, 425962.22it/s]\n",
      "100%|██████████| 9560/9560 [00:00<00:00, 273905.31it/s]\n",
      "100%|██████████| 3533/3533 [00:00<00:00, 353190.87it/s]\n"
     ]
    },
    {
     "name": "stdout",
     "output_type": "stream",
     "text": [
      "[] ['1079-02.mid', '1079-03.mid', '1079-04.mid', '1079-05.mid']\n"
     ]
    },
    {
     "name": "stderr",
     "output_type": "stream",
     "text": [
      "100%|██████████| 751/751 [00:00<00:00, 250730.10it/s]\n",
      "100%|██████████| 813/813 [00:00<00:00, 198415.52it/s]\n",
      "100%|██████████| 588/588 [00:00<00:00, 117367.86it/s]\n",
      "100%|██████████| 677/677 [00:00<00:00, 298804.99it/s]\n"
     ]
    },
    {
     "name": "stdout",
     "output_type": "stream",
     "text": [
      "[] ['bburg14a.mid', 'bburg14h.mid', 'bburg1_1.mid', 'Bburg1_2.mid', 'Bburg1_3.mid']\n"
     ]
    },
    {
     "name": "stderr",
     "output_type": "stream",
     "text": [
      "100%|██████████| 16993/16993 [00:00<00:00, 261927.24it/s]\n",
      "100%|██████████| 15295/15295 [00:00<00:00, 209256.19it/s]\n",
      "100%|██████████| 17895/17895 [00:00<00:00, 419601.57it/s]\n",
      "100%|██████████| 4017/4017 [00:00<00:00, 401355.90it/s]\n",
      "100%|██████████| 20462/20462 [00:00<00:00, 307548.43it/s]\n"
     ]
    },
    {
     "name": "stdout",
     "output_type": "stream",
     "text": [
      "[] [\"'Mer hahn en neue Oberkeet' - BWV0212.mid\", \"'Weichet nur, betrübte Schatten' - BWV0202.mid\", \"'Zerreisset, zerspreget, zertrümmert die Gruft' BWV0205.mid\", 'Sinfonia to Cantata No. 212  (Mer hahn en neue Oberkeet)- BWV 212.mid', 'Sinfonia to Cantata No. 29 - BWV 29.mid']\n"
     ]
    },
    {
     "name": "stderr",
     "output_type": "stream",
     "text": [
      "100%|██████████| 39043/39043 [00:00<00:00, 253827.31it/s]\n",
      "100%|██████████| 31698/31698 [00:00<00:00, 341979.55it/s]\n",
      "100%|██████████| 102188/102188 [00:00<00:00, 290102.47it/s]\n",
      "100%|██████████| 4790/4790 [00:00<00:00, 320354.56it/s]\n",
      "100%|██████████| 10183/10183 [00:00<00:00, 305895.06it/s]\n"
     ]
    },
    {
     "name": "stdout",
     "output_type": "stream",
     "text": [
      "['Sonata No. 2 in Eb major - BWV 1031'] ['Sonata No. 1 in B minor - BWV 1030 for Flute and Harpsichord.mid']\n"
     ]
    },
    {
     "name": "stderr",
     "output_type": "stream",
     "text": [
      "100%|██████████| 19297/19297 [00:00<00:00, 251571.15it/s]\n"
     ]
    },
    {
     "name": "stdout",
     "output_type": "stream",
     "text": [
      "[] ['bjs1031a.mid', 'bjs1031b.mid', 'bjs1031c.mid']\n"
     ]
    },
    {
     "name": "stderr",
     "output_type": "stream",
     "text": [
      "100%|██████████| 3933/3933 [00:00<00:00, 337863.75it/s]\n",
      "100%|██████████| 1269/1269 [00:00<00:00, 156389.84it/s]\n",
      "100%|██████████| 3535/3535 [00:00<00:00, 219611.70it/s]\n"
     ]
    },
    {
     "name": "stdout",
     "output_type": "stream",
     "text": [
      "[] ['bjs1031a.mid', 'bjs1031b.mid', 'bjs1031c.mid']\n"
     ]
    },
    {
     "name": "stderr",
     "output_type": "stream",
     "text": [
      "100%|██████████| 3933/3933 [00:00<00:00, 326456.98it/s]\n",
      "100%|██████████| 1269/1269 [00:00<00:00, 207815.55it/s]\n",
      "100%|██████████| 3535/3535 [00:00<00:00, 185984.43it/s]\n"
     ]
    },
    {
     "name": "stdout",
     "output_type": "stream",
     "text": [
      "[] ['bwv0248a.mid', 'bwv0248b.mid', 'bwv0248c.mid', 'bwv0248d.mid', 'bwv0248e.mid', 'bwv0248f.mid']\n"
     ]
    },
    {
     "name": "stderr",
     "output_type": "stream",
     "text": [
      "100%|██████████| 62579/62579 [00:00<00:00, 504577.86it/s]\n",
      "100%|██████████| 43687/43687 [00:00<00:00, 504917.44it/s]\n",
      "100%|██████████| 39064/39064 [00:00<00:00, 495814.28it/s]\n",
      "100%|██████████| 34418/34418 [00:00<00:00, 454654.28it/s]\n",
      "100%|██████████| 41628/41628 [00:00<00:00, 485049.86it/s]\n",
      "100%|██████████| 44027/44027 [00:00<00:00, 446547.62it/s]\n"
     ]
    },
    {
     "name": "stdout",
     "output_type": "stream",
     "text": [
      "['Violin Concerto No. 1 in A minor - BWV 1041'] [\"'Italian' Concerto in F Major, BWV 971.mid\", 'Concerto for Three Harpsichords in D minor - BWV1063.mid', 'Concerto for Two Harpsichords in C minor - BWV 1060.mid', 'Concerto for Two Harpsichords in C minor - BWV1062.mid', 'Harpsichord Concerto No. 1 (mvmt 1) - BWV1052a.mid']\n"
     ]
    },
    {
     "name": "stderr",
     "output_type": "stream",
     "text": [
      "100%|██████████| 12715/12715 [00:00<00:00, 435661.04it/s]\n",
      "100%|██████████| 41733/41733 [00:00<00:00, 461756.72it/s]\n",
      "100%|██████████| 32381/32381 [00:00<00:00, 472543.99it/s]\n",
      "100%|██████████| 32837/32837 [00:00<00:00, 474326.75it/s]\n",
      "100%|██████████| 18767/18767 [00:00<00:00, 553945.19it/s]\n"
     ]
    },
    {
     "name": "stdout",
     "output_type": "stream",
     "text": [
      "[] ['bwv1041a.mid', 'bwv1041b.mid', 'bwv1041c.mid']\n"
     ]
    },
    {
     "name": "stderr",
     "output_type": "stream",
     "text": [
      "100%|██████████| 9035/9035 [00:00<00:00, 499137.76it/s]\n",
      "100%|██████████| 4257/4257 [00:00<00:00, 526793.89it/s]\n",
      "100%|██████████| 9569/9569 [00:00<00:00, 478193.93it/s]\n"
     ]
    },
    {
     "name": "stdout",
     "output_type": "stream",
     "text": [
      "[] ['bwv1041a.mid', 'bwv1041b.mid', 'bwv1041c.mid']\n"
     ]
    },
    {
     "name": "stderr",
     "output_type": "stream",
     "text": [
      "100%|██████████| 9035/9035 [00:00<00:00, 428537.11it/s]\n",
      "100%|██████████| 4257/4257 [00:00<00:00, 474479.87it/s]\n",
      "100%|██████████| 9569/9569 [00:00<00:00, 352394.75it/s]\n"
     ]
    },
    {
     "name": "stdout",
     "output_type": "stream",
     "text": [
      "['English Suite No. 1 in A major - BWV 806', 'English Suite No. 2 in A minor - BWV 807', 'English Suite No. 3 in G minor - BWV 808', 'English Suite No. 4 in F Major - BWV 809', 'English Suite No. 5 in E minor - BWV 810', 'English Suite No. 6 in D minor - BWV 811'] []\n",
      "[] ['bwv806a.mid', 'bwv806b.mid', 'bwv806c.mid', 'bwv806d.mid', 'bwv806e.mid', 'bwv806f.mid', 'bwv806g.mid', 'bwv806h.mid', 'bwv806i.mid', 'bwv806j.mid']\n"
     ]
    },
    {
     "name": "stderr",
     "output_type": "stream",
     "text": [
      "100%|██████████| 1607/1607 [00:00<00:00, 200835.69it/s]\n",
      "100%|██████████| 3441/3441 [00:00<00:00, 312806.95it/s]\n",
      "100%|██████████| 1719/1719 [00:00<00:00, 286475.23it/s]\n",
      "100%|██████████| 1965/1965 [00:00<00:00, 196486.13it/s]\n",
      "100%|██████████| 2103/2103 [00:00<00:00, 351405.18it/s]\n",
      "100%|██████████| 2265/2265 [00:00<00:00, 378023.10it/s]\n",
      "100%|██████████| 1936/1936 [00:00<00:00, 378969.18it/s]\n",
      "100%|██████████| 2376/2376 [00:00<00:00, 263991.16it/s]\n",
      "100%|██████████| 1769/1769 [00:00<00:00, 440915.37it/s]\n",
      "100%|██████████| 3953/3953 [00:00<00:00, 438800.68it/s]\n"
     ]
    },
    {
     "name": "stdout",
     "output_type": "stream",
     "text": [
      "[] ['bwv807a.mid', 'bwv807b.mid', 'bwv807c.mid', 'bwv807d.mid', 'bwv807e.mid', 'bwv807f.mid', 'bwv807g.mid', 'bwv807h.mid']\n"
     ]
    },
    {
     "name": "stderr",
     "output_type": "stream",
     "text": [
      "100%|██████████| 6158/6158 [00:00<00:00, 342457.99it/s]\n",
      "100%|██████████| 2598/2598 [00:00<00:00, 432464.25it/s]\n",
      "100%|██████████| 2072/2072 [00:00<00:00, 414252.25it/s]\n",
      "100%|██████████| 1416/1416 [00:00<00:00, 472296.98it/s]\n",
      "100%|██████████| 1740/1740 [00:00<00:00, 347180.86it/s]\n",
      "100%|██████████| 2907/2907 [00:00<00:00, 410837.72it/s]\n",
      "100%|██████████| 1223/1223 [00:00<00:00, 408507.91it/s]\n",
      "100%|██████████| 3162/3162 [00:00<00:00, 390863.49it/s]\n"
     ]
    },
    {
     "name": "stdout",
     "output_type": "stream",
     "text": [
      "[] ['bwv808a.mid', 'bwv808b.mid', 'bwv808c.mid', 'bwv808d.mid', 'bwv808e.mid', 'bwv808f.mid', 'bwv808g.mid', 'bwv808h.mid']\n"
     ]
    },
    {
     "name": "stderr",
     "output_type": "stream",
     "text": [
      "100%|██████████| 4699/4699 [00:00<00:00, 427277.61it/s]\n",
      "100%|██████████| 2516/2516 [00:00<00:00, 418565.32it/s]\n",
      "100%|██████████| 2587/2587 [00:00<00:00, 425866.97it/s]\n",
      "100%|██████████| 1061/1061 [00:00<00:00, 263806.78it/s]\n",
      "100%|██████████| 1791/1791 [00:00<00:00, 447196.00it/s]\n",
      "100%|██████████| 1623/1623 [00:00<00:00, 441462.74it/s]\n",
      "100%|██████████| 649/649 [00:00<00:00, 327018.66it/s]\n",
      "100%|██████████| 3423/3423 [00:00<00:00, 428455.12it/s]\n"
     ]
    },
    {
     "name": "stdout",
     "output_type": "stream",
     "text": [
      "[] ['bwv809a.mid', 'bwv809b.mid', 'bwv809c.mid', 'bwv809d.mid', 'bwv809e.mid', 'bwv809f.mid', 'bwv809g.mid']\n"
     ]
    },
    {
     "name": "stderr",
     "output_type": "stream",
     "text": [
      "100%|██████████| 5875/5875 [00:00<00:00, 390373.33it/s]\n",
      "100%|██████████| 3240/3240 [00:00<00:00, 463712.04it/s]\n",
      "100%|██████████| 1621/1621 [00:00<00:00, 540802.32it/s]\n",
      "100%|██████████| 1429/1429 [00:00<00:00, 464157.08it/s]\n",
      "100%|██████████| 1266/1266 [00:00<00:00, 424527.41it/s]\n",
      "100%|██████████| 1253/1253 [00:00<00:00, 420807.34it/s]\n",
      "100%|██████████| 4317/4317 [00:00<00:00, 389527.80it/s]\n"
     ]
    },
    {
     "name": "stdout",
     "output_type": "stream",
     "text": [
      "[] ['bwv810a.mid', 'bwv810b.mid', 'bwv810c.mid', 'bwv810d.mid', 'bwv810e.mid', 'bwv810f.mid', 'bwv810g.mid']\n"
     ]
    },
    {
     "name": "stderr",
     "output_type": "stream",
     "text": [
      "100%|██████████| 6598/6598 [00:00<00:00, 425374.55it/s]\n",
      "100%|██████████| 2852/2852 [00:00<00:00, 402481.58it/s]\n",
      "100%|██████████| 2863/2863 [00:00<00:00, 476160.53it/s]\n",
      "100%|██████████| 1669/1669 [00:00<00:00, 416510.58it/s]\n",
      "100%|██████████| 1443/1443 [00:00<00:00, 360196.43it/s]\n",
      "100%|██████████| 878/878 [00:00<00:00, 423433.24it/s]\n",
      "100%|██████████| 3475/3475 [00:00<00:00, 429465.68it/s]\n"
     ]
    },
    {
     "name": "stdout",
     "output_type": "stream",
     "text": [
      "[] ['bwv811a.mid', 'bwv811b.mid', 'bwv811c.mid', 'bwv811d.mid', 'bwv811e.mid', 'bwv811f.mid', 'bwv811g.mid', 'bwv811h.mid']\n"
     ]
    },
    {
     "name": "stderr",
     "output_type": "stream",
     "text": [
      "100%|██████████| 9314/9314 [00:00<00:00, 309907.88it/s]\n",
      "100%|██████████| 2975/2975 [00:00<00:00, 297571.23it/s]\n",
      "100%|██████████| 2825/2825 [00:00<00:00, 78454.53it/s]\n",
      "100%|██████████| 1391/1391 [00:00<00:00, 277796.25it/s]\n",
      "100%|██████████| 1769/1769 [00:00<00:00, 243501.16it/s]\n",
      "100%|██████████| 2193/2193 [00:00<00:00, 292309.68it/s]\n",
      "100%|██████████| 1523/1523 [00:00<00:00, 304942.00it/s]\n",
      "100%|██████████| 5719/5719 [00:00<00:00, 286055.98it/s]\n"
     ]
    },
    {
     "name": "stdout",
     "output_type": "stream",
     "text": [
      "[] ['bwv806a.mid', 'bwv806b.mid', 'bwv806c.mid', 'bwv806d.mid', 'bwv806e.mid', 'bwv806f.mid', 'bwv806g.mid', 'bwv806h.mid', 'bwv806i.mid', 'bwv806j.mid']\n"
     ]
    },
    {
     "name": "stderr",
     "output_type": "stream",
     "text": [
      "100%|██████████| 1607/1607 [00:00<00:00, 101609.20it/s]\n",
      "100%|██████████| 3441/3441 [00:00<00:00, 297468.98it/s]\n",
      "100%|██████████| 1719/1719 [00:00<00:00, 429806.77it/s]\n",
      "100%|██████████| 1965/1965 [00:00<00:00, 392504.40it/s]\n",
      "100%|██████████| 2103/2103 [00:00<00:00, 290831.26it/s]\n",
      "100%|██████████| 2265/2265 [00:00<00:00, 323088.65it/s]\n",
      "100%|██████████| 1936/1936 [00:00<00:00, 387283.47it/s]\n",
      "100%|██████████| 2376/2376 [00:00<00:00, 338519.19it/s]\n",
      "100%|██████████| 1769/1769 [00:00<00:00, 296812.70it/s]\n",
      "100%|██████████| 3953/3953 [00:00<00:00, 395281.53it/s]\n"
     ]
    },
    {
     "name": "stdout",
     "output_type": "stream",
     "text": [
      "[] ['bwv807a.mid', 'bwv807b.mid', 'bwv807c.mid', 'bwv807d.mid', 'bwv807e.mid', 'bwv807f.mid', 'bwv807g.mid', 'bwv807h.mid']\n"
     ]
    },
    {
     "name": "stderr",
     "output_type": "stream",
     "text": [
      "100%|██████████| 6158/6158 [00:00<00:00, 382673.15it/s]\n",
      "100%|██████████| 2598/2598 [00:00<00:00, 366932.75it/s]\n",
      "100%|██████████| 2072/2072 [00:00<00:00, 278902.37it/s]\n",
      "100%|██████████| 1416/1416 [00:00<00:00, 347033.68it/s]\n",
      "100%|██████████| 1740/1740 [00:00<00:00, 347577.70it/s]\n",
      "100%|██████████| 2907/2907 [00:00<00:00, 415160.26it/s]\n",
      "100%|██████████| 1223/1223 [00:00<00:00, 409911.60it/s]\n",
      "100%|██████████| 3162/3162 [00:00<00:00, 347984.60it/s]\n"
     ]
    },
    {
     "name": "stdout",
     "output_type": "stream",
     "text": [
      "[] ['bwv808a.mid', 'bwv808b.mid', 'bwv808c.mid', 'bwv808d.mid', 'bwv808e.mid', 'bwv808f.mid', 'bwv808g.mid', 'bwv808h.mid']\n"
     ]
    },
    {
     "name": "stderr",
     "output_type": "stream",
     "text": [
      "100%|██████████| 4699/4699 [00:00<00:00, 363648.74it/s]\n",
      "100%|██████████| 2516/2516 [00:00<00:00, 419447.07it/s]\n",
      "100%|██████████| 2587/2587 [00:00<00:00, 365613.06it/s]\n",
      "100%|██████████| 1061/1061 [00:00<00:00, 345000.12it/s]\n",
      "100%|██████████| 1791/1791 [00:00<00:00, 223791.18it/s]\n",
      "100%|██████████| 1623/1623 [00:00<00:00, 406142.56it/s]\n",
      "100%|██████████| 649/649 [00:00<00:00, 326547.90it/s]\n",
      "100%|██████████| 3423/3423 [00:00<00:00, 380159.47it/s]\n"
     ]
    },
    {
     "name": "stdout",
     "output_type": "stream",
     "text": [
      "[] ['bwv809a.mid', 'bwv809b.mid', 'bwv809c.mid', 'bwv809d.mid', 'bwv809e.mid', 'bwv809f.mid', 'bwv809g.mid']\n"
     ]
    },
    {
     "name": "stderr",
     "output_type": "stream",
     "text": [
      "100%|██████████| 5875/5875 [00:00<00:00, 345705.41it/s]\n",
      "100%|██████████| 3240/3240 [00:00<00:00, 356624.81it/s]\n",
      "100%|██████████| 1621/1621 [00:00<00:00, 404195.16it/s]\n",
      "100%|██████████| 1429/1429 [00:00<00:00, 357126.88it/s]\n",
      "100%|██████████| 1266/1266 [00:00<00:00, 316749.51it/s]\n",
      "100%|██████████| 1253/1253 [00:00<00:00, 411418.73it/s]\n",
      "100%|██████████| 4317/4317 [00:00<00:00, 330042.84it/s]\n"
     ]
    },
    {
     "name": "stdout",
     "output_type": "stream",
     "text": [
      "[] ['bwv810a.mid', 'bwv810b.mid', 'bwv810c.mid', 'bwv810d.mid', 'bwv810e.mid', 'bwv810f.mid', 'bwv810g.mid']\n"
     ]
    },
    {
     "name": "stderr",
     "output_type": "stream",
     "text": [
      "100%|██████████| 6598/6598 [00:00<00:00, 290977.72it/s]\n",
      "100%|██████████| 2852/2852 [00:00<00:00, 247586.77it/s]\n",
      "100%|██████████| 2863/2863 [00:00<00:00, 168221.06it/s]\n",
      "100%|██████████| 1669/1669 [00:00<00:00, 255438.55it/s]\n",
      "100%|██████████| 1443/1443 [00:00<00:00, 151795.26it/s]\n",
      "100%|██████████| 878/878 [00:00<00:00, 175003.51it/s]\n",
      "100%|██████████| 3475/3475 [00:00<00:00, 231672.41it/s]\n"
     ]
    },
    {
     "name": "stdout",
     "output_type": "stream",
     "text": [
      "[] ['bwv811a.mid', 'bwv811b.mid', 'bwv811c.mid', 'bwv811d.mid', 'bwv811e.mid', 'bwv811f.mid', 'bwv811g.mid', 'bwv811h.mid']\n"
     ]
    },
    {
     "name": "stderr",
     "output_type": "stream",
     "text": [
      "100%|██████████| 9314/9314 [00:00<00:00, 268480.19it/s]\n",
      "100%|██████████| 2975/2975 [00:00<00:00, 238773.31it/s]\n",
      "100%|██████████| 2825/2825 [00:00<00:00, 256875.77it/s]\n",
      "100%|██████████| 1391/1391 [00:00<00:00, 198559.60it/s]\n",
      "100%|██████████| 1769/1769 [00:00<00:00, 294223.32it/s]\n",
      "100%|██████████| 2193/2193 [00:00<00:00, 360809.19it/s]\n",
      "100%|██████████| 1523/1523 [00:00<00:00, 250065.57it/s]\n",
      "100%|██████████| 5719/5719 [00:00<00:00, 336506.95it/s]\n"
     ]
    },
    {
     "name": "stdout",
     "output_type": "stream",
     "text": [
      "[] ['BWV787.MID', 'BWV788.MID', 'BWV789.MID', 'BWV790.MID', 'BWV791.MID', 'BWV792.MID', 'BWV793.MID', 'BWV794.MID', 'BWV795.MID', 'BWV796.MID', 'BWV797.MID', 'BWV798.MID', 'BWV799.MID', 'BWV800.MID', 'BWV801.MID']\n",
      "[] ['BWV772.MID', 'BWV773.MID', 'BWV774.MID', 'BWV775.MID', 'BWV776.MID', 'BWV777.MID', 'BWV778.MID', 'BWV779.MID', 'BWV780.MID', 'BWV781.MID', 'BWV782.MID', 'BWV783.MID', 'BWV784.MID', 'BWV785.MID', 'BWV786.MID']\n",
      "[] ['BWV802.MID', 'BWV803.MID', 'BWV804.MID', 'BWV805.MID']\n",
      "[] ['Invention No. 1 (alt) - BWV 772a .mid', 'Invention No. 1 - BWV 772.mid', 'Invention No. 13 - BWV 784.mid']\n"
     ]
    },
    {
     "name": "stderr",
     "output_type": "stream",
     "text": [
      "100%|██████████| 1129/1129 [00:00<00:00, 375524.92it/s]\n",
      "100%|██████████| 959/959 [00:00<00:00, 237740.86it/s]\n",
      "100%|██████████| 1139/1139 [00:00<00:00, 369103.94it/s]\n"
     ]
    },
    {
     "name": "stdout",
     "output_type": "stream",
     "text": [
      "['Fantasia and Fugue in C minor - BWV 906', 'Four Duets - BWV 802-805'] ['Concerto in Bb for Solo Keyboard (after a concerto by Duke Johann Ernst of Saxe-Weimar), BWV 982.mid', 'Concerto in F in the Italian Manner.mid', 'Duetto IV in A Minor, BWV 805 (from Clavierübung Part 3).mid']\n"
     ]
    },
    {
     "name": "stderr",
     "output_type": "stream",
     "text": [
      "100%|██████████| 7632/7632 [00:00<00:00, 360515.90it/s]\n",
      "100%|██████████| 5094/5094 [00:00<00:00, 377114.24it/s]\n",
      "100%|██████████| 2471/2471 [00:00<00:00, 372609.21it/s]\n"
     ]
    },
    {
     "name": "stdout",
     "output_type": "stream",
     "text": [
      "[] ['bwv906a.mid', 'bwv906b.mid']\n"
     ]
    },
    {
     "name": "stderr",
     "output_type": "stream",
     "text": [
      "100%|██████████| 5519/5519 [00:00<00:00, 344726.19it/s]\n",
      "100%|██████████| 2222/2222 [00:00<00:00, 370448.50it/s]\n"
     ]
    },
    {
     "name": "stdout",
     "output_type": "stream",
     "text": [
      "[] ['bwv802.mid', 'bwv803.mid', 'bwv804.mid', 'bwv805.mid']\n"
     ]
    },
    {
     "name": "stderr",
     "output_type": "stream",
     "text": [
      "100%|██████████| 1997/1997 [00:00<00:00, 392779.61it/s]\n",
      "100%|██████████| 2970/2970 [00:00<00:00, 375473.46it/s]\n",
      "100%|██████████| 2757/2757 [00:00<00:00, 340469.21it/s]\n",
      "100%|██████████| 2380/2380 [00:00<00:00, 340360.86it/s]\n"
     ]
    },
    {
     "name": "stdout",
     "output_type": "stream",
     "text": [
      "[] ['bwv906a.mid', 'bwv906b.mid']\n"
     ]
    },
    {
     "name": "stderr",
     "output_type": "stream",
     "text": [
      "100%|██████████| 5519/5519 [00:00<00:00, 394854.82it/s]\n",
      "100%|██████████| 2222/2222 [00:00<00:00, 310958.71it/s]\n"
     ]
    },
    {
     "name": "stdout",
     "output_type": "stream",
     "text": [
      "[] ['bwv802.mid', 'bwv803.mid', 'bwv804.mid', 'bwv805.mid']\n"
     ]
    },
    {
     "name": "stderr",
     "output_type": "stream",
     "text": [
      "100%|██████████| 1997/1997 [00:00<00:00, 398668.50it/s]\n",
      "100%|██████████| 2970/2970 [00:00<00:00, 330058.90it/s]\n",
      "100%|██████████| 2757/2757 [00:00<00:00, 347028.87it/s]\n",
      "100%|██████████| 2380/2380 [00:00<00:00, 391775.65it/s]\n"
     ]
    },
    {
     "name": "stdout",
     "output_type": "stream",
     "text": [
      "[] ['bwv0243.mid']\n"
     ]
    },
    {
     "name": "stderr",
     "output_type": "stream",
     "text": [
      "100%|██████████| 57423/57423 [00:00<00:00, 453176.98it/s]\n"
     ]
    },
    {
     "name": "stdout",
     "output_type": "stream",
     "text": [
      "[] ['bjsbmm01.mid', 'bjsbmm02.mid', 'bjsbmm03.mid', 'bjsbmm04.mid', 'bjsbmm05.mid', 'bjsbmm06.mid', 'bjsbmm07.mid', 'bjsbmm08.mid', 'bjsbmm09.mid', 'bjsbmm10.mid', 'bjsbmm11.mid', 'bjsbmm12.mid', 'bjsbmm13.mid', 'bjsbmm14.mid', 'bjsbmm15.mid', 'bjsbmm16.mid', 'bjsbmm17.mid', 'bjsbmm18.mid', 'bjsbmm19.mid', 'bjsbmm20.mid', 'bjsbmm21.mid', 'bjsbmm22.mid', 'bjsbmm23.mid']\n"
     ]
    },
    {
     "name": "stderr",
     "output_type": "stream",
     "text": [
      "100%|██████████| 17983/17983 [00:00<00:00, 473143.49it/s]\n",
      "100%|██████████| 8200/8200 [00:00<00:00, 409541.47it/s]\n",
      "100%|██████████| 8227/8227 [00:00<00:00, 454823.36it/s]\n",
      "100%|██████████| 21154/21154 [00:00<00:00, 480719.01it/s]\n",
      "100%|██████████| 7709/7709 [00:00<00:00, 479148.36it/s]\n",
      "100%|██████████| 6088/6088 [00:00<00:00, 380584.30it/s]\n",
      "100%|██████████| 9396/9396 [00:00<00:00, 468649.58it/s]\n",
      "100%|██████████| 4235/4235 [00:00<00:00, 302367.44it/s]\n",
      "100%|██████████| 6641/6641 [00:00<00:00, 314966.45it/s]\n",
      "100%|██████████| 7636/7636 [00:00<00:00, 398374.36it/s]\n",
      "100%|██████████| 20382/20382 [00:00<00:00, 357542.05it/s]\n",
      "100%|██████████| 3103/3103 [00:00<00:00, 193937.11it/s]\n",
      "100%|██████████| 8132/8132 [00:00<00:00, 207151.28it/s]\n",
      "100%|██████████| 7172/7172 [00:00<00:00, 260674.25it/s]\n",
      "100%|██████████| 9742/9742 [00:00<00:00, 345824.63it/s]\n",
      "100%|██████████| 18759/18759 [00:00<00:00, 324627.53it/s]\n",
      "100%|██████████| 7587/7587 [00:00<00:00, 244738.97it/s]\n",
      "100%|██████████| 18710/18710 [00:00<00:00, 360662.30it/s]\n",
      "100%|██████████| 19753/19753 [00:00<00:00, 415705.40it/s]\n",
      "100%|██████████| 13772/13772 [00:00<00:00, 393500.83it/s]\n",
      "100%|██████████| 4340/4340 [00:00<00:00, 334483.84it/s]\n",
      "100%|██████████| 3060/3060 [00:00<00:00, 336582.67it/s]\n",
      "100%|██████████| 7078/7078 [00:00<00:00, 416535.02it/s]\n"
     ]
    },
    {
     "name": "stdout",
     "output_type": "stream",
     "text": [
      "[] ['bwv1072.mid', 'bwv1073.mid', 'bwv1074.mid', 'bwv1074i.mid', 'bwv1075.mid', 'bwv1076.mid', 'bwv1077.mid', 'bwv1078.mid', 'bwv1086.mid']\n"
     ]
    },
    {
     "name": "stderr",
     "output_type": "stream",
     "text": [
      "100%|██████████| 379/379 [00:00<00:00, 383046.08it/s]\n",
      "100%|██████████| 1429/1429 [00:00<00:00, 358472.51it/s]\n",
      "100%|██████████| 227/227 [00:00<00:00, 226422.59it/s]\n",
      "100%|██████████| 225/225 [00:00<00:00, 236698.87it/s]\n",
      "100%|██████████| 223/223 [00:00<?, ?it/s]\n",
      "100%|██████████| 347/347 [00:00<00:00, 347107.92it/s]\n",
      "100%|██████████| 445/445 [00:00<00:00, 214462.29it/s]\n",
      "100%|██████████| 1397/1397 [00:00<00:00, 456591.81it/s]\n",
      "100%|██████████| 396/396 [00:00<00:00, 430519.54it/s]\n"
     ]
    },
    {
     "name": "stdout",
     "output_type": "stream",
     "text": [
      "[] ['BWV894.MID', 'BWV895.MID', 'BWV899.MID', 'BWV900.MID', 'BWV901.MID', 'bwv903.mid']\n"
     ]
    },
    {
     "name": "stderr",
     "output_type": "stream",
     "text": [
      "100%|██████████| 10069/10069 [00:00<00:00, 423484.82it/s]\n"
     ]
    },
    {
     "name": "stdout",
     "output_type": "stream",
     "text": [
      "[] ['BWV963.MID', 'BWV965.MID', 'BWV966.MID', 'BWV967.MID', 'BWV989.MID', 'BWV992.MID', 'BWV993.MID']\n",
      "[] ['BWV818.MID', 'BWV819.MID', 'BWV820.MID', 'BWV823.MID', 'BWV832.MID', 'BWV833.MID', 'BWV835.MID', 'BWV841.MID', 'BWV844.MID']\n",
      "['Prelude and Fugue in D minor - BWV 539', 'Prelude and Fugue in G Major - BWV 541', 'Preludes and Fugues for Organ', \"St. Anne's Prelude and Fugue in Eb major - BWV 552\", 'Trio Sonata No.1 in Eb major - BWV 525', 'Trio Sonata No.5 in C major - BWV 529', 'Trio Sonata No.6 in G Major - BWV 530'] ['An Wasserflussen Babylon - BWV 653 (By the Waters of Babylon).mid', \"Aus tiefer Not schrei' ich dir - BWV 686 (I Call to You Out of Deep Distress).mid\", 'Canzona in D-Minor - BWV 588.mid', 'Fantasia and Fugue in C minor - BWV 537.mid', 'Fantasia in G major - BWV 572.mid', 'Fuga sopra Magnificate - BWV 733.mid', 'Passacaglia and Fugue in C minor - BWV 582.mid']\n"
     ]
    },
    {
     "name": "stderr",
     "output_type": "stream",
     "text": [
      "100%|██████████| 2431/2431 [00:00<00:00, 519136.15it/s]\n",
      "100%|██████████| 3466/3466 [00:00<00:00, 430369.69it/s]\n",
      "100%|██████████| 17/17 [00:00<?, ?it/s]\n",
      "100%|██████████| 6254/6254 [00:00<00:00, 481253.02it/s]\n",
      "100%|██████████| 7245/7245 [00:00<00:00, 452723.88it/s]\n",
      "100%|██████████| 3302/3302 [00:00<00:00, 445024.00it/s]\n",
      "100%|██████████| 11718/11718 [00:00<00:00, 432507.50it/s]\n"
     ]
    },
    {
     "name": "stdout",
     "output_type": "stream",
     "text": [
      "[] ['Praeludium and Fugue in D-Minor - BWV 539.mid']\n"
     ]
    },
    {
     "name": "stderr",
     "output_type": "stream",
     "text": [
      "100%|██████████| 6089/6089 [00:00<00:00, 467869.36it/s]\n"
     ]
    },
    {
     "name": "stdout",
     "output_type": "stream",
     "text": [
      "[] ['bwv0541f.mid', 'bwv0541p.mid']\n"
     ]
    },
    {
     "name": "stderr",
     "output_type": "stream",
     "text": [
      "100%|██████████| 4704/4704 [00:00<00:00, 427852.84it/s]\n",
      "100%|██████████| 3635/3635 [00:00<00:00, 403907.46it/s]\n"
     ]
    },
    {
     "name": "stdout",
     "output_type": "stream",
     "text": [
      "[] ['bwv539_1.mid', 'bwv539_2.mid', 'jsbwv532.mid', 'jsbwv533.mid', 'jsbwv541.mid', 'jsbwv543.mid', 'jsbwv549.mid', 'jsbwv552.mid']\n"
     ]
    },
    {
     "name": "stderr",
     "output_type": "stream",
     "text": [
      "100%|██████████| 1174/1174 [00:00<00:00, 293573.77it/s]\n",
      "100%|██████████| 5412/5412 [00:00<00:00, 338738.93it/s]\n",
      "100%|██████████| 10237/10237 [00:00<00:00, 464606.67it/s]\n",
      "100%|██████████| 2913/2913 [00:00<00:00, 410372.07it/s]\n",
      "100%|██████████| 8318/8318 [00:00<00:00, 369406.43it/s]\n",
      "100%|██████████| 8757/8757 [00:00<00:00, 319295.51it/s]\n",
      "100%|██████████| 4274/4274 [00:00<00:00, 346652.78it/s]\n",
      "100%|██████████| 12971/12971 [00:00<00:00, 333543.73it/s]\n"
     ]
    },
    {
     "name": "stdout",
     "output_type": "stream",
     "text": [
      "[] ['bwv552f.mid', 'bwv552p.mid']\n"
     ]
    },
    {
     "name": "stderr",
     "output_type": "stream",
     "text": [
      "100%|██████████| 5257/5257 [00:00<00:00, 377578.58it/s]\n",
      "100%|██████████| 7989/7989 [00:00<00:00, 399521.82it/s]\n"
     ]
    },
    {
     "name": "stdout",
     "output_type": "stream",
     "text": [
      "[] ['bwv525-1.mid', 'bwv525-2.mid', 'bwv525-3.mid']\n"
     ]
    },
    {
     "name": "stderr",
     "output_type": "stream",
     "text": [
      "100%|██████████| 3168/3168 [00:00<00:00, 395780.99it/s]\n",
      "100%|██████████| 4174/4174 [00:00<00:00, 461695.32it/s]\n",
      "100%|██████████| 4886/4886 [00:00<00:00, 324118.58it/s]\n"
     ]
    },
    {
     "name": "stdout",
     "output_type": "stream",
     "text": [
      "[] ['bwv529-1.mid', 'bwv529-2.mid', 'bwv529-3.mid']\n"
     ]
    },
    {
     "name": "stderr",
     "output_type": "stream",
     "text": [
      "100%|██████████| 5749/5749 [00:00<00:00, 268543.45it/s]\n",
      "100%|██████████| 3196/3196 [00:00<00:00, 397573.79it/s]\n",
      "100%|██████████| 4231/4231 [00:00<00:00, 384314.37it/s]\n"
     ]
    },
    {
     "name": "stdout",
     "output_type": "stream",
     "text": [
      "[] ['bwv530-1.mid', 'bwv530-2.mid', 'bwv530-3.mid']\n"
     ]
    },
    {
     "name": "stderr",
     "output_type": "stream",
     "text": [
      "100%|██████████| 4714/4714 [00:00<00:00, 416672.62it/s]\n",
      "100%|██████████| 3947/3947 [00:00<00:00, 519272.23it/s]\n",
      "100%|██████████| 4268/4268 [00:00<00:00, 474281.73it/s]\n"
     ]
    },
    {
     "name": "stdout",
     "output_type": "stream",
     "text": [
      "[] ['Praeludium and Fugue in D-Minor - BWV 539.mid']\n"
     ]
    },
    {
     "name": "stderr",
     "output_type": "stream",
     "text": [
      "100%|██████████| 6089/6089 [00:00<00:00, 468066.58it/s]\n"
     ]
    },
    {
     "name": "stdout",
     "output_type": "stream",
     "text": [
      "[] ['bwv0541f.mid', 'bwv0541p.mid']\n"
     ]
    },
    {
     "name": "stderr",
     "output_type": "stream",
     "text": [
      "100%|██████████| 4704/4704 [00:00<00:00, 462277.55it/s]\n",
      "100%|██████████| 3635/3635 [00:00<00:00, 403415.85it/s]\n"
     ]
    },
    {
     "name": "stdout",
     "output_type": "stream",
     "text": [
      "[] ['bwv539_1.mid', 'bwv539_2.mid', 'jsbwv532.mid', 'jsbwv533.mid', 'jsbwv541.mid', 'jsbwv543.mid', 'jsbwv549.mid', 'jsbwv552.mid']\n"
     ]
    },
    {
     "name": "stderr",
     "output_type": "stream",
     "text": [
      "100%|██████████| 1174/1174 [00:00<00:00, 392015.99it/s]\n",
      "100%|██████████| 5412/5412 [00:00<00:00, 413893.47it/s]\n",
      "100%|██████████| 10237/10237 [00:00<00:00, 446090.37it/s]\n",
      "100%|██████████| 2913/2913 [00:00<00:00, 416059.65it/s]\n",
      "100%|██████████| 8318/8318 [00:00<00:00, 437546.66it/s]\n",
      "100%|██████████| 8757/8757 [00:00<00:00, 481439.75it/s]\n",
      "100%|██████████| 4274/4274 [00:00<00:00, 477084.64it/s]\n",
      "100%|██████████| 12971/12971 [00:00<00:00, 403916.47it/s]\n"
     ]
    },
    {
     "name": "stdout",
     "output_type": "stream",
     "text": [
      "[] ['bwv552f.mid', 'bwv552p.mid']\n"
     ]
    },
    {
     "name": "stderr",
     "output_type": "stream",
     "text": [
      "100%|██████████| 5257/5257 [00:00<00:00, 362125.44it/s]\n",
      "100%|██████████| 7989/7989 [00:00<00:00, 443906.67it/s]\n"
     ]
    },
    {
     "name": "stdout",
     "output_type": "stream",
     "text": [
      "[] ['bwv525-1.mid', 'bwv525-2.mid', 'bwv525-3.mid']\n"
     ]
    },
    {
     "name": "stderr",
     "output_type": "stream",
     "text": [
      "100%|██████████| 3168/3168 [00:00<00:00, 396134.96it/s]\n",
      "100%|██████████| 4174/4174 [00:00<00:00, 459333.18it/s]\n",
      "100%|██████████| 4886/4886 [00:00<00:00, 503176.42it/s]\n"
     ]
    },
    {
     "name": "stdout",
     "output_type": "stream",
     "text": [
      "[] ['bwv529-1.mid', 'bwv529-2.mid', 'bwv529-3.mid']\n"
     ]
    },
    {
     "name": "stderr",
     "output_type": "stream",
     "text": [
      "100%|██████████| 5749/5749 [00:00<00:00, 518471.10it/s]\n",
      "100%|██████████| 3196/3196 [00:00<00:00, 425231.43it/s]\n",
      "100%|██████████| 4231/4231 [00:00<00:00, 353261.67it/s]\n"
     ]
    },
    {
     "name": "stdout",
     "output_type": "stream",
     "text": [
      "[] ['bwv530-1.mid', 'bwv530-2.mid', 'bwv530-3.mid']\n"
     ]
    },
    {
     "name": "stderr",
     "output_type": "stream",
     "text": [
      "100%|██████████| 4714/4714 [00:00<00:00, 343907.83it/s]\n",
      "100%|██████████| 3947/3947 [00:00<00:00, 394408.87it/s]\n",
      "100%|██████████| 4268/4268 [00:00<00:00, 423248.36it/s]\n"
     ]
    },
    {
     "name": "stdout",
     "output_type": "stream",
     "text": [
      "[] ['fp-1all.mid', 'fp-2cou.mid', 'fp-3sar.mid', 'fp-4bou.mid']\n"
     ]
    },
    {
     "name": "stderr",
     "output_type": "stream",
     "text": [
      "100%|██████████| 2051/2051 [00:00<00:00, 502571.57it/s]\n",
      "100%|██████████| 1789/1789 [00:00<00:00, 447656.00it/s]\n",
      "100%|██████████| 606/606 [00:00<00:00, 414370.43it/s]\n",
      "100%|██████████| 1062/1062 [00:00<00:00, 505429.58it/s]\n"
     ]
    },
    {
     "name": "stdout",
     "output_type": "stream",
     "text": [
      "[] ['BWV910.MID', 'BWV911.MID', 'BWV912.MID', 'BWV913.MID', 'BWV914.MID', 'BWV915.MID', 'BWV916.MID']\n",
      "[] ['Sinfonia No. 15 - BWV 801 .mid']\n"
     ]
    },
    {
     "name": "stderr",
     "output_type": "stream",
     "text": [
      "100%|██████████| 1366/1366 [00:00<00:00, 458904.23it/s]\n"
     ]
    },
    {
     "name": "stdout",
     "output_type": "stream",
     "text": [
      "[] ['bwv806.mid', 'bwv807.mid', 'bwv808.mid', 'bwv809.mid', 'bwv810.mid', 'bwv811.mid']\n"
     ]
    },
    {
     "name": "stderr",
     "output_type": "stream",
     "text": [
      "100%|██████████| 12963/12963 [00:00<00:00, 445231.36it/s]\n",
      "100%|██████████| 12813/12813 [00:00<00:00, 460751.70it/s]\n",
      "100%|██████████| 10631/10631 [00:00<00:00, 305578.07it/s]\n",
      "100%|██████████| 12701/12701 [00:00<00:00, 351138.05it/s]\n",
      "100%|██████████| 13603/13603 [00:00<00:00, 348107.19it/s]\n",
      "100%|██████████| 17267/17267 [00:00<00:00, 352406.44it/s]\n"
     ]
    },
    {
     "name": "stdout",
     "output_type": "stream",
     "text": [
      "[] ['bwv812.mid', 'bwv813.mid', 'bwv814.mid', 'bwv815.mid', 'bwv816.mid', 'bwv817.mid']\n"
     ]
    },
    {
     "name": "stderr",
     "output_type": "stream",
     "text": [
      "100%|██████████| 5589/5589 [00:00<00:00, 372674.40it/s]\n",
      "100%|██████████| 4907/4907 [00:00<00:00, 304955.54it/s]\n",
      "100%|██████████| 6091/6091 [00:00<00:00, 276886.71it/s]\n",
      "100%|██████████| 5693/5693 [00:00<00:00, 333010.33it/s]\n",
      "100%|██████████| 7681/7681 [00:00<00:00, 382572.72it/s]\n",
      "100%|██████████| 7231/7231 [00:00<00:00, 360069.48it/s]\n"
     ]
    },
    {
     "name": "stdout",
     "output_type": "stream",
     "text": [
      "[] ['BWV825.MID', 'BWV826.MID', 'BWV827.MID', 'BWV828.MID', 'BWV829.MID', 'BWV830.MID']\n",
      "['Partita No. 1 in B minor - BWV 1002', 'Partita No. 2 in D minor - BWV 1004', 'Partita No. 3 in E major - BWV 1006', 'Sonata No. 1 in G minor - BWV 1001', 'Sonata No. 2 in A minor - BWV 1003', 'Sonata No. 3 in C major - BWV 1005'] []\n",
      "[] ['vp1-1al.mid', 'vp1-2ald.mid', 'vp1-3co.mid', 'vp1-4cod.mid', 'vp1-5sa.mid', 'vp1-6sad.mid', 'vp1-7tb.mid', 'vp1-8tbd.mid']\n"
     ]
    },
    {
     "name": "stderr",
     "output_type": "stream",
     "text": [
      "100%|██████████| 2023/2023 [00:00<00:00, 404938.29it/s]\n",
      "100%|██████████| 1528/1528 [00:00<00:00, 509127.46it/s]\n",
      "100%|██████████| 1913/1913 [00:00<00:00, 382026.55it/s]\n",
      "100%|██████████| 3828/3828 [00:00<00:00, 425026.36it/s]\n",
      "100%|██████████| 1058/1058 [00:00<00:00, 506688.01it/s]\n",
      "100%|██████████| 1145/1145 [00:00<00:00, 372083.22it/s]\n",
      "100%|██████████| 2138/2138 [00:00<00:00, 398428.13it/s]\n",
      "100%|██████████| 2225/2225 [00:00<00:00, 312965.77it/s]\n"
     ]
    },
    {
     "name": "stdout",
     "output_type": "stream",
     "text": [
      "[] ['vp2-1all.mid', 'vp2-2cou.mid', 'vp2-3sar.mid', 'vp2-4gig.mid', 'vp2-5cha.mid']\n"
     ]
    },
    {
     "name": "stderr",
     "output_type": "stream",
     "text": [
      "100%|██████████| 2191/2191 [00:00<00:00, 365077.07it/s]\n",
      "100%|██████████| 1725/1725 [00:00<00:00, 381702.69it/s]\n",
      "100%|██████████| 1080/1080 [00:00<00:00, 359883.08it/s]\n",
      "100%|██████████| 3640/3640 [00:00<00:00, 354220.70it/s]\n",
      "100%|██████████| 8582/8582 [00:00<00:00, 476856.55it/s]\n"
     ]
    },
    {
     "name": "stdout",
     "output_type": "stream",
     "text": [
      "[] ['vp3-1pre.mid', 'vp3-2lou.mid', 'vp3-3gav.mid', 'vp3-4min.mid', 'vp3-5bou.mid', 'vp3-6gig.mid']\n"
     ]
    },
    {
     "name": "stderr",
     "output_type": "stream",
     "text": [
      "100%|██████████| 3279/3279 [00:00<00:00, 460540.56it/s]\n",
      "100%|██████████| 1161/1161 [00:00<00:00, 378073.52it/s]\n",
      "100%|██████████| 1641/1641 [00:00<00:00, 549529.17it/s]\n",
      "100%|██████████| 1571/1571 [00:00<00:00, 392919.00it/s]\n",
      "100%|██████████| 1109/1109 [00:00<00:00, 554143.81it/s]\n",
      "100%|██████████| 1341/1341 [00:00<00:00, 281101.59it/s]\n"
     ]
    },
    {
     "name": "stdout",
     "output_type": "stream",
     "text": [
      "[] ['vs1-1ada.mid', 'vs1-2fug.mid', 'vs1-3sic.mid', 'vs1-4prs.mid']\n"
     ]
    },
    {
     "name": "stderr",
     "output_type": "stream",
     "text": [
      "100%|██████████| 1050/1050 [00:00<00:00, 339999.94it/s]\n",
      "100%|██████████| 3511/3511 [00:00<00:00, 349342.92it/s]\n",
      "100%|██████████| 1064/1064 [00:00<00:00, 512840.66it/s]\n",
      "100%|██████████| 3254/3254 [00:00<00:00, 402188.45it/s]\n"
     ]
    },
    {
     "name": "stdout",
     "output_type": "stream",
     "text": [
      "[] ['vs2-1gra.mid', 'vs2-2fug.mid', 'vs2-3and.mid', 'vs2-4alg.mid']\n"
     ]
    },
    {
     "name": "stderr",
     "output_type": "stream",
     "text": [
      "100%|██████████| 1097/1097 [00:00<00:00, 542652.61it/s]\n",
      "100%|██████████| 4769/4769 [00:00<00:00, 475641.69it/s]\n",
      "100%|██████████| 1579/1579 [00:00<00:00, 391256.93it/s]\n",
      "100%|██████████| 4231/4231 [00:00<00:00, 282167.85it/s]\n"
     ]
    },
    {
     "name": "stdout",
     "output_type": "stream",
     "text": [
      "[] ['vs3-1ada.mid', 'vs3-2fug.mid', 'vs3-3lar.mid', 'vs3-4alg.mid']\n"
     ]
    },
    {
     "name": "stderr",
     "output_type": "stream",
     "text": [
      "100%|██████████| 1122/1122 [00:00<00:00, 450551.37it/s]\n",
      "100%|██████████| 6085/6085 [00:00<00:00, 456604.05it/s]\n",
      "100%|██████████| 839/839 [00:00<00:00, 420231.80it/s]\n",
      "100%|██████████| 4791/4791 [00:00<00:00, 396599.64it/s]\n"
     ]
    },
    {
     "name": "stdout",
     "output_type": "stream",
     "text": [
      "[] ['vp1-1al.mid', 'vp1-2ald.mid', 'vp1-3co.mid', 'vp1-4cod.mid', 'vp1-5sa.mid', 'vp1-6sad.mid', 'vp1-7tb.mid', 'vp1-8tbd.mid']\n"
     ]
    },
    {
     "name": "stderr",
     "output_type": "stream",
     "text": [
      "100%|██████████| 2023/2023 [00:00<00:00, 397706.91it/s]\n",
      "100%|██████████| 1528/1528 [00:00<00:00, 381822.85it/s]\n",
      "100%|██████████| 1913/1913 [00:00<00:00, 375342.82it/s]\n",
      "100%|██████████| 3828/3828 [00:00<00:00, 421699.74it/s]\n",
      "100%|██████████| 1058/1058 [00:00<00:00, 515397.63it/s]\n",
      "100%|██████████| 1145/1145 [00:00<00:00, 371852.74it/s]\n",
      "100%|██████████| 2138/2138 [00:00<00:00, 427855.43it/s]\n",
      "100%|██████████| 2225/2225 [00:00<00:00, 441098.76it/s]\n"
     ]
    },
    {
     "name": "stdout",
     "output_type": "stream",
     "text": [
      "[] ['vp2-1all.mid', 'vp2-2cou.mid', 'vp2-3sar.mid', 'vp2-4gig.mid', 'vp2-5cha.mid']\n"
     ]
    },
    {
     "name": "stderr",
     "output_type": "stream",
     "text": [
      "100%|██████████| 2191/2191 [00:00<00:00, 438461.76it/s]\n",
      "100%|██████████| 1725/1725 [00:00<00:00, 345370.87it/s]\n",
      "100%|██████████| 1080/1080 [00:00<00:00, 516516.34it/s]\n",
      "100%|██████████| 3640/3640 [00:00<00:00, 402670.88it/s]\n",
      "100%|██████████| 8582/8582 [00:00<00:00, 406968.13it/s]\n"
     ]
    },
    {
     "name": "stdout",
     "output_type": "stream",
     "text": [
      "[] ['vp3-1pre.mid', 'vp3-2lou.mid', 'vp3-3gav.mid', 'vp3-4min.mid', 'vp3-5bou.mid', 'vp3-6gig.mid']\n"
     ]
    },
    {
     "name": "stderr",
     "output_type": "stream",
     "text": [
      "100%|██████████| 3279/3279 [00:00<00:00, 538388.05it/s]\n",
      "100%|██████████| 1161/1161 [00:00<00:00, 376553.27it/s]\n",
      "100%|██████████| 1641/1641 [00:00<00:00, 410230.83it/s]\n",
      "100%|██████████| 1571/1571 [00:00<00:00, 524496.66it/s]\n",
      "100%|██████████| 1109/1109 [00:00<00:00, 374485.40it/s]\n",
      "100%|██████████| 1341/1341 [00:00<00:00, 461105.24it/s]\n"
     ]
    },
    {
     "name": "stdout",
     "output_type": "stream",
     "text": [
      "[] ['vs1-1ada.mid', 'vs1-2fug.mid', 'vs1-3sic.mid', 'vs1-4prs.mid']\n"
     ]
    },
    {
     "name": "stderr",
     "output_type": "stream",
     "text": [
      "100%|██████████| 1050/1050 [00:00<00:00, 350387.40it/s]\n",
      "100%|██████████| 3511/3511 [00:00<00:00, 439574.98it/s]\n",
      "100%|██████████| 1064/1064 [00:00<00:00, 534523.83it/s]\n",
      "100%|██████████| 3254/3254 [00:00<00:00, 459630.40it/s]\n"
     ]
    },
    {
     "name": "stdout",
     "output_type": "stream",
     "text": [
      "[] ['vs2-1gra.mid', 'vs2-2fug.mid', 'vs2-3and.mid', 'vs2-4alg.mid']\n"
     ]
    },
    {
     "name": "stderr",
     "output_type": "stream",
     "text": [
      "100%|██████████| 1097/1097 [00:00<00:00, 268884.50it/s]\n",
      "100%|██████████| 4769/4769 [00:00<00:00, 394903.18it/s]\n",
      "100%|██████████| 1579/1579 [00:00<00:00, 384488.01it/s]\n",
      "100%|██████████| 4231/4231 [00:00<00:00, 280468.77it/s]\n"
     ]
    },
    {
     "name": "stdout",
     "output_type": "stream",
     "text": [
      "[] ['vs3-1ada.mid', 'vs3-2fug.mid', 'vs3-3lar.mid', 'vs3-4alg.mid']\n"
     ]
    },
    {
     "name": "stderr",
     "output_type": "stream",
     "text": [
      "100%|██████████| 1122/1122 [00:00<00:00, 280169.62it/s]\n",
      "100%|██████████| 6085/6085 [00:00<00:00, 356039.56it/s]\n",
      "100%|██████████| 839/839 [00:00<00:00, 167039.50it/s]\n",
      "100%|██████████| 4791/4791 [00:00<00:00, 319042.80it/s]\n"
     ]
    },
    {
     "name": "stdout",
     "output_type": "stream",
     "text": [
      "['Sonata No. 1 in B minor', 'Sonata No. 2 in A Major', 'Sonata No. 3 in E Major', 'Sonata No. 4 in C minor', 'Sonata No. 5 in F minor', 'Sonata No. 6 in G Major'] []\n",
      "[] ['sonat_1a.mid', 'sonat_1b.mid', 'sonat_1c.mid', 'sonat_1d.mid']\n"
     ]
    },
    {
     "name": "stderr",
     "output_type": "stream",
     "text": [
      "100%|██████████| 2242/2242 [00:00<00:00, 374915.46it/s]\n",
      "100%|██████████| 4522/4522 [00:00<00:00, 410817.94it/s]\n",
      "100%|██████████| 2019/2019 [00:00<00:00, 505087.66it/s]\n",
      "100%|██████████| 5902/5902 [00:00<00:00, 454116.20it/s]\n"
     ]
    },
    {
     "name": "stdout",
     "output_type": "stream",
     "text": [
      "[] ['sonat_2a.mid', 'sonat_2b.mid', 'sonat_2c.mid', 'sonat_2d.mid']\n"
     ]
    },
    {
     "name": "stderr",
     "output_type": "stream",
     "text": [
      "100%|██████████| 1989/1989 [00:00<00:00, 485818.23it/s]\n",
      "100%|██████████| 5161/5161 [00:00<00:00, 346249.13it/s]\n",
      "100%|██████████| 1891/1891 [00:00<00:00, 404995.35it/s]\n",
      "100%|██████████| 6402/6402 [00:00<00:00, 375724.94it/s]\n"
     ]
    },
    {
     "name": "stdout",
     "output_type": "stream",
     "text": [
      "[] ['sonat_3a.mid', 'sonat_3b.mid', 'sonat_3c.mid', 'sonat_3d.mid']\n"
     ]
    },
    {
     "name": "stderr",
     "output_type": "stream",
     "text": [
      "100%|██████████| 3443/3443 [00:00<00:00, 378353.30it/s]\n",
      "100%|██████████| 4476/4476 [00:00<00:00, 370421.54it/s]\n",
      "100%|██████████| 3507/3507 [00:00<00:00, 363294.33it/s]\n",
      "100%|██████████| 6369/6369 [00:00<00:00, 398352.55it/s]\n"
     ]
    },
    {
     "name": "stdout",
     "output_type": "stream",
     "text": [
      "[] ['sonat_4a.mid', 'sonat_4b.mid', 'sonat_4c.mid', 'sonat_4d.mid']\n"
     ]
    },
    {
     "name": "stderr",
     "output_type": "stream",
     "text": [
      "100%|██████████| 3232/3232 [00:00<00:00, 462015.29it/s]\n",
      "100%|██████████| 6407/6407 [00:00<00:00, 176914.15it/s]\n",
      "100%|██████████| 1829/1829 [00:00<00:00, 364470.83it/s]\n",
      "100%|██████████| 7653/7653 [00:00<00:00, 346473.19it/s]\n"
     ]
    },
    {
     "name": "stdout",
     "output_type": "stream",
     "text": [
      "[] ['sonat_5a.mid', 'sonat_5b.mid', 'sonat_5c.mid', 'sonat_5d.mid']\n"
     ]
    },
    {
     "name": "stderr",
     "output_type": "stream",
     "text": [
      "100%|██████████| 3613/3613 [00:00<00:00, 298472.00it/s]\n",
      "100%|██████████| 6816/6816 [00:00<00:00, 376842.15it/s]\n",
      "100%|██████████| 2506/2506 [00:00<00:00, 357186.46it/s]\n",
      "100%|██████████| 3538/3538 [00:00<00:00, 321548.16it/s]\n"
     ]
    },
    {
     "name": "stdout",
     "output_type": "stream",
     "text": [
      "[] ['sonat_6a.mid', 'sonat_6b.mid', 'sonat_6c.mid', 'sonat_6d.mid', 'sonat_6e.mid']\n"
     ]
    },
    {
     "name": "stderr",
     "output_type": "stream",
     "text": [
      "100%|██████████| 6096/6096 [00:00<00:00, 263497.47it/s]\n",
      "100%|██████████| 1183/1183 [00:00<00:00, 295296.18it/s]\n",
      "100%|██████████| 5428/5428 [00:00<00:00, 285629.64it/s]\n",
      "100%|██████████| 1555/1555 [00:00<00:00, 388708.67it/s]\n",
      "100%|██████████| 5342/5342 [00:00<00:00, 345169.26it/s]\n"
     ]
    },
    {
     "name": "stdout",
     "output_type": "stream",
     "text": [
      "[] ['sonat_1a.mid', 'sonat_1b.mid', 'sonat_1c.mid', 'sonat_1d.mid']\n"
     ]
    },
    {
     "name": "stderr",
     "output_type": "stream",
     "text": [
      "100%|██████████| 2242/2242 [00:00<00:00, 442066.08it/s]\n",
      "100%|██████████| 4522/4522 [00:00<00:00, 359141.90it/s]\n",
      "100%|██████████| 2019/2019 [00:00<00:00, 404311.28it/s]\n",
      "100%|██████████| 5902/5902 [00:00<00:00, 327973.48it/s]\n"
     ]
    },
    {
     "name": "stdout",
     "output_type": "stream",
     "text": [
      "[] ['sonat_2a.mid', 'sonat_2b.mid', 'sonat_2c.mid', 'sonat_2d.mid']\n"
     ]
    },
    {
     "name": "stderr",
     "output_type": "stream",
     "text": [
      "100%|██████████| 1989/1989 [00:00<00:00, 390894.51it/s]\n",
      "100%|██████████| 5161/5161 [00:00<00:00, 427439.19it/s]\n",
      "100%|██████████| 1891/1891 [00:00<00:00, 378101.20it/s]\n",
      "100%|██████████| 6402/6402 [00:00<00:00, 335607.23it/s]\n"
     ]
    },
    {
     "name": "stdout",
     "output_type": "stream",
     "text": [
      "[] ['sonat_3a.mid', 'sonat_3b.mid', 'sonat_3c.mid', 'sonat_3d.mid']\n"
     ]
    },
    {
     "name": "stderr",
     "output_type": "stream",
     "text": [
      "100%|██████████| 3443/3443 [00:00<00:00, 382847.00it/s]\n",
      "100%|██████████| 4476/4476 [00:00<00:00, 440749.02it/s]\n",
      "100%|██████████| 3507/3507 [00:00<00:00, 433727.20it/s]\n",
      "100%|██████████| 6369/6369 [00:00<00:00, 424266.60it/s]\n"
     ]
    },
    {
     "name": "stdout",
     "output_type": "stream",
     "text": [
      "[] ['sonat_4a.mid', 'sonat_4b.mid', 'sonat_4c.mid', 'sonat_4d.mid']\n"
     ]
    },
    {
     "name": "stderr",
     "output_type": "stream",
     "text": [
      "100%|██████████| 3232/3232 [00:00<00:00, 319280.01it/s]\n",
      "100%|██████████| 6407/6407 [00:00<00:00, 426987.82it/s]\n",
      "100%|██████████| 1829/1829 [00:00<00:00, 457337.67it/s]\n",
      "100%|██████████| 7653/7653 [00:00<00:00, 396626.82it/s]\n"
     ]
    },
    {
     "name": "stdout",
     "output_type": "stream",
     "text": [
      "[] ['sonat_5a.mid', 'sonat_5b.mid', 'sonat_5c.mid', 'sonat_5d.mid']\n"
     ]
    },
    {
     "name": "stderr",
     "output_type": "stream",
     "text": [
      "100%|██████████| 3613/3613 [00:00<00:00, 397774.64it/s]\n",
      "100%|██████████| 6816/6816 [00:00<00:00, 324591.27it/s]\n",
      "100%|██████████| 2506/2506 [00:00<00:00, 417779.95it/s]\n",
      "100%|██████████| 3538/3538 [00:00<00:00, 372485.44it/s]\n"
     ]
    },
    {
     "name": "stdout",
     "output_type": "stream",
     "text": [
      "[] ['sonat_6a.mid', 'sonat_6b.mid', 'sonat_6c.mid', 'sonat_6d.mid', 'sonat_6e.mid']\n"
     ]
    },
    {
     "name": "stderr",
     "output_type": "stream",
     "text": [
      "100%|██████████| 6096/6096 [00:00<00:00, 307661.03it/s]\n",
      "100%|██████████| 1183/1183 [00:00<00:00, 393392.66it/s]\n",
      "100%|██████████| 5428/5428 [00:00<00:00, 414890.15it/s]\n",
      "100%|██████████| 1555/1555 [00:00<00:00, 384401.65it/s]\n",
      "100%|██████████| 5342/5342 [00:00<00:00, 354188.62it/s]\n"
     ]
    },
    {
     "name": "stdout",
     "output_type": "stream",
     "text": [
      "['Suite No. 1 in G major - BWV 1007', 'Suite No. 2 in D minor - BWV 1008', 'Suite No. 3 in C major - BWV 1009', 'Suite No. 4 in Eb major - BWV 1010', 'Suite No. 5 in C minor - BWV 1011', 'Suite No. 6 in D major - BWV 1012'] []\n",
      "[] ['cs1-1pre.mid', 'cs1-2all.mid', 'cs1-3cou.mid', 'cs1-4sar.mid', 'cs1-5men.mid', 'cs1-6gig.mid']\n"
     ]
    },
    {
     "name": "stderr",
     "output_type": "stream",
     "text": [
      "100%|██████████| 1322/1322 [00:00<00:00, 441259.74it/s]\n",
      "100%|██████████| 1882/1882 [00:00<00:00, 268766.77it/s]\n",
      "100%|██████████| 1639/1639 [00:00<00:00, 409340.49it/s]\n",
      "100%|██████████| 630/630 [00:00<00:00, 303411.59it/s]\n",
      "100%|██████████| 1318/1318 [00:00<00:00, 439085.99it/s]\n",
      "100%|██████████| 858/858 [00:00<00:00, 285838.99it/s]\n"
     ]
    },
    {
     "name": "stdout",
     "output_type": "stream",
     "text": [
      "[] ['cs2-1pre.mid', 'cs2-2all.mid', 'cs2-3cou.mid', 'cs2-4sar.mid', 'cs2-5men.mid', 'cs2-6gig.mid']\n"
     ]
    },
    {
     "name": "stderr",
     "output_type": "stream",
     "text": [
      "100%|██████████| 1310/1310 [00:00<00:00, 326919.63it/s]\n",
      "100%|██████████| 1490/1490 [00:00<00:00, 372549.21it/s]\n",
      "100%|██████████| 1492/1492 [00:00<00:00, 297315.73it/s]\n",
      "100%|██████████| 836/836 [00:00<00:00, 417681.73it/s]\n",
      "100%|██████████| 1326/1326 [00:00<00:00, 331979.17it/s]\n",
      "100%|██████████| 1637/1637 [00:00<00:00, 220688.98it/s]\n"
     ]
    },
    {
     "name": "stdout",
     "output_type": "stream",
     "text": [
      "[] ['cs3-1pre.mid', 'cs3-2all.mid', 'cs3-3cou.mid', 'cs3-4sar.mid', 'cs3-5bou.mid', 'cs3-6gig.mid']\n"
     ]
    },
    {
     "name": "stderr",
     "output_type": "stream",
     "text": [
      "100%|██████████| 2023/2023 [00:00<00:00, 337244.71it/s]\n",
      "100%|██████████| 1954/1954 [00:00<00:00, 244274.98it/s]\n",
      "100%|██████████| 1989/1989 [00:00<00:00, 397033.63it/s]\n",
      "100%|██████████| 876/876 [00:00<00:00, 283854.32it/s]\n",
      "100%|██████████| 1788/1788 [00:00<00:00, 447459.16it/s]\n",
      "100%|██████████| 2107/2107 [00:00<00:00, 302536.67it/s]\n"
     ]
    },
    {
     "name": "stdout",
     "output_type": "stream",
     "text": [
      "[] ['cs4-1pre.mid', 'cs4-2all.mid', 'cs4-3cou.mid', 'cs4-4sar.mid', 'cs4-5bou.mid', 'cs4-6gig.mid']\n"
     ]
    },
    {
     "name": "stderr",
     "output_type": "stream",
     "text": [
      "100%|██████████| 1664/1664 [00:00<00:00, 277276.30it/s]\n",
      "100%|██████████| 2139/2139 [00:00<00:00, 304866.67it/s]\n",
      "100%|██████████| 1866/1866 [00:00<00:00, 372853.66it/s]\n",
      "100%|██████████| 812/812 [00:00<00:00, 406126.26it/s]\n",
      "100%|██████████| 2711/2711 [00:00<00:00, 242617.58it/s]\n",
      "100%|██████████| 1940/1940 [00:00<00:00, 388621.16it/s]\n"
     ]
    },
    {
     "name": "stdout",
     "output_type": "stream",
     "text": [
      "[] ['cs5-1pre.mid', 'cs5-2all.mid', 'cs5-3cou.mid', 'cs5-4sar.mid', 'cs5-5gav.mid', 'cs5-6gig.mid']\n"
     ]
    },
    {
     "name": "stderr",
     "output_type": "stream",
     "text": [
      "100%|██████████| 2760/2760 [00:00<00:00, 344983.88it/s]\n",
      "100%|██████████| 1578/1578 [00:00<00:00, 262539.14it/s]\n",
      "100%|██████████| 1058/1058 [00:00<00:00, 352804.39it/s]\n",
      "100%|██████████| 438/438 [00:00<00:00, 218365.05it/s]\n",
      "100%|██████████| 2791/2791 [00:00<00:00, 398743.19it/s]\n",
      "100%|██████████| 883/883 [00:00<00:00, 421003.80it/s]\n"
     ]
    },
    {
     "name": "stdout",
     "output_type": "stream",
     "text": [
      "[] ['cs6-1pre.mid', 'cs6-2all.mid', 'cs6-3cou.mid', 'cs6-4sar.mid', 'cs6-5gav.mid', 'cs6-6gig.mid']\n"
     ]
    },
    {
     "name": "stderr",
     "output_type": "stream",
     "text": [
      "100%|██████████| 2708/2708 [00:00<00:00, 385388.68it/s]\n",
      "100%|██████████| 2172/2172 [00:00<00:00, 356822.23it/s]\n",
      "100%|██████████| 2562/2562 [00:00<00:00, 426708.77it/s]\n",
      "100%|██████████| 1212/1212 [00:00<00:00, 393063.98it/s]\n",
      "100%|██████████| 2412/2412 [00:00<00:00, 478578.04it/s]\n",
      "100%|██████████| 2644/2644 [00:00<00:00, 434687.20it/s]\n"
     ]
    },
    {
     "name": "stdout",
     "output_type": "stream",
     "text": [
      "[] ['cs1-1pre.mid', 'cs1-2all.mid', 'cs1-3cou.mid', 'cs1-4sar.mid', 'cs1-5men.mid', 'cs1-6gig.mid']\n"
     ]
    },
    {
     "name": "stderr",
     "output_type": "stream",
     "text": [
      "100%|██████████| 1322/1322 [00:00<00:00, 330977.73it/s]\n",
      "100%|██████████| 1882/1882 [00:00<00:00, 401305.55it/s]\n",
      "100%|██████████| 1639/1639 [00:00<00:00, 321386.83it/s]\n",
      "100%|██████████| 630/630 [00:00<00:00, 314273.49it/s]\n",
      "100%|██████████| 1318/1318 [00:00<00:00, 439679.68it/s]\n",
      "100%|██████████| 858/858 [00:00<00:00, 429286.99it/s]\n"
     ]
    },
    {
     "name": "stdout",
     "output_type": "stream",
     "text": [
      "[] ['cs2-1pre.mid', 'cs2-2all.mid', 'cs2-3cou.mid', 'cs2-4sar.mid', 'cs2-5men.mid', 'cs2-6gig.mid']\n"
     ]
    },
    {
     "name": "stderr",
     "output_type": "stream",
     "text": [
      "100%|██████████| 1310/1310 [00:00<00:00, 437776.93it/s]\n",
      "100%|██████████| 1490/1490 [00:00<00:00, 364466.84it/s]\n",
      "100%|██████████| 1492/1492 [00:00<00:00, 373116.00it/s]\n",
      "100%|██████████| 836/836 [00:00<00:00, 418679.18it/s]\n",
      "100%|██████████| 1326/1326 [00:00<00:00, 331919.74it/s]\n",
      "100%|██████████| 1637/1637 [00:00<00:00, 321686.45it/s]\n"
     ]
    },
    {
     "name": "stdout",
     "output_type": "stream",
     "text": [
      "[] ['cs3-1pre.mid', 'cs3-2all.mid', 'cs3-3cou.mid', 'cs3-4sar.mid', 'cs3-5bou.mid', 'cs3-6gig.mid']\n"
     ]
    },
    {
     "name": "stderr",
     "output_type": "stream",
     "text": [
      "100%|██████████| 2023/2023 [00:00<00:00, 433553.57it/s]\n",
      "100%|██████████| 1954/1954 [00:00<00:00, 231981.38it/s]\n",
      "100%|██████████| 1989/1989 [00:00<00:00, 331300.21it/s]\n",
      "100%|██████████| 876/876 [00:00<00:00, 292416.26it/s]\n",
      "100%|██████████| 1788/1788 [00:00<00:00, 344309.97it/s]\n",
      "100%|██████████| 2107/2107 [00:00<00:00, 421109.24it/s]\n"
     ]
    },
    {
     "name": "stdout",
     "output_type": "stream",
     "text": [
      "[] ['cs4-1pre.mid', 'cs4-2all.mid', 'cs4-3cou.mid', 'cs4-4sar.mid', 'cs4-5bou.mid', 'cs4-6gig.mid']\n"
     ]
    },
    {
     "name": "stderr",
     "output_type": "stream",
     "text": [
      "100%|██████████| 1664/1664 [00:00<00:00, 416005.36it/s]\n",
      "100%|██████████| 2139/2139 [00:00<00:00, 421163.10it/s]\n",
      "100%|██████████| 1866/1866 [00:00<00:00, 361838.71it/s]\n",
      "100%|██████████| 812/812 [00:00<00:00, 407145.83it/s]\n",
      "100%|██████████| 2711/2711 [00:00<00:00, 215249.27it/s]\n",
      "100%|██████████| 1940/1940 [00:00<00:00, 387991.12it/s]\n"
     ]
    },
    {
     "name": "stdout",
     "output_type": "stream",
     "text": [
      "[] ['cs5-1pre.mid', 'cs5-2all.mid', 'cs5-3cou.mid', 'cs5-4sar.mid', 'cs5-5gav.mid', 'cs5-6gig.mid']\n"
     ]
    },
    {
     "name": "stderr",
     "output_type": "stream",
     "text": [
      "100%|██████████| 2760/2760 [00:00<00:00, 202226.94it/s]\n",
      "100%|██████████| 1578/1578 [00:00<00:00, 263029.52it/s]\n",
      "100%|██████████| 1058/1058 [00:00<00:00, 235590.02it/s]\n",
      "100%|██████████| 438/438 [00:00<00:00, 106653.42it/s]\n",
      "100%|██████████| 2791/2791 [00:00<00:00, 275721.38it/s]\n",
      "100%|██████████| 883/883 [00:00<00:00, 220818.65it/s]\n"
     ]
    },
    {
     "name": "stdout",
     "output_type": "stream",
     "text": [
      "[] ['cs6-1pre.mid', 'cs6-2all.mid', 'cs6-3cou.mid', 'cs6-4sar.mid', 'cs6-5gav.mid', 'cs6-6gig.mid']\n"
     ]
    },
    {
     "name": "stderr",
     "output_type": "stream",
     "text": [
      "100%|██████████| 2708/2708 [00:00<00:00, 208150.99it/s]\n",
      "100%|██████████| 2172/2172 [00:00<00:00, 240814.92it/s]\n",
      "100%|██████████| 2562/2562 [00:00<00:00, 284642.05it/s]\n",
      "100%|██████████| 1212/1212 [00:00<00:00, 171995.41it/s]\n",
      "100%|██████████| 2412/2412 [00:00<00:00, 153592.26it/s]\n",
      "100%|██████████| 2644/2644 [00:00<00:00, 137964.69it/s]\n"
     ]
    },
    {
     "name": "stdout",
     "output_type": "stream",
     "text": [
      "[] ['Contrapunctus I.mid', 'Contrapunctus II ( 12. 8 ) .mid', 'Contrapunctus II.mid', 'Contrapunctus XII - Canon alla Ottava.mid']\n"
     ]
    },
    {
     "name": "stderr",
     "output_type": "stream",
     "text": [
      "100%|██████████| 1854/1854 [00:00<00:00, 154468.23it/s]\n",
      "100%|██████████| 2296/2296 [00:00<00:00, 204105.85it/s]\n",
      "100%|██████████| 2296/2296 [00:00<00:00, 124584.36it/s]\n",
      "100%|██████████| 5138/5138 [00:00<00:00, 302214.81it/s]\n"
     ]
    },
    {
     "name": "stdout",
     "output_type": "stream",
     "text": [
      "['bwv1066', 'bwv1067', 'bwv1068', 'bwv1069'] []\n",
      "[] ['BOURREE.mid', 'COURANTE.mid', 'FORLANE.mid', 'GAVOTTE.mid', 'MENUET.mid', 'OVERTURE.mid', 'PASSPIED.mid', 'Suites.txt']\n"
     ]
    },
    {
     "name": "stderr",
     "output_type": "stream",
     "text": [
      "100%|██████████| 7843/7843 [00:00<00:00, 373482.06it/s]\n",
      "100%|██████████| 5808/5808 [00:00<00:00, 263044.14it/s]\n",
      "100%|██████████| 4248/4248 [00:00<00:00, 303610.86it/s]\n",
      "100%|██████████| 9285/9285 [00:00<00:00, 321506.75it/s]\n",
      "100%|██████████| 6704/6704 [00:00<00:00, 295596.47it/s]\n",
      "100%|██████████| 28410/28410 [00:00<00:00, 376155.92it/s]\n",
      "100%|██████████| 8849/8849 [00:00<00:00, 354019.42it/s]\n"
     ]
    },
    {
     "name": "stdout",
     "output_type": "stream",
     "text": [
      "[] ['BADINERI.mid', 'BOURREE.mid', 'MENUET.mid', 'OVERTURE.mid', 'POLONAIS.mid', 'RONDEAU.mid', 'SARABAND.mid', 'Suites.txt']\n"
     ]
    },
    {
     "name": "stderr",
     "output_type": "stream",
     "text": [
      "100%|██████████| 3345/3345 [00:00<00:00, 387449.86it/s]\n",
      "100%|██████████| 5171/5171 [00:00<00:00, 344282.20it/s]\n",
      "100%|██████████| 1745/1745 [00:00<00:00, 348559.89it/s]\n",
      "100%|██████████| 20389/20389 [00:00<00:00, 420676.60it/s]\n",
      "100%|██████████| 4452/4452 [00:00<00:00, 342247.83it/s]\n",
      "100%|██████████| 2578/2578 [00:00<00:00, 367711.21it/s]\n",
      "100%|██████████| 2476/2476 [00:00<00:00, 366809.01it/s]\n"
     ]
    },
    {
     "name": "stdout",
     "output_type": "stream",
     "text": [
      "[] ['AIR.mid', 'BOURREE.mid', 'GAVOTTE.mid', 'GIGUE.mid', 'OVERTURE.mid', 'Suites.txt']\n"
     ]
    },
    {
     "name": "stderr",
     "output_type": "stream",
     "text": [
      "100%|██████████| 2145/2145 [00:00<00:00, 357213.61it/s]\n",
      "100%|██████████| 4353/4353 [00:00<00:00, 392902.91it/s]\n",
      "100%|██████████| 11096/11096 [00:00<00:00, 386233.66it/s]\n",
      "100%|██████████| 8857/8857 [00:00<00:00, 384385.64it/s]\n",
      "100%|██████████| 30102/30102 [00:00<00:00, 442626.30it/s]\n"
     ]
    },
    {
     "name": "stdout",
     "output_type": "stream",
     "text": [
      "[] ['BOURREE.mid', 'GAVOTTE.mid', 'MENUET.mid', 'OVERTURE.mid', 'rejouiss.mid', 'Suites.txt']\n"
     ]
    },
    {
     "name": "stderr",
     "output_type": "stream",
     "text": [
      "100%|██████████| 8996/8996 [00:00<00:00, 407301.02it/s]\n",
      "100%|██████████| 4732/4732 [00:00<00:00, 382844.92it/s]\n",
      "100%|██████████| 9302/9302 [00:00<00:00, 404485.06it/s]\n",
      "100%|██████████| 33409/33409 [00:00<00:00, 419847.62it/s]\n",
      "100%|██████████| 10877/10877 [00:00<00:00, 388386.61it/s]\n"
     ]
    },
    {
     "name": "stdout",
     "output_type": "stream",
     "text": [
      "[] ['BOURREE.mid', 'COURANTE.mid', 'FORLANE.mid', 'GAVOTTE.mid', 'MENUET.mid', 'OVERTURE.mid', 'PASSPIED.mid', 'Suites.txt']\n"
     ]
    },
    {
     "name": "stderr",
     "output_type": "stream",
     "text": [
      "100%|██████████| 7843/7843 [00:00<00:00, 435690.32it/s]\n",
      "100%|██████████| 5808/5808 [00:00<00:00, 443515.23it/s]\n",
      "100%|██████████| 4248/4248 [00:00<00:00, 438172.38it/s]\n",
      "100%|██████████| 9285/9285 [00:00<00:00, 480595.72it/s]\n",
      "100%|██████████| 6704/6704 [00:00<00:00, 444162.79it/s]\n",
      "100%|██████████| 28410/28410 [00:00<00:00, 491453.10it/s]\n",
      "100%|██████████| 8849/8849 [00:00<00:00, 501220.74it/s]\n"
     ]
    },
    {
     "name": "stdout",
     "output_type": "stream",
     "text": [
      "[] ['BADINERI.mid', 'BOURREE.mid', 'MENUET.mid', 'OVERTURE.mid', 'POLONAIS.mid', 'RONDEAU.mid', 'SARABAND.mid', 'Suites.txt']\n"
     ]
    },
    {
     "name": "stderr",
     "output_type": "stream",
     "text": [
      "100%|██████████| 3345/3345 [00:00<00:00, 197252.05it/s]\n",
      "100%|██████████| 5171/5171 [00:00<00:00, 416210.82it/s]\n",
      "100%|██████████| 1745/1745 [00:00<00:00, 436099.65it/s]\n",
      "100%|██████████| 20389/20389 [00:00<00:00, 269432.68it/s]\n",
      "100%|██████████| 4452/4452 [00:00<00:00, 403785.09it/s]\n",
      "100%|██████████| 2578/2578 [00:00<00:00, 397636.00it/s]\n",
      "100%|██████████| 2476/2476 [00:00<00:00, 412893.48it/s]\n"
     ]
    },
    {
     "name": "stdout",
     "output_type": "stream",
     "text": [
      "[] ['AIR.mid', 'BOURREE.mid', 'GAVOTTE.mid', 'GIGUE.mid', 'OVERTURE.mid', 'Suites.txt']\n"
     ]
    },
    {
     "name": "stderr",
     "output_type": "stream",
     "text": [
      "100%|██████████| 2145/2145 [00:00<00:00, 356534.12it/s]\n",
      "100%|██████████| 4353/4353 [00:00<00:00, 373836.59it/s]\n",
      "100%|██████████| 11096/11096 [00:00<00:00, 381578.60it/s]\n",
      "100%|██████████| 8857/8857 [00:00<00:00, 368446.14it/s]\n",
      "100%|██████████| 30102/30102 [00:00<00:00, 408508.61it/s]\n"
     ]
    },
    {
     "name": "stdout",
     "output_type": "stream",
     "text": [
      "[] ['BOURREE.mid', 'GAVOTTE.mid', 'MENUET.mid', 'OVERTURE.mid', 'rejouiss.mid', 'Suites.txt']\n"
     ]
    },
    {
     "name": "stderr",
     "output_type": "stream",
     "text": [
      "100%|██████████| 8996/8996 [00:00<00:00, 378656.24it/s]\n",
      "100%|██████████| 4732/4732 [00:00<00:00, 394283.57it/s]\n",
      "100%|██████████| 9302/9302 [00:00<00:00, 370326.86it/s]\n",
      "100%|██████████| 33409/33409 [00:00<00:00, 299082.87it/s]\n",
      "100%|██████████| 10877/10877 [00:00<00:00, 274995.30it/s]\n"
     ]
    },
    {
     "name": "stdout",
     "output_type": "stream",
     "text": [
      "[] ['bwv988.mid', 'bwv988.txt', 'Fourteen Canons on the First Eight Notes Of The Goldber Ground - BWV 1087.mid']\n"
     ]
    },
    {
     "name": "stderr",
     "output_type": "stream",
     "text": [
      "100%|██████████| 77058/77058 [00:00<00:00, 485363.73it/s]\n",
      "100%|██████████| 4263/4263 [00:00<00:00, 473726.10it/s]\n"
     ]
    },
    {
     "name": "stdout",
     "output_type": "stream",
     "text": [
      "[] ['bwv846.mid', 'bwv847.mid', 'bwv848.mid', 'bwv849.mid', 'bwv850.mid', 'bwv851.mid', 'bwv852.mid', 'bwv853.mid', 'bwv854.mid', 'bwv855.mid', 'bwv856.mid', 'bwv857.mid', 'bwv858.mid', 'bwv859.mid', 'bwv860.mid', 'bwv861.mid', 'bwv862.mid', 'bwv863.mid', 'bwv864.mid', 'bwv865.mid', 'bwv866.mid', 'bwv867.mid', 'bwv868.mid', 'bwv869.mid']\n"
     ]
    },
    {
     "name": "stderr",
     "output_type": "stream",
     "text": [
      "100%|██████████| 2641/2641 [00:00<00:00, 528213.10it/s]\n",
      "100%|██████████| 3759/3759 [00:00<00:00, 464523.40it/s]\n",
      "100%|██████████| 4537/4537 [00:00<00:00, 412663.34it/s]\n",
      "100%|██████████| 4175/4175 [00:00<00:00, 463897.93it/s]\n",
      "100%|██████████| 3111/3111 [00:00<00:00, 445295.01it/s]\n",
      "100%|██████████| 3209/3209 [00:00<00:00, 305211.49it/s]\n",
      "100%|██████████| 4695/4695 [00:00<00:00, 399275.29it/s]\n",
      "100%|██████████| 4263/4263 [00:00<00:00, 469768.22it/s]\n",
      "100%|██████████| 2447/2447 [00:00<00:00, 408317.23it/s]\n",
      "100%|██████████| 4143/4143 [00:00<00:00, 456149.14it/s]\n",
      "100%|██████████| 3129/3129 [00:00<00:00, 462307.21it/s]\n",
      "100%|██████████| 3799/3799 [00:00<00:00, 421549.80it/s]\n",
      "100%|██████████| 2761/2761 [00:00<00:00, 389796.81it/s]\n",
      "100%|██████████| 2959/2959 [00:00<00:00, 370133.47it/s]\n",
      "100%|██████████| 4789/4789 [00:00<00:00, 342113.70it/s]\n",
      "100%|██████████| 2987/2987 [00:00<00:00, 426890.62it/s]\n",
      "100%|██████████| 3155/3155 [00:00<00:00, 444643.30it/s]\n",
      "100%|██████████| 2747/2747 [00:00<00:00, 452792.31it/s]\n",
      "100%|██████████| 3593/3593 [00:00<00:00, 513585.33it/s]\n",
      "100%|██████████| 6091/6091 [00:00<00:00, 466076.29it/s]\n",
      "100%|██████████| 3211/3211 [00:00<00:00, 452353.14it/s]\n",
      "100%|██████████| 3033/3033 [00:00<00:00, 378892.75it/s]\n",
      "100%|██████████| 2635/2635 [00:00<00:00, 376378.93it/s]\n",
      "100%|██████████| 5107/5107 [00:00<00:00, 231258.41it/s]\n"
     ]
    },
    {
     "name": "stdout",
     "output_type": "stream",
     "text": [
      "[] ['bwv870.mid', 'bwv871.mid', 'bwv872.mid', 'bwv873.mid', 'bwv874.mid', 'bwv875.mid', 'bwv876.mid', 'bwv877.mid', 'bwv878.mid', 'bwv879.mid', 'bwv880.mid', 'bwv881.mid']\n"
     ]
    },
    {
     "name": "stderr",
     "output_type": "stream",
     "text": [
      "100%|██████████| 3951/3951 [00:00<00:00, 294335.82it/s]\n",
      "100%|██████████| 2727/2727 [00:00<00:00, 321279.37it/s]\n",
      "100%|██████████| 3253/3253 [00:00<00:00, 408860.12it/s]\n",
      "100%|██████████| 5331/5331 [00:00<00:00, 375763.96it/s]\n",
      "100%|██████████| 4851/4851 [00:00<00:00, 370543.96it/s]\n",
      "100%|██████████| 3799/3799 [00:00<00:00, 474668.92it/s]\n",
      "100%|██████████| 3237/3237 [00:00<00:00, 423803.29it/s]\n",
      "100%|██████████| 3993/3993 [00:00<00:00, 212151.25it/s]\n",
      "100%|██████████| 3295/3295 [00:00<00:00, 362830.97it/s]\n",
      "100%|██████████| 5279/5279 [00:00<00:00, 439939.81it/s]\n",
      "100%|██████████| 4417/4417 [00:00<00:00, 402954.60it/s]\n",
      "100%|██████████| 3703/3703 [00:00<00:00, 458183.60it/s]\n"
     ]
    },
    {
     "name": "stdout",
     "output_type": "stream",
     "text": [
      "[] ['bwv1027.mid', 'bwv1028.mid', 'bwv1029.mid']\n"
     ]
    },
    {
     "name": "stderr",
     "output_type": "stream",
     "text": [
      "100%|██████████| 12639/12639 [00:00<00:00, 427356.05it/s]\n",
      "100%|██████████| 20799/20799 [00:00<00:00, 483210.25it/s]\n",
      "100%|██████████| 16259/16259 [00:00<00:00, 450424.62it/s]\n"
     ]
    },
    {
     "name": "stdout",
     "output_type": "stream",
     "text": [
      "['Partita in C minor - BWV 997', 'Prelude, Fugue, and Allegro in Eb major - BWV 998'] ['Fugue in G minor for Solo Harpsichord.mid', 'Fugue in G minor for Solo Lute.mid', 'Suite in in E minor - BWV 996.mid']\n"
     ]
    },
    {
     "name": "stderr",
     "output_type": "stream",
     "text": [
      "100%|██████████| 3393/3393 [00:00<00:00, 478329.98it/s]\n",
      "100%|██████████| 3393/3393 [00:00<00:00, 481420.57it/s]\n",
      "100%|██████████| 9468/9468 [00:00<00:00, 410244.53it/s]\n"
     ]
    },
    {
     "name": "stdout",
     "output_type": "stream",
     "text": [
      "[] ['997-1pre.mid', '997-2fug.mid', '997-3sar.mid', '997-4gig.mid', '997-5dou.mid']\n"
     ]
    },
    {
     "name": "stderr",
     "output_type": "stream",
     "text": [
      "100%|██████████| 1965/1965 [00:00<00:00, 392953.53it/s]\n",
      "100%|██████████| 4110/4110 [00:00<00:00, 410775.14it/s]\n",
      "100%|██████████| 1890/1890 [00:00<00:00, 462553.07it/s]\n",
      "100%|██████████| 1941/1941 [00:00<00:00, 381086.18it/s]\n",
      "100%|██████████| 2675/2675 [00:00<00:00, 383620.99it/s]\n"
     ]
    },
    {
     "name": "stdout",
     "output_type": "stream",
     "text": [
      "[] ['pfa-1pre.mid', 'pfa-2fug.mid', 'pfa-3alg.mid']\n"
     ]
    },
    {
     "name": "stderr",
     "output_type": "stream",
     "text": [
      "100%|██████████| 1505/1505 [00:00<00:00, 379489.45it/s]\n",
      "100%|██████████| 3588/3588 [00:00<00:00, 450924.75it/s]\n",
      "100%|██████████| 1505/1505 [00:00<00:00, 501822.68it/s]\n"
     ]
    },
    {
     "name": "stdout",
     "output_type": "stream",
     "text": [
      "[] ['997-1pre.mid', '997-2fug.mid', '997-3sar.mid', '997-4gig.mid', '997-5dou.mid']\n"
     ]
    },
    {
     "name": "stderr",
     "output_type": "stream",
     "text": [
      "100%|██████████| 1965/1965 [00:00<00:00, 399816.02it/s]\n",
      "100%|██████████| 4110/4110 [00:00<00:00, 411108.21it/s]\n",
      "100%|██████████| 1890/1890 [00:00<00:00, 377199.97it/s]\n",
      "100%|██████████| 1941/1941 [00:00<00:00, 388376.30it/s]\n",
      "100%|██████████| 2675/2675 [00:00<00:00, 439697.58it/s]\n"
     ]
    },
    {
     "name": "stdout",
     "output_type": "stream",
     "text": [
      "[] ['pfa-1pre.mid', 'pfa-2fug.mid', 'pfa-3alg.mid']\n"
     ]
    },
    {
     "name": "stderr",
     "output_type": "stream",
     "text": [
      "100%|██████████| 1505/1505 [00:00<00:00, 368114.50it/s]\n",
      "100%|██████████| 3588/3588 [00:00<00:00, 398695.56it/s]\n",
      "100%|██████████| 1505/1505 [00:00<00:00, 427237.06it/s]\n"
     ]
    }
   ],
   "source": [
    "all_data = []\n",
    "def extract_all_to_nums(input_path):\n",
    "    # go to all MIDI files in folder and extract data from path, go to all subfolders and do the same\n",
    "    # return numpy array of all data\n",
    "    # Note: MIDI_data_extractor takes in input_path of MIDI file\n",
    "    os.chdir(r\"C:\\Users\\ilove\\CODING\\PYStuff\\MusicNet\\Midi2Numpy\\MIDI-Generator-with-Transformers\")\n",
    "    os.chdir(input_path)\n",
    "    cur_data = []\n",
    "    for root, dirs, files in os.walk(input_path):\n",
    "        print(dirs,files)\n",
    "        for file in files:\n",
    "            if file.endswith(\".mid\"):\n",
    "                data = MIDI_data_extractor(os.path.join(root, file), 0, True)\n",
    "                cur_data.append(data)\n",
    "        for dirs in dirs:\n",
    "            extract_all_to_nums(os.path.join(root, dirs))\n",
    "    return cur_data\n",
    "all_data.append(extract_all_to_nums(r\"C:\\Users\\ilove\\CODING\\PYStuff\\MusicNet\\Midi2Numpy\\MIDI-Generator-with-Transformers\\Bach MIDIs\"))"
   ],
   "metadata": {
    "collapsed": false,
    "ExecuteTime": {
     "end_time": "2023-07-26T03:04:25.858247600Z",
     "start_time": "2023-07-26T02:59:28.586872600Z"
    }
   }
  },
  {
   "cell_type": "code",
   "execution_count": 4,
   "outputs": [
    {
     "data": {
      "text/plain": "'[note_on_note, note_on_velocity,\\n        control_change_control, control_change_value, program_change_program,\\n        end_marking, set_tempo_tempo,\\n        time_sig_num, itme_sig_den, time_sig_clocksperclick, time_sig_notated_32nd,\\n        key_sig(turn into numbers), [time], instrument_type, instrument_num, orig_instrument_type]'"
     },
     "execution_count": 4,
     "metadata": {},
     "output_type": "execute_result"
    }
   ],
   "source": [
    "os.chdir(r\"C:\\Users\\ilove\\CODING\\PYStuff\\MusicNet\\Midi2Numpy\\MIDI-Generator-with-Transformers\")\n",
    "with open('all_data.pickle', 'wb') as f:\n",
    "    pickle.dump(all_data, f)\n",
    "'''[note_on_note, note_on_velocity,\n",
    "        control_change_control, control_change_value, program_change_program,\n",
    "        end_marking, set_tempo_tempo,\n",
    "        time_sig_num, itme_sig_den, time_sig_clocksperclick, time_sig_notated_32nd,\n",
    "        key_sig(turn into numbers), [time], instrument_type, instrument_num, orig_instrument_type]'''"
   ],
   "metadata": {
    "collapsed": false,
    "ExecuteTime": {
     "end_time": "2023-07-26T03:04:26.100928800Z",
     "start_time": "2023-07-26T03:04:25.869254100Z"
    }
   }
  },
  {
   "cell_type": "code",
   "execution_count": 18,
   "outputs": [],
   "source": [
    "new_all_data = all_data[0]\n",
    "# seems like all_data was [[stuff]] instead of []"
   ],
   "metadata": {
    "collapsed": false,
    "ExecuteTime": {
     "end_time": "2023-07-26T03:11:12.605600500Z",
     "start_time": "2023-07-26T03:11:12.589769400Z"
    }
   }
  },
  {
   "cell_type": "code",
   "execution_count": 19,
   "outputs": [],
   "source": [
    "os.chdir(r\"C:\\Users\\ilove\\CODING\\PYStuff\\MusicNet\\Midi2Numpy\\MIDI-Generator-with-Transformers\")\n",
    "with open('all_data.pickle', 'wb') as f:\n",
    "    pickle.dump(new_all_data, f)"
   ],
   "metadata": {
    "collapsed": false,
    "ExecuteTime": {
     "end_time": "2023-07-26T03:11:29.687315Z",
     "start_time": "2023-07-26T03:11:29.467812200Z"
    }
   }
  },
  {
   "cell_type": "code",
   "execution_count": null,
   "outputs": [],
   "source": [],
   "metadata": {
    "collapsed": false
   }
  }
 ],
 "metadata": {
  "kernelspec": {
   "display_name": "Python 3",
   "language": "python",
   "name": "python3"
  },
  "language_info": {
   "codemirror_mode": {
    "name": "ipython",
    "version": 2
   },
   "file_extension": ".py",
   "mimetype": "text/x-python",
   "name": "python",
   "nbconvert_exporter": "python",
   "pygments_lexer": "ipython2",
   "version": "2.7.6"
  }
 },
 "nbformat": 4,
 "nbformat_minor": 0
}
