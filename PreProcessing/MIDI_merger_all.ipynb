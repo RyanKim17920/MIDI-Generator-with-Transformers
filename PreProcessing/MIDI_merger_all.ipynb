{
 "cells": [
  {
   "cell_type": "code",
   "execution_count": 2,
   "metadata": {
    "collapsed": true,
    "ExecuteTime": {
     "end_time": "2023-07-20T02:47:13.282670700Z",
     "start_time": "2023-07-20T02:47:13.270988200Z"
    }
   },
   "outputs": [],
   "source": [
    "from MIDI_merger import MIDI_merger\n",
    "import os"
   ]
  },
  {
   "cell_type": "code",
   "execution_count": 7,
   "outputs": [
    {
     "data": {
      "text/plain": "['18 Leipzig Chorale Preludes for Organ',\n 'A Musical Offering  ·  BWV 1079',\n 'Brandenburg Concerto No. 1 in F Major - BWV 1046',\n 'Cantatas',\n 'Chamber Music',\n 'Christmas Oratorio  ·  BWV 248',\n 'Concertos',\n 'English Suites',\n 'Fifteen Three-Part Sinfonias BWV 787-801 - Complete',\n 'Fifteen Two-Part Inventions BWV 772-786 - Complete',\n 'Four Duets BWV 802-805',\n 'Inventions',\n 'Keyboard Works',\n 'Magnificat in D major  ·  BWV 243',\n 'Mass in B Minor - BWV 232',\n 'Miscellaneous Canons',\n 'Miscellaneous Works 894, 895, 899, 900, 901, 903',\n 'Miscellaneous Works 963,965,966,967,989,992,993',\n 'Miscellaneous Works BWV 818,819,820,823,832,833,835,841,844',\n 'Organ Works',\n 'Partita in A minor for Solo Flute - BWV 1013',\n 'Seven Tocattas BWV 910-916 - Complete',\n 'Sinfonias',\n 'Six English Suites BWV 806-811 - Complete',\n 'Six French Suites BWV 812-817 - Complete',\n 'Six Partitas BWV 825-830 - Complete',\n 'Sonatas and Partitas for Solo Violin',\n 'Sonatas for Violin and Harpsichord',\n 'Suites for Solo Cello',\n 'The Art of Fugue',\n 'The Four Orchestral Suites',\n 'The Goldberg Variations - BWV 988',\n 'The Well-Tempered Clavier Book I BWV 846-869 - Complete',\n 'The Well-Tempered Clavier Book II ( Nos. 1-12 ) BWV 870-881',\n 'Viola da Gamba Sonatas  ·  BWV 1027-1029',\n 'Works for Solo Lute']"
     },
     "execution_count": 7,
     "metadata": {},
     "output_type": "execute_result"
    }
   ],
   "source": [
    "os.chdir('Bach MIDIs')\n",
    "os.listdir()"
   ],
   "metadata": {
    "collapsed": false,
    "ExecuteTime": {
     "end_time": "2023-07-20T02:49:50.206802700Z",
     "start_time": "2023-07-20T02:49:50.203609900Z"
    }
   }
  },
  {
   "cell_type": "code",
   "execution_count": 29,
   "outputs": [],
   "source": [
    "def MIDI_merge_all(folder_path):\n",
    "    #merge all MIDI files within path and subfolders recursively\n",
    "    contents = os.listdir(folder_path)\n",
    "\n",
    "    for item in contents:\n",
    "        item_path = os.path.join(folder_path, item)\n",
    "\n",
    "        if os.path.isdir(item_path):\n",
    "            MIDI_merge_all(item_path)\n",
    "        else:\n",
    "            if os.path.isfile(item_path) and item_path.lower().endswith('.mid'):\n",
    "                MIDI_merger(item_path, item_path)\n",
    "\n",
    "def solo_recursion(folder_path):\n",
    "    # List all files and directories in the current folder\n",
    "    contents = os.listdir(folder_path)\n",
    "\n",
    "    # Initialize an empty list to store the paths of folders containing 'Solo'\n",
    "    solo_folders = []\n",
    "\n",
    "    # Traverse through the contents of the current folder\n",
    "    for item in contents:\n",
    "        item_path = os.path.join(folder_path, item)\n",
    "\n",
    "        # Check if the item is a directory and contains 'Solo' in its name\n",
    "        if os.path.isdir(item_path) and 'Solo' in item:\n",
    "            MIDI_merge_all(item_path)\n",
    "        else:\n",
    "            # If the item is a file, check if it has a MIDI extension (.mid)\n",
    "            if os.path.isfile(item_path) and item_path.lower().endswith('.mid'):\n",
    "                # Merge the MIDI file using MIDI_merger function\n",
    "                MIDI_merger(item_path, item_path)\n"
   ],
   "metadata": {
    "collapsed": false,
    "ExecuteTime": {
     "end_time": "2023-07-20T03:07:20.909529400Z",
     "start_time": "2023-07-20T03:07:20.885296700Z"
    }
   }
  },
  {
   "cell_type": "code",
   "execution_count": 30,
   "outputs": [
    {
     "name": "stderr",
     "output_type": "stream",
     "text": [
      "1it [00:00, 23.60it/s]\n"
     ]
    },
    {
     "name": "stdout",
     "output_type": "stream",
     "text": [
      "Track 0: \n"
     ]
    },
    {
     "name": "stderr",
     "output_type": "stream",
     "text": [
      "100%|██████████| 2051/2051 [00:00<00:00, 66333.43it/s]\n",
      "1it [00:00, 31.08it/s]\n"
     ]
    },
    {
     "name": "stdout",
     "output_type": "stream",
     "text": [
      "Track 0: \n"
     ]
    },
    {
     "name": "stderr",
     "output_type": "stream",
     "text": [
      "100%|██████████| 1789/1789 [00:00<00:00, 62516.02it/s]\n",
      "1it [00:00, 56.99it/s]\n"
     ]
    },
    {
     "name": "stdout",
     "output_type": "stream",
     "text": [
      "Track 0: \n"
     ]
    },
    {
     "name": "stderr",
     "output_type": "stream",
     "text": [
      "100%|██████████| 606/606 [00:00<00:00, 71153.58it/s]\n",
      "1it [00:00, 30.54it/s]"
     ]
    },
    {
     "name": "stdout",
     "output_type": "stream",
     "text": [
      "Track 0: \n"
     ]
    },
    {
     "name": "stderr",
     "output_type": "stream",
     "text": [
      "\n",
      "100%|██████████| 1063/1063 [00:00<00:00, 66301.03it/s]\n",
      "18it [00:00, 315.73it/s]"
     ]
    },
    {
     "name": "stdout",
     "output_type": "stream",
     "text": [
      "Track 0: untitled\n",
      "Track 1: Solo Violin\n",
      "Track 2: --------------------------------------\n",
      "Track 3: Johann Sebastian Bach  (1685-1750)\n",
      "Track 4: Six Sonatas and Partitas for Solo Violin\n",
      "Track 5: --------------------------------------\n",
      "Track 6: Partita No. 1 in B minor - BWV 1002\n",
      "Track 7: 1st Movement: Allemanda\n",
      "Track 8: --------------------------------------\n",
      "Track 9: Sequenced with Cakewalk Pro Audio by\n",
      "Track 10: David J. Grossman - dave@unpronounceable.com\n",
      "Track 11: This and other Bach MIDI files can be found at:\n",
      "Track 12: Dave's J.S. Bach Page\n",
      "Track 13: http://www.unpronounceable.com/bach\n",
      "Track 14: --------------------------------------\n",
      "Track 15: Original Filename: vp1-1al.mid\n",
      "Track 16: Last Modified: February 22, 1997\n",
      "Track 17: \n"
     ]
    },
    {
     "name": "stderr",
     "output_type": "stream",
     "text": [
      "\n",
      "100%|██████████| 2031/2031 [00:00<00:00, 62386.08it/s]\n",
      "17it [00:00, 419.05it/s]"
     ]
    },
    {
     "name": "stdout",
     "output_type": "stream",
     "text": [
      "Track 0: untitled\n",
      "Track 1: Solo Violin\n",
      "Track 2: --------------------------------------\n",
      "Track 3: Johann Sebastian Bach  (1685-1750)\n",
      "Track 4: Six Sonatas and Partitas for Solo Violin\n",
      "Track 5: --------------------------------------\n",
      "Track 6: Partita No. 1 in B minor - BWV 1002\n",
      "Track 7: 2nd Movement: Double  ( Allemanda ) \n",
      "Track 8: --------------------------------------\n",
      "Track 9: Sequenced with Cakewalk Pro Audio by\n",
      "Track 10: David J. Grossman - dave@unpronounceable.com\n",
      "Track 11: This and other Bach MIDI files can be found at:\n",
      "Track 12: Dave's J.S. Bach Page\n",
      "Track 13: http://www.unpronounceable.com/bach\n",
      "Track 14: --------------------------------------\n",
      "Track 15: Original Filename: vp1-2ald.mid\n",
      "Track 16: Last Modified: February 22, 1997\n"
     ]
    },
    {
     "name": "stderr",
     "output_type": "stream",
     "text": [
      "\n",
      "100%|██████████| 1530/1530 [00:00<00:00, 63752.09it/s]\n",
      "17it [00:00, 354.04it/s]"
     ]
    },
    {
     "name": "stdout",
     "output_type": "stream",
     "text": [
      "Track 0: untitled\n",
      "Track 1: Solo Violin\n",
      "Track 2: --------------------------------------\n",
      "Track 3: Johann Sebastian Bach  (1685-1750)\n",
      "Track 4: Six Sonatas and Partitas for Solo Violin\n",
      "Track 5: --------------------------------------\n",
      "Track 6: Partita No. 1 in B minor - BWV 1002\n",
      "Track 7: 3rd Movement: Corrente\n",
      "Track 8: --------------------------------------\n",
      "Track 9: Sequenced with Cakewalk Pro Audio by\n",
      "Track 10: David J. Grossman - dave@unpronounceable.com\n",
      "Track 11: This and other Bach MIDI files can be found at:\n",
      "Track 12: Dave's J.S. Bach Page\n",
      "Track 13: http://www.unpronounceable.com/bach\n",
      "Track 14: --------------------------------------\n",
      "Track 15: Original Filename: vp1-3co.mid\n",
      "Track 16: Last Modified: February 22, 1997\n"
     ]
    },
    {
     "name": "stderr",
     "output_type": "stream",
     "text": [
      "\n",
      "100%|██████████| 1921/1921 [00:00<00:00, 65686.13it/s]\n",
      "17it [00:00, 171.38it/s]\n"
     ]
    },
    {
     "name": "stdout",
     "output_type": "stream",
     "text": [
      "Track 0: untitled\n",
      "Track 1: Solo Violin\n",
      "Track 2: --------------------------------------\n",
      "Track 3: Johann Sebastian Bach  (1685-1750)\n",
      "Track 4: Six Sonatas and Partitas for Solo Violin\n",
      "Track 5: --------------------------------------\n",
      "Track 6: Partita No. 1 in B minor - BWV 1002\n",
      "Track 7: 4th Movement: Double: Presto  ( Corrente )\n",
      "Track 8: --------------------------------------\n",
      "Track 9: Sequenced with Cakewalk Pro Audio by\n",
      "Track 10: David J. Grossman - dave@unpronounceable.com\n",
      "Track 11: This and other Bach MIDI files can be found at:\n",
      "Track 12: Dave's J.S. Bach Page\n",
      "Track 13: http://www.unpronounceable.com/bach\n",
      "Track 14: --------------------------------------\n",
      "Track 15: Original Filename: vp1-4cod.mid\n",
      "Track 16: Last Modified: February 22, 1997\n"
     ]
    },
    {
     "name": "stderr",
     "output_type": "stream",
     "text": [
      "100%|██████████| 3830/3830 [00:00<00:00, 33715.99it/s]\n",
      "17it [00:00, 700.88it/s]\n"
     ]
    },
    {
     "name": "stdout",
     "output_type": "stream",
     "text": [
      "Track 0: untitled\n",
      "Track 1: Solo Violin\n",
      "Track 2: --------------------------------------\n",
      "Track 3: Johann Sebastian Bach  (1685-1750)\n",
      "Track 4: Six Sonatas and Partitas for Solo Violin\n",
      "Track 5: --------------------------------------\n",
      "Track 6: Partita No. 1 in B minor - BWV 1002\n",
      "Track 7: 5th Movement: Sarabande\n",
      "Track 8: --------------------------------------\n",
      "Track 9: Sequenced with Cakewalk Pro Audio by\n",
      "Track 10: David J. Grossman - dave@unpronounceable.com\n",
      "Track 11: This and other Bach MIDI files can be found at:\n",
      "Track 12: Dave's J.S. Bach Page\n",
      "Track 13: http://www.unpronounceable.com/bach\n",
      "Track 14: --------------------------------------\n",
      "Track 15: Original Filename: vp1-5sa.mid\n",
      "Track 16: Last Modified: February 22, 1997\n"
     ]
    },
    {
     "name": "stderr",
     "output_type": "stream",
     "text": [
      "100%|██████████| 1069/1069 [00:00<00:00, 65597.36it/s]\n",
      "17it [00:00, 740.64it/s]\n"
     ]
    },
    {
     "name": "stdout",
     "output_type": "stream",
     "text": [
      "Track 0: untitled\n",
      "Track 1: Solo Violin\n",
      "Track 2: --------------------------------------\n",
      "Track 3: Johann Sebastian Bach  (1685-1750)\n",
      "Track 4: Six Sonatas and Partitas for Solo Violin\n",
      "Track 5: --------------------------------------\n",
      "Track 6: Partita No. 1 in B minor - BWV 1002\n",
      "Track 7: 6th Movement: Double  ( Sarabande )\n",
      "Track 8: --------------------------------------\n",
      "Track 9: Sequenced with Cakewalk Pro Audio by\n",
      "Track 10: David J. Grossman - dave@unpronounceable.com\n",
      "Track 11: This and other Bach MIDI files can be found at:\n",
      "Track 12: Dave's J.S. Bach Page\n",
      "Track 13: http://www.unpronounceable.com/bach\n",
      "Track 14: --------------------------------------\n",
      "Track 15: Original Filename: vp1-6sad.mid\n",
      "Track 16: Last Modified: February 22, 1997\n"
     ]
    },
    {
     "name": "stderr",
     "output_type": "stream",
     "text": [
      "100%|██████████| 1147/1147 [00:00<00:00, 71701.24it/s]\n",
      "0it [00:00, ?it/s]"
     ]
    },
    {
     "name": "stdout",
     "output_type": "stream",
     "text": [
      "Track 0: untitled\n",
      "Track 1: Solo Violin\n"
     ]
    },
    {
     "name": "stderr",
     "output_type": "stream",
     "text": [
      "17it [00:00, 350.36it/s]\n"
     ]
    },
    {
     "name": "stdout",
     "output_type": "stream",
     "text": [
      "Track 2: --------------------------------------\n",
      "Track 3: Johann Sebastian Bach  (1685-1750)\n",
      "Track 4: Six Sonatas and Partitas for Solo Violin\n",
      "Track 5: --------------------------------------\n",
      "Track 6: Partita No. 1 in B minor - BWV 1002\n",
      "Track 7: 7th Movement: Tempo di Borea\n",
      "Track 8: --------------------------------------\n",
      "Track 9: Sequenced with Cakewalk Pro Audio by\n",
      "Track 10: David J. Grossman - dave@unpronounceable.com\n",
      "Track 11: This and other Bach MIDI files can be found at:\n",
      "Track 12: Dave's J.S. Bach Page\n",
      "Track 13: http://www.unpronounceable.com/bach\n",
      "Track 14: --------------------------------------\n",
      "Track 15: Original Filename: vp1-7tb.mid\n",
      "Track 16: Last Modified: February 22, 1997\n"
     ]
    },
    {
     "name": "stderr",
     "output_type": "stream",
     "text": [
      "100%|██████████| 2152/2152 [00:00<00:00, 53874.55it/s]\n",
      "0it [00:00, ?it/s]"
     ]
    },
    {
     "name": "stdout",
     "output_type": "stream",
     "text": [
      "Track 0: untitled\n",
      "Track 1: Solo Violin\n"
     ]
    },
    {
     "name": "stderr",
     "output_type": "stream",
     "text": [
      "17it [00:00, 298.31it/s]"
     ]
    },
    {
     "name": "stdout",
     "output_type": "stream",
     "text": [
      "Track 2: --------------------------------------\n",
      "Track 3: Johann Sebastian Bach  (1685-1750)\n",
      "Track 4: Six Sonatas and Partitas for Solo Violin\n",
      "Track 5: --------------------------------------\n",
      "Track 6: Partita No. 1 in B minor - BWV 1002\n",
      "Track 7: 8th Movement: Double  ( Tempo di Borea )\n",
      "Track 8: --------------------------------------\n",
      "Track 9: Sequenced with Cakewalk Pro Audio by\n",
      "Track 10: David J. Grossman - dave@unpronounceable.com\n",
      "Track 11: This and other Bach MIDI files can be found at:\n",
      "Track 12: Dave's J.S. Bach Page\n",
      "Track 13: http://www.unpronounceable.com/bach\n",
      "Track 14: --------------------------------------\n",
      "Track 15: Original Filename: vp1-8tbd.mid\n",
      "Track 16: Last Modified: February 22, 1997\n"
     ]
    },
    {
     "name": "stderr",
     "output_type": "stream",
     "text": [
      "\n",
      "100%|██████████| 2233/2233 [00:00<00:00, 62270.66it/s]\n",
      "17it [00:00, 425.02it/s]"
     ]
    },
    {
     "name": "stdout",
     "output_type": "stream",
     "text": [
      "Track 0: untitled\n",
      "Track 1: Solo Violin\n",
      "Track 2: --------------------------------------\n",
      "Track 3: Johann Sebastian Bach  (1685-1750)\n",
      "Track 4: Six Sonatas and Partitas for Solo Violin\n",
      "Track 5: --------------------------------------\n",
      "Track 6: Partita No. 2 in D minor - BWV 1004\n",
      "Track 7: 1st Movement: Allemande\n",
      "Track 8: --------------------------------------\n",
      "Track 9: Sequenced with Cakewalk Pro Audio by\n",
      "Track 10: David J. Grossman - dave@unpronounceable.com\n",
      "Track 11: This and other Bach MIDI files can be found at:\n",
      "Track 12: Dave's J.S. Bach Page\n",
      "Track 13: http://www.unpronounceable.com/bach\n",
      "Track 14: --------------------------------------\n",
      "Track 15: Original Filename: vp2-1all.mid\n",
      "Track 16: Last Modified: February 22, 1997\n"
     ]
    },
    {
     "name": "stderr",
     "output_type": "stream",
     "text": [
      "\n",
      "100%|██████████| 2208/2208 [00:00<00:00, 91578.15it/s]\n",
      "17it [00:00, 420.65it/s]"
     ]
    },
    {
     "name": "stdout",
     "output_type": "stream",
     "text": [
      "Track 0: untitled\n",
      "Track 1: Solo Violin\n",
      "Track 2: --------------------------------------\n",
      "Track 3: Johann Sebastian Bach  (1685-1750)\n",
      "Track 4: Six Sonatas and Partitas for Solo Violin\n",
      "Track 5: --------------------------------------\n",
      "Track 6: Partita No. 2 in D minor - BWV 1004\n",
      "Track 7: 2nd Movement: Courante\n",
      "Track 8: --------------------------------------\n",
      "Track 9: Sequenced with Cakewalk Pro Audio by\n",
      "Track 10: David J. Grossman - dave@unpronounceable.com\n",
      "Track 11: This and other Bach MIDI files can be found at:\n",
      "Track 12: Dave's J.S. Bach Page\n",
      "Track 13: http://www.unpronounceable.com/bach\n",
      "Track 14: --------------------------------------\n",
      "Track 15: Original Filename: vp2-2cou.mid\n",
      "Track 16: Last Modified: February 22, 1997\n"
     ]
    },
    {
     "name": "stderr",
     "output_type": "stream",
     "text": [
      "\n",
      "100%|██████████| 1733/1733 [00:00<00:00, 71634.26it/s]\n",
      "17it [00:00, 530.98it/s]"
     ]
    },
    {
     "name": "stdout",
     "output_type": "stream",
     "text": [
      "Track 0: untitled\n",
      "Track 1: Solo Violin\n",
      "Track 2: --------------------------------------\n",
      "Track 3: Johann Sebastian Bach  (1685-1750)\n",
      "Track 4: Six Sonatas and Partitas for Solo Violin\n",
      "Track 5: --------------------------------------\n",
      "Track 6: Partita No. 2 in D minor - BWV 1004\n",
      "Track 7: 3rd Movement: Sarabande\n",
      "Track 8: --------------------------------------\n",
      "Track 9: Sequenced with Cakewalk Pro Audio by\n",
      "Track 10: David J. Grossman - dave@unpronounceable.com\n",
      "Track 11: This and other Bach MIDI files can be found at:\n",
      "Track 12: Dave's J.S. Bach Page\n",
      "Track 13: http://www.unpronounceable.com/bach\n",
      "Track 14: --------------------------------------\n",
      "Track 15: Original Filename: vp2-3sar.mid\n",
      "Track 16: Last Modified: February 22, 1997\n"
     ]
    },
    {
     "name": "stderr",
     "output_type": "stream",
     "text": [
      "\n",
      "100%|██████████| 1089/1089 [00:00<00:00, 68047.15it/s]\n",
      "0it [00:00, ?it/s]"
     ]
    },
    {
     "name": "stdout",
     "output_type": "stream",
     "text": [
      "Track 0: untitled\n",
      "Track 1: Solo Violin\n"
     ]
    },
    {
     "name": "stderr",
     "output_type": "stream",
     "text": [
      "17it [00:00, 191.77it/s]\n"
     ]
    },
    {
     "name": "stdout",
     "output_type": "stream",
     "text": [
      "Track 2: --------------------------------------\n",
      "Track 3: Johann Sebastian Bach  (1685-1750)\n",
      "Track 4: Six Sonatas and Partitas for Solo Violin\n",
      "Track 5: --------------------------------------\n",
      "Track 6: Partita No. 2 in D minor - BWV 1004\n",
      "Track 7: 4th Movement: Gigue\n",
      "Track 8: --------------------------------------\n",
      "Track 9: Sequenced with Cakewalk Pro Audio by\n",
      "Track 10: David J. Grossman - dave@unpronounceable.com\n",
      "Track 11: This and other Bach MIDI files can be found at:\n",
      "Track 12: Dave's J.S. Bach Page\n",
      "Track 13: http://www.unpronounceable.com/bach\n",
      "Track 14: --------------------------------------\n",
      "Track 15: Original Filename: vp2-4gig.mid\n",
      "Track 16: Last Modified: February 22, 1997\n"
     ]
    },
    {
     "name": "stderr",
     "output_type": "stream",
     "text": [
      "100%|██████████| 3642/3642 [00:00<00:00, 91629.01it/s]\n",
      "18it [00:00, 96.61it/s]"
     ]
    },
    {
     "name": "stdout",
     "output_type": "stream",
     "text": [
      "Track 0: Chaconne\n",
      "Track 1: Solo Violin\n",
      "Track 2: --------------------------------------\n",
      "Track 3: Johann Sebastian Bach  (1685-1750)\n",
      "Track 4: Six Sonatas and Partitas for Solo Violin\n",
      "Track 5: --------------------------------------\n",
      "Track 6: Partita No. 2 in D minor - BWV 1004\n",
      "Track 7: 5th Movement: Chaconne\n",
      "Track 8: --------------------------------------\n",
      "Track 9: Sequenced with Cakewalk Pro Audio by\n",
      "Track 10: David J. Grossman - dave@unpronounceable.com\n",
      "Track 11: This and other Bach MIDI files can be found at:\n",
      "Track 12: Dave's J.S. Bach Page\n",
      "Track 13: http://www.unpronounceable.com/bach\n",
      "Track 14: --------------------------------------\n",
      "Track 15: Original Filename: vp2-5cha.mid\n",
      "Track 16: Last Modified: February 22, 1997\n",
      "Track 17: \n"
     ]
    },
    {
     "name": "stderr",
     "output_type": "stream",
     "text": [
      "\n",
      "100%|██████████| 8786/8786 [00:00<00:00, 84433.27it/s]\n",
      "18it [00:00, 278.92it/s]\n"
     ]
    },
    {
     "name": "stdout",
     "output_type": "stream",
     "text": [
      "Track 0: untitled\n",
      "Track 1: Solo Violin\n",
      "Track 2: --------------------------------------\n",
      "Track 3: Johann Sebastian Bach  (1685-1750)\n",
      "Track 4: Six Sonatas and Partitas for Solo Violin\n",
      "Track 5: --------------------------------------\n",
      "Track 6: Partita No. 3 in E major - BWV 1006\n",
      "Track 7: 1st Movement: Prelude\n",
      "Track 8: --------------------------------------\n",
      "Track 9: Sequenced with Cakewalk Pro Audio by\n",
      "Track 10: David J. Grossman - dave@unpronounceable.com\n",
      "Track 11: This and other Bach MIDI files can be found at:\n",
      "Track 12: Dave's J.S. Bach Page\n",
      "Track 13: http://www.unpronounceable.com/bach\n",
      "Track 14: --------------------------------------\n",
      "Track 15: Original Filename: vp3-1pre.mid\n",
      "Track 16: Last Modified: February 22, 1997\n",
      "Track 17: \n"
     ]
    },
    {
     "name": "stderr",
     "output_type": "stream",
     "text": [
      "100%|██████████| 3291/3291 [00:00<00:00, 68234.28it/s]\n",
      "17it [00:00, 551.66it/s]\n"
     ]
    },
    {
     "name": "stdout",
     "output_type": "stream",
     "text": [
      "Track 0: untitled\n",
      "Track 1: Solo Violin\n",
      "Track 2: --------------------------------------\n",
      "Track 3: Johann Sebastian Bach  (1685-1750)\n",
      "Track 4: Six Sonatas and Partitas for Solo Violin\n",
      "Track 5: --------------------------------------\n",
      "Track 6: Partita No. 3 in E major - BWV 1006\n",
      "Track 7: 2nd Movement: Loure\n",
      "Track 8: --------------------------------------\n",
      "Track 9: Sequenced with Cakewalk Pro Audio by\n",
      "Track 10: David J. Grossman - dave@unpronounceable.com\n",
      "Track 11: This and other Bach MIDI files can be found at:\n",
      "Track 12: Dave's J.S. Bach Page\n",
      "Track 13: http://www.unpronounceable.com/bach\n",
      "Track 14: --------------------------------------\n",
      "Track 15: Original Filename: vp3-2lou.mid\n",
      "Track 16: Last Modified: February 22, 1997\n"
     ]
    },
    {
     "name": "stderr",
     "output_type": "stream",
     "text": [
      "100%|██████████| 1169/1169 [00:00<00:00, 65072.41it/s]\n",
      "17it [00:00, 433.24it/s]\n"
     ]
    },
    {
     "name": "stdout",
     "output_type": "stream",
     "text": [
      "Track 0: untitled\n",
      "Track 1: Solo Violin\n",
      "Track 2: --------------------------------------\n",
      "Track 3: Johann Sebastian Bach  (1685-1750)\n",
      "Track 4: Six Sonatas and Partitas for Solo Violin\n",
      "Track 5: --------------------------------------\n",
      "Track 6: Partita No. 3 in E major - BWV 1006\n",
      "Track 7: 3rd Movement: Gavotte en Rondeau\n",
      "Track 8: --------------------------------------\n",
      "Track 9: Sequenced with Cakewalk Pro Audio by\n",
      "Track 10: David J. Grossman - dave@unpronounceable.com\n",
      "Track 11: This and other Bach MIDI files can be found at:\n",
      "Track 12: Dave's J.S. Bach Page\n",
      "Track 13: http://www.unpronounceable.com/bach\n",
      "Track 14: --------------------------------------\n",
      "Track 15: Original Filename: vp3-3gav.mid\n",
      "Track 16: Last Modified: February 22, 1997\n"
     ]
    },
    {
     "name": "stderr",
     "output_type": "stream",
     "text": [
      "100%|██████████| 1654/1654 [00:00<00:00, 68337.79it/s]\n",
      "17it [00:00, 536.80it/s]\n"
     ]
    },
    {
     "name": "stdout",
     "output_type": "stream",
     "text": [
      "Track 0: untitled\n",
      "Track 1: Solo Violin\n",
      "Track 2: --------------------------------------\n",
      "Track 3: Johann Sebastian Bach  (1685-1750)\n",
      "Track 4: Six Sonatas and Partitas for Solo Violin\n",
      "Track 5: --------------------------------------\n",
      "Track 6: Partita No. 3 in E major - BWV 1006\n",
      "Track 7: 4th Movement: Minuet I/II\n",
      "Track 8: --------------------------------------\n",
      "Track 9: Sequenced with Cakewalk Pro Audio by\n",
      "Track 10: David J. Grossman - dave@unpronounceable.com\n",
      "Track 11: This and other Bach MIDI files can be found at:\n",
      "Track 12: Dave's J.S. Bach Page\n",
      "Track 13: http://www.unpronounceable.com/bach\n",
      "Track 14: --------------------------------------\n",
      "Track 15: Original Filename: vp3-4min.mid\n",
      "Track 16: Last Modified: February 22, 1997\n"
     ]
    },
    {
     "name": "stderr",
     "output_type": "stream",
     "text": [
      "100%|██████████| 1584/1584 [00:00<00:00, 98796.64it/s]\n",
      "17it [00:00, 707.56it/s]\n"
     ]
    },
    {
     "name": "stdout",
     "output_type": "stream",
     "text": [
      "Track 0: untitled\n",
      "Track 1: Solo Violin\n",
      "Track 2: --------------------------------------\n",
      "Track 3: Johann Sebastian Bach  (1685-1750)\n",
      "Track 4: Six Sonatas and Partitas for Solo Violin\n",
      "Track 5: --------------------------------------\n",
      "Track 6: Partita No. 3 in E major - BWV 1006\n",
      "Track 7: 5th Movement: Bouree\n",
      "Track 8: --------------------------------------\n",
      "Track 9: Sequenced with Cakewalk Pro Audio by\n",
      "Track 10: David J. Grossman - dave@unpronounceable.com\n",
      "Track 11: This and other Bach MIDI files can be found at:\n",
      "Track 12: Dave's J.S. Bach Page\n",
      "Track 13: http://www.unpronounceable.com/bach\n",
      "Track 14: --------------------------------------\n",
      "Track 15: Original Filename: vp3-5bou.mid\n",
      "Track 16: Last Modified: February 22, 1997\n"
     ]
    },
    {
     "name": "stderr",
     "output_type": "stream",
     "text": [
      "100%|██████████| 1114/1114 [00:00<00:00, 85408.72it/s]\n",
      "17it [00:00, 697.28it/s]"
     ]
    },
    {
     "name": "stdout",
     "output_type": "stream",
     "text": [
      "Track 0: untitled\n",
      "Track 1: Solo Violin\n",
      "Track 2: --------------------------------------\n",
      "Track 3: Johann Sebastian Bach  (1685-1750)\n",
      "Track 4: Six Sonatas and Partitas for Solo Violin\n",
      "Track 5: --------------------------------------\n",
      "Track 6: Partita No. 3 in E major - BWV 1006\n",
      "Track 7: 6th Movement: Gigue\n",
      "Track 8: --------------------------------------\n",
      "Track 9: Sequenced with Cakewalk Pro Audio by\n",
      "Track 10: David J. Grossman - dave@unpronounceable.com\n",
      "Track 11: This and other Bach MIDI files can be found at:\n",
      "Track 12: Dave's J.S. Bach Page\n",
      "Track 13: http://www.unpronounceable.com/bach\n",
      "Track 14: --------------------------------------\n",
      "Track 15: Original Filename: vp3-6gig.mid\n",
      "Track 16: Last Modified: February 22, 1997\n"
     ]
    },
    {
     "name": "stderr",
     "output_type": "stream",
     "text": [
      "\n",
      "100%|██████████| 1342/1342 [00:00<00:00, 83338.36it/s]\n",
      "17it [00:00, 699.85it/s]"
     ]
    },
    {
     "name": "stdout",
     "output_type": "stream",
     "text": [
      "Track 0: untitled\n",
      "Track 1: Solo Violin\n",
      "Track 2: --------------------------------------\n",
      "Track 3: Johann Sebastian Bach  (1685-1750)\n",
      "Track 4: Six Sonatas and Partitas for Solo Violin\n",
      "Track 5: --------------------------------------\n",
      "Track 6: Sonata No. 1 in G minor - BWV 1001\n",
      "Track 7: 1st Movement: Adagio\n",
      "Track 8: --------------------------------------\n",
      "Track 9: Sequenced with Cakewalk Pro Audio by\n",
      "Track 10: David J. Grossman - dave@unpronounceable.com\n",
      "Track 11: This and other Bach MIDI files can be found at:\n",
      "Track 12: Dave's J.S. Bach Page\n",
      "Track 13: http://www.unpronounceable.com/bach\n",
      "Track 14: --------------------------------------\n",
      "Track 15: Original Filename: vs1-1ada.mid\n",
      "Track 16: Last Modified: February 22, 1997\n"
     ]
    },
    {
     "name": "stderr",
     "output_type": "stream",
     "text": [
      "\n",
      "100%|██████████| 1059/1059 [00:00<00:00, 132356.98it/s]\n",
      "0it [00:00, ?it/s]"
     ]
    },
    {
     "name": "stdout",
     "output_type": "stream",
     "text": [
      "Track 0: untitled\n",
      "Track 1: Solo Violin\n",
      "Track 2: --------------------------------------\n",
      "Track 3: Johann Sebastian Bach  (1685-1750)\n",
      "Track 4: Six Sonatas and Partitas for Solo Violin\n",
      "Track 5: --------------------------------------\n"
     ]
    },
    {
     "name": "stderr",
     "output_type": "stream",
     "text": [
      "17it [00:00, 190.96it/s]\n"
     ]
    },
    {
     "name": "stdout",
     "output_type": "stream",
     "text": [
      "Track 6: Sonata No. 1 in G minor - BWV 1001\n",
      "Track 7: 2nd Movement: Fuga\n",
      "Track 8: --------------------------------------\n",
      "Track 9: Sequenced with Cakewalk Pro Audio by\n",
      "Track 10: David J. Grossman - dave@unpronounceable.com\n",
      "Track 11: This and other Bach MIDI files can be found at:\n",
      "Track 12: Dave's J.S. Bach Page\n",
      "Track 13: http://www.unpronounceable.com/bach\n",
      "Track 14: --------------------------------------\n",
      "Track 15: Original Filename: vs1-2fug.mid\n",
      "Track 16: Last Modified: February 22, 1997\n"
     ]
    },
    {
     "name": "stderr",
     "output_type": "stream",
     "text": [
      "100%|██████████| 3538/3538 [00:00<00:00, 63723.35it/s]\n",
      "17it [00:00, 556.17it/s]\n"
     ]
    },
    {
     "name": "stdout",
     "output_type": "stream",
     "text": [
      "Track 0: untitled\n",
      "Track 1: Solo Violin\n",
      "Track 2: --------------------------------------\n",
      "Track 3: Johann Sebastian Bach  (1685-1750)\n",
      "Track 4: Six Sonatas and Partitas for Solo Violin\n",
      "Track 5: --------------------------------------\n",
      "Track 6: Sonata No. 1 in G minor - BWV 1001\n",
      "Track 7: 3rd Movement: Siciliano\n",
      "Track 8: --------------------------------------\n",
      "Track 9: Sequenced with Cakewalk Pro Audio by\n",
      "Track 10: David J. Grossman - dave@unpronounceable.com\n",
      "Track 11: This and other Bach MIDI files can be found at:\n",
      "Track 12: Dave's J.S. Bach Page\n",
      "Track 13: http://www.unpronounceable.com/bach\n",
      "Track 14: --------------------------------------\n",
      "Track 15: Original Filename: vs1-3sic.mid\n",
      "Track 16: Last Modified: February 22, 1997\n"
     ]
    },
    {
     "name": "stderr",
     "output_type": "stream",
     "text": [
      "100%|██████████| 1074/1074 [00:00<00:00, 55012.30it/s]\n",
      "0it [00:00, ?it/s]"
     ]
    },
    {
     "name": "stdout",
     "output_type": "stream",
     "text": [
      "Track 0: untitled\n",
      "Track 1: Solo Violin\n"
     ]
    },
    {
     "name": "stderr",
     "output_type": "stream",
     "text": [
      "18it [00:00, 207.71it/s]\n"
     ]
    },
    {
     "name": "stdout",
     "output_type": "stream",
     "text": [
      "Track 2: --------------------------------------\n",
      "Track 3: Johann Sebastian Bach  (1685-1750)\n",
      "Track 4: Six Sonatas and Partitas for Solo Violin\n",
      "Track 5: --------------------------------------\n",
      "Track 6: Sonata No. 1 in G minor - BWV 1001\n",
      "Track 7: 4th Movement: Presto\n",
      "Track 8: --------------------------------------\n",
      "Track 9: Sequenced with Cakewalk Pro Audio by\n",
      "Track 10: David J. Grossman - dave@unpronounceable.com\n",
      "Track 11: This and other Bach MIDI files can be found at:\n",
      "Track 12: Dave's J.S. Bach Page\n",
      "Track 13: http://www.unpronounceable.com/bach\n",
      "Track 14: --------------------------------------\n",
      "Track 15: Original Filename: vs1-4prs.mid\n",
      "Track 16: Last Modified: February 22, 1997\n",
      "Track 17: \n"
     ]
    },
    {
     "name": "stderr",
     "output_type": "stream",
     "text": [
      "100%|██████████| 3263/3263 [00:00<00:00, 67347.79it/s]\n",
      "17it [00:00, 447.15it/s]\n"
     ]
    },
    {
     "name": "stdout",
     "output_type": "stream",
     "text": [
      "Track 0: untitled\n",
      "Track 1: Solo Violin\n",
      "Track 2: --------------------------------------\n",
      "Track 3: Johann Sebastian Bach  (1685-1750)\n",
      "Track 4: Six Sonatas and Partitas for Solo Violin\n",
      "Track 5: --------------------------------------\n",
      "Track 6: Sonata No. 2 in A minor - BWV 1003\n",
      "Track 7: 1st Movement: Grave\n",
      "Track 8: --------------------------------------\n",
      "Track 9: Sequenced with Cakewalk Pro Audio by\n",
      "Track 10: David J. Grossman - dave@unpronounceable.com\n",
      "Track 11: This and other Bach MIDI files can be found at:\n",
      "Track 12: Dave's J.S. Bach Page\n",
      "Track 13: http://www.unpronounceable.com/bach\n",
      "Track 14: --------------------------------------\n",
      "Track 15: Original Filename: vs2-1gra.mid\n",
      "Track 16: Last Modified: February 22, 1997\n"
     ]
    },
    {
     "name": "stderr",
     "output_type": "stream",
     "text": [
      "100%|██████████| 1106/1106 [00:00<00:00, 63814.07it/s]\n",
      "0it [00:00, ?it/s]"
     ]
    },
    {
     "name": "stdout",
     "output_type": "stream",
     "text": [
      "Track 0: untitled\n",
      "Track 1: Solo Violin\n",
      "Track 2: --------------------------------------\n",
      "Track 3: Johann Sebastian Bach  (1685-1750)\n"
     ]
    },
    {
     "name": "stderr",
     "output_type": "stream",
     "text": [
      "17it [00:00, 140.48it/s]\n"
     ]
    },
    {
     "name": "stdout",
     "output_type": "stream",
     "text": [
      "Track 4: Six Sonatas and Partitas for Solo Violin\n",
      "Track 5: --------------------------------------\n",
      "Track 6: Sonata No. 2 in A minor - BWV 1003\n",
      "Track 7: 2nd Movement: Fuga\n",
      "Track 8: --------------------------------------\n",
      "Track 9: Sequenced with Cakewalk Pro Audio by\n",
      "Track 10: David J. Grossman - dave@unpronounceable.com\n",
      "Track 11: This and other Bach MIDI files can be found at:\n",
      "Track 12: Dave's J.S. Bach Page\n",
      "Track 13: http://www.unpronounceable.com/bach\n",
      "Track 14: --------------------------------------\n",
      "Track 15: Original Filename: vs2-2fug.mid\n",
      "Track 16: Last Modified: February 22, 1997\n"
     ]
    },
    {
     "name": "stderr",
     "output_type": "stream",
     "text": [
      "100%|██████████| 4782/4782 [00:00<00:00, 60197.91it/s]\n",
      "17it [00:00, 412.03it/s]\n"
     ]
    },
    {
     "name": "stdout",
     "output_type": "stream",
     "text": [
      "Track 0: untitled\n",
      "Track 1: Solo Violin\n",
      "Track 2: --------------------------------------\n",
      "Track 3: Johann Sebastian Bach  (1685-1750)\n",
      "Track 4: Six Sonatas and Partitas for Solo Violin\n",
      "Track 5: --------------------------------------\n",
      "Track 6: Sonata No. 2 in A minor - BWV 1003\n",
      "Track 7: 3rd Movement: Andante\n",
      "Track 8: --------------------------------------\n",
      "Track 9: Sequenced with Cakewalk Pro Audio by\n",
      "Track 10: David J. Grossman - dave@unpronounceable.com\n",
      "Track 11: This and other Bach MIDI files can be found at:\n",
      "Track 12: Dave's J.S. Bach Page\n",
      "Track 13: http://www.unpronounceable.com/bach\n",
      "Track 14: --------------------------------------\n",
      "Track 15: Original Filename: vs2-3and.mid\n",
      "Track 16: Last Modified: February 22, 1997\n"
     ]
    },
    {
     "name": "stderr",
     "output_type": "stream",
     "text": [
      "100%|██████████| 1594/1594 [00:00<00:00, 48938.77it/s]\n",
      "0it [00:00, ?it/s]"
     ]
    },
    {
     "name": "stdout",
     "output_type": "stream",
     "text": [
      "Track 0: untitled\n"
     ]
    },
    {
     "name": "stderr",
     "output_type": "stream",
     "text": [
      "17it [00:00, 162.14it/s]\n"
     ]
    },
    {
     "name": "stdout",
     "output_type": "stream",
     "text": [
      "Track 1: Solo Violin\n",
      "Track 2: --------------------------------------\n",
      "Track 3: Johann Sebastian Bach  (1685-1750)\n",
      "Track 4: Six Sonatas and Partitas for Solo Violin\n",
      "Track 5: --------------------------------------\n",
      "Track 6: Sonata No. 2 in A minor - BWV 1003\n",
      "Track 7: 4th Movement: Allegro\n",
      "Track 8: --------------------------------------\n",
      "Track 9: Sequenced with Cakewalk Pro Audio by\n",
      "Track 10: David J. Grossman - dave@unpronounceable.com\n",
      "Track 11: This and other Bach MIDI files can be found at:\n",
      "Track 12: Dave's J.S. Bach Page\n",
      "Track 13: http://www.unpronounceable.com/bach\n",
      "Track 14: --------------------------------------\n",
      "Track 15: Original Filename: vs2-4alg.mid\n",
      "Track 16: Last Modified: February 22, 1997\n"
     ]
    },
    {
     "name": "stderr",
     "output_type": "stream",
     "text": [
      "100%|██████████| 4236/4236 [00:00<00:00, 65547.12it/s]\n",
      "17it [00:00, 761.20it/s]\n"
     ]
    },
    {
     "name": "stdout",
     "output_type": "stream",
     "text": [
      "Track 0: untitled\n",
      "Track 1: Solo Violin\n",
      "Track 2: --------------------------------------\n",
      "Track 3: Johann Sebastian Bach  (1685-1750)\n",
      "Track 4: Six Sonatas and Partitas for Solo Violin\n",
      "Track 5: --------------------------------------\n",
      "Track 6: Sonata No. 3 in C major - BWV 1005\n",
      "Track 7: 1st Movement: Adagio\n",
      "Track 8: --------------------------------------\n",
      "Track 9: Sequenced with Cakewalk Pro Audio by\n",
      "Track 10: David J. Grossman - dave@unpronounceable.com\n",
      "Track 11: This and other Bach MIDI files can be found at:\n",
      "Track 12: Dave's J.S. Bach Page\n",
      "Track 13: http://www.unpronounceable.com/bach\n",
      "Track 14: --------------------------------------\n",
      "Track 15: Original Filename: vs3-1ada.mid\n",
      "Track 16: Last Modified: February 22, 1997\n"
     ]
    },
    {
     "name": "stderr",
     "output_type": "stream",
     "text": [
      "100%|██████████| 1132/1132 [00:00<00:00, 70220.40it/s]\n",
      "0it [00:00, ?it/s]"
     ]
    },
    {
     "name": "stdout",
     "output_type": "stream",
     "text": [
      "Track 0: untitled\n",
      "Track 1: Solo Violin\n",
      "Track 2: --------------------------------------\n"
     ]
    },
    {
     "name": "stderr",
     "output_type": "stream",
     "text": [
      "17it [00:00, 102.45it/s]\n"
     ]
    },
    {
     "name": "stdout",
     "output_type": "stream",
     "text": [
      "Track 3: Johann Sebastian Bach  (1685-1750)\n",
      "Track 4: Six Sonatas and Partitas for Solo Violin\n",
      "Track 5: --------------------------------------\n",
      "Track 6: Sonata No. 3 in C major - BWV 1005\n",
      "Track 7: 2nd Movement: Fugue\n",
      "Track 8: --------------------------------------\n",
      "Track 9: Sequenced with Cakewalk Pro Audio by\n",
      "Track 10: David J. Grossman - dave@unpronounceable.com\n",
      "Track 11: This and other Bach MIDI files can be found at:\n",
      "Track 12: Dave's J.S. Bach Page\n",
      "Track 13: http://www.unpronounceable.com/bach\n",
      "Track 14: --------------------------------------\n",
      "Track 15: Original Filename: vs3-2fug.mid\n",
      "Track 16: Last Modified: February 22, 1997\n"
     ]
    },
    {
     "name": "stderr",
     "output_type": "stream",
     "text": [
      "100%|██████████| 6098/6098 [00:00<00:00, 47931.67it/s]\n",
      "17it [00:00, 707.30it/s]\n"
     ]
    },
    {
     "name": "stdout",
     "output_type": "stream",
     "text": [
      "Track 0: untitled\n",
      "Track 1: Solo Violin\n",
      "Track 2: --------------------------------------\n",
      "Track 3: Johann Sebastian Bach  (1685-1750)\n",
      "Track 4: Six Sonatas and Partitas for Solo Violin\n",
      "Track 5: --------------------------------------\n",
      "Track 6: Sonata No. 3 in C major - BWV 1005\n",
      "Track 7: 3rd Movement: Largo\n",
      "Track 8: --------------------------------------\n",
      "Track 9: Sequenced with Cakewalk Pro Audio by\n",
      "Track 10: David J. Grossman - dave@unpronounceable.com\n",
      "Track 11: This and other Bach MIDI files can be found at:\n",
      "Track 12: Dave's J.S. Bach Page\n",
      "Track 13: http://www.unpronounceable.com/bach\n",
      "Track 14: --------------------------------------\n",
      "Track 15: Original Filename: vs3-3lar.mid\n",
      "Track 16: Last Modified: February 22, 1997\n"
     ]
    },
    {
     "name": "stderr",
     "output_type": "stream",
     "text": [
      "100%|██████████| 849/849 [00:00<00:00, 34595.98it/s]\n",
      "0it [00:00, ?it/s]"
     ]
    },
    {
     "name": "stdout",
     "output_type": "stream",
     "text": [
      "Track 0: untitled\n",
      "Track 1: Solo Violin\n"
     ]
    },
    {
     "name": "stderr",
     "output_type": "stream",
     "text": [
      "17it [00:00, 117.86it/s]\n"
     ]
    },
    {
     "name": "stdout",
     "output_type": "stream",
     "text": [
      "Track 2: --------------------------------------\n",
      "Track 3: Johann Sebastian Bach  (1685-1750)\n",
      "Track 4: Six Sonatas and Partitas for Solo Violin\n",
      "Track 5: --------------------------------------\n",
      "Track 6: Sonata No. 3 in C major - BWV 1005\n",
      "Track 7: 4th Movement: Allegro assai\n",
      "Track 8: --------------------------------------\n",
      "Track 9: Sequenced with Cakewalk Pro Audio by\n",
      "Track 10: David J. Grossman - dave@unpronounceable.com\n",
      "Track 11: This and other Bach MIDI files can be found at:\n",
      "Track 12: Dave's J.S. Bach Page\n",
      "Track 13: http://www.unpronounceable.com/bach\n",
      "Track 14: --------------------------------------\n",
      "Track 15: Original Filename: vs3-4alg.mid\n",
      "Track 16: Last Modified: February 22, 1997\n"
     ]
    },
    {
     "name": "stderr",
     "output_type": "stream",
     "text": [
      "100%|██████████| 4793/4793 [00:00<00:00, 61371.38it/s]\n",
      "17it [00:00, 708.30it/s]\n"
     ]
    },
    {
     "name": "stdout",
     "output_type": "stream",
     "text": [
      "Track 0: untitled\n",
      "Track 1: Solo Cello\n",
      "Track 2: --------------------------------------\n",
      "Track 3: Johann Sebastian Bach  (1685-1750)\n",
      "Track 4: Six Suites for Solo Cello\n",
      "Track 5: --------------------------------------\n",
      "Track 6: Suite No. 1 in G major - BWV 1007\n",
      "Track 7: 1st Movement: Prelude\n",
      "Track 8: --------------------------------------\n",
      "Track 9: Sequenced with Cakewalk Pro Audio by\n",
      "Track 10: David J. Grossman - dave@unpronounceable.com\n",
      "Track 11: This and other Bach MIDI files can be found at:\n",
      "Track 12: Dave's J.S. Bach Page\n",
      "Track 13: http://www.unpronounceable.com/bach\n",
      "Track 14: --------------------------------------\n",
      "Track 15: Original Filename: cs1-1pre.mid\n",
      "Track 16: Last Modified: February 22, 1997\n"
     ]
    },
    {
     "name": "stderr",
     "output_type": "stream",
     "text": [
      "100%|██████████| 1328/1328 [00:00<00:00, 54563.79it/s]\n",
      "17it [00:00, 321.80it/s]\n"
     ]
    },
    {
     "name": "stdout",
     "output_type": "stream",
     "text": [
      "Track 0: untitled\n",
      "Track 1: Solo Cello\n",
      "Track 2: --------------------------------------\n",
      "Track 3: Johann Sebastian Bach  (1685-1750)\n",
      "Track 4: Six Suites for Solo Cello\n",
      "Track 5: --------------------------------------\n",
      "Track 6: Suite No. 1 in G major - BWV 1007\n",
      "Track 7: 2nd Movement: Allemande\n",
      "Track 8: --------------------------------------\n",
      "Track 9: Sequenced with Cakewalk Pro Audio by\n",
      "Track 10: David J. Grossman - dave@unpronounceable.com\n",
      "Track 11: This and other Bach MIDI files can be found at:\n",
      "Track 12: Dave's J.S. Bach Page\n",
      "Track 13: http://www.unpronounceable.com/bach\n",
      "Track 14: --------------------------------------\n",
      "Track 15: Original Filename: cs1-2all.mid\n",
      "Track 16: Last Modified: February 22, 1997\n"
     ]
    },
    {
     "name": "stderr",
     "output_type": "stream",
     "text": [
      "100%|██████████| 1892/1892 [00:00<00:00, 76029.19it/s]\n",
      "0it [00:00, ?it/s]"
     ]
    },
    {
     "name": "stdout",
     "output_type": "stream",
     "text": [
      "Track 0: untitled\n",
      "Track 1: Solo Cello\n"
     ]
    },
    {
     "name": "stderr",
     "output_type": "stream",
     "text": [
      "17it [00:00, 383.22it/s]\n"
     ]
    },
    {
     "name": "stdout",
     "output_type": "stream",
     "text": [
      "Track 2: --------------------------------------\n",
      "Track 3: Johann Sebastian Bach  (1685-1750)\n",
      "Track 4: Six Suites for Solo Cello\n",
      "Track 5: --------------------------------------\n",
      "Track 6: Suite No. 1 in G major - BWV 1007\n",
      "Track 7: 3rd Movement: Courante\n",
      "Track 8: --------------------------------------\n",
      "Track 9: Sequenced with Cakewalk Pro Audio by\n",
      "Track 10: David J. Grossman - dave@unpronounceable.com\n",
      "Track 11: This and other Bach MIDI files can be found at:\n",
      "Track 12: Dave's J.S. Bach Page\n",
      "Track 13: http://www.unpronounceable.com/bach\n",
      "Track 14: --------------------------------------\n",
      "Track 15: Original Filename: cs1-3cou.mid\n",
      "Track 16: Last Modified: February 22, 1997\n"
     ]
    },
    {
     "name": "stderr",
     "output_type": "stream",
     "text": [
      "100%|██████████| 1644/1644 [00:00<00:00, 74635.62it/s]\n",
      "17it [00:00, 893.43it/s]\n"
     ]
    },
    {
     "name": "stdout",
     "output_type": "stream",
     "text": [
      "Track 0: untitled\n",
      "Track 1: Solo Cello\n",
      "Track 2: --------------------------------------\n",
      "Track 3: Johann Sebastian Bach  (1685-1750)\n",
      "Track 4: Six Suites for Solo Cello\n",
      "Track 5: --------------------------------------\n",
      "Track 6: Suite No. 1 in G major - BWV 1007\n",
      "Track 7: 4th Movement: Sarabande\n",
      "Track 8: --------------------------------------\n",
      "Track 9: Sequenced with Cakewalk Pro Audio by\n",
      "Track 10: David J. Grossman - dave@unpronounceable.com\n",
      "Track 11: This and other Bach MIDI files can be found at:\n",
      "Track 12: Dave's J.S. Bach Page\n",
      "Track 13: http://www.unpronounceable.com/bach\n",
      "Track 14: --------------------------------------\n",
      "Track 15: Original Filename: cs1-4sar.mid\n",
      "Track 16: Last Modified: February 22, 1997\n"
     ]
    },
    {
     "name": "stderr",
     "output_type": "stream",
     "text": [
      "100%|██████████| 641/641 [00:00<00:00, 80114.09it/s]\n",
      "17it [00:00, 440.89it/s]"
     ]
    },
    {
     "name": "stdout",
     "output_type": "stream",
     "text": [
      "Track 0: untitled\n",
      "Track 1: Solo Cello\n",
      "Track 2: --------------------------------------\n",
      "Track 3: Johann Sebastian Bach  (1685-1750)\n",
      "Track 4: Six Suites for Solo Cello\n",
      "Track 5: --------------------------------------\n",
      "Track 6: Suite No. 1 in G major - BWV 1007\n",
      "Track 7: 5th Movement: Menuet I/II\n",
      "Track 8: --------------------------------------\n",
      "Track 9: Sequenced with Cakewalk Pro Audio by\n",
      "Track 10: David J. Grossman - dave@unpronounceable.com\n",
      "Track 11: This and other Bach MIDI files can be found at:\n",
      "Track 12: Dave's J.S. Bach Page\n",
      "Track 13: http://www.unpronounceable.com/bach\n",
      "Track 14: --------------------------------------\n",
      "Track 15: Original Filename: cs1-5men.mid\n",
      "Track 16: Last Modified: February 22, 1997\n"
     ]
    },
    {
     "name": "stderr",
     "output_type": "stream",
     "text": [
      "\n",
      "100%|██████████| 1326/1326 [00:00<00:00, 56476.04it/s]\n",
      "17it [00:00, 784.58it/s]\n"
     ]
    },
    {
     "name": "stdout",
     "output_type": "stream",
     "text": [
      "Track 0: untitled\n",
      "Track 1: Solo Cello\n",
      "Track 2: --------------------------------------\n",
      "Track 3: Johann Sebastian Bach  (1685-1750)\n",
      "Track 4: Six Suites for Solo Cello\n",
      "Track 5: --------------------------------------\n",
      "Track 6: Suite No. 1 in G major - BWV 1007\n",
      "Track 7: 6th Movement: Gigue\n",
      "Track 8: --------------------------------------\n",
      "Track 9: Sequenced with Cakewalk Pro Audio by\n",
      "Track 10: David J. Grossman - dave@unpronounceable.com\n",
      "Track 11: This and other Bach MIDI files can be found at:\n",
      "Track 12: Dave's J.S. Bach Page\n",
      "Track 13: http://www.unpronounceable.com/bach\n",
      "Track 14: --------------------------------------\n",
      "Track 15: Original Filename: cs1-6gig.mid\n",
      "Track 16: Last Modified: February 22, 1997\n"
     ]
    },
    {
     "name": "stderr",
     "output_type": "stream",
     "text": [
      "100%|██████████| 870/870 [00:00<00:00, 54258.46it/s]\n",
      "0it [00:00, ?it/s]"
     ]
    },
    {
     "name": "stdout",
     "output_type": "stream",
     "text": [
      "Track 0: untitled\n",
      "Track 1: Solo Cello\n"
     ]
    },
    {
     "name": "stderr",
     "output_type": "stream",
     "text": [
      "17it [00:00, 509.24it/s]\n"
     ]
    },
    {
     "name": "stdout",
     "output_type": "stream",
     "text": [
      "Track 2: --------------------------------------\n",
      "Track 3: Johann Sebastian Bach  (1685-1750)\n",
      "Track 4: Six Suites for Solo Cello\n",
      "Track 5: --------------------------------------\n",
      "Track 6: Suite No. 2 in D minor - BWV 1008\n",
      "Track 7: 1st Movement: Prelude\n",
      "Track 8: --------------------------------------\n",
      "Track 9: Sequenced with Cakewalk Pro Audio by\n",
      "Track 10: David J. Grossman - dave@unpronounceable.com\n",
      "Track 11: This and other Bach MIDI files can be found at:\n",
      "Track 12: Dave's J.S. Bach Page\n",
      "Track 13: http://www.unpronounceable.com/bach\n",
      "Track 14: --------------------------------------\n",
      "Track 15: Original Filename: cs2-1pre.mid\n",
      "Track 16: Last Modified: February 22, 1997\n"
     ]
    },
    {
     "name": "stderr",
     "output_type": "stream",
     "text": [
      "100%|██████████| 1319/1319 [00:00<00:00, 54851.15it/s]\n",
      "17it [00:00, 517.12it/s]\n"
     ]
    },
    {
     "name": "stdout",
     "output_type": "stream",
     "text": [
      "Track 0: untitled\n",
      "Track 1: Solo Cello\n",
      "Track 2: --------------------------------------\n",
      "Track 3: Johann Sebastian Bach  (1685-1750)\n",
      "Track 4: Six Suites for Solo Cello\n",
      "Track 5: --------------------------------------\n",
      "Track 6: Suite No. 2 in D minor - BWV 1008\n",
      "Track 7: 2nd Movement: Allemande\n",
      "Track 8: --------------------------------------\n",
      "Track 9: Sequenced with Cakewalk Pro Audio by\n",
      "Track 10: David J. Grossman - dave@unpronounceable.com\n",
      "Track 11: This and other Bach MIDI files can be found at:\n",
      "Track 12: Dave's J.S. Bach Page\n",
      "Track 13: http://www.unpronounceable.com/bach\n",
      "Track 14: --------------------------------------\n",
      "Track 15: Original Filename: cs2-2all.mid\n",
      "Track 16: Last Modified: February 22, 1997\n"
     ]
    },
    {
     "name": "stderr",
     "output_type": "stream",
     "text": [
      "100%|██████████| 1502/1502 [00:00<00:00, 93859.43it/s]\n",
      "0it [00:00, ?it/s]"
     ]
    },
    {
     "name": "stdout",
     "output_type": "stream",
     "text": [
      "Track 0: untitled\n",
      "Track 1: Solo Cello\n"
     ]
    },
    {
     "name": "stderr",
     "output_type": "stream",
     "text": [
      "18it [00:00, 450.26it/s]\n"
     ]
    },
    {
     "name": "stdout",
     "output_type": "stream",
     "text": [
      "Track 2: --------------------------------------\n",
      "Track 3: Johann Sebastian Bach  (1685-1750)\n",
      "Track 4: Six Suites for Solo Cello\n",
      "Track 5: --------------------------------------\n",
      "Track 6: Suite No. 2 in D minor - BWV 1008\n",
      "Track 7: 3rd Movement: Courante\n",
      "Track 8: --------------------------------------\n",
      "Track 9: Sequenced with Cakewalk Pro Audio by\n",
      "Track 10: David J. Grossman - dave@unpronounceable.com\n",
      "Track 11: This and other Bach MIDI files can be found at:\n",
      "Track 12: Dave's J.S. Bach Page\n",
      "Track 13: http://www.unpronounceable.com/bach\n",
      "Track 14: --------------------------------------\n",
      "Track 15: Original Filename: cs2-3cou.mid\n",
      "Track 16: Last Modified: February 22, 1997\n",
      "Track 17: \n"
     ]
    },
    {
     "name": "stderr",
     "output_type": "stream",
     "text": [
      "100%|██████████| 1501/1501 [00:00<00:00, 91450.72it/s]\n",
      "17it [00:00, 701.38it/s]\n"
     ]
    },
    {
     "name": "stdout",
     "output_type": "stream",
     "text": [
      "Track 0: untitled\n",
      "Track 1: Solo Cello\n",
      "Track 2: --------------------------------------\n",
      "Track 3: Johann Sebastian Bach  (1685-1750)\n",
      "Track 4: Six Suites for Solo Cello\n",
      "Track 5: --------------------------------------\n",
      "Track 6: Suite No. 2 in D minor - BWV 1008\n",
      "Track 7: 4th Movement: Sarabande\n",
      "Track 8: --------------------------------------\n",
      "Track 9: Sequenced with Cakewalk Pro Audio by\n",
      "Track 10: David J. Grossman - dave@unpronounceable.com\n",
      "Track 11: This and other Bach MIDI files can be found at:\n",
      "Track 12: Dave's J.S. Bach Page\n",
      "Track 13: http://www.unpronounceable.com/bach\n",
      "Track 14: --------------------------------------\n",
      "Track 15: Original Filename: cs2-4sar.mid\n",
      "Track 16: Last Modified: February 22, 1997\n"
     ]
    },
    {
     "name": "stderr",
     "output_type": "stream",
     "text": [
      "100%|██████████| 853/853 [00:00<00:00, 106865.24it/s]\n",
      "18it [00:00, 748.17it/s]"
     ]
    },
    {
     "name": "stdout",
     "output_type": "stream",
     "text": [
      "Track 0: untitled\n",
      "Track 1: Solo Cello\n",
      "Track 2: --------------------------------------\n",
      "Track 3: Johann Sebastian Bach  (1685-1750)\n",
      "Track 4: Six Suites for Solo Cello\n",
      "Track 5: --------------------------------------\n",
      "Track 6: Suite No. 2 in D minor - BWV 1008\n",
      "Track 7: 5th Movement: Menuet I/II\n",
      "Track 8: --------------------------------------\n",
      "Track 9: Sequenced with Cakewalk Pro Audio by\n",
      "Track 10: David J. Grossman - dave@unpronounceable.com\n",
      "Track 11: This and other Bach MIDI files can be found at:\n",
      "Track 12: Dave's J.S. Bach Page\n",
      "Track 13: http://www.unpronounceable.com/bach\n",
      "Track 14: --------------------------------------\n",
      "Track 15: Original Filename: cs2-5men.mid\n",
      "Track 16: Last Modified: February 22, 1997\n",
      "Track 17: \n"
     ]
    },
    {
     "name": "stderr",
     "output_type": "stream",
     "text": [
      "\n",
      "100%|██████████| 1333/1333 [00:00<00:00, 55577.72it/s]\n",
      "18it [00:00, 443.29it/s]"
     ]
    },
    {
     "name": "stdout",
     "output_type": "stream",
     "text": [
      "Track 0: untitled\n",
      "Track 1: Solo Cello\n",
      "Track 2: --------------------------------------\n",
      "Track 3: Johann Sebastian Bach  (1685-1750)\n",
      "Track 4: Six Suites for Solo Cello\n",
      "Track 5: --------------------------------------\n",
      "Track 6: Suite No. 2 in D minor - BWV 1008\n",
      "Track 7: 6th Movement: Gigue\n",
      "Track 8: --------------------------------------\n",
      "Track 9: Sequenced with Cakewalk Pro Audio by\n",
      "Track 10: David J. Grossman - dave@unpronounceable.com\n",
      "Track 11: This and other Bach MIDI files can be found at:\n",
      "Track 12: Dave's J.S. Bach Page\n",
      "Track 13: http://www.unpronounceable.com/bach\n",
      "Track 14: --------------------------------------\n",
      "Track 15: Original Filename: cs2-6gig.mid\n",
      "Track 16: Last Modified: February 22, 1997\n",
      "Track 17: \n"
     ]
    },
    {
     "name": "stderr",
     "output_type": "stream",
     "text": [
      "\n",
      "100%|██████████| 1645/1645 [00:00<00:00, 67851.64it/s]\n",
      "18it [00:00, 445.69it/s]\n"
     ]
    },
    {
     "name": "stdout",
     "output_type": "stream",
     "text": [
      "Track 0: untitled\n",
      "Track 1: Solo Cello\n",
      "Track 2: --------------------------------------\n",
      "Track 3: Johann Sebastian Bach  (1685-1750)\n",
      "Track 4: Six Suites for Solo Cello\n",
      "Track 5: --------------------------------------\n",
      "Track 6: Suite No. 3 in C major - BWV 1009\n",
      "Track 7: 1st Movement: Prelude\n",
      "Track 8: --------------------------------------\n",
      "Track 9: Sequenced with Cakewalk Pro Audio by\n",
      "Track 10: David J. Grossman - dave@unpronounceable.com\n",
      "Track 11: This and other Bach MIDI files can be found at:\n",
      "Track 12: Dave's J.S. Bach Page\n",
      "Track 13: http://www.unpronounceable.com/bach\n",
      "Track 14: --------------------------------------\n",
      "Track 15: Original Filename: cs3-1pre.mid\n",
      "Track 16: Last Modified: February 22, 1997\n",
      "Track 17: \n"
     ]
    },
    {
     "name": "stderr",
     "output_type": "stream",
     "text": [
      "100%|██████████| 2032/2032 [00:00<00:00, 62854.55it/s]\n",
      "18it [00:00, 365.35it/s]"
     ]
    },
    {
     "name": "stdout",
     "output_type": "stream",
     "text": [
      "Track 0: untitled\n",
      "Track 1: Solo Cello\n",
      "Track 2: --------------------------------------\n",
      "Track 3: Johann Sebastian Bach  (1685-1750)\n",
      "Track 4: Six Suites for Solo Cello\n",
      "Track 5: --------------------------------------\n",
      "Track 6: Suite No. 3 in C major - BWV 1009\n",
      "Track 7: 2nd Movement: Allemande\n",
      "Track 8: --------------------------------------\n",
      "Track 9: Sequenced with Cakewalk Pro Audio by\n",
      "Track 10: David J. Grossman - dave@unpronounceable.com\n",
      "Track 11: This and other Bach MIDI files can be found at:\n",
      "Track 12: Dave's J.S. Bach Page\n",
      "Track 13: http://www.unpronounceable.com/bach\n",
      "Track 14: --------------------------------------\n",
      "Track 15: Original Filename: cs3-2all.mid\n",
      "Track 16: Last Modified: February 22, 1997\n",
      "Track 17: \n"
     ]
    },
    {
     "name": "stderr",
     "output_type": "stream",
     "text": [
      "\n",
      "100%|██████████| 1962/1962 [00:00<00:00, 59132.01it/s]\n",
      "18it [00:00, 313.93it/s]"
     ]
    },
    {
     "name": "stdout",
     "output_type": "stream",
     "text": [
      "Track 0: untitled\n",
      "Track 1: Solo Cello\n",
      "Track 2: --------------------------------------\n",
      "Track 3: Johann Sebastian Bach  (1685-1750)\n",
      "Track 4: Six Suites for Solo Cello\n",
      "Track 5: --------------------------------------\n",
      "Track 6: Suite No. 3 in C major - BWV 1009\n",
      "Track 7: 3rd Movement: Courante\n",
      "Track 8: --------------------------------------\n",
      "Track 9: Sequenced with Cakewalk Pro Audio by\n",
      "Track 10: David J. Grossman - dave@unpronounceable.com\n",
      "Track 11: This and other Bach MIDI files can be found at:\n",
      "Track 12: Dave's J.S. Bach Page\n",
      "Track 13: http://www.unpronounceable.com/bach\n",
      "Track 14: --------------------------------------\n",
      "Track 15: Original Filename: cs3-3cou.mid\n",
      "Track 16: Last Modified: February 22, 1997\n",
      "Track 17: \n"
     ]
    },
    {
     "name": "stderr",
     "output_type": "stream",
     "text": [
      "\n",
      "100%|██████████| 1998/1998 [00:00<00:00, 48797.67it/s]\n",
      "18it [00:00, 965.03it/s]"
     ]
    },
    {
     "name": "stdout",
     "output_type": "stream",
     "text": [
      "Track 0: untitled\n",
      "Track 1: Solo Cello\n",
      "Track 2: --------------------------------------\n",
      "Track 3: Johann Sebastian Bach  (1685-1750)\n",
      "Track 4: Six Suites for Solo Cello\n",
      "Track 5: --------------------------------------\n",
      "Track 6: Suite No. 3 in C major - BWV 1009\n",
      "Track 7: 4th Movement: Sarabande\n",
      "Track 8: --------------------------------------\n",
      "Track 9: Sequenced with Cakewalk Pro Audio by\n",
      "Track 10: David J. Grossman - dave@unpronounceable.com\n",
      "Track 11: This and other Bach MIDI files can be found at:\n",
      "Track 12: Dave's J.S. Bach Page\n",
      "Track 13: http://www.unpronounceable.com/bach\n",
      "Track 14: --------------------------------------\n",
      "Track 15: Original Filename: cs3-4sar.mid\n",
      "Track 16: Last Modified: February 22, 1997\n",
      "Track 17: \n"
     ]
    },
    {
     "name": "stderr",
     "output_type": "stream",
     "text": [
      "\n",
      "100%|██████████| 885/885 [00:00<00:00, 78097.18it/s]\n",
      "18it [00:00, 344.01it/s]\n"
     ]
    },
    {
     "name": "stdout",
     "output_type": "stream",
     "text": [
      "Track 0: untitled\n",
      "Track 1: Solo Cello\n",
      "Track 2: --------------------------------------\n",
      "Track 3: Johann Sebastian Bach  (1685-1750)\n",
      "Track 4: Six Suites for Solo Cello\n",
      "Track 5: --------------------------------------\n",
      "Track 6: Suite No. 3 in C major - BWV 1009\n",
      "Track 7: 5th Movement: Bouree I/II\n",
      "Track 8: --------------------------------------\n",
      "Track 9: Sequenced with Cakewalk Pro Audio by\n",
      "Track 10: David J. Grossman - dave@unpronounceable.com\n",
      "Track 11: This and other Bach MIDI files can be found at:\n",
      "Track 12: Dave's J.S. Bach Page\n",
      "Track 13: http://www.unpronounceable.com/bach\n",
      "Track 14: --------------------------------------\n",
      "Track 15: Original Filename: cs3-5bou.mid\n",
      "Track 16: Last Modified: February 22, 1997\n",
      "Track 17: \n"
     ]
    },
    {
     "name": "stderr",
     "output_type": "stream",
     "text": [
      "100%|██████████| 1795/1795 [00:00<00:00, 59718.54it/s]\n",
      "18it [00:00, 419.37it/s]"
     ]
    },
    {
     "name": "stdout",
     "output_type": "stream",
     "text": [
      "Track 0: untitled\n",
      "Track 1: Solo Cello\n",
      "Track 2: --------------------------------------\n",
      "Track 3: Johann Sebastian Bach  (1685-1750)\n",
      "Track 4: Six Suites for Solo Cello\n",
      "Track 5: --------------------------------------\n",
      "Track 6: Suite No. 3 in C major - BWV 1009\n",
      "Track 7: 6th Movement: Gigue\n",
      "Track 8: --------------------------------------\n",
      "Track 9: Sequenced with Cakewalk Pro Audio by\n",
      "Track 10: David J. Grossman - dave@unpronounceable.com\n",
      "Track 11: This and other Bach MIDI files can be found at:\n",
      "Track 12: Dave's J.S. Bach Page\n",
      "Track 13: http://www.unpronounceable.com/bach\n",
      "Track 14: --------------------------------------\n",
      "Track 15: Original Filename: cs3-6gig.mid\n",
      "Track 16: Last Modified: February 22, 1997\n",
      "Track 17: \n"
     ]
    },
    {
     "name": "stderr",
     "output_type": "stream",
     "text": [
      "\n",
      "100%|██████████| 2115/2115 [00:00<00:00, 52190.06it/s]\n",
      "0it [00:00, ?it/s]"
     ]
    },
    {
     "name": "stdout",
     "output_type": "stream",
     "text": [
      "Track 0: untitled\n",
      "Track 1: Solo Cello\n"
     ]
    },
    {
     "name": "stderr",
     "output_type": "stream",
     "text": [
      "18it [00:00, 197.61it/s]\n"
     ]
    },
    {
     "name": "stdout",
     "output_type": "stream",
     "text": [
      "Track 2: --------------------------------------\n",
      "Track 3: Johann Sebastian Bach  (1685-1750)\n",
      "Track 4: Six Suites for Solo Cello\n",
      "Track 5: --------------------------------------\n",
      "Track 6: Suite No. 4 in Eb major - BWV 1010\n",
      "Track 7: 1st Movement: Prelude\n",
      "Track 8: --------------------------------------\n",
      "Track 9: Modified from an anonymous sequence with Cakewalk Pro Audio by\n",
      "Track 10: David J. Grossman - dave@unpronounceable.com\n",
      "Track 11: This and other Bach MIDI files can be found at:\n",
      "Track 12: Dave's J.S. Bach Page\n",
      "Track 13: http://www.unpronounceable.com/bach\n",
      "Track 14: --------------------------------------\n",
      "Track 15: Original Filename: cs4-1pre.mid\n",
      "Track 16: Last Modified: February 22, 1997\n",
      "Track 17: \n"
     ]
    },
    {
     "name": "stderr",
     "output_type": "stream",
     "text": [
      "100%|██████████| 1673/1673 [00:00<00:00, 69656.64it/s]\n",
      "17it [00:00, 342.45it/s]"
     ]
    },
    {
     "name": "stdout",
     "output_type": "stream",
     "text": [
      "Track 0: untitled\n",
      "Track 1: Solo Cello\n",
      "Track 2: --------------------------------------\n",
      "Track 3: Johann Sebastian Bach  (1685-1750)\n",
      "Track 4: Six Suites for Solo Cello\n",
      "Track 5: --------------------------------------\n",
      "Track 6: Suite No. 4 in Eb major - BWV 1010\n",
      "Track 7: 2nd Movement: Allemande\n",
      "Track 8: --------------------------------------\n",
      "Track 9: Modified from an anonymous sequence with Cakewalk Pro Audio by\n",
      "Track 10: David J. Grossman - dave@unpronounceable.com\n",
      "Track 11: This and other Bach MIDI files can be found at:\n",
      "Track 12: Dave's J.S. Bach Page\n",
      "Track 13: http://www.unpronounceable.com/bach\n",
      "Track 14: --------------------------------------\n",
      "Track 15: Original Filename: cs4-2all.mid\n",
      "Track 16: Last Modified: February 22, 1997\n"
     ]
    },
    {
     "name": "stderr",
     "output_type": "stream",
     "text": [
      "\n",
      "100%|██████████| 2147/2147 [00:00<00:00, 65263.85it/s]\n",
      "0it [00:00, ?it/s]"
     ]
    },
    {
     "name": "stdout",
     "output_type": "stream",
     "text": [
      "Track 0: untitled\n",
      "Track 1: Solo Cello\n"
     ]
    },
    {
     "name": "stderr",
     "output_type": "stream",
     "text": [
      "18it [00:00, 369.01it/s]\n"
     ]
    },
    {
     "name": "stdout",
     "output_type": "stream",
     "text": [
      "Track 2: --------------------------------------\n",
      "Track 3: Johann Sebastian Bach  (1685-1750)\n",
      "Track 4: Six Suites for Solo Cello\n",
      "Track 5: --------------------------------------\n",
      "Track 6: Suite No. 4 in Eb major - BWV 1010\n",
      "Track 7: 3rd Movement: Courante\n",
      "Track 8: --------------------------------------\n",
      "Track 9: Modified from an anonymous sequence with Cakewalk Pro Audio by\n",
      "Track 10: David J. Grossman - dave@unpronounceable.com\n",
      "Track 11: This and other Bach MIDI files can be found at:\n",
      "Track 12: Dave's J.S. Bach Page\n",
      "Track 13: http://www.unpronounceable.com/bach\n",
      "Track 14: --------------------------------------\n",
      "Track 15: Original Filename: cs4-3cou.mid\n",
      "Track 16: Last Modified: February 22, 1997\n",
      "Track 17: \n"
     ]
    },
    {
     "name": "stderr",
     "output_type": "stream",
     "text": [
      "100%|██████████| 1875/1875 [00:00<00:00, 56874.08it/s]\n",
      "18it [00:00, 749.99it/s]\n"
     ]
    },
    {
     "name": "stdout",
     "output_type": "stream",
     "text": [
      "Track 0: untitled\n",
      "Track 1: Solo Cello\n",
      "Track 2: --------------------------------------\n",
      "Track 3: Johann Sebastian Bach  (1685-1750)\n",
      "Track 4: Six Suites for Solo Cello\n",
      "Track 5: --------------------------------------\n",
      "Track 6: Suite No. 4 in Eb major - BWV 1010\n",
      "Track 7: 4th Movement: Sarabande\n",
      "Track 8: --------------------------------------\n",
      "Track 9: Modified from an anonymous sequence with Cakewalk Pro Audio by\n",
      "Track 10: David J. Grossman - dave@unpronounceable.com\n",
      "Track 11: This and other Bach MIDI files can be found at:\n",
      "Track 12: Dave's J.S. Bach Page\n",
      "Track 13: http://www.unpronounceable.com/bach\n",
      "Track 14: --------------------------------------\n",
      "Track 15: Original Filename: cs4-4sar.mid\n",
      "Track 16: Last Modified: February 22, 1997\n",
      "Track 17: \n"
     ]
    },
    {
     "name": "stderr",
     "output_type": "stream",
     "text": [
      "100%|██████████| 820/820 [00:00<00:00, 50597.72it/s]\n",
      "17it [00:00, 191.27it/s]"
     ]
    },
    {
     "name": "stdout",
     "output_type": "stream",
     "text": [
      "Track 0: untitled\n",
      "Track 1: Solo Cello\n",
      "Track 2: --------------------------------------\n",
      "Track 3: Johann Sebastian Bach  (1685-1750)\n",
      "Track 4: Six Suites for Solo Cello\n",
      "Track 5: --------------------------------------\n",
      "Track 6: Suite No. 4 in Eb major - BWV 1010\n",
      "Track 7: 5th Movement: Bouree I/II\n",
      "Track 8: --------------------------------------\n",
      "Track 9: Modified from an anonymous sequence with Cakewalk Pro Audio by\n",
      "Track 10: David J. Grossman - dave@unpronounceable.com\n",
      "Track 11: This and other Bach MIDI files can be found at:\n",
      "Track 12: Dave's J.S. Bach Page\n",
      "Track 13: http://www.unpronounceable.com/bach\n",
      "Track 14: --------------------------------------\n",
      "Track 15: Original Filename: cs4-5bou.mid\n",
      "Track 16: Last Modified: February 22, 1997\n"
     ]
    },
    {
     "name": "stderr",
     "output_type": "stream",
     "text": [
      "\n",
      "100%|██████████| 2719/2719 [00:00<00:00, 66419.22it/s]\n",
      "17it [00:00, 417.44it/s]\n"
     ]
    },
    {
     "name": "stdout",
     "output_type": "stream",
     "text": [
      "Track 0: untitled\n",
      "Track 1: Solo Cello\n",
      "Track 2: --------------------------------------\n",
      "Track 3: Johann Sebastian Bach  (1685-1750)\n",
      "Track 4: Six Suites for Solo Cello\n",
      "Track 5: --------------------------------------\n",
      "Track 6: Suite No. 4 in Eb major - BWV 1010\n",
      "Track 7: 6th Movement: Gigue\n",
      "Track 8: --------------------------------------\n",
      "Track 9: Modified from an anonymous sequence with Cakewalk Pro Audio by\n",
      "Track 10: David J. Grossman - dave@unpronounceable.com\n",
      "Track 11: This and other Bach MIDI files can be found at:\n",
      "Track 12: Dave's J.S. Bach Page\n",
      "Track 13: http://www.unpronounceable.com/bach\n",
      "Track 14: --------------------------------------\n",
      "Track 15: Original Filename: cs4-6gig.mid\n",
      "Track 16: Last Modified: February 22, 1997\n"
     ]
    },
    {
     "name": "stderr",
     "output_type": "stream",
     "text": [
      "100%|██████████| 1942/1942 [00:00<00:00, 80653.30it/s]\n",
      "0it [00:00, ?it/s]"
     ]
    },
    {
     "name": "stdout",
     "output_type": "stream",
     "text": [
      "Track 0: untitled\n",
      "Track 1: Solo Cello\n",
      "Track 2: --------------------------------------\n"
     ]
    },
    {
     "name": "stderr",
     "output_type": "stream",
     "text": [
      "18it [00:00, 279.66it/s]\n"
     ]
    },
    {
     "name": "stdout",
     "output_type": "stream",
     "text": [
      "Track 3: Johann Sebastian Bach  (1685-1750)\n",
      "Track 4: Six Suites for Solo Cello\n",
      "Track 5: --------------------------------------\n",
      "Track 6: Suite No. 5 in C minor - BWV 1011\n",
      "Track 7: 1st Movement: Prelude\n",
      "Track 8: --------------------------------------\n",
      "Track 9: Sequenced with Cakewalk Pro Audio by\n",
      "Track 10: David J. Grossman - dave@unpronounceable.com\n",
      "Track 11: This and other Bach MIDI files can be found at:\n",
      "Track 12: Dave's J.S. Bach Page\n",
      "Track 13: http://www.unpronounceable.com/bach\n",
      "Track 14: --------------------------------------\n",
      "Track 15: Original Filename: cs5-1pre.mid\n",
      "Track 16: Last Modified: February 22, 1997\n",
      "Track 17: \n"
     ]
    },
    {
     "name": "stderr",
     "output_type": "stream",
     "text": [
      "100%|██████████| 2769/2769 [00:00<00:00, 66693.24it/s]\n",
      "17it [00:00, 410.31it/s]\n"
     ]
    },
    {
     "name": "stdout",
     "output_type": "stream",
     "text": [
      "Track 0: untitled\n",
      "Track 1: Solo Cello\n",
      "Track 2: --------------------------------------\n",
      "Track 3: Johann Sebastian Bach  (1685-1750)\n",
      "Track 4: Six Suites for Solo Cello\n",
      "Track 5: --------------------------------------\n",
      "Track 6: Suite No. 5 in C minor - BWV 1011\n",
      "Track 7: 2nd Movement: Allemande\n",
      "Track 8: --------------------------------------\n",
      "Track 9: Sequenced with Cakewalk Pro Audio by\n",
      "Track 10: David J. Grossman - dave@unpronounceable.com\n",
      "Track 11: This and other Bach MIDI files can be found at:\n",
      "Track 12: Dave's J.S. Bach Page\n",
      "Track 13: http://www.unpronounceable.com/bach\n",
      "Track 14: --------------------------------------\n",
      "Track 15: Original Filename: cs5-2all.mid\n",
      "Track 16: Last Modified: February 22, 1997\n"
     ]
    },
    {
     "name": "stderr",
     "output_type": "stream",
     "text": [
      "100%|██████████| 1585/1585 [00:00<00:00, 64210.52it/s]\n",
      "17it [00:00, 544.44it/s]\n"
     ]
    },
    {
     "name": "stdout",
     "output_type": "stream",
     "text": [
      "Track 0: untitled\n",
      "Track 1: Solo Cello\n",
      "Track 2: --------------------------------------\n",
      "Track 3: Johann Sebastian Bach  (1685-1750)\n",
      "Track 4: Six Suites for Solo Cello\n",
      "Track 5: --------------------------------------\n",
      "Track 6: Suite No. 5 in C minor - BWV 1011\n",
      "Track 7: 3rd Movement: Courante\n",
      "Track 8: --------------------------------------\n",
      "Track 9: Sequenced with Cakewalk Pro Audio by\n",
      "Track 10: David J. Grossman - dave@unpronounceable.com\n",
      "Track 11: This and other Bach MIDI files can be found at:\n",
      "Track 12: Dave's J.S. Bach Page\n",
      "Track 13: http://www.unpronounceable.com/bach\n",
      "Track 14: --------------------------------------\n",
      "Track 15: Original Filename: cs5-3cou.mid\n",
      "Track 16: Last Modified: February 22, 1997\n"
     ]
    },
    {
     "name": "stderr",
     "output_type": "stream",
     "text": [
      "100%|██████████| 1064/1064 [00:00<00:00, 65754.23it/s]\n",
      "17it [00:00, 876.88it/s]\n"
     ]
    },
    {
     "name": "stdout",
     "output_type": "stream",
     "text": [
      "Track 0: untitled\n",
      "Track 1: Solo Cello\n",
      "Track 2: --------------------------------------\n",
      "Track 3: Johann Sebastian Bach  (1685-1750)\n",
      "Track 4: Six Suites for Solo Cello\n",
      "Track 5: --------------------------------------\n",
      "Track 6: Suite No. 5 in C minor - BWV 1011\n",
      "Track 7: 4th Movement: Sarabande\n",
      "Track 8: --------------------------------------\n",
      "Track 9: Sequenced with Cakewalk Pro Audio by\n",
      "Track 10: David J. Grossman - dave@unpronounceable.com\n",
      "Track 11: This and other Bach MIDI files can be found at:\n",
      "Track 12: Dave's J.S. Bach Page\n",
      "Track 13: http://www.unpronounceable.com/bach\n",
      "Track 14: --------------------------------------\n",
      "Track 15: Original Filename: cs5-4sar.mid\n",
      "Track 16: Last Modified: February 22, 1997\n"
     ]
    },
    {
     "name": "stderr",
     "output_type": "stream",
     "text": [
      "100%|██████████| 440/440 [00:00<00:00, 53809.19it/s]\n",
      "0it [00:00, ?it/s]"
     ]
    },
    {
     "name": "stdout",
     "output_type": "stream",
     "text": [
      "Track 0: untitled\n",
      "Track 1: Solo Cello\n"
     ]
    },
    {
     "name": "stderr",
     "output_type": "stream",
     "text": [
      "17it [00:00, 261.06it/s]\n"
     ]
    },
    {
     "name": "stdout",
     "output_type": "stream",
     "text": [
      "Track 2: --------------------------------------\n",
      "Track 3: Johann Sebastian Bach  (1685-1750)\n",
      "Track 4: Six Suites for Solo Cello\n",
      "Track 5: --------------------------------------\n",
      "Track 6: Suite No. 5 in C minor - BWV 1011\n",
      "Track 7: 5th Movement: Gavotte I/II\n",
      "Track 8: --------------------------------------\n",
      "Track 9: Sequenced with Cakewalk Pro Audio by\n",
      "Track 10: David J. Grossman - dave@unpronounceable.com\n",
      "Track 11: This and other Bach MIDI files can be found at:\n",
      "Track 12: Dave's J.S. Bach Page\n",
      "Track 13: http://www.unpronounceable.com/bach\n",
      "Track 14: --------------------------------------\n",
      "Track 15: Original Filename: cs5-5gav.mid\n",
      "Track 16: Last Modified: February 22, 1997\n"
     ]
    },
    {
     "name": "stderr",
     "output_type": "stream",
     "text": [
      "100%|██████████| 2793/2793 [00:00<00:00, 86993.94it/s]\n",
      "17it [00:00, 1061.53it/s]\n"
     ]
    },
    {
     "name": "stdout",
     "output_type": "stream",
     "text": [
      "Track 0: untitled\n",
      "Track 1: Solo Cello\n",
      "Track 2: --------------------------------------\n",
      "Track 3: Johann Sebastian Bach  (1685-1750)\n",
      "Track 4: Six Suites for Solo Cello\n",
      "Track 5: --------------------------------------\n",
      "Track 6: Suite No. 5 in C minor - BWV 1011\n",
      "Track 7: 6th Movement: Gigue\n",
      "Track 8: --------------------------------------\n",
      "Track 9: Sequenced with Cakewalk Pro Audio by\n",
      "Track 10: David J. Grossman - dave@unpronounceable.com\n",
      "Track 11: This and other Bach MIDI files can be found at:\n",
      "Track 12: Dave's J.S. Bach Page\n",
      "Track 13: http://www.unpronounceable.com/bach\n",
      "Track 14: --------------------------------------\n",
      "Track 15: Original Filename: cs5-6gig.mid\n",
      "Track 16: Last Modified: February 22, 1997\n"
     ]
    },
    {
     "name": "stderr",
     "output_type": "stream",
     "text": [
      "100%|██████████| 885/885 [00:00<00:00, 55282.73it/s]\n",
      "0it [00:00, ?it/s]"
     ]
    },
    {
     "name": "stdout",
     "output_type": "stream",
     "text": [
      "Track 0: Cello Suite No 6 in D Major - Prelude\n",
      "Track 1: Solo Cello\n"
     ]
    },
    {
     "name": "stderr",
     "output_type": "stream",
     "text": [
      "17it [00:00, 288.32it/s]\n"
     ]
    },
    {
     "name": "stdout",
     "output_type": "stream",
     "text": [
      "Track 2: --------------------------------------\n",
      "Track 3: Johann Sebastian Bach  (1685-1750)\n",
      "Track 4: Six Suites for Solo Cello\n",
      "Track 5: --------------------------------------\n",
      "Track 6: Suite No. 6 in D major - BWV 1012\n",
      "Track 7: 1st Movement: Prelude\n",
      "Track 8: --------------------------------------\n",
      "Track 9: Sequenced with Cakewalk Pro Audio by\n",
      "Track 10: David J. Grossman - dave@unpronounceable.com\n",
      "Track 11: This and other Bach MIDI files can be found at:\n",
      "Track 12: Dave's J.S. Bach Page\n",
      "Track 13: http://www.unpronounceable.com/bach\n",
      "Track 14: --------------------------------------\n",
      "Track 15: Original Filename: cs6-1pre.mid\n",
      "Track 16: Last Modified: February 22, 1997\n"
     ]
    },
    {
     "name": "stderr",
     "output_type": "stream",
     "text": [
      "100%|██████████| 2714/2714 [00:00<00:00, 84373.54it/s]\n",
      "0it [00:00, ?it/s]"
     ]
    },
    {
     "name": "stdout",
     "output_type": "stream",
     "text": [
      "Track 0: untitled\n",
      "Track 1: Solo Cello\n"
     ]
    },
    {
     "name": "stderr",
     "output_type": "stream",
     "text": [
      "17it [00:00, 346.23it/s]\n"
     ]
    },
    {
     "name": "stdout",
     "output_type": "stream",
     "text": [
      "Track 2: --------------------------------------\n",
      "Track 3: Johann Sebastian Bach  (1685-1750)\n",
      "Track 4: Six Suites for Solo Cello\n",
      "Track 5: --------------------------------------\n",
      "Track 6: Suite No. 6 in D major - BWV 1012\n",
      "Track 7: 2nd Movement: Allemande\n",
      "Track 8: --------------------------------------\n",
      "Track 9: Sequenced with Cakewalk Pro Audio by\n",
      "Track 10: David J. Grossman - dave@unpronounceable.com\n",
      "Track 11: This and other Bach MIDI files can be found at:\n",
      "Track 12: Dave's J.S. Bach Page\n",
      "Track 13: http://www.unpronounceable.com/bach\n",
      "Track 14: --------------------------------------\n",
      "Track 15: Original Filename: cs6-2all.mid\n",
      "Track 16: Last Modified: February 22, 1997\n"
     ]
    },
    {
     "name": "stderr",
     "output_type": "stream",
     "text": [
      "100%|██████████| 2189/2189 [00:00<00:00, 91036.77it/s]\n",
      "0it [00:00, ?it/s]"
     ]
    },
    {
     "name": "stdout",
     "output_type": "stream",
     "text": [
      "Track 0: untitled\n",
      "Track 1: Solo Cello\n",
      "Track 2: --------------------------------------\n"
     ]
    },
    {
     "name": "stderr",
     "output_type": "stream",
     "text": [
      "18it [00:00, 319.40it/s]\n"
     ]
    },
    {
     "name": "stdout",
     "output_type": "stream",
     "text": [
      "Track 3: Johann Sebastian Bach  (1685-1750)\n",
      "Track 4: Six Suites for Solo Cello\n",
      "Track 5: --------------------------------------\n",
      "Track 6: Suite No. 6 in D major - BWV 1012\n",
      "Track 7: 3rd Movement: Courante\n",
      "Track 8: --------------------------------------\n",
      "Track 9: Sequenced with Cakewalk Pro Audio by\n",
      "Track 10: David J. Grossman - dave@unpronounceable.com\n",
      "Track 11: This and other Bach MIDI files can be found at:\n",
      "Track 12: Dave's J.S. Bach Page\n",
      "Track 13: http://www.unpronounceable.com/bach\n",
      "Track 14: --------------------------------------\n",
      "Track 15: Original Filename: cs6-3cou.mid\n",
      "Track 16: Last Modified: February 22, 1997\n",
      "Track 17: \n"
     ]
    },
    {
     "name": "stderr",
     "output_type": "stream",
     "text": [
      "100%|██████████| 2565/2565 [00:00<00:00, 63086.48it/s]\n",
      "17it [00:00, 522.92it/s]\n"
     ]
    },
    {
     "name": "stdout",
     "output_type": "stream",
     "text": [
      "Track 0: untitled\n",
      "Track 1: Solo Cello\n",
      "Track 2: --------------------------------------\n",
      "Track 3: Johann Sebastian Bach  (1685-1750)\n",
      "Track 4: Six Suites for Solo Cello\n",
      "Track 5: --------------------------------------\n",
      "Track 6: Suite No. 6 in D major - BWV 1012\n",
      "Track 7: 4th Movement: Sarabande\n",
      "Track 8: --------------------------------------\n",
      "Track 9: Sequenced with Cakewalk Pro Audio by\n",
      "Track 10: David J. Grossman - dave@unpronounceable.com\n",
      "Track 11: This and other Bach MIDI files can be found at:\n",
      "Track 12: Dave's J.S. Bach Page\n",
      "Track 13: http://www.unpronounceable.com/bach\n",
      "Track 14: --------------------------------------\n",
      "Track 15: Original Filename: cs6-4sar.mid\n",
      "Track 16: Last Modified: February 22, 1997\n"
     ]
    },
    {
     "name": "stderr",
     "output_type": "stream",
     "text": [
      "100%|██████████| 1226/1226 [00:00<00:00, 50092.71it/s]\n",
      "17it [00:00, 351.07it/s]\n"
     ]
    },
    {
     "name": "stdout",
     "output_type": "stream",
     "text": [
      "Track 0: untitled\n",
      "Track 1: Solo Cello\n",
      "Track 2: --------------------------------------\n",
      "Track 3: Johann Sebastian Bach  (1685-1750)\n",
      "Track 4: Six Suites for Solo Cello\n",
      "Track 5: --------------------------------------\n",
      "Track 6: Suite No. 6 in D major - BWV 1012\n",
      "Track 7: 5th Movement: Gavotte\n",
      "Track 8: --------------------------------------\n",
      "Track 9: Sequenced with Cakewalk Pro Audio by\n",
      "Track 10: David J. Grossman - dave@unpronounceable.com\n",
      "Track 11: This and other Bach MIDI files can be found at:\n",
      "Track 12: Dave's J.S. Bach Page\n",
      "Track 13: http://www.unpronounceable.com/bach\n",
      "Track 14: --------------------------------------\n",
      "Track 15: Original Filename: cs6-5gav.mid\n",
      "Track 16: Last Modified: February 22, 1997\n"
     ]
    },
    {
     "name": "stderr",
     "output_type": "stream",
     "text": [
      "100%|██████████| 2421/2421 [00:00<00:00, 106467.14it/s]\n",
      "0it [00:00, ?it/s]"
     ]
    },
    {
     "name": "stdout",
     "output_type": "stream",
     "text": [
      "Track 0: untitled\n",
      "Track 1: Solo Cello\n"
     ]
    },
    {
     "name": "stderr",
     "output_type": "stream",
     "text": [
      "18it [00:00, 235.78it/s]\n"
     ]
    },
    {
     "name": "stdout",
     "output_type": "stream",
     "text": [
      "Track 2: --------------------------------------\n",
      "Track 3: Johann Sebastian Bach  (1685-1750)\n",
      "Track 4: Six Suites for Solo Cello\n",
      "Track 5: --------------------------------------\n",
      "Track 6: Suite No. 6 in D major - BWV 1012\n",
      "Track 7: 6th Movement: Gigue\n",
      "Track 8: --------------------------------------\n",
      "Track 9: Sequenced with Cakewalk Pro Audio by\n",
      "Track 10: David J. Grossman - dave@unpronounceable.com\n",
      "Track 11: This and other Bach MIDI files can be found at:\n",
      "Track 12: Dave's J.S. Bach Page\n",
      "Track 13: http://www.unpronounceable.com/bach\n",
      "Track 14: --------------------------------------\n",
      "Track 15: Original Filename: cs6-6gig.mid\n",
      "Track 16: Last Modified: February 22, 1997\n",
      "Track 17: \n"
     ]
    },
    {
     "name": "stderr",
     "output_type": "stream",
     "text": [
      "100%|██████████| 2660/2660 [00:00<00:00, 33531.64it/s]\n",
      "1it [00:00, 14.18it/s]\n"
     ]
    },
    {
     "name": "stdout",
     "output_type": "stream",
     "text": [
      "Track 0: \n"
     ]
    },
    {
     "name": "stderr",
     "output_type": "stream",
     "text": [
      "100%|██████████| 3396/3396 [00:00<00:00, 50657.97it/s]\n",
      "1it [00:00, 13.87it/s]\n"
     ]
    },
    {
     "name": "stdout",
     "output_type": "stream",
     "text": [
      "Track 0: \n"
     ]
    },
    {
     "name": "stderr",
     "output_type": "stream",
     "text": [
      "100%|██████████| 3396/3396 [00:00<00:00, 60218.56it/s]\n",
      "17it [00:00, 318.17it/s]\n"
     ]
    },
    {
     "name": "stdout",
     "output_type": "stream",
     "text": [
      "Track 0: untitled\n",
      "Track 1: Solo Lute or Keyboard\n",
      "Track 2: --------------------------------------\n",
      "Track 3: Johann Sebastian Bach  (1685-1750)\n",
      "Track 4: Partita in C minor - BWV 997\n",
      "Track 5: for Lute or Keyboard\n",
      "Track 6: --------------------------------------\n",
      "Track 7: 1st Movement: Preludio\n",
      "Track 8: --------------------------------------\n",
      "Track 9: Sequenced with Cakewalk Pro Audio by\n",
      "Track 10: David J. Grossman - dave@unpronounceable.com\n",
      "Track 11: This and other Bach MIDI files can be found at:\n",
      "Track 12: Dave's J.S. Bach Page\n",
      "Track 13: http://www.unpronounceable.com/bach\n",
      "Track 14: --------------------------------------\n",
      "Track 15: Original Filename: 997-1pre.mid\n",
      "Track 16: Last Modified: March 29, 1997\n"
     ]
    },
    {
     "name": "stderr",
     "output_type": "stream",
     "text": [
      "100%|██████████| 1969/1969 [00:00<00:00, 81860.56it/s]\n",
      "0it [00:00, ?it/s]"
     ]
    },
    {
     "name": "stdout",
     "output_type": "stream",
     "text": [
      "Track 0: untitled\n",
      "Track 1: Solo Lute or Keyboard\n",
      "Track 2: --------------------------------------\n"
     ]
    },
    {
     "name": "stderr",
     "output_type": "stream",
     "text": [
      "17it [00:00, 192.35it/s]\n"
     ]
    },
    {
     "name": "stdout",
     "output_type": "stream",
     "text": [
      "Track 3: Johann Sebastian Bach  (1685-1750)\n",
      "Track 4: Partita in C minor - BWV 997\n",
      "Track 5: for Lute or Keyboard\n",
      "Track 6: --------------------------------------\n",
      "Track 7: 2nd Movement: Fuga\n",
      "Track 8: --------------------------------------\n",
      "Track 9: Sequenced with Cakewalk Pro Audio by\n",
      "Track 10: David J. Grossman - dave@unpronounceable.com\n",
      "Track 11: This and other Bach MIDI files can be found at:\n",
      "Track 12: Dave's J.S. Bach Page\n",
      "Track 13: http://www.unpronounceable.com/bach\n",
      "Track 14: --------------------------------------\n",
      "Track 15: Original Filename: 997-2fug.mid\n",
      "Track 16: Last Modified: March 29, 1997\n"
     ]
    },
    {
     "name": "stderr",
     "output_type": "stream",
     "text": [
      "100%|██████████| 4131/4131 [00:00<00:00, 64011.87it/s]\n",
      "17it [00:00, 531.23it/s]"
     ]
    },
    {
     "name": "stdout",
     "output_type": "stream",
     "text": [
      "Track 0: untitled\n",
      "Track 1: Solo Lute or Keyboard\n",
      "Track 2: --------------------------------------\n",
      "Track 3: Johann Sebastian Bach  (1685-1750)\n",
      "Track 4: Partita in C minor - BWV 997\n",
      "Track 5: for Lute or Keyboard\n",
      "Track 6: --------------------------------------\n",
      "Track 7: 3rd Movement: Sarabande\n",
      "Track 8: --------------------------------------\n",
      "Track 9: Sequenced with Cakewalk Pro Audio by\n",
      "Track 10: David J. Grossman - dave@unpronounceable.com\n",
      "Track 11: This and other Bach MIDI files can be found at:\n",
      "Track 12: Dave's J.S. Bach Page\n",
      "Track 13: http://www.unpronounceable.com/bach\n",
      "Track 14: --------------------------------------\n",
      "Track 15: Original Filename: 997-3sar.mid\n",
      "Track 16: Last Modified: March 29, 1997\n"
     ]
    },
    {
     "name": "stderr",
     "output_type": "stream",
     "text": [
      "\n",
      "100%|██████████| 1905/1905 [00:00<00:00, 72577.68it/s]\n",
      "17it [00:00, 524.51it/s]"
     ]
    },
    {
     "name": "stdout",
     "output_type": "stream",
     "text": [
      "Track 0: untitled\n",
      "Track 1: Solo Lute or Keyboard\n",
      "Track 2: --------------------------------------\n",
      "Track 3: Johann Sebastian Bach  (1685-1750)\n",
      "Track 4: Partita in C minor - BWV 997\n",
      "Track 5: for Lute or Keyboard\n",
      "Track 6: --------------------------------------\n",
      "Track 7: 4th Movement: Gigue\n",
      "Track 8: --------------------------------------\n",
      "Track 9: Sequenced with Cakewalk Pro Audio by\n",
      "Track 10: David J. Grossman - dave@unpronounceable.com\n",
      "Track 11: This and other Bach MIDI files can be found at:\n",
      "Track 12: Dave's J.S. Bach Page\n",
      "Track 13: http://www.unpronounceable.com/bach\n",
      "Track 14: --------------------------------------\n",
      "Track 15: Original Filename: 997-4gig.mid\n",
      "Track 16: Last Modified: March 29, 1997\n"
     ]
    },
    {
     "name": "stderr",
     "output_type": "stream",
     "text": [
      "\n",
      "100%|██████████| 1945/1945 [00:00<00:00, 80715.56it/s]\n",
      "17it [00:00, 299.14it/s]"
     ]
    },
    {
     "name": "stdout",
     "output_type": "stream",
     "text": [
      "Track 0: untitled\n",
      "Track 1: Solo Lute or Keyboard\n",
      "Track 2: --------------------------------------\n",
      "Track 3: Johann Sebastian Bach  (1685-1750)\n",
      "Track 4: Partita in C minor - BWV 997\n",
      "Track 5: for Lute or Keyboard\n",
      "Track 6: --------------------------------------\n",
      "Track 7: 5th Movement: Double\n",
      "Track 8: --------------------------------------\n",
      "Track 9: Sequenced with Cakewalk Pro Audio by\n",
      "Track 10: David J. Grossman - dave@unpronounceable.com\n",
      "Track 11: This and other Bach MIDI files can be found at:\n",
      "Track 12: Dave's J.S. Bach Page\n",
      "Track 13: http://www.unpronounceable.com/bach\n",
      "Track 14: --------------------------------------\n",
      "Track 15: Original Filename: 997-5dou.mid\n",
      "Track 16: Last Modified: March 29, 1997\n"
     ]
    },
    {
     "name": "stderr",
     "output_type": "stream",
     "text": [
      "\n",
      "100%|██████████| 2681/2681 [00:00<00:00, 82335.19it/s]\n",
      "17it [00:00, 351.94it/s]"
     ]
    },
    {
     "name": "stdout",
     "output_type": "stream",
     "text": [
      "Track 0: untitled\n",
      "Track 1: Solo Lute\n",
      "Track 2: --------------------------------------\n",
      "Track 3: Johann Sebastian Bach   (1685-1750)\n",
      "Track 4: Prelude, Fugue, and Allegro - BWV 998\n",
      "Track 5: 1. Prelude\n",
      "Track 6: --------------------------------------\n",
      "Track 7: Sequenced with Cakewalk Pro Audio by\n",
      "Track 8: David J. Grossman\n",
      "Track 9: ( freely distributable )\n",
      "Track 10: --------------------------------------\n",
      "Track 11: e-mail: dave@unpronounceable.com\n",
      "Track 12: visit Dave's J.S. Bach Page at:\n",
      "Track 13: http://www.unpronounceable.com/bach\n",
      "Track 14: --------------------------------------\n",
      "Track 15: Original Filename: pfa-1pre.mid\n",
      "Track 16: Last Modified: 12-6-96\n"
     ]
    },
    {
     "name": "stderr",
     "output_type": "stream",
     "text": [
      "\n",
      "100%|██████████| 1512/1512 [00:00<00:00, 92851.94it/s]\n",
      "0it [00:00, ?it/s]"
     ]
    },
    {
     "name": "stdout",
     "output_type": "stream",
     "text": [
      "Track 0: untitled\n",
      "Track 1: Solo Lute\n"
     ]
    },
    {
     "name": "stderr",
     "output_type": "stream",
     "text": [
      "17it [00:00, 205.99it/s]\n"
     ]
    },
    {
     "name": "stdout",
     "output_type": "stream",
     "text": [
      "Track 2: --------------------------------------\n",
      "Track 3: Johann Sebastian Bach   (1685-1750)\n",
      "Track 4: Prelude, Fugue, and Allegro - BWV 998\n",
      "Track 5: 2. Fugue\n",
      "Track 6: --------------------------------------\n",
      "Track 7: Sequenced with Cakewalk Pro Audio by\n",
      "Track 8: David J. Grossman\n",
      "Track 9: ( freely distributable )\n",
      "Track 10: --------------------------------------\n",
      "Track 11: e-mail: dave@unpronounceable.com\n",
      "Track 12: visit Dave's J.S. Bach Page at:\n",
      "Track 13: http://www.unpronounceable.com/bach\n",
      "Track 14: --------------------------------------\n",
      "Track 15: Original Filename: pfa-2fug.mid\n",
      "Track 16: Last Modified: 12-9-96\n"
     ]
    },
    {
     "name": "stderr",
     "output_type": "stream",
     "text": [
      "100%|██████████| 3610/3610 [00:00<00:00, 75182.04it/s]\n",
      "17it [00:00, 520.72it/s]\n"
     ]
    },
    {
     "name": "stdout",
     "output_type": "stream",
     "text": [
      "Track 0: untitled\n",
      "Track 1: Solo Lute\n",
      "Track 2: --------------------------------------\n",
      "Track 3: Johann Sebastian Bach   (1685-1750)\n",
      "Track 4: Prelude, Fugue, and Allegro - BWV 998\n",
      "Track 5: 3. Allegro\n",
      "Track 6: --------------------------------------\n",
      "Track 7: Sequenced with Cakewalk Pro Audio by\n",
      "Track 8: David J. Grossman\n",
      "Track 9: ( freely distributable )\n",
      "Track 10: --------------------------------------\n",
      "Track 11: e-mail: dave@unpronounceable.com\n",
      "Track 12: visit Dave's J.S. Bach Page at:\n",
      "Track 13: http://www.unpronounceable.com/bach\n",
      "Track 14: --------------------------------------\n",
      "Track 15: Original Filename: pfa-3alg.mid\n",
      "Track 16: Last Modified: 12-9-96\n"
     ]
    },
    {
     "name": "stderr",
     "output_type": "stream",
     "text": [
      "100%|██████████| 1511/1511 [00:00<00:00, 94172.09it/s]\n",
      "0it [00:00, ?it/s]"
     ]
    },
    {
     "name": "stdout",
     "output_type": "stream",
     "text": [
      "Track 0: \n"
     ]
    },
    {
     "name": "stderr",
     "output_type": "stream",
     "text": [
      "1it [00:00,  4.25it/s]\n",
      "100%|██████████| 9468/9468 [00:00<00:00, 78170.89it/s]\n"
     ]
    }
   ],
   "source": [
    "solo_recursion(r\"C:\\Users\\ilove\\CODING\\PYStuff\\MusicNet\\Midi2Numpy\\MIDI-Generator-with-Transformers\\Bach MIDIs\")"
   ],
   "metadata": {
    "collapsed": false,
    "ExecuteTime": {
     "end_time": "2023-07-20T03:07:35.084688400Z",
     "start_time": "2023-07-20T03:07:21.348327400Z"
    }
   }
  },
  {
   "cell_type": "code",
   "execution_count": null,
   "outputs": [],
   "source": [],
   "metadata": {
    "collapsed": false
   }
  }
 ],
 "metadata": {
  "kernelspec": {
   "display_name": "Python 3",
   "language": "python",
   "name": "python3"
  },
  "language_info": {
   "codemirror_mode": {
    "name": "ipython",
    "version": 2
   },
   "file_extension": ".py",
   "mimetype": "text/x-python",
   "name": "python",
   "nbconvert_exporter": "python",
   "pygments_lexer": "ipython2",
   "version": "2.7.6"
  }
 },
 "nbformat": 4,
 "nbformat_minor": 0
}
